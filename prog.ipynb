{
 "cells": [
  {
   "cell_type": "code",
   "execution_count": null,
   "id": "100e9e66",
   "metadata": {},
   "outputs": [
    {
     "data": {
      "application/vnd.plotly.v1+json": {
       "config": {
        "plotlyServerURL": "https://plot.ly"
       },
       "data": [
        {
         "coloraxis": "coloraxis",
         "customdata": [
          [
           0.011,
           "🧃 Sobre ou abstinent",
           "AFG"
          ],
          [
           4.47,
           "🍹 Occasionnel",
           "ALB"
          ],
          [
           0.54,
           "🧃 Sobre ou abstinent",
           "DZA"
          ],
          [
           9.68,
           "🍷 Amateur éclairé",
           "AND"
          ],
          [
           4.13,
           "🍹 Occasionnel",
           "AGO"
          ],
          [
           6.66,
           "🍺 Modéré",
           "ATG"
          ],
          [
           8.05,
           "🍺 Modéré",
           "ARG"
          ],
          [
           4.28,
           "🍹 Occasionnel",
           "ARM"
          ],
          [
           10.29,
           "🍷 Amateur éclairé",
           "AUS"
          ],
          [
           11.51,
           "🍷 Amateur éclairé",
           "AUT"
          ],
          [
           2.49,
           "🧃 Sobre ou abstinent",
           "AZE"
          ],
          [
           3.65,
           "🍹 Occasionnel",
           "BHS"
          ],
          [
           1.25,
           "🧃 Sobre ou abstinent",
           "BHR"
          ],
          [
           0.092,
           "🧃 Sobre ou abstinent",
           "BGD"
          ],
          [
           8.22,
           "🍺 Modéré",
           "BRB"
          ],
          [
           11.63,
           "🍷 Amateur éclairé",
           "BLR"
          ],
          [
           9.43,
           "🍷 Amateur éclairé",
           "BEL"
          ],
          [
           3.67,
           "🍹 Occasionnel",
           "BLZ"
          ],
          [
           8.83,
           "🍺 Modéré",
           "BEN"
          ],
          [
           0.18,
           "🧃 Sobre ou abstinent",
           "BTN"
          ],
          [
           3.59,
           "🍹 Occasionnel",
           "BOL"
          ],
          [
           5.87,
           "🍹 Occasionnel",
           "BIH"
          ],
          [
           7.27,
           "🍺 Modéré",
           "BWA"
          ],
          [
           7.7,
           "🍺 Modéré",
           "BRA"
          ],
          [
           11.62,
           "🍷 Amateur éclairé",
           "BGR"
          ],
          [
           11.27,
           "🍷 Amateur éclairé",
           "BFA"
          ],
          [
           4.16,
           "🍹 Occasionnel",
           "BDI"
          ],
          [
           6.67,
           "🍺 Modéré",
           "KHM"
          ],
          [
           9.6,
           "🍷 Amateur éclairé",
           "CMR"
          ],
          [
           9.89,
           "🍷 Amateur éclairé",
           "CAN"
          ],
          [
           1.75,
           "🧃 Sobre ou abstinent",
           "CAF"
          ],
          [
           2.91,
           "🧃 Sobre ou abstinent",
           "TCD"
          ],
          [
           7.56,
           "🍺 Modéré",
           "CHL"
          ],
          [
           4.58,
           "🍹 Occasionnel",
           "CHN"
          ],
          [
           4.24,
           "🍹 Occasionnel",
           "COL"
          ],
          [
           0.23,
           "🧃 Sobre ou abstinent",
           "COM"
          ],
          [
           6.05,
           "🍺 Modéré",
           "COG"
          ],
          [
           3.4,
           "🍹 Occasionnel",
           "CRI"
          ],
          [
           7.65,
           "🍺 Modéré",
           "HRV"
          ],
          [
           5.38,
           "🍹 Occasionnel",
           "CUB"
          ],
          [
           6.36,
           "🍺 Modéré",
           "CYP"
          ],
          [
           11.99,
           "🍷 Amateur éclairé",
           "CZE"
          ],
          [
           9.49,
           "🍷 Amateur éclairé",
           "DNK"
          ],
          [
           0.38,
           "🧃 Sobre ou abstinent",
           "DJI"
          ],
          [
           5.02,
           "🍹 Occasionnel",
           "DMA"
          ],
          [
           6.5,
           "🍺 Modéré",
           "DOM"
          ],
          [
           2.54,
           "🧃 Sobre ou abstinent",
           "ECU"
          ],
          [
           0.13,
           "🧃 Sobre ou abstinent",
           "EGY"
          ],
          [
           3.15,
           "🍹 Occasionnel",
           "SLV"
          ],
          [
           6.56,
           "🍺 Modéré",
           "GNQ"
          ],
          [
           1.07,
           "🧃 Sobre ou abstinent",
           "ERI"
          ],
          [
           10.68,
           "🍷 Amateur éclairé",
           "EST"
          ],
          [
           6.79,
           "🍺 Modéré",
           "SWZ"
          ],
          [
           3.06,
           "🍹 Occasionnel",
           "ETH"
          ],
          [
           3.58,
           "🍹 Occasionnel",
           "FJI"
          ],
          [
           9.08,
           "🍷 Amateur éclairé",
           "FIN"
          ],
          [
           10.32,
           "🍷 Amateur éclairé",
           "FRA"
          ],
          [
           8.14,
           "🍺 Modéré",
           "GAB"
          ],
          [
           0.61,
           "🧃 Sobre ou abstinent",
           "GMB"
          ],
          [
           14.41,
           "🥂 Très festif",
           "GEO"
          ],
          [
           11.84,
           "🍷 Amateur éclairé",
           "DEU"
          ],
          [
           4.26,
           "🍹 Occasionnel",
           "GHA"
          ],
          [
           5.81,
           "🍹 Occasionnel",
           "GRC"
          ],
          [
           7.33,
           "🍺 Modéré",
           "GRD"
          ],
          [
           1.54,
           "🧃 Sobre ou abstinent",
           "GTM"
          ],
          [
           0.52,
           "🧃 Sobre ou abstinent",
           "GIN"
          ],
          [
           3.73,
           "🍹 Occasionnel",
           "GNB"
          ],
          [
           5.04,
           "🍹 Occasionnel",
           "GUY"
          ],
          [
           3.11,
           "🍹 Occasionnel",
           "HTI"
          ],
          [
           3.08,
           "🍹 Occasionnel",
           "HND"
          ],
          [
           9.93,
           "🍷 Amateur éclairé",
           "HUN"
          ],
          [
           7.94,
           "🍺 Modéré",
           "ISL"
          ],
          [
           4.1,
           "🍹 Occasionnel",
           "IND"
          ],
          [
           0.074,
           "🧃 Sobre ou abstinent",
           "IDN"
          ],
          [
           0.51,
           "🧃 Sobre ou abstinent",
           "IRN"
          ],
          [
           0.24,
           "🧃 Sobre ou abstinent",
           "IRQ"
          ],
          [
           10.77,
           "🍷 Amateur éclairé",
           "IRL"
          ],
          [
           2.84,
           "🧃 Sobre ou abstinent",
           "ISR"
          ],
          [
           6.97,
           "🍺 Modéré",
           "ITA"
          ],
          [
           3.1,
           "🍹 Occasionnel",
           "JAM"
          ],
          [
           6.38,
           "🍺 Modéré",
           "JPN"
          ],
          [
           0.23,
           "🧃 Sobre ou abstinent",
           "JOR"
          ],
          [
           4.52,
           "🍹 Occasionnel",
           "KAZ"
          ],
          [
           2.47,
           "🧃 Sobre ou abstinent",
           "KEN"
          ],
          [
           0.72,
           "🧃 Sobre ou abstinent",
           "KIR"
          ],
          [
           0,
           "🧃 Sobre ou abstinent",
           "KWT"
          ],
          [
           3.63,
           "🍹 Occasionnel",
           "KGZ"
          ],
          [
           10.82,
           "🍷 Amateur éclairé",
           "LAO"
          ],
          [
           12.87,
           "🥂 Très festif",
           "LVA"
          ],
          [
           1.26,
           "🧃 Sobre ou abstinent",
           "LBN"
          ],
          [
           4.3,
           "🍹 Occasionnel",
           "LSO"
          ],
          [
           2.86,
           "🧃 Sobre ou abstinent",
           "LBR"
          ],
          [
           0.012,
           "🧃 Sobre ou abstinent",
           "LBY"
          ],
          [
           12.1,
           "🥂 Très festif",
           "LTU"
          ],
          [
           10.82,
           "🍷 Amateur éclairé",
           "LUX"
          ],
          [
           0.99,
           "🧃 Sobre ou abstinent",
           "MDG"
          ],
          [
           3.61,
           "🍹 Occasionnel",
           "MWI"
          ],
          [
           0.74,
           "🧃 Sobre ou abstinent",
           "MYS"
          ],
          [
           1.49,
           "🧃 Sobre ou abstinent",
           "MDV"
          ],
          [
           5.32,
           "🍹 Occasionnel",
           "MLI"
          ],
          [
           7.11,
           "🍺 Modéré",
           "MLT"
          ],
          [
           0,
           "🧃 Sobre ou abstinent",
           "MRT"
          ],
          [
           6.86,
           "🍺 Modéré",
           "MUS"
          ],
          [
           4.79,
           "🍹 Occasionnel",
           "MEX"
          ],
          [
           11.08,
           "🍷 Amateur éclairé",
           "MDA"
          ],
          [
           7.68,
           "🍺 Modéré",
           "MNG"
          ],
          [
           0.5,
           "🧃 Sobre ou abstinent",
           "MAR"
          ],
          [
           1.89,
           "🧃 Sobre ou abstinent",
           "MOZ"
          ],
          [
           1.93,
           "🧃 Sobre ou abstinent",
           "MMR"
          ],
          [
           5.05,
           "🍹 Occasionnel",
           "NAM"
          ],
          [
           2.79,
           "🧃 Sobre ou abstinent",
           "NRU"
          ],
          [
           1.06,
           "🧃 Sobre ou abstinent",
           "NPL"
          ],
          [
           8.71,
           "🍺 Modéré",
           "NLD"
          ],
          [
           10.02,
           "🍷 Amateur éclairé",
           "NZL"
          ],
          [
           3.67,
           "🍹 Occasionnel",
           "NIC"
          ],
          [
           0.13,
           "🧃 Sobre ou abstinent",
           "NER"
          ],
          [
           3.78,
           "🍹 Occasionnel",
           "NGA"
          ],
          [
           3.87,
           "🍹 Occasionnel",
           "PRK"
          ],
          [
           4.36,
           "🍹 Occasionnel",
           "MKD"
          ],
          [
           7.38,
           "🍺 Modéré",
           "NOR"
          ],
          [
           0.51,
           "🧃 Sobre ou abstinent",
           "OMN"
          ],
          [
           0.084,
           "🧃 Sobre ou abstinent",
           "PAK"
          ],
          [
           4.66,
           "🍹 Occasionnel",
           "PAN"
          ],
          [
           1.13,
           "🧃 Sobre ou abstinent",
           "PNG"
          ],
          [
           5.62,
           "🍹 Occasionnel",
           "PRY"
          ],
          [
           6.45,
           "🍺 Modéré",
           "PER"
          ],
          [
           5.66,
           "🍹 Occasionnel",
           "PHL"
          ],
          [
           11.66,
           "🍷 Amateur éclairé",
           "POL"
          ],
          [
           8.88,
           "🍺 Modéré",
           "PRT"
          ],
          [
           1.05,
           "🧃 Sobre ou abstinent",
           "QAT"
          ],
          [
           16.8,
           "🍻 Champion du monde !",
           "ROU"
          ],
          [
           2.87,
           "🧃 Sobre ou abstinent",
           "RWA"
          ],
          [
           4.69,
           "🍹 Occasionnel",
           "KNA"
          ],
          [
           9.28,
           "🍷 Amateur éclairé",
           "LCA"
          ],
          [
           5.62,
           "🍹 Occasionnel",
           "VCT"
          ],
          [
           2.35,
           "🧃 Sobre ou abstinent",
           "WSM"
          ],
          [
           4.79,
           "🍹 Occasionnel",
           "STP"
          ],
          [
           0,
           "🧃 Sobre ou abstinent",
           "SAU"
          ],
          [
           0.38,
           "🧃 Sobre ou abstinent",
           "SEN"
          ],
          [
           10.19,
           "🍷 Amateur éclairé",
           "SYC"
          ],
          [
           0.29,
           "🧃 Sobre ou abstinent",
           "SLE"
          ],
          [
           1.81,
           "🧃 Sobre ou abstinent",
           "SGP"
          ],
          [
           10.67,
           "🍷 Amateur éclairé",
           "SVK"
          ],
          [
           10.41,
           "🍷 Amateur éclairé",
           "SVN"
          ],
          [
           1.45,
           "🧃 Sobre ou abstinent",
           "SLB"
          ],
          [
           0,
           "🧃 Sobre ou abstinent",
           "SOM"
          ],
          [
           7.13,
           "🍺 Modéré",
           "ZAF"
          ],
          [
           7.79,
           "🍺 Modéré",
           "KOR"
          ],
          [
           9.16,
           "🍷 Amateur éclairé",
           "ESP"
          ],
          [
           2.91,
           "🧃 Sobre ou abstinent",
           "LKA"
          ],
          [
           0.01,
           "🧃 Sobre ou abstinent",
           "SDN"
          ],
          [
           5.93,
           "🍹 Occasionnel",
           "SUR"
          ],
          [
           9.57,
           "🍷 Amateur éclairé",
           "SWE"
          ],
          [
           10.07,
           "🍷 Amateur éclairé",
           "CHE"
          ],
          [
           0.092,
           "🧃 Sobre ou abstinent",
           "SYR"
          ],
          [
           0.74,
           "🧃 Sobre ou abstinent",
           "TJK"
          ],
          [
           10.95,
           "🍷 Amateur éclairé",
           "TZA"
          ],
          [
           7.99,
           "🍺 Modéré",
           "THA"
          ],
          [
           1.44,
           "🧃 Sobre ou abstinent",
           "TGO"
          ],
          [
           0.36,
           "🧃 Sobre ou abstinent",
           "TON"
          ],
          [
           6.03,
           "🍺 Modéré",
           "TTO"
          ],
          [
           1.71,
           "🧃 Sobre ou abstinent",
           "TUN"
          ],
          [
           2.62,
           "🧃 Sobre ou abstinent",
           "TKM"
          ],
          [
           1.26,
           "🧃 Sobre ou abstinent",
           "TUV"
          ],
          [
           11.3,
           "🍷 Amateur éclairé",
           "UGA"
          ],
          [
           9.24,
           "🍷 Amateur éclairé",
           "UKR"
          ],
          [
           2.08,
           "🧃 Sobre ou abstinent",
           "ARE"
          ],
          [
           10.73,
           "🍷 Amateur éclairé",
           "GBR"
          ],
          [
           9.9,
           "🍷 Amateur éclairé",
           "USA"
          ],
          [
           5.61,
           "🍹 Occasionnel",
           "URY"
          ],
          [
           2.1,
           "🧃 Sobre ou abstinent",
           "UZB"
          ],
          [
           2.04,
           "🧃 Sobre ou abstinent",
           "VUT"
          ],
          [
           1.99,
           "🧃 Sobre ou abstinent",
           "VEN"
          ],
          [
           8.04,
           "🍺 Modéré",
           "VNM"
          ],
          [
           0.044,
           "🧃 Sobre ou abstinent",
           "YEM"
          ],
          [
           3.62,
           "🍹 Occasionnel",
           "ZMB"
          ],
          [
           2.67,
           "🧃 Sobre ou abstinent",
           "ZWE"
          ]
         ],
         "geo": "geo",
         "hovertemplate": "<b>%{hovertext}</b><br><br>Consommation Alcool=%{z:.2f}<br>Commentaire=%{customdata[1]}<extra></extra>",
         "hovertext": [
          "Afghanistan",
          "Albania",
          "Algeria",
          "Andorra",
          "Angola",
          "Antigua and Barbuda",
          "Argentina",
          "Armenia",
          "Australia",
          "Austria",
          "Azerbaijan",
          "Bahamas",
          "Bahrain",
          "Bangladesh",
          "Barbados",
          "Belarus",
          "Belgium",
          "Belize",
          "Benin",
          "Bhutan",
          "Bolivia",
          "Bosnia and Herzegovina",
          "Botswana",
          "Brazil",
          "Bulgaria",
          "Burkina Faso",
          "Burundi",
          "Cambodia",
          "Cameroon",
          "Canada",
          "Central African Republic",
          "Chad",
          "Chile",
          "China",
          "Colombia",
          "Comoros",
          "Congo",
          "Costa Rica",
          "Croatia",
          "Cuba",
          "Cyprus",
          "Czechia",
          "Denmark",
          "Djibouti",
          "Dominica",
          "Dominican Republic",
          "Ecuador",
          "Egypt",
          "El Salvador",
          "Equatorial Guinea",
          "Eritrea",
          "Estonia",
          "Eswatini",
          "Ethiopia",
          "Fiji",
          "Finland",
          "France",
          "Gabon",
          "Gambia",
          "Georgia",
          "Germany",
          "Ghana",
          "Greece",
          "Grenada",
          "Guatemala",
          "Guinea",
          "Guinea-Bissau",
          "Guyana",
          "Haiti",
          "Honduras",
          "Hungary",
          "Iceland",
          "India",
          "Indonesia",
          "Iran",
          "Iraq",
          "Ireland",
          "Israel",
          "Italy",
          "Jamaica",
          "Japan",
          "Jordan",
          "Kazakhstan",
          "Kenya",
          "Kiribati",
          "Kuwait",
          "Kyrgyzstan",
          "Laos",
          "Latvia",
          "Lebanon",
          "Lesotho",
          "Liberia",
          "Libya",
          "Lithuania",
          "Luxembourg",
          "Madagascar",
          "Malawi",
          "Malaysia",
          "Maldives",
          "Mali",
          "Malta",
          "Mauritania",
          "Mauritius",
          "Mexico",
          "Moldova",
          "Mongolia",
          "Morocco",
          "Mozambique",
          "Myanmar",
          "Namibia",
          "Nauru",
          "Nepal",
          "Netherlands",
          "New Zealand",
          "Nicaragua",
          "Niger",
          "Nigeria",
          "North Korea",
          "North Macedonia",
          "Norway",
          "Oman",
          "Pakistan",
          "Panama",
          "Papua New Guinea",
          "Paraguay",
          "Peru",
          "Philippines",
          "Poland",
          "Portugal",
          "Qatar",
          "Romania",
          "Rwanda",
          "Saint Kitts and Nevis",
          "Saint Lucia",
          "Saint Vincent and the Grenadines",
          "Samoa",
          "Sao Tome and Principe",
          "Saudi Arabia",
          "Senegal",
          "Seychelles",
          "Sierra Leone",
          "Singapore",
          "Slovakia",
          "Slovenia",
          "Solomon Islands",
          "Somalia",
          "South Africa",
          "South Korea",
          "Spain",
          "Sri Lanka",
          "Sudan",
          "Suriname",
          "Sweden",
          "Switzerland",
          "Syria",
          "Tajikistan",
          "Tanzania",
          "Thailand",
          "Togo",
          "Tonga",
          "Trinidad and Tobago",
          "Tunisia",
          "Turkmenistan",
          "Tuvalu",
          "Uganda",
          "Ukraine",
          "United Arab Emirates",
          "United Kingdom",
          "United States",
          "Uruguay",
          "Uzbekistan",
          "Vanuatu",
          "Venezuela",
          "Vietnam",
          "Yemen",
          "Zambia",
          "Zimbabwe"
         ],
         "locations": [
          "AFG",
          "ALB",
          "DZA",
          "AND",
          "AGO",
          "ATG",
          "ARG",
          "ARM",
          "AUS",
          "AUT",
          "AZE",
          "BHS",
          "BHR",
          "BGD",
          "BRB",
          "BLR",
          "BEL",
          "BLZ",
          "BEN",
          "BTN",
          "BOL",
          "BIH",
          "BWA",
          "BRA",
          "BGR",
          "BFA",
          "BDI",
          "KHM",
          "CMR",
          "CAN",
          "CAF",
          "TCD",
          "CHL",
          "CHN",
          "COL",
          "COM",
          "COG",
          "CRI",
          "HRV",
          "CUB",
          "CYP",
          "CZE",
          "DNK",
          "DJI",
          "DMA",
          "DOM",
          "ECU",
          "EGY",
          "SLV",
          "GNQ",
          "ERI",
          "EST",
          "SWZ",
          "ETH",
          "FJI",
          "FIN",
          "FRA",
          "GAB",
          "GMB",
          "GEO",
          "DEU",
          "GHA",
          "GRC",
          "GRD",
          "GTM",
          "GIN",
          "GNB",
          "GUY",
          "HTI",
          "HND",
          "HUN",
          "ISL",
          "IND",
          "IDN",
          "IRN",
          "IRQ",
          "IRL",
          "ISR",
          "ITA",
          "JAM",
          "JPN",
          "JOR",
          "KAZ",
          "KEN",
          "KIR",
          "KWT",
          "KGZ",
          "LAO",
          "LVA",
          "LBN",
          "LSO",
          "LBR",
          "LBY",
          "LTU",
          "LUX",
          "MDG",
          "MWI",
          "MYS",
          "MDV",
          "MLI",
          "MLT",
          "MRT",
          "MUS",
          "MEX",
          "MDA",
          "MNG",
          "MAR",
          "MOZ",
          "MMR",
          "NAM",
          "NRU",
          "NPL",
          "NLD",
          "NZL",
          "NIC",
          "NER",
          "NGA",
          "PRK",
          "MKD",
          "NOR",
          "OMN",
          "PAK",
          "PAN",
          "PNG",
          "PRY",
          "PER",
          "PHL",
          "POL",
          "PRT",
          "QAT",
          "ROU",
          "RWA",
          "KNA",
          "LCA",
          "VCT",
          "WSM",
          "STP",
          "SAU",
          "SEN",
          "SYC",
          "SLE",
          "SGP",
          "SVK",
          "SVN",
          "SLB",
          "SOM",
          "ZAF",
          "KOR",
          "ESP",
          "LKA",
          "SDN",
          "SUR",
          "SWE",
          "CHE",
          "SYR",
          "TJK",
          "TZA",
          "THA",
          "TGO",
          "TON",
          "TTO",
          "TUN",
          "TKM",
          "TUV",
          "UGA",
          "UKR",
          "ARE",
          "GBR",
          "USA",
          "URY",
          "UZB",
          "VUT",
          "VEN",
          "VNM",
          "YEM",
          "ZMB",
          "ZWE"
         ],
         "name": "",
         "type": "choropleth",
         "z": {
          "bdata": "ukkMAiuHhj/hehSuR+ERQEjhehSuR+E/XI/C9ShcI0CF61G4HoUQQKRwPQrXoxpAmpmZmZkZIEAfhetRuB4RQBSuR+F6lCRAhetRuB4FJ0DsUbgehesDQDMzMzMzMw1AAAAAAAAA9D9aZDvfT423P3E9CtejcCBAw/UoXI9CJ0Bcj8L1KNwiQFyPwvUoXA1AKVyPwvWoIUAK16NwPQrHP7gehetRuAxAexSuR+F6F0AUrkfhehQdQM3MzMzMzB5APQrXo3A9J0AK16NwPYomQKRwPQrXoxBArkfhehSuGkAzMzMzMzMjQEjhehSuxyNAAAAAAAAA/D9I4XoUrkcHQD0K16NwPR5AUrgehetREkD2KFyPwvUQQHE9CtejcM0/MzMzMzMzGEAzMzMzMzMLQJqZmZmZmR5AhetRuB6FFUBxPQrXo3AZQHsUrkfh+idAexSuR+H6IkBSuB6F61HYPxSuR+F6FBRAAAAAAAAAGkBSuB6F61EEQKRwPQrXo8A/MzMzMzMzCUA9CtejcD0aQB+F61G4HvE/XI/C9ShcJUApXI/C9SgbQHsUrkfheghApHA9CtejDEApXI/C9SgiQKRwPQrXoyRASOF6FK5HIECF61G4HoXjP1K4HoXr0SxArkfhehSuJ0AK16NwPQoRQD0K16NwPRdAUrgehetRHUCkcD0K16P4P6RwPQrXo+A/16NwPQrXDUApXI/C9SgUQOF6FK5H4QhApHA9CtejCEBcj8L1KNwjQMP1KFyPwh9AZmZmZmZmEECLbOf7qfGyP1K4HoXrUeA/uB6F61G4zj8K16NwPYolQLgehetRuAZA4XoUrkfhG0DNzMzMzMwIQIXrUbgehRlAcT0K16NwzT8UrkfhehQSQMP1KFyPwgNACtejcD0K5z8AAAAAAAAAAArXo3A9Cg1ApHA9CtejJUA9CtejcL0pQClcj8L1KPQ/MzMzMzMzEUDhehSuR+EGQPp+arx0k4g/MzMzMzMzKECkcD0K16MlQK5H4XoUru8/4XoUrkfhDECuR+F6FK7nP9ejcD0K1/c/SOF6FK5HFUBxPQrXo3AcQAAAAAAAAAAAcT0K16NwG0ApXI/C9SgTQClcj8L1KCZAuB6F61G4HkAAAAAAAADgPz0K16NwPf4/4XoUrkfh/j8zMzMzMzMUQFK4HoXrUQZA9ihcj8L18D/sUbgehWshQArXo3A9CiRAXI/C9ShcDUCkcD0K16PAPz0K16NwPQ5A9ihcj8L1DkBxPQrXo3ARQIXrUbgehR1AUrgehetR4D8bL90kBoG1P6RwPQrXoxJAFK5H4XoU8j97FK5H4XoWQM3MzMzMzBlApHA9CtejFkBSuB6F61EnQMP1KFyPwiFAzczMzMzM8D/NzMzMzMwwQPYoXI/C9QZAw/UoXI/CEkCPwvUoXI8iQHsUrkfhehZAzczMzMzMAkApXI/C9SgTQAAAAAAAAAAAUrgehetR2D/hehSuR2EkQI/C9Shcj9I/9ihcj8L1/D/Xo3A9ClclQFK4HoXr0SRAMzMzMzMz9z8AAAAAAAAAAIXrUbgehRxAKVyPwvUoH0BSuB6F61EiQEjhehSuRwdAexSuR+F6hD+4HoXrUbgXQKRwPQrXIyNApHA9CtcjJEBaZDvfT423P65H4XoUruc/ZmZmZmbmJUD2KFyPwvUfQArXo3A9Cvc/CtejcD0K1z8fhetRuB4YQFyPwvUoXPs/9ihcj8L1BEApXI/C9Sj0P5qZmZmZmSZAexSuR+F6IkCkcD0K16MAQPYoXI/CdSVAzczMzMzMI0BxPQrXo3AWQM3MzMzMzABAUrgehetRAEDXo3A9Ctf/PxSuR+F6FCBAukkMAiuHpj/2KFyPwvUMQFyPwvUoXAVA",
          "dtype": "f8"
         }
        }
       ],
       "layout": {
        "coloraxis": {
         "colorbar": {
          "title": {
           "text": "Litres pr an"
          }
         },
         "colorscale": [
          [
           0,
           "rgb(255,245,240)"
          ],
          [
           0.125,
           "rgb(254,224,210)"
          ],
          [
           0.25,
           "rgb(252,187,161)"
          ],
          [
           0.375,
           "rgb(252,146,114)"
          ],
          [
           0.5,
           "rgb(251,106,74)"
          ],
          [
           0.625,
           "rgb(239,59,44)"
          ],
          [
           0.75,
           "rgb(203,24,29)"
          ],
          [
           0.875,
           "rgb(165,15,21)"
          ],
          [
           1,
           "rgb(103,0,13)"
          ]
         ]
        },
        "geo": {
         "center": {},
         "domain": {
          "x": [
           0,
           1
          ],
          "y": [
           0,
           1
          ]
         },
         "showcoastlines": false,
         "showframe": false
        },
        "legend": {
         "tracegroupgap": 0
        },
        "template": {
         "data": {
          "bar": [
           {
            "error_x": {
             "color": "#2a3f5f"
            },
            "error_y": {
             "color": "#2a3f5f"
            },
            "marker": {
             "line": {
              "color": "#E5ECF6",
              "width": 0.5
             },
             "pattern": {
              "fillmode": "overlay",
              "size": 10,
              "solidity": 0.2
             }
            },
            "type": "bar"
           }
          ],
          "barpolar": [
           {
            "marker": {
             "line": {
              "color": "#E5ECF6",
              "width": 0.5
             },
             "pattern": {
              "fillmode": "overlay",
              "size": 10,
              "solidity": 0.2
             }
            },
            "type": "barpolar"
           }
          ],
          "carpet": [
           {
            "aaxis": {
             "endlinecolor": "#2a3f5f",
             "gridcolor": "white",
             "linecolor": "white",
             "minorgridcolor": "white",
             "startlinecolor": "#2a3f5f"
            },
            "baxis": {
             "endlinecolor": "#2a3f5f",
             "gridcolor": "white",
             "linecolor": "white",
             "minorgridcolor": "white",
             "startlinecolor": "#2a3f5f"
            },
            "type": "carpet"
           }
          ],
          "choropleth": [
           {
            "colorbar": {
             "outlinewidth": 0,
             "ticks": ""
            },
            "type": "choropleth"
           }
          ],
          "contour": [
           {
            "colorbar": {
             "outlinewidth": 0,
             "ticks": ""
            },
            "colorscale": [
             [
              0,
              "#0d0887"
             ],
             [
              0.1111111111111111,
              "#46039f"
             ],
             [
              0.2222222222222222,
              "#7201a8"
             ],
             [
              0.3333333333333333,
              "#9c179e"
             ],
             [
              0.4444444444444444,
              "#bd3786"
             ],
             [
              0.5555555555555556,
              "#d8576b"
             ],
             [
              0.6666666666666666,
              "#ed7953"
             ],
             [
              0.7777777777777778,
              "#fb9f3a"
             ],
             [
              0.8888888888888888,
              "#fdca26"
             ],
             [
              1,
              "#f0f921"
             ]
            ],
            "type": "contour"
           }
          ],
          "contourcarpet": [
           {
            "colorbar": {
             "outlinewidth": 0,
             "ticks": ""
            },
            "type": "contourcarpet"
           }
          ],
          "heatmap": [
           {
            "colorbar": {
             "outlinewidth": 0,
             "ticks": ""
            },
            "colorscale": [
             [
              0,
              "#0d0887"
             ],
             [
              0.1111111111111111,
              "#46039f"
             ],
             [
              0.2222222222222222,
              "#7201a8"
             ],
             [
              0.3333333333333333,
              "#9c179e"
             ],
             [
              0.4444444444444444,
              "#bd3786"
             ],
             [
              0.5555555555555556,
              "#d8576b"
             ],
             [
              0.6666666666666666,
              "#ed7953"
             ],
             [
              0.7777777777777778,
              "#fb9f3a"
             ],
             [
              0.8888888888888888,
              "#fdca26"
             ],
             [
              1,
              "#f0f921"
             ]
            ],
            "type": "heatmap"
           }
          ],
          "histogram": [
           {
            "marker": {
             "pattern": {
              "fillmode": "overlay",
              "size": 10,
              "solidity": 0.2
             }
            },
            "type": "histogram"
           }
          ],
          "histogram2d": [
           {
            "colorbar": {
             "outlinewidth": 0,
             "ticks": ""
            },
            "colorscale": [
             [
              0,
              "#0d0887"
             ],
             [
              0.1111111111111111,
              "#46039f"
             ],
             [
              0.2222222222222222,
              "#7201a8"
             ],
             [
              0.3333333333333333,
              "#9c179e"
             ],
             [
              0.4444444444444444,
              "#bd3786"
             ],
             [
              0.5555555555555556,
              "#d8576b"
             ],
             [
              0.6666666666666666,
              "#ed7953"
             ],
             [
              0.7777777777777778,
              "#fb9f3a"
             ],
             [
              0.8888888888888888,
              "#fdca26"
             ],
             [
              1,
              "#f0f921"
             ]
            ],
            "type": "histogram2d"
           }
          ],
          "histogram2dcontour": [
           {
            "colorbar": {
             "outlinewidth": 0,
             "ticks": ""
            },
            "colorscale": [
             [
              0,
              "#0d0887"
             ],
             [
              0.1111111111111111,
              "#46039f"
             ],
             [
              0.2222222222222222,
              "#7201a8"
             ],
             [
              0.3333333333333333,
              "#9c179e"
             ],
             [
              0.4444444444444444,
              "#bd3786"
             ],
             [
              0.5555555555555556,
              "#d8576b"
             ],
             [
              0.6666666666666666,
              "#ed7953"
             ],
             [
              0.7777777777777778,
              "#fb9f3a"
             ],
             [
              0.8888888888888888,
              "#fdca26"
             ],
             [
              1,
              "#f0f921"
             ]
            ],
            "type": "histogram2dcontour"
           }
          ],
          "mesh3d": [
           {
            "colorbar": {
             "outlinewidth": 0,
             "ticks": ""
            },
            "type": "mesh3d"
           }
          ],
          "parcoords": [
           {
            "line": {
             "colorbar": {
              "outlinewidth": 0,
              "ticks": ""
             }
            },
            "type": "parcoords"
           }
          ],
          "pie": [
           {
            "automargin": true,
            "type": "pie"
           }
          ],
          "scatter": [
           {
            "fillpattern": {
             "fillmode": "overlay",
             "size": 10,
             "solidity": 0.2
            },
            "type": "scatter"
           }
          ],
          "scatter3d": [
           {
            "line": {
             "colorbar": {
              "outlinewidth": 0,
              "ticks": ""
             }
            },
            "marker": {
             "colorbar": {
              "outlinewidth": 0,
              "ticks": ""
             }
            },
            "type": "scatter3d"
           }
          ],
          "scattercarpet": [
           {
            "marker": {
             "colorbar": {
              "outlinewidth": 0,
              "ticks": ""
             }
            },
            "type": "scattercarpet"
           }
          ],
          "scattergeo": [
           {
            "marker": {
             "colorbar": {
              "outlinewidth": 0,
              "ticks": ""
             }
            },
            "type": "scattergeo"
           }
          ],
          "scattergl": [
           {
            "marker": {
             "colorbar": {
              "outlinewidth": 0,
              "ticks": ""
             }
            },
            "type": "scattergl"
           }
          ],
          "scattermap": [
           {
            "marker": {
             "colorbar": {
              "outlinewidth": 0,
              "ticks": ""
             }
            },
            "type": "scattermap"
           }
          ],
          "scattermapbox": [
           {
            "marker": {
             "colorbar": {
              "outlinewidth": 0,
              "ticks": ""
             }
            },
            "type": "scattermapbox"
           }
          ],
          "scatterpolar": [
           {
            "marker": {
             "colorbar": {
              "outlinewidth": 0,
              "ticks": ""
             }
            },
            "type": "scatterpolar"
           }
          ],
          "scatterpolargl": [
           {
            "marker": {
             "colorbar": {
              "outlinewidth": 0,
              "ticks": ""
             }
            },
            "type": "scatterpolargl"
           }
          ],
          "scatterternary": [
           {
            "marker": {
             "colorbar": {
              "outlinewidth": 0,
              "ticks": ""
             }
            },
            "type": "scatterternary"
           }
          ],
          "surface": [
           {
            "colorbar": {
             "outlinewidth": 0,
             "ticks": ""
            },
            "colorscale": [
             [
              0,
              "#0d0887"
             ],
             [
              0.1111111111111111,
              "#46039f"
             ],
             [
              0.2222222222222222,
              "#7201a8"
             ],
             [
              0.3333333333333333,
              "#9c179e"
             ],
             [
              0.4444444444444444,
              "#bd3786"
             ],
             [
              0.5555555555555556,
              "#d8576b"
             ],
             [
              0.6666666666666666,
              "#ed7953"
             ],
             [
              0.7777777777777778,
              "#fb9f3a"
             ],
             [
              0.8888888888888888,
              "#fdca26"
             ],
             [
              1,
              "#f0f921"
             ]
            ],
            "type": "surface"
           }
          ],
          "table": [
           {
            "cells": {
             "fill": {
              "color": "#EBF0F8"
             },
             "line": {
              "color": "white"
             }
            },
            "header": {
             "fill": {
              "color": "#C8D4E3"
             },
             "line": {
              "color": "white"
             }
            },
            "type": "table"
           }
          ]
         },
         "layout": {
          "annotationdefaults": {
           "arrowcolor": "#2a3f5f",
           "arrowhead": 0,
           "arrowwidth": 1
          },
          "autotypenumbers": "strict",
          "coloraxis": {
           "colorbar": {
            "outlinewidth": 0,
            "ticks": ""
           }
          },
          "colorscale": {
           "diverging": [
            [
             0,
             "#8e0152"
            ],
            [
             0.1,
             "#c51b7d"
            ],
            [
             0.2,
             "#de77ae"
            ],
            [
             0.3,
             "#f1b6da"
            ],
            [
             0.4,
             "#fde0ef"
            ],
            [
             0.5,
             "#f7f7f7"
            ],
            [
             0.6,
             "#e6f5d0"
            ],
            [
             0.7,
             "#b8e186"
            ],
            [
             0.8,
             "#7fbc41"
            ],
            [
             0.9,
             "#4d9221"
            ],
            [
             1,
             "#276419"
            ]
           ],
           "sequential": [
            [
             0,
             "#0d0887"
            ],
            [
             0.1111111111111111,
             "#46039f"
            ],
            [
             0.2222222222222222,
             "#7201a8"
            ],
            [
             0.3333333333333333,
             "#9c179e"
            ],
            [
             0.4444444444444444,
             "#bd3786"
            ],
            [
             0.5555555555555556,
             "#d8576b"
            ],
            [
             0.6666666666666666,
             "#ed7953"
            ],
            [
             0.7777777777777778,
             "#fb9f3a"
            ],
            [
             0.8888888888888888,
             "#fdca26"
            ],
            [
             1,
             "#f0f921"
            ]
           ],
           "sequentialminus": [
            [
             0,
             "#0d0887"
            ],
            [
             0.1111111111111111,
             "#46039f"
            ],
            [
             0.2222222222222222,
             "#7201a8"
            ],
            [
             0.3333333333333333,
             "#9c179e"
            ],
            [
             0.4444444444444444,
             "#bd3786"
            ],
            [
             0.5555555555555556,
             "#d8576b"
            ],
            [
             0.6666666666666666,
             "#ed7953"
            ],
            [
             0.7777777777777778,
             "#fb9f3a"
            ],
            [
             0.8888888888888888,
             "#fdca26"
            ],
            [
             1,
             "#f0f921"
            ]
           ]
          },
          "colorway": [
           "#636efa",
           "#EF553B",
           "#00cc96",
           "#ab63fa",
           "#FFA15A",
           "#19d3f3",
           "#FF6692",
           "#B6E880",
           "#FF97FF",
           "#FECB52"
          ],
          "font": {
           "color": "#2a3f5f"
          },
          "geo": {
           "bgcolor": "white",
           "lakecolor": "white",
           "landcolor": "#E5ECF6",
           "showlakes": true,
           "showland": true,
           "subunitcolor": "white"
          },
          "hoverlabel": {
           "align": "left"
          },
          "hovermode": "closest",
          "mapbox": {
           "style": "light"
          },
          "paper_bgcolor": "white",
          "plot_bgcolor": "#E5ECF6",
          "polar": {
           "angularaxis": {
            "gridcolor": "white",
            "linecolor": "white",
            "ticks": ""
           },
           "bgcolor": "#E5ECF6",
           "radialaxis": {
            "gridcolor": "white",
            "linecolor": "white",
            "ticks": ""
           }
          },
          "scene": {
           "xaxis": {
            "backgroundcolor": "#E5ECF6",
            "gridcolor": "white",
            "gridwidth": 2,
            "linecolor": "white",
            "showbackground": true,
            "ticks": "",
            "zerolinecolor": "white"
           },
           "yaxis": {
            "backgroundcolor": "#E5ECF6",
            "gridcolor": "white",
            "gridwidth": 2,
            "linecolor": "white",
            "showbackground": true,
            "ticks": "",
            "zerolinecolor": "white"
           },
           "zaxis": {
            "backgroundcolor": "#E5ECF6",
            "gridcolor": "white",
            "gridwidth": 2,
            "linecolor": "white",
            "showbackground": true,
            "ticks": "",
            "zerolinecolor": "white"
           }
          },
          "shapedefaults": {
           "line": {
            "color": "#2a3f5f"
           }
          },
          "ternary": {
           "aaxis": {
            "gridcolor": "white",
            "linecolor": "white",
            "ticks": ""
           },
           "baxis": {
            "gridcolor": "white",
            "linecolor": "white",
            "ticks": ""
           },
           "bgcolor": "#E5ECF6",
           "caxis": {
            "gridcolor": "white",
            "linecolor": "white",
            "ticks": ""
           }
          },
          "title": {
           "x": 0.05
          },
          "xaxis": {
           "automargin": true,
           "gridcolor": "white",
           "linecolor": "white",
           "ticks": "",
           "title": {
            "standoff": 15
           },
           "zerolinecolor": "white",
           "zerolinewidth": 2
          },
          "yaxis": {
           "automargin": true,
           "gridcolor": "white",
           "linecolor": "white",
           "ticks": "",
           "title": {
            "standoff": 15
           },
           "zerolinecolor": "white",
           "zerolinewidth": 2
          }
         }
        },
        "title": {
         "text": "Consommation annuelle d'alcool par habitant (litres d'alcool pur)"
        }
       }
      }
     },
     "metadata": {},
     "output_type": "display_data"
    }
   ],
   "source": [
    "import pandas as pd\n",
    "import plotly.express as px\n",
    "import pycountry\n",
    "\n",
    "donnees = pd.read_csv('donnée.csv')\n",
    "donnees = donnees[donnees['Year'] == donnees['Year'].max()]\n",
    "donnees = donnees.rename(columns={\n",
    "    'Entity': 'Pays',\n",
    "    'Total alcohol consumption per capita (liters of pure alcohol, projected estimates, 15+ years of age)': 'Consommation Alcool'\n",
    "})\n",
    "\n",
    "donnees = donnees.dropna(subset=['Consommation Alcool'])\n",
    "\n",
    "def obtenir_code_iso(nom_pays):\n",
    "    try:\n",
    "        return pycountry.countries.lookup(nom_pays).alpha_3\n",
    "    except:\n",
    "        return None\n",
    "\n",
    "donnees['Code ISO'] = donnees['Pays'].apply(obtenir_code_iso)\n",
    "donnees = donnees.dropna(subset=['Code ISO'])\n",
    "\n",
    "def ajouter_commentaire(consommation):\n",
    "    if consommation > 15:\n",
    "        return \"🍻 Champion du monde !\"\n",
    "    elif consommation > 12:\n",
    "        return \"🥂 Très festif\"\n",
    "    elif consommation > 9:\n",
    "        return \"🍷 Amateur éclairé\"\n",
    "    elif consommation > 6:\n",
    "        return \"🍺 Modéré\"\n",
    "    elif consommation > 3:\n",
    "        return \"🍹 Occasionnel\"\n",
    "    else:\n",
    "        return \"🧃 Sobre ou abstinent\"\n",
    "\n",
    "donnees['Commentaire'] = donnees['Consommation Alcool'].apply(ajouter_commentaire)\n",
    "\n",
    "carte = px.choropleth(\n",
    "    donnees,\n",
    "    locations='Code ISO',\n",
    "    color='Consommation Alcool',\n",
    "    hover_name='Pays',\n",
    "    hover_data={\n",
    "        'Consommation Alcool': ':.2f',\n",
    "        'Commentaire': True,\n",
    "        'Code ISO': False\n",
    "    },\n",
    "    color_continuous_scale='Reds',\n",
    "    title='Consommation annuelle d\\'alcool par habitant (litres d\\'alcool pur)'\n",
    ")\n",
    "\n",
    "carte.update_layout(\n",
    "    geo=dict(showframe=False, showcoastlines=False),\n",
    "    coloraxis_colorbar=dict(title='Litres par an')\n",
    ")\n",
    "\n",
    "carte.show()"
   ]
  },
  {
   "cell_type": "code",
   "execution_count": null,
   "id": "7e394fbc",
   "metadata": {},
   "outputs": [
    {
     "data": {
      "application/vnd.plotly.v1+json": {
       "config": {
        "plotlyServerURL": "https://plot.ly"
       },
       "data": [
        {
         "hovertemplate": "variable=Consommation Alcool<br>Litres d'alcool pur par an=%{x}<br>Continent=%{y}<extra></extra>",
         "legendgroup": "Consommation Alcool",
         "marker": {
          "color": "#ff6b6b",
          "pattern": {
           "shape": ""
          }
         },
         "name": "Consommation Alcool",
         "orientation": "h",
         "showlegend": true,
         "textposition": "auto",
         "type": "bar",
         "x": {
          "bdata": "9Shcj8L1BEC4HoXrUTgPQOhqK/aX3RJAnzQCQqV/E0BGtvP91HgaQPCnxks3SSRA",
          "dtype": "f8"
         },
         "xaxis": "x",
         "y": [
          "Afrique",
          "Océanie",
          "Asie",
          "Autre",
          "Amérique",
          "Europe"
         ],
         "yaxis": "y"
        }
       ],
       "layout": {
        "barmode": "relative",
        "legend": {
         "title": {
          "text": "variable"
         },
         "tracegroupgap": 0
        },
        "showlegend": false,
        "template": {
         "data": {
          "bar": [
           {
            "error_x": {
             "color": "#2a3f5f"
            },
            "error_y": {
             "color": "#2a3f5f"
            },
            "marker": {
             "line": {
              "color": "#E5ECF6",
              "width": 0.5
             },
             "pattern": {
              "fillmode": "overlay",
              "size": 10,
              "solidity": 0.2
             }
            },
            "type": "bar"
           }
          ],
          "barpolar": [
           {
            "marker": {
             "line": {
              "color": "#E5ECF6",
              "width": 0.5
             },
             "pattern": {
              "fillmode": "overlay",
              "size": 10,
              "solidity": 0.2
             }
            },
            "type": "barpolar"
           }
          ],
          "carpet": [
           {
            "aaxis": {
             "endlinecolor": "#2a3f5f",
             "gridcolor": "white",
             "linecolor": "white",
             "minorgridcolor": "white",
             "startlinecolor": "#2a3f5f"
            },
            "baxis": {
             "endlinecolor": "#2a3f5f",
             "gridcolor": "white",
             "linecolor": "white",
             "minorgridcolor": "white",
             "startlinecolor": "#2a3f5f"
            },
            "type": "carpet"
           }
          ],
          "choropleth": [
           {
            "colorbar": {
             "outlinewidth": 0,
             "ticks": ""
            },
            "type": "choropleth"
           }
          ],
          "contour": [
           {
            "colorbar": {
             "outlinewidth": 0,
             "ticks": ""
            },
            "colorscale": [
             [
              0,
              "#0d0887"
             ],
             [
              0.1111111111111111,
              "#46039f"
             ],
             [
              0.2222222222222222,
              "#7201a8"
             ],
             [
              0.3333333333333333,
              "#9c179e"
             ],
             [
              0.4444444444444444,
              "#bd3786"
             ],
             [
              0.5555555555555556,
              "#d8576b"
             ],
             [
              0.6666666666666666,
              "#ed7953"
             ],
             [
              0.7777777777777778,
              "#fb9f3a"
             ],
             [
              0.8888888888888888,
              "#fdca26"
             ],
             [
              1,
              "#f0f921"
             ]
            ],
            "type": "contour"
           }
          ],
          "contourcarpet": [
           {
            "colorbar": {
             "outlinewidth": 0,
             "ticks": ""
            },
            "type": "contourcarpet"
           }
          ],
          "heatmap": [
           {
            "colorbar": {
             "outlinewidth": 0,
             "ticks": ""
            },
            "colorscale": [
             [
              0,
              "#0d0887"
             ],
             [
              0.1111111111111111,
              "#46039f"
             ],
             [
              0.2222222222222222,
              "#7201a8"
             ],
             [
              0.3333333333333333,
              "#9c179e"
             ],
             [
              0.4444444444444444,
              "#bd3786"
             ],
             [
              0.5555555555555556,
              "#d8576b"
             ],
             [
              0.6666666666666666,
              "#ed7953"
             ],
             [
              0.7777777777777778,
              "#fb9f3a"
             ],
             [
              0.8888888888888888,
              "#fdca26"
             ],
             [
              1,
              "#f0f921"
             ]
            ],
            "type": "heatmap"
           }
          ],
          "histogram": [
           {
            "marker": {
             "pattern": {
              "fillmode": "overlay",
              "size": 10,
              "solidity": 0.2
             }
            },
            "type": "histogram"
           }
          ],
          "histogram2d": [
           {
            "colorbar": {
             "outlinewidth": 0,
             "ticks": ""
            },
            "colorscale": [
             [
              0,
              "#0d0887"
             ],
             [
              0.1111111111111111,
              "#46039f"
             ],
             [
              0.2222222222222222,
              "#7201a8"
             ],
             [
              0.3333333333333333,
              "#9c179e"
             ],
             [
              0.4444444444444444,
              "#bd3786"
             ],
             [
              0.5555555555555556,
              "#d8576b"
             ],
             [
              0.6666666666666666,
              "#ed7953"
             ],
             [
              0.7777777777777778,
              "#fb9f3a"
             ],
             [
              0.8888888888888888,
              "#fdca26"
             ],
             [
              1,
              "#f0f921"
             ]
            ],
            "type": "histogram2d"
           }
          ],
          "histogram2dcontour": [
           {
            "colorbar": {
             "outlinewidth": 0,
             "ticks": ""
            },
            "colorscale": [
             [
              0,
              "#0d0887"
             ],
             [
              0.1111111111111111,
              "#46039f"
             ],
             [
              0.2222222222222222,
              "#7201a8"
             ],
             [
              0.3333333333333333,
              "#9c179e"
             ],
             [
              0.4444444444444444,
              "#bd3786"
             ],
             [
              0.5555555555555556,
              "#d8576b"
             ],
             [
              0.6666666666666666,
              "#ed7953"
             ],
             [
              0.7777777777777778,
              "#fb9f3a"
             ],
             [
              0.8888888888888888,
              "#fdca26"
             ],
             [
              1,
              "#f0f921"
             ]
            ],
            "type": "histogram2dcontour"
           }
          ],
          "mesh3d": [
           {
            "colorbar": {
             "outlinewidth": 0,
             "ticks": ""
            },
            "type": "mesh3d"
           }
          ],
          "parcoords": [
           {
            "line": {
             "colorbar": {
              "outlinewidth": 0,
              "ticks": ""
             }
            },
            "type": "parcoords"
           }
          ],
          "pie": [
           {
            "automargin": true,
            "type": "pie"
           }
          ],
          "scatter": [
           {
            "fillpattern": {
             "fillmode": "overlay",
             "size": 10,
             "solidity": 0.2
            },
            "type": "scatter"
           }
          ],
          "scatter3d": [
           {
            "line": {
             "colorbar": {
              "outlinewidth": 0,
              "ticks": ""
             }
            },
            "marker": {
             "colorbar": {
              "outlinewidth": 0,
              "ticks": ""
             }
            },
            "type": "scatter3d"
           }
          ],
          "scattercarpet": [
           {
            "marker": {
             "colorbar": {
              "outlinewidth": 0,
              "ticks": ""
             }
            },
            "type": "scattercarpet"
           }
          ],
          "scattergeo": [
           {
            "marker": {
             "colorbar": {
              "outlinewidth": 0,
              "ticks": ""
             }
            },
            "type": "scattergeo"
           }
          ],
          "scattergl": [
           {
            "marker": {
             "colorbar": {
              "outlinewidth": 0,
              "ticks": ""
             }
            },
            "type": "scattergl"
           }
          ],
          "scattermap": [
           {
            "marker": {
             "colorbar": {
              "outlinewidth": 0,
              "ticks": ""
             }
            },
            "type": "scattermap"
           }
          ],
          "scattermapbox": [
           {
            "marker": {
             "colorbar": {
              "outlinewidth": 0,
              "ticks": ""
             }
            },
            "type": "scattermapbox"
           }
          ],
          "scatterpolar": [
           {
            "marker": {
             "colorbar": {
              "outlinewidth": 0,
              "ticks": ""
             }
            },
            "type": "scatterpolar"
           }
          ],
          "scatterpolargl": [
           {
            "marker": {
             "colorbar": {
              "outlinewidth": 0,
              "ticks": ""
             }
            },
            "type": "scatterpolargl"
           }
          ],
          "scatterternary": [
           {
            "marker": {
             "colorbar": {
              "outlinewidth": 0,
              "ticks": ""
             }
            },
            "type": "scatterternary"
           }
          ],
          "surface": [
           {
            "colorbar": {
             "outlinewidth": 0,
             "ticks": ""
            },
            "colorscale": [
             [
              0,
              "#0d0887"
             ],
             [
              0.1111111111111111,
              "#46039f"
             ],
             [
              0.2222222222222222,
              "#7201a8"
             ],
             [
              0.3333333333333333,
              "#9c179e"
             ],
             [
              0.4444444444444444,
              "#bd3786"
             ],
             [
              0.5555555555555556,
              "#d8576b"
             ],
             [
              0.6666666666666666,
              "#ed7953"
             ],
             [
              0.7777777777777778,
              "#fb9f3a"
             ],
             [
              0.8888888888888888,
              "#fdca26"
             ],
             [
              1,
              "#f0f921"
             ]
            ],
            "type": "surface"
           }
          ],
          "table": [
           {
            "cells": {
             "fill": {
              "color": "#EBF0F8"
             },
             "line": {
              "color": "white"
             }
            },
            "header": {
             "fill": {
              "color": "#C8D4E3"
             },
             "line": {
              "color": "white"
             }
            },
            "type": "table"
           }
          ]
         },
         "layout": {
          "annotationdefaults": {
           "arrowcolor": "#2a3f5f",
           "arrowhead": 0,
           "arrowwidth": 1
          },
          "autotypenumbers": "strict",
          "coloraxis": {
           "colorbar": {
            "outlinewidth": 0,
            "ticks": ""
           }
          },
          "colorscale": {
           "diverging": [
            [
             0,
             "#8e0152"
            ],
            [
             0.1,
             "#c51b7d"
            ],
            [
             0.2,
             "#de77ae"
            ],
            [
             0.3,
             "#f1b6da"
            ],
            [
             0.4,
             "#fde0ef"
            ],
            [
             0.5,
             "#f7f7f7"
            ],
            [
             0.6,
             "#e6f5d0"
            ],
            [
             0.7,
             "#b8e186"
            ],
            [
             0.8,
             "#7fbc41"
            ],
            [
             0.9,
             "#4d9221"
            ],
            [
             1,
             "#276419"
            ]
           ],
           "sequential": [
            [
             0,
             "#0d0887"
            ],
            [
             0.1111111111111111,
             "#46039f"
            ],
            [
             0.2222222222222222,
             "#7201a8"
            ],
            [
             0.3333333333333333,
             "#9c179e"
            ],
            [
             0.4444444444444444,
             "#bd3786"
            ],
            [
             0.5555555555555556,
             "#d8576b"
            ],
            [
             0.6666666666666666,
             "#ed7953"
            ],
            [
             0.7777777777777778,
             "#fb9f3a"
            ],
            [
             0.8888888888888888,
             "#fdca26"
            ],
            [
             1,
             "#f0f921"
            ]
           ],
           "sequentialminus": [
            [
             0,
             "#0d0887"
            ],
            [
             0.1111111111111111,
             "#46039f"
            ],
            [
             0.2222222222222222,
             "#7201a8"
            ],
            [
             0.3333333333333333,
             "#9c179e"
            ],
            [
             0.4444444444444444,
             "#bd3786"
            ],
            [
             0.5555555555555556,
             "#d8576b"
            ],
            [
             0.6666666666666666,
             "#ed7953"
            ],
            [
             0.7777777777777778,
             "#fb9f3a"
            ],
            [
             0.8888888888888888,
             "#fdca26"
            ],
            [
             1,
             "#f0f921"
            ]
           ]
          },
          "colorway": [
           "#636efa",
           "#EF553B",
           "#00cc96",
           "#ab63fa",
           "#FFA15A",
           "#19d3f3",
           "#FF6692",
           "#B6E880",
           "#FF97FF",
           "#FECB52"
          ],
          "font": {
           "color": "#2a3f5f"
          },
          "geo": {
           "bgcolor": "white",
           "lakecolor": "white",
           "landcolor": "#E5ECF6",
           "showlakes": true,
           "showland": true,
           "subunitcolor": "white"
          },
          "hoverlabel": {
           "align": "left"
          },
          "hovermode": "closest",
          "mapbox": {
           "style": "light"
          },
          "paper_bgcolor": "white",
          "plot_bgcolor": "#E5ECF6",
          "polar": {
           "angularaxis": {
            "gridcolor": "white",
            "linecolor": "white",
            "ticks": ""
           },
           "bgcolor": "#E5ECF6",
           "radialaxis": {
            "gridcolor": "white",
            "linecolor": "white",
            "ticks": ""
           }
          },
          "scene": {
           "xaxis": {
            "backgroundcolor": "#E5ECF6",
            "gridcolor": "white",
            "gridwidth": 2,
            "linecolor": "white",
            "showbackground": true,
            "ticks": "",
            "zerolinecolor": "white"
           },
           "yaxis": {
            "backgroundcolor": "#E5ECF6",
            "gridcolor": "white",
            "gridwidth": 2,
            "linecolor": "white",
            "showbackground": true,
            "ticks": "",
            "zerolinecolor": "white"
           },
           "zaxis": {
            "backgroundcolor": "#E5ECF6",
            "gridcolor": "white",
            "gridwidth": 2,
            "linecolor": "white",
            "showbackground": true,
            "ticks": "",
            "zerolinecolor": "white"
           }
          },
          "shapedefaults": {
           "line": {
            "color": "#2a3f5f"
           }
          },
          "ternary": {
           "aaxis": {
            "gridcolor": "white",
            "linecolor": "white",
            "ticks": ""
           },
           "baxis": {
            "gridcolor": "white",
            "linecolor": "white",
            "ticks": ""
           },
           "bgcolor": "#E5ECF6",
           "caxis": {
            "gridcolor": "white",
            "linecolor": "white",
            "ticks": ""
           }
          },
          "title": {
           "x": 0.05
          },
          "xaxis": {
           "automargin": true,
           "gridcolor": "white",
           "linecolor": "white",
           "ticks": "",
           "title": {
            "standoff": 15
           },
           "zerolinecolor": "white",
           "zerolinewidth": 2
          },
          "yaxis": {
           "automargin": true,
           "gridcolor": "white",
           "linecolor": "white",
           "ticks": "",
           "title": {
            "standoff": 15
           },
           "zerolinecolor": "white",
           "zerolinewidth": 2
          }
         }
        },
        "title": {
         "text": "Consommation moyenne d'alcool par continent"
        },
        "xaxis": {
         "anchor": "y",
         "domain": [
          0,
          1
         ],
         "title": {
          "text": "Litres d'alcool pur par an"
         }
        },
        "yaxis": {
         "anchor": "x",
         "domain": [
          0,
          1
         ],
         "title": {
          "text": "Continent"
         }
        }
       }
      }
     },
     "metadata": {},
     "output_type": "display_data"
    }
   ],
   "source": [
    "continent_mapping = {\n",
    "    'Europe': ['FRA', 'DEU', 'GBR', 'ITA', 'ESP', 'POL', 'ROU', 'NLD', 'BEL', 'GRC'],\n",
    "    'Asie': ['CHN', 'JPN', 'KOR', 'IND', 'IDN', 'VNM', 'THA', 'MYS', 'PHL', 'SGP'],\n",
    "    'Amérique': ['USA', 'CAN', 'MEX', 'BRA', 'ARG', 'COL', 'CHL', 'PER', 'VEN', 'URY'],\n",
    "    'Afrique': ['ZAF', 'EGY', 'MAR', 'TUN', 'DZA', 'NGA', 'KEN', 'ETH', 'GHA', 'CIV'],\n",
    "    'Océanie': ['AUS', 'NZL', 'PNG', 'FJI', 'NCL', 'VUT', 'SLB', 'WSM', 'TON']\n",
    "}\n",
    "\n",
    "def attribuer_continent(code_iso):\n",
    "    for continent, pays in continent_mapping.items():\n",
    "        if code_iso in pays:\n",
    "            return continent\n",
    "    return \"Autre\"\n",
    "\n",
    "donnees['Continent'] = donnees['Code ISO'].apply(attribuer_continent)\n",
    "moyennes_continent = donnees.groupby('Continent')['Consommation Alcool'].mean().sort_values(ascending=True)\n",
    "fig_continents = px.bar(\n",
    "    moyennes_continent,\n",
    "    orientation='h',\n",
    "    title='Consommation moyenne d\\'alcool par continent',\n",
    "    labels={'value': 'Litres d\\'alcool par an', 'Continent': 'Continent'},\n",
    "    color_discrete_sequence=['#ff6b6b']\n",
    ")\n",
    "\n",
    "fig_continents.update_layout(\n",
    "    showlegend=False,\n",
    "    xaxis_title=\"Litres d'alcool par an\",\n",
    "    yaxis_title=\"Continent\"\n",
    ")\n",
    "\n",
    "fig_continents.show()"
   ]
  }
 ],
 "metadata": {
  "kernelspec": {
   "display_name": "Python 3",
   "language": "python",
   "name": "python3"
  },
  "language_info": {
   "codemirror_mode": {
    "name": "ipython",
    "version": 3
   },
   "file_extension": ".py",
   "mimetype": "text/x-python",
   "name": "python",
   "nbconvert_exporter": "python",
   "pygments_lexer": "ipython3",
   "version": "3.12.2"
  }
 },
 "nbformat": 4,
 "nbformat_minor": 5
}
