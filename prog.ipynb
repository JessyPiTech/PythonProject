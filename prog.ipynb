{
 "cells": [
  {
   "cell_type": "code",
   "execution_count": 3,
   "id": "100e9e66",
   "metadata": {},
   "outputs": [
    {
     "data": {
      "application/vnd.plotly.v1+json": {
       "config": {
        "plotlyServerURL": "https://plot.ly"
       },
       "data": [
        {
         "coloraxis": "coloraxis",
         "customdata": [
          [
           0.011,
           "🧃 Sobre ou abstinent",
           "AFG"
          ],
          [
           4.47,
           "🍹 Occasionnel",
           "ALB"
          ],
          [
           0.54,
           "🧃 Sobre ou abstinent",
           "DZA"
          ],
          [
           9.68,
           "🍷 Amateur éclairé",
           "AND"
          ],
          [
           4.13,
           "🍹 Occasionnel",
           "AGO"
          ],
          [
           6.66,
           "🍺 Modéré",
           "ATG"
          ],
          [
           8.05,
           "🍺 Modéré",
           "ARG"
          ],
          [
           4.28,
           "🍹 Occasionnel",
           "ARM"
          ],
          [
           10.29,
           "🍷 Amateur éclairé",
           "AUS"
          ],
          [
           11.51,
           "🍷 Amateur éclairé",
           "AUT"
          ],
          [
           2.49,
           "🧃 Sobre ou abstinent",
           "AZE"
          ],
          [
           3.65,
           "🍹 Occasionnel",
           "BHS"
          ],
          [
           1.25,
           "🧃 Sobre ou abstinent",
           "BHR"
          ],
          [
           0.092,
           "🧃 Sobre ou abstinent",
           "BGD"
          ],
          [
           8.22,
           "🍺 Modéré",
           "BRB"
          ],
          [
           11.63,
           "🍷 Amateur éclairé",
           "BLR"
          ],
          [
           9.43,
           "🍷 Amateur éclairé",
           "BEL"
          ],
          [
           3.67,
           "🍹 Occasionnel",
           "BLZ"
          ],
          [
           8.83,
           "🍺 Modéré",
           "BEN"
          ],
          [
           0.18,
           "🧃 Sobre ou abstinent",
           "BTN"
          ],
          [
           3.59,
           "🍹 Occasionnel",
           "BOL"
          ],
          [
           5.87,
           "🍹 Occasionnel",
           "BIH"
          ],
          [
           7.27,
           "🍺 Modéré",
           "BWA"
          ],
          [
           7.7,
           "🍺 Modéré",
           "BRA"
          ],
          [
           11.62,
           "🍷 Amateur éclairé",
           "BGR"
          ],
          [
           11.27,
           "🍷 Amateur éclairé",
           "BFA"
          ],
          [
           4.16,
           "🍹 Occasionnel",
           "BDI"
          ],
          [
           6.67,
           "🍺 Modéré",
           "KHM"
          ],
          [
           9.6,
           "🍷 Amateur éclairé",
           "CMR"
          ],
          [
           9.89,
           "🍷 Amateur éclairé",
           "CAN"
          ],
          [
           1.75,
           "🧃 Sobre ou abstinent",
           "CAF"
          ],
          [
           2.91,
           "🧃 Sobre ou abstinent",
           "TCD"
          ],
          [
           7.56,
           "🍺 Modéré",
           "CHL"
          ],
          [
           4.58,
           "🍹 Occasionnel",
           "CHN"
          ],
          [
           4.24,
           "🍹 Occasionnel",
           "COL"
          ],
          [
           0.23,
           "🧃 Sobre ou abstinent",
           "COM"
          ],
          [
           6.05,
           "🍺 Modéré",
           "COG"
          ],
          [
           3.4,
           "🍹 Occasionnel",
           "CRI"
          ],
          [
           7.65,
           "🍺 Modéré",
           "HRV"
          ],
          [
           5.38,
           "🍹 Occasionnel",
           "CUB"
          ],
          [
           6.36,
           "🍺 Modéré",
           "CYP"
          ],
          [
           11.99,
           "🍷 Amateur éclairé",
           "CZE"
          ],
          [
           9.49,
           "🍷 Amateur éclairé",
           "DNK"
          ],
          [
           0.38,
           "🧃 Sobre ou abstinent",
           "DJI"
          ],
          [
           5.02,
           "🍹 Occasionnel",
           "DMA"
          ],
          [
           6.5,
           "🍺 Modéré",
           "DOM"
          ],
          [
           2.54,
           "🧃 Sobre ou abstinent",
           "ECU"
          ],
          [
           0.13,
           "🧃 Sobre ou abstinent",
           "EGY"
          ],
          [
           3.15,
           "🍹 Occasionnel",
           "SLV"
          ],
          [
           6.56,
           "🍺 Modéré",
           "GNQ"
          ],
          [
           1.07,
           "🧃 Sobre ou abstinent",
           "ERI"
          ],
          [
           10.68,
           "🍷 Amateur éclairé",
           "EST"
          ],
          [
           6.79,
           "🍺 Modéré",
           "SWZ"
          ],
          [
           3.06,
           "🍹 Occasionnel",
           "ETH"
          ],
          [
           3.58,
           "🍹 Occasionnel",
           "FJI"
          ],
          [
           9.08,
           "🍷 Amateur éclairé",
           "FIN"
          ],
          [
           10.32,
           "🍷 Amateur éclairé",
           "FRA"
          ],
          [
           8.14,
           "🍺 Modéré",
           "GAB"
          ],
          [
           0.61,
           "🧃 Sobre ou abstinent",
           "GMB"
          ],
          [
           14.41,
           "🥂 Très festif",
           "GEO"
          ],
          [
           11.84,
           "🍷 Amateur éclairé",
           "DEU"
          ],
          [
           4.26,
           "🍹 Occasionnel",
           "GHA"
          ],
          [
           5.81,
           "🍹 Occasionnel",
           "GRC"
          ],
          [
           7.33,
           "🍺 Modéré",
           "GRD"
          ],
          [
           1.54,
           "🧃 Sobre ou abstinent",
           "GTM"
          ],
          [
           0.52,
           "🧃 Sobre ou abstinent",
           "GIN"
          ],
          [
           3.73,
           "🍹 Occasionnel",
           "GNB"
          ],
          [
           5.04,
           "🍹 Occasionnel",
           "GUY"
          ],
          [
           3.11,
           "🍹 Occasionnel",
           "HTI"
          ],
          [
           3.08,
           "🍹 Occasionnel",
           "HND"
          ],
          [
           9.93,
           "🍷 Amateur éclairé",
           "HUN"
          ],
          [
           7.94,
           "🍺 Modéré",
           "ISL"
          ],
          [
           4.1,
           "🍹 Occasionnel",
           "IND"
          ],
          [
           0.074,
           "🧃 Sobre ou abstinent",
           "IDN"
          ],
          [
           0.51,
           "🧃 Sobre ou abstinent",
           "IRN"
          ],
          [
           0.24,
           "🧃 Sobre ou abstinent",
           "IRQ"
          ],
          [
           10.77,
           "🍷 Amateur éclairé",
           "IRL"
          ],
          [
           2.84,
           "🧃 Sobre ou abstinent",
           "ISR"
          ],
          [
           6.97,
           "🍺 Modéré",
           "ITA"
          ],
          [
           3.1,
           "🍹 Occasionnel",
           "JAM"
          ],
          [
           6.38,
           "🍺 Modéré",
           "JPN"
          ],
          [
           0.23,
           "🧃 Sobre ou abstinent",
           "JOR"
          ],
          [
           4.52,
           "🍹 Occasionnel",
           "KAZ"
          ],
          [
           2.47,
           "🧃 Sobre ou abstinent",
           "KEN"
          ],
          [
           0.72,
           "🧃 Sobre ou abstinent",
           "KIR"
          ],
          [
           0,
           "🧃 Sobre ou abstinent",
           "KWT"
          ],
          [
           3.63,
           "🍹 Occasionnel",
           "KGZ"
          ],
          [
           10.82,
           "🍷 Amateur éclairé",
           "LAO"
          ],
          [
           12.87,
           "🥂 Très festif",
           "LVA"
          ],
          [
           1.26,
           "🧃 Sobre ou abstinent",
           "LBN"
          ],
          [
           4.3,
           "🍹 Occasionnel",
           "LSO"
          ],
          [
           2.86,
           "🧃 Sobre ou abstinent",
           "LBR"
          ],
          [
           0.012,
           "🧃 Sobre ou abstinent",
           "LBY"
          ],
          [
           12.1,
           "🥂 Très festif",
           "LTU"
          ],
          [
           10.82,
           "🍷 Amateur éclairé",
           "LUX"
          ],
          [
           0.99,
           "🧃 Sobre ou abstinent",
           "MDG"
          ],
          [
           3.61,
           "🍹 Occasionnel",
           "MWI"
          ],
          [
           0.74,
           "🧃 Sobre ou abstinent",
           "MYS"
          ],
          [
           1.49,
           "🧃 Sobre ou abstinent",
           "MDV"
          ],
          [
           5.32,
           "🍹 Occasionnel",
           "MLI"
          ],
          [
           7.11,
           "🍺 Modéré",
           "MLT"
          ],
          [
           0,
           "🧃 Sobre ou abstinent",
           "MRT"
          ],
          [
           6.86,
           "🍺 Modéré",
           "MUS"
          ],
          [
           4.79,
           "🍹 Occasionnel",
           "MEX"
          ],
          [
           11.08,
           "🍷 Amateur éclairé",
           "MDA"
          ],
          [
           7.68,
           "🍺 Modéré",
           "MNG"
          ],
          [
           0.5,
           "🧃 Sobre ou abstinent",
           "MAR"
          ],
          [
           1.89,
           "🧃 Sobre ou abstinent",
           "MOZ"
          ],
          [
           1.93,
           "🧃 Sobre ou abstinent",
           "MMR"
          ],
          [
           5.05,
           "🍹 Occasionnel",
           "NAM"
          ],
          [
           2.79,
           "🧃 Sobre ou abstinent",
           "NRU"
          ],
          [
           1.06,
           "🧃 Sobre ou abstinent",
           "NPL"
          ],
          [
           8.71,
           "🍺 Modéré",
           "NLD"
          ],
          [
           10.02,
           "🍷 Amateur éclairé",
           "NZL"
          ],
          [
           3.67,
           "🍹 Occasionnel",
           "NIC"
          ],
          [
           0.13,
           "🧃 Sobre ou abstinent",
           "NER"
          ],
          [
           3.78,
           "🍹 Occasionnel",
           "NGA"
          ],
          [
           3.87,
           "🍹 Occasionnel",
           "PRK"
          ],
          [
           4.36,
           "🍹 Occasionnel",
           "MKD"
          ],
          [
           7.38,
           "🍺 Modéré",
           "NOR"
          ],
          [
           0.51,
           "🧃 Sobre ou abstinent",
           "OMN"
          ],
          [
           0.084,
           "🧃 Sobre ou abstinent",
           "PAK"
          ],
          [
           4.66,
           "🍹 Occasionnel",
           "PAN"
          ],
          [
           1.13,
           "🧃 Sobre ou abstinent",
           "PNG"
          ],
          [
           5.62,
           "🍹 Occasionnel",
           "PRY"
          ],
          [
           6.45,
           "🍺 Modéré",
           "PER"
          ],
          [
           5.66,
           "🍹 Occasionnel",
           "PHL"
          ],
          [
           11.66,
           "🍷 Amateur éclairé",
           "POL"
          ],
          [
           8.88,
           "🍺 Modéré",
           "PRT"
          ],
          [
           1.05,
           "🧃 Sobre ou abstinent",
           "QAT"
          ],
          [
           16.8,
           "🍻 Champion du monde !",
           "ROU"
          ],
          [
           2.87,
           "🧃 Sobre ou abstinent",
           "RWA"
          ],
          [
           4.69,
           "🍹 Occasionnel",
           "KNA"
          ],
          [
           9.28,
           "🍷 Amateur éclairé",
           "LCA"
          ],
          [
           5.62,
           "🍹 Occasionnel",
           "VCT"
          ],
          [
           2.35,
           "🧃 Sobre ou abstinent",
           "WSM"
          ],
          [
           4.79,
           "🍹 Occasionnel",
           "STP"
          ],
          [
           0,
           "🧃 Sobre ou abstinent",
           "SAU"
          ],
          [
           0.38,
           "🧃 Sobre ou abstinent",
           "SEN"
          ],
          [
           10.19,
           "🍷 Amateur éclairé",
           "SYC"
          ],
          [
           0.29,
           "🧃 Sobre ou abstinent",
           "SLE"
          ],
          [
           1.81,
           "🧃 Sobre ou abstinent",
           "SGP"
          ],
          [
           10.67,
           "🍷 Amateur éclairé",
           "SVK"
          ],
          [
           10.41,
           "🍷 Amateur éclairé",
           "SVN"
          ],
          [
           1.45,
           "🧃 Sobre ou abstinent",
           "SLB"
          ],
          [
           0,
           "🧃 Sobre ou abstinent",
           "SOM"
          ],
          [
           7.13,
           "🍺 Modéré",
           "ZAF"
          ],
          [
           7.79,
           "🍺 Modéré",
           "KOR"
          ],
          [
           9.16,
           "🍷 Amateur éclairé",
           "ESP"
          ],
          [
           2.91,
           "🧃 Sobre ou abstinent",
           "LKA"
          ],
          [
           0.01,
           "🧃 Sobre ou abstinent",
           "SDN"
          ],
          [
           5.93,
           "🍹 Occasionnel",
           "SUR"
          ],
          [
           9.57,
           "🍷 Amateur éclairé",
           "SWE"
          ],
          [
           10.07,
           "🍷 Amateur éclairé",
           "CHE"
          ],
          [
           0.092,
           "🧃 Sobre ou abstinent",
           "SYR"
          ],
          [
           0.74,
           "🧃 Sobre ou abstinent",
           "TJK"
          ],
          [
           10.95,
           "🍷 Amateur éclairé",
           "TZA"
          ],
          [
           7.99,
           "🍺 Modéré",
           "THA"
          ],
          [
           1.44,
           "🧃 Sobre ou abstinent",
           "TGO"
          ],
          [
           0.36,
           "🧃 Sobre ou abstinent",
           "TON"
          ],
          [
           6.03,
           "🍺 Modéré",
           "TTO"
          ],
          [
           1.71,
           "🧃 Sobre ou abstinent",
           "TUN"
          ],
          [
           2.62,
           "🧃 Sobre ou abstinent",
           "TKM"
          ],
          [
           1.26,
           "🧃 Sobre ou abstinent",
           "TUV"
          ],
          [
           11.3,
           "🍷 Amateur éclairé",
           "UGA"
          ],
          [
           9.24,
           "🍷 Amateur éclairé",
           "UKR"
          ],
          [
           2.08,
           "🧃 Sobre ou abstinent",
           "ARE"
          ],
          [
           10.73,
           "🍷 Amateur éclairé",
           "GBR"
          ],
          [
           9.9,
           "🍷 Amateur éclairé",
           "USA"
          ],
          [
           5.61,
           "🍹 Occasionnel",
           "URY"
          ],
          [
           2.1,
           "🧃 Sobre ou abstinent",
           "UZB"
          ],
          [
           2.04,
           "🧃 Sobre ou abstinent",
           "VUT"
          ],
          [
           1.99,
           "🧃 Sobre ou abstinent",
           "VEN"
          ],
          [
           8.04,
           "🍺 Modéré",
           "VNM"
          ],
          [
           0.044,
           "🧃 Sobre ou abstinent",
           "YEM"
          ],
          [
           3.62,
           "🍹 Occasionnel",
           "ZMB"
          ],
          [
           2.67,
           "🧃 Sobre ou abstinent",
           "ZWE"
          ]
         ],
         "geo": "geo",
         "hovertemplate": "<b>%{hovertext}</b><br><br>Consommation Alcool=%{z:.2f}<br>Commentaire=%{customdata[1]}<extra></extra>",
         "hovertext": [
          "Afghanistan",
          "Albania",
          "Algeria",
          "Andorra",
          "Angola",
          "Antigua and Barbuda",
          "Argentina",
          "Armenia",
          "Australia",
          "Austria",
          "Azerbaijan",
          "Bahamas",
          "Bahrain",
          "Bangladesh",
          "Barbados",
          "Belarus",
          "Belgium",
          "Belize",
          "Benin",
          "Bhutan",
          "Bolivia",
          "Bosnia and Herzegovina",
          "Botswana",
          "Brazil",
          "Bulgaria",
          "Burkina Faso",
          "Burundi",
          "Cambodia",
          "Cameroon",
          "Canada",
          "Central African Republic",
          "Chad",
          "Chile",
          "China",
          "Colombia",
          "Comoros",
          "Congo",
          "Costa Rica",
          "Croatia",
          "Cuba",
          "Cyprus",
          "Czechia",
          "Denmark",
          "Djibouti",
          "Dominica",
          "Dominican Republic",
          "Ecuador",
          "Egypt",
          "El Salvador",
          "Equatorial Guinea",
          "Eritrea",
          "Estonia",
          "Eswatini",
          "Ethiopia",
          "Fiji",
          "Finland",
          "France",
          "Gabon",
          "Gambia",
          "Georgia",
          "Germany",
          "Ghana",
          "Greece",
          "Grenada",
          "Guatemala",
          "Guinea",
          "Guinea-Bissau",
          "Guyana",
          "Haiti",
          "Honduras",
          "Hungary",
          "Iceland",
          "India",
          "Indonesia",
          "Iran",
          "Iraq",
          "Ireland",
          "Israel",
          "Italy",
          "Jamaica",
          "Japan",
          "Jordan",
          "Kazakhstan",
          "Kenya",
          "Kiribati",
          "Kuwait",
          "Kyrgyzstan",
          "Laos",
          "Latvia",
          "Lebanon",
          "Lesotho",
          "Liberia",
          "Libya",
          "Lithuania",
          "Luxembourg",
          "Madagascar",
          "Malawi",
          "Malaysia",
          "Maldives",
          "Mali",
          "Malta",
          "Mauritania",
          "Mauritius",
          "Mexico",
          "Moldova",
          "Mongolia",
          "Morocco",
          "Mozambique",
          "Myanmar",
          "Namibia",
          "Nauru",
          "Nepal",
          "Netherlands",
          "New Zealand",
          "Nicaragua",
          "Niger",
          "Nigeria",
          "North Korea",
          "North Macedonia",
          "Norway",
          "Oman",
          "Pakistan",
          "Panama",
          "Papua New Guinea",
          "Paraguay",
          "Peru",
          "Philippines",
          "Poland",
          "Portugal",
          "Qatar",
          "Romania",
          "Rwanda",
          "Saint Kitts and Nevis",
          "Saint Lucia",
          "Saint Vincent and the Grenadines",
          "Samoa",
          "Sao Tome and Principe",
          "Saudi Arabia",
          "Senegal",
          "Seychelles",
          "Sierra Leone",
          "Singapore",
          "Slovakia",
          "Slovenia",
          "Solomon Islands",
          "Somalia",
          "South Africa",
          "South Korea",
          "Spain",
          "Sri Lanka",
          "Sudan",
          "Suriname",
          "Sweden",
          "Switzerland",
          "Syria",
          "Tajikistan",
          "Tanzania",
          "Thailand",
          "Togo",
          "Tonga",
          "Trinidad and Tobago",
          "Tunisia",
          "Turkmenistan",
          "Tuvalu",
          "Uganda",
          "Ukraine",
          "United Arab Emirates",
          "United Kingdom",
          "United States",
          "Uruguay",
          "Uzbekistan",
          "Vanuatu",
          "Venezuela",
          "Vietnam",
          "Yemen",
          "Zambia",
          "Zimbabwe"
         ],
         "locations": [
          "AFG",
          "ALB",
          "DZA",
          "AND",
          "AGO",
          "ATG",
          "ARG",
          "ARM",
          "AUS",
          "AUT",
          "AZE",
          "BHS",
          "BHR",
          "BGD",
          "BRB",
          "BLR",
          "BEL",
          "BLZ",
          "BEN",
          "BTN",
          "BOL",
          "BIH",
          "BWA",
          "BRA",
          "BGR",
          "BFA",
          "BDI",
          "KHM",
          "CMR",
          "CAN",
          "CAF",
          "TCD",
          "CHL",
          "CHN",
          "COL",
          "COM",
          "COG",
          "CRI",
          "HRV",
          "CUB",
          "CYP",
          "CZE",
          "DNK",
          "DJI",
          "DMA",
          "DOM",
          "ECU",
          "EGY",
          "SLV",
          "GNQ",
          "ERI",
          "EST",
          "SWZ",
          "ETH",
          "FJI",
          "FIN",
          "FRA",
          "GAB",
          "GMB",
          "GEO",
          "DEU",
          "GHA",
          "GRC",
          "GRD",
          "GTM",
          "GIN",
          "GNB",
          "GUY",
          "HTI",
          "HND",
          "HUN",
          "ISL",
          "IND",
          "IDN",
          "IRN",
          "IRQ",
          "IRL",
          "ISR",
          "ITA",
          "JAM",
          "JPN",
          "JOR",
          "KAZ",
          "KEN",
          "KIR",
          "KWT",
          "KGZ",
          "LAO",
          "LVA",
          "LBN",
          "LSO",
          "LBR",
          "LBY",
          "LTU",
          "LUX",
          "MDG",
          "MWI",
          "MYS",
          "MDV",
          "MLI",
          "MLT",
          "MRT",
          "MUS",
          "MEX",
          "MDA",
          "MNG",
          "MAR",
          "MOZ",
          "MMR",
          "NAM",
          "NRU",
          "NPL",
          "NLD",
          "NZL",
          "NIC",
          "NER",
          "NGA",
          "PRK",
          "MKD",
          "NOR",
          "OMN",
          "PAK",
          "PAN",
          "PNG",
          "PRY",
          "PER",
          "PHL",
          "POL",
          "PRT",
          "QAT",
          "ROU",
          "RWA",
          "KNA",
          "LCA",
          "VCT",
          "WSM",
          "STP",
          "SAU",
          "SEN",
          "SYC",
          "SLE",
          "SGP",
          "SVK",
          "SVN",
          "SLB",
          "SOM",
          "ZAF",
          "KOR",
          "ESP",
          "LKA",
          "SDN",
          "SUR",
          "SWE",
          "CHE",
          "SYR",
          "TJK",
          "TZA",
          "THA",
          "TGO",
          "TON",
          "TTO",
          "TUN",
          "TKM",
          "TUV",
          "UGA",
          "UKR",
          "ARE",
          "GBR",
          "USA",
          "URY",
          "UZB",
          "VUT",
          "VEN",
          "VNM",
          "YEM",
          "ZMB",
          "ZWE"
         ],
         "name": "",
         "type": "choropleth",
         "z": {
          "bdata": "ukkMAiuHhj/hehSuR+ERQEjhehSuR+E/XI/C9ShcI0CF61G4HoUQQKRwPQrXoxpAmpmZmZkZIEAfhetRuB4RQBSuR+F6lCRAhetRuB4FJ0DsUbgehesDQDMzMzMzMw1AAAAAAAAA9D9aZDvfT423P3E9CtejcCBAw/UoXI9CJ0Bcj8L1KNwiQFyPwvUoXA1AKVyPwvWoIUAK16NwPQrHP7gehetRuAxAexSuR+F6F0AUrkfhehQdQM3MzMzMzB5APQrXo3A9J0AK16NwPYomQKRwPQrXoxBArkfhehSuGkAzMzMzMzMjQEjhehSuxyNAAAAAAAAA/D9I4XoUrkcHQD0K16NwPR5AUrgehetREkD2KFyPwvUQQHE9CtejcM0/MzMzMzMzGEAzMzMzMzMLQJqZmZmZmR5AhetRuB6FFUBxPQrXo3AZQHsUrkfh+idAexSuR+H6IkBSuB6F61HYPxSuR+F6FBRAAAAAAAAAGkBSuB6F61EEQKRwPQrXo8A/MzMzMzMzCUA9CtejcD0aQB+F61G4HvE/XI/C9ShcJUApXI/C9SgbQHsUrkfheghApHA9CtejDEApXI/C9SgiQKRwPQrXoyRASOF6FK5HIECF61G4HoXjP1K4HoXr0SxArkfhehSuJ0AK16NwPQoRQD0K16NwPRdAUrgehetRHUCkcD0K16P4P6RwPQrXo+A/16NwPQrXDUApXI/C9SgUQOF6FK5H4QhApHA9CtejCEBcj8L1KNwjQMP1KFyPwh9AZmZmZmZmEECLbOf7qfGyP1K4HoXrUeA/uB6F61G4zj8K16NwPYolQLgehetRuAZA4XoUrkfhG0DNzMzMzMwIQIXrUbgehRlAcT0K16NwzT8UrkfhehQSQMP1KFyPwgNACtejcD0K5z8AAAAAAAAAAArXo3A9Cg1ApHA9CtejJUA9CtejcL0pQClcj8L1KPQ/MzMzMzMzEUDhehSuR+EGQPp+arx0k4g/MzMzMzMzKECkcD0K16MlQK5H4XoUru8/4XoUrkfhDECuR+F6FK7nP9ejcD0K1/c/SOF6FK5HFUBxPQrXo3AcQAAAAAAAAAAAcT0K16NwG0ApXI/C9SgTQClcj8L1KCZAuB6F61G4HkAAAAAAAADgPz0K16NwPf4/4XoUrkfh/j8zMzMzMzMUQFK4HoXrUQZA9ihcj8L18D/sUbgehWshQArXo3A9CiRAXI/C9ShcDUCkcD0K16PAPz0K16NwPQ5A9ihcj8L1DkBxPQrXo3ARQIXrUbgehR1AUrgehetR4D8bL90kBoG1P6RwPQrXoxJAFK5H4XoU8j97FK5H4XoWQM3MzMzMzBlApHA9CtejFkBSuB6F61EnQMP1KFyPwiFAzczMzMzM8D/NzMzMzMwwQPYoXI/C9QZAw/UoXI/CEkCPwvUoXI8iQHsUrkfhehZAzczMzMzMAkApXI/C9SgTQAAAAAAAAAAAUrgehetR2D/hehSuR2EkQI/C9Shcj9I/9ihcj8L1/D/Xo3A9ClclQFK4HoXr0SRAMzMzMzMz9z8AAAAAAAAAAIXrUbgehRxAKVyPwvUoH0BSuB6F61EiQEjhehSuRwdAexSuR+F6hD+4HoXrUbgXQKRwPQrXIyNApHA9CtcjJEBaZDvfT423P65H4XoUruc/ZmZmZmbmJUD2KFyPwvUfQArXo3A9Cvc/CtejcD0K1z8fhetRuB4YQFyPwvUoXPs/9ihcj8L1BEApXI/C9Sj0P5qZmZmZmSZAexSuR+F6IkCkcD0K16MAQPYoXI/CdSVAzczMzMzMI0BxPQrXo3AWQM3MzMzMzABAUrgehetRAEDXo3A9Ctf/PxSuR+F6FCBAukkMAiuHpj/2KFyPwvUMQFyPwvUoXAVA",
          "dtype": "f8"
         }
        }
       ],
       "layout": {
        "coloraxis": {
         "colorbar": {
          "title": {
           "text": "Litres pr an"
          }
         },
         "colorscale": [
          [
           0,
           "rgb(255,245,240)"
          ],
          [
           0.125,
           "rgb(254,224,210)"
          ],
          [
           0.25,
           "rgb(252,187,161)"
          ],
          [
           0.375,
           "rgb(252,146,114)"
          ],
          [
           0.5,
           "rgb(251,106,74)"
          ],
          [
           0.625,
           "rgb(239,59,44)"
          ],
          [
           0.75,
           "rgb(203,24,29)"
          ],
          [
           0.875,
           "rgb(165,15,21)"
          ],
          [
           1,
           "rgb(103,0,13)"
          ]
         ]
        },
        "geo": {
         "center": {},
         "domain": {
          "x": [
           0,
           1
          ],
          "y": [
           0,
           1
          ]
         },
         "showcoastlines": false,
         "showframe": false
        },
        "legend": {
         "tracegroupgap": 0
        },
        "template": {
         "data": {
          "bar": [
           {
            "error_x": {
             "color": "#2a3f5f"
            },
            "error_y": {
             "color": "#2a3f5f"
            },
            "marker": {
             "line": {
              "color": "#E5ECF6",
              "width": 0.5
             },
             "pattern": {
              "fillmode": "overlay",
              "size": 10,
              "solidity": 0.2
             }
            },
            "type": "bar"
           }
          ],
          "barpolar": [
           {
            "marker": {
             "line": {
              "color": "#E5ECF6",
              "width": 0.5
             },
             "pattern": {
              "fillmode": "overlay",
              "size": 10,
              "solidity": 0.2
             }
            },
            "type": "barpolar"
           }
          ],
          "carpet": [
           {
            "aaxis": {
             "endlinecolor": "#2a3f5f",
             "gridcolor": "white",
             "linecolor": "white",
             "minorgridcolor": "white",
             "startlinecolor": "#2a3f5f"
            },
            "baxis": {
             "endlinecolor": "#2a3f5f",
             "gridcolor": "white",
             "linecolor": "white",
             "minorgridcolor": "white",
             "startlinecolor": "#2a3f5f"
            },
            "type": "carpet"
           }
          ],
          "choropleth": [
           {
            "colorbar": {
             "outlinewidth": 0,
             "ticks": ""
            },
            "type": "choropleth"
           }
          ],
          "contour": [
           {
            "colorbar": {
             "outlinewidth": 0,
             "ticks": ""
            },
            "colorscale": [
             [
              0,
              "#0d0887"
             ],
             [
              0.1111111111111111,
              "#46039f"
             ],
             [
              0.2222222222222222,
              "#7201a8"
             ],
             [
              0.3333333333333333,
              "#9c179e"
             ],
             [
              0.4444444444444444,
              "#bd3786"
             ],
             [
              0.5555555555555556,
              "#d8576b"
             ],
             [
              0.6666666666666666,
              "#ed7953"
             ],
             [
              0.7777777777777778,
              "#fb9f3a"
             ],
             [
              0.8888888888888888,
              "#fdca26"
             ],
             [
              1,
              "#f0f921"
             ]
            ],
            "type": "contour"
           }
          ],
          "contourcarpet": [
           {
            "colorbar": {
             "outlinewidth": 0,
             "ticks": ""
            },
            "type": "contourcarpet"
           }
          ],
          "heatmap": [
           {
            "colorbar": {
             "outlinewidth": 0,
             "ticks": ""
            },
            "colorscale": [
             [
              0,
              "#0d0887"
             ],
             [
              0.1111111111111111,
              "#46039f"
             ],
             [
              0.2222222222222222,
              "#7201a8"
             ],
             [
              0.3333333333333333,
              "#9c179e"
             ],
             [
              0.4444444444444444,
              "#bd3786"
             ],
             [
              0.5555555555555556,
              "#d8576b"
             ],
             [
              0.6666666666666666,
              "#ed7953"
             ],
             [
              0.7777777777777778,
              "#fb9f3a"
             ],
             [
              0.8888888888888888,
              "#fdca26"
             ],
             [
              1,
              "#f0f921"
             ]
            ],
            "type": "heatmap"
           }
          ],
          "histogram": [
           {
            "marker": {
             "pattern": {
              "fillmode": "overlay",
              "size": 10,
              "solidity": 0.2
             }
            },
            "type": "histogram"
           }
          ],
          "histogram2d": [
           {
            "colorbar": {
             "outlinewidth": 0,
             "ticks": ""
            },
            "colorscale": [
             [
              0,
              "#0d0887"
             ],
             [
              0.1111111111111111,
              "#46039f"
             ],
             [
              0.2222222222222222,
              "#7201a8"
             ],
             [
              0.3333333333333333,
              "#9c179e"
             ],
             [
              0.4444444444444444,
              "#bd3786"
             ],
             [
              0.5555555555555556,
              "#d8576b"
             ],
             [
              0.6666666666666666,
              "#ed7953"
             ],
             [
              0.7777777777777778,
              "#fb9f3a"
             ],
             [
              0.8888888888888888,
              "#fdca26"
             ],
             [
              1,
              "#f0f921"
             ]
            ],
            "type": "histogram2d"
           }
          ],
          "histogram2dcontour": [
           {
            "colorbar": {
             "outlinewidth": 0,
             "ticks": ""
            },
            "colorscale": [
             [
              0,
              "#0d0887"
             ],
             [
              0.1111111111111111,
              "#46039f"
             ],
             [
              0.2222222222222222,
              "#7201a8"
             ],
             [
              0.3333333333333333,
              "#9c179e"
             ],
             [
              0.4444444444444444,
              "#bd3786"
             ],
             [
              0.5555555555555556,
              "#d8576b"
             ],
             [
              0.6666666666666666,
              "#ed7953"
             ],
             [
              0.7777777777777778,
              "#fb9f3a"
             ],
             [
              0.8888888888888888,
              "#fdca26"
             ],
             [
              1,
              "#f0f921"
             ]
            ],
            "type": "histogram2dcontour"
           }
          ],
          "mesh3d": [
           {
            "colorbar": {
             "outlinewidth": 0,
             "ticks": ""
            },
            "type": "mesh3d"
           }
          ],
          "parcoords": [
           {
            "line": {
             "colorbar": {
              "outlinewidth": 0,
              "ticks": ""
             }
            },
            "type": "parcoords"
           }
          ],
          "pie": [
           {
            "automargin": true,
            "type": "pie"
           }
          ],
          "scatter": [
           {
            "fillpattern": {
             "fillmode": "overlay",
             "size": 10,
             "solidity": 0.2
            },
            "type": "scatter"
           }
          ],
          "scatter3d": [
           {
            "line": {
             "colorbar": {
              "outlinewidth": 0,
              "ticks": ""
             }
            },
            "marker": {
             "colorbar": {
              "outlinewidth": 0,
              "ticks": ""
             }
            },
            "type": "scatter3d"
           }
          ],
          "scattercarpet": [
           {
            "marker": {
             "colorbar": {
              "outlinewidth": 0,
              "ticks": ""
             }
            },
            "type": "scattercarpet"
           }
          ],
          "scattergeo": [
           {
            "marker": {
             "colorbar": {
              "outlinewidth": 0,
              "ticks": ""
             }
            },
            "type": "scattergeo"
           }
          ],
          "scattergl": [
           {
            "marker": {
             "colorbar": {
              "outlinewidth": 0,
              "ticks": ""
             }
            },
            "type": "scattergl"
           }
          ],
          "scattermap": [
           {
            "marker": {
             "colorbar": {
              "outlinewidth": 0,
              "ticks": ""
             }
            },
            "type": "scattermap"
           }
          ],
          "scattermapbox": [
           {
            "marker": {
             "colorbar": {
              "outlinewidth": 0,
              "ticks": ""
             }
            },
            "type": "scattermapbox"
           }
          ],
          "scatterpolar": [
           {
            "marker": {
             "colorbar": {
              "outlinewidth": 0,
              "ticks": ""
             }
            },
            "type": "scatterpolar"
           }
          ],
          "scatterpolargl": [
           {
            "marker": {
             "colorbar": {
              "outlinewidth": 0,
              "ticks": ""
             }
            },
            "type": "scatterpolargl"
           }
          ],
          "scatterternary": [
           {
            "marker": {
             "colorbar": {
              "outlinewidth": 0,
              "ticks": ""
             }
            },
            "type": "scatterternary"
           }
          ],
          "surface": [
           {
            "colorbar": {
             "outlinewidth": 0,
             "ticks": ""
            },
            "colorscale": [
             [
              0,
              "#0d0887"
             ],
             [
              0.1111111111111111,
              "#46039f"
             ],
             [
              0.2222222222222222,
              "#7201a8"
             ],
             [
              0.3333333333333333,
              "#9c179e"
             ],
             [
              0.4444444444444444,
              "#bd3786"
             ],
             [
              0.5555555555555556,
              "#d8576b"
             ],
             [
              0.6666666666666666,
              "#ed7953"
             ],
             [
              0.7777777777777778,
              "#fb9f3a"
             ],
             [
              0.8888888888888888,
              "#fdca26"
             ],
             [
              1,
              "#f0f921"
             ]
            ],
            "type": "surface"
           }
          ],
          "table": [
           {
            "cells": {
             "fill": {
              "color": "#EBF0F8"
             },
             "line": {
              "color": "white"
             }
            },
            "header": {
             "fill": {
              "color": "#C8D4E3"
             },
             "line": {
              "color": "white"
             }
            },
            "type": "table"
           }
          ]
         },
         "layout": {
          "annotationdefaults": {
           "arrowcolor": "#2a3f5f",
           "arrowhead": 0,
           "arrowwidth": 1
          },
          "autotypenumbers": "strict",
          "coloraxis": {
           "colorbar": {
            "outlinewidth": 0,
            "ticks": ""
           }
          },
          "colorscale": {
           "diverging": [
            [
             0,
             "#8e0152"
            ],
            [
             0.1,
             "#c51b7d"
            ],
            [
             0.2,
             "#de77ae"
            ],
            [
             0.3,
             "#f1b6da"
            ],
            [
             0.4,
             "#fde0ef"
            ],
            [
             0.5,
             "#f7f7f7"
            ],
            [
             0.6,
             "#e6f5d0"
            ],
            [
             0.7,
             "#b8e186"
            ],
            [
             0.8,
             "#7fbc41"
            ],
            [
             0.9,
             "#4d9221"
            ],
            [
             1,
             "#276419"
            ]
           ],
           "sequential": [
            [
             0,
             "#0d0887"
            ],
            [
             0.1111111111111111,
             "#46039f"
            ],
            [
             0.2222222222222222,
             "#7201a8"
            ],
            [
             0.3333333333333333,
             "#9c179e"
            ],
            [
             0.4444444444444444,
             "#bd3786"
            ],
            [
             0.5555555555555556,
             "#d8576b"
            ],
            [
             0.6666666666666666,
             "#ed7953"
            ],
            [
             0.7777777777777778,
             "#fb9f3a"
            ],
            [
             0.8888888888888888,
             "#fdca26"
            ],
            [
             1,
             "#f0f921"
            ]
           ],
           "sequentialminus": [
            [
             0,
             "#0d0887"
            ],
            [
             0.1111111111111111,
             "#46039f"
            ],
            [
             0.2222222222222222,
             "#7201a8"
            ],
            [
             0.3333333333333333,
             "#9c179e"
            ],
            [
             0.4444444444444444,
             "#bd3786"
            ],
            [
             0.5555555555555556,
             "#d8576b"
            ],
            [
             0.6666666666666666,
             "#ed7953"
            ],
            [
             0.7777777777777778,
             "#fb9f3a"
            ],
            [
             0.8888888888888888,
             "#fdca26"
            ],
            [
             1,
             "#f0f921"
            ]
           ]
          },
          "colorway": [
           "#636efa",
           "#EF553B",
           "#00cc96",
           "#ab63fa",
           "#FFA15A",
           "#19d3f3",
           "#FF6692",
           "#B6E880",
           "#FF97FF",
           "#FECB52"
          ],
          "font": {
           "color": "#2a3f5f"
          },
          "geo": {
           "bgcolor": "white",
           "lakecolor": "white",
           "landcolor": "#E5ECF6",
           "showlakes": true,
           "showland": true,
           "subunitcolor": "white"
          },
          "hoverlabel": {
           "align": "left"
          },
          "hovermode": "closest",
          "mapbox": {
           "style": "light"
          },
          "paper_bgcolor": "white",
          "plot_bgcolor": "#E5ECF6",
          "polar": {
           "angularaxis": {
            "gridcolor": "white",
            "linecolor": "white",
            "ticks": ""
           },
           "bgcolor": "#E5ECF6",
           "radialaxis": {
            "gridcolor": "white",
            "linecolor": "white",
            "ticks": ""
           }
          },
          "scene": {
           "xaxis": {
            "backgroundcolor": "#E5ECF6",
            "gridcolor": "white",
            "gridwidth": 2,
            "linecolor": "white",
            "showbackground": true,
            "ticks": "",
            "zerolinecolor": "white"
           },
           "yaxis": {
            "backgroundcolor": "#E5ECF6",
            "gridcolor": "white",
            "gridwidth": 2,
            "linecolor": "white",
            "showbackground": true,
            "ticks": "",
            "zerolinecolor": "white"
           },
           "zaxis": {
            "backgroundcolor": "#E5ECF6",
            "gridcolor": "white",
            "gridwidth": 2,
            "linecolor": "white",
            "showbackground": true,
            "ticks": "",
            "zerolinecolor": "white"
           }
          },
          "shapedefaults": {
           "line": {
            "color": "#2a3f5f"
           }
          },
          "ternary": {
           "aaxis": {
            "gridcolor": "white",
            "linecolor": "white",
            "ticks": ""
           },
           "baxis": {
            "gridcolor": "white",
            "linecolor": "white",
            "ticks": ""
           },
           "bgcolor": "#E5ECF6",
           "caxis": {
            "gridcolor": "white",
            "linecolor": "white",
            "ticks": ""
           }
          },
          "title": {
           "x": 0.05
          },
          "xaxis": {
           "automargin": true,
           "gridcolor": "white",
           "linecolor": "white",
           "ticks": "",
           "title": {
            "standoff": 15
           },
           "zerolinecolor": "white",
           "zerolinewidth": 2
          },
          "yaxis": {
           "automargin": true,
           "gridcolor": "white",
           "linecolor": "white",
           "ticks": "",
           "title": {
            "standoff": 15
           },
           "zerolinecolor": "white",
           "zerolinewidth": 2
          }
         }
        },
        "title": {
         "text": "Consommation annuelle d'alcool par habitant (litres d'alcool pur)"
        }
       }
      }
     },
     "metadata": {},
     "output_type": "display_data"
    }
   ],
   "source": [
    "# Ce script crée une carte du monde montrant la consommation d'alcool par pays avec un code couleur\n",
    "import pandas as pd\n",
    "import plotly.express as px\n",
    "import pycountry\n",
    "from plotly.subplots import make_subplots\n",
    "import plotly.graph_objects as go\n",
    "\n",
    "donnees = pd.read_csv('donnée.csv')\n",
    "donnees = donnees[donnees['Year'] == donnees['Year'].max()]\n",
    "donnees = donnees.rename(columns={\n",
    "    'Entity': 'Pays',\n",
    "    'Total alcohol consumption per capita (liters of pure alcohol, projected estimates, 15+ years of age)': 'Consommation Alcool'\n",
    "})\n",
    "\n",
    "donnees = donnees.dropna(subset=['Consommation Alcool'])\n",
    "\n",
    "def obtenir_code_iso(nom_pays):\n",
    "    try:\n",
    "        return pycountry.countries.lookup(nom_pays).alpha_3\n",
    "    except:\n",
    "        return None\n",
    "\n",
    "donnees['Code ISO'] = donnees['Pays'].apply(obtenir_code_iso)\n",
    "donnees = donnees.dropna(subset=['Code ISO'])\n",
    "\n",
    "def ajouter_commentaire(consommation):\n",
    "    if consommation > 15:\n",
    "        return \"🍻 Champion du monde !\"\n",
    "    elif consommation > 12:\n",
    "        return \"🥂 Très festif\"\n",
    "    elif consommation > 9:\n",
    "        return \"🍷 Amateur éclairé\"\n",
    "    elif consommation > 6:\n",
    "        return \"🍺 Modéré\"\n",
    "    elif consommation > 3:\n",
    "        return \"🍹 Occasionnel\"\n",
    "    else:\n",
    "        return \"🧃 Sobre ou abstinent\"\n",
    "\n",
    "donnees['Commentaire'] = donnees['Consommation Alcool'].apply(ajouter_commentaire)\n",
    "\n",
    "carte = px.choropleth(\n",
    "    donnees,\n",
    "    locations='Code ISO',\n",
    "    color='Consommation Alcool',\n",
    "    hover_name='Pays',\n",
    "    hover_data={\n",
    "        'Consommation Alcool': ':.2f',\n",
    "        'Commentaire': True,\n",
    "        'Code ISO': False\n",
    "    },\n",
    "    color_continuous_scale='Reds',\n",
    "    title='Consommation annuelle d\\'alcool par habitant (litres d\\'alcool pur)'\n",
    ")\n",
    "\n",
    "carte.update_layout(\n",
    "    geo=dict(showframe=False, showcoastlines=False),\n",
    "    coloraxis_colorbar=dict(title='Litres par an')\n",
    ")\n",
    "\n",
    "carte.show()"
   ]
  },
  {
   "cell_type": "code",
   "execution_count": 4,
   "id": "7e394fbc",
   "metadata": {},
   "outputs": [
    {
     "data": {
      "application/vnd.plotly.v1+json": {
       "config": {
        "plotlyServerURL": "https://plot.ly"
       },
       "data": [
        {
         "hovertemplate": "variable=Consommation Alcool<br>Litres d'alcool pur par an=%{x}<br>Continent=%{y}<extra></extra>",
         "legendgroup": "Consommation Alcool",
         "marker": {
          "color": "#ff6b6b",
          "pattern": {
           "shape": ""
          }
         },
         "name": "Consommation Alcool",
         "orientation": "h",
         "showlegend": true,
         "textposition": "auto",
         "type": "bar",
         "x": {
          "bdata": "9Shcj8L1BEC4HoXrUTgPQOhqK/aX3RJAnzQCQqV/E0BGtvP91HgaQPCnxks3SSRA",
          "dtype": "f8"
         },
         "xaxis": "x",
         "y": [
          "Afrique",
          "Océanie",
          "Asie",
          "Autre",
          "Amérique",
          "Europe"
         ],
         "yaxis": "y"
        }
       ],
       "layout": {
        "barmode": "relative",
        "legend": {
         "title": {
          "text": "variable"
         },
         "tracegroupgap": 0
        },
        "showlegend": false,
        "template": {
         "data": {
          "bar": [
           {
            "error_x": {
             "color": "#2a3f5f"
            },
            "error_y": {
             "color": "#2a3f5f"
            },
            "marker": {
             "line": {
              "color": "#E5ECF6",
              "width": 0.5
             },
             "pattern": {
              "fillmode": "overlay",
              "size": 10,
              "solidity": 0.2
             }
            },
            "type": "bar"
           }
          ],
          "barpolar": [
           {
            "marker": {
             "line": {
              "color": "#E5ECF6",
              "width": 0.5
             },
             "pattern": {
              "fillmode": "overlay",
              "size": 10,
              "solidity": 0.2
             }
            },
            "type": "barpolar"
           }
          ],
          "carpet": [
           {
            "aaxis": {
             "endlinecolor": "#2a3f5f",
             "gridcolor": "white",
             "linecolor": "white",
             "minorgridcolor": "white",
             "startlinecolor": "#2a3f5f"
            },
            "baxis": {
             "endlinecolor": "#2a3f5f",
             "gridcolor": "white",
             "linecolor": "white",
             "minorgridcolor": "white",
             "startlinecolor": "#2a3f5f"
            },
            "type": "carpet"
           }
          ],
          "choropleth": [
           {
            "colorbar": {
             "outlinewidth": 0,
             "ticks": ""
            },
            "type": "choropleth"
           }
          ],
          "contour": [
           {
            "colorbar": {
             "outlinewidth": 0,
             "ticks": ""
            },
            "colorscale": [
             [
              0,
              "#0d0887"
             ],
             [
              0.1111111111111111,
              "#46039f"
             ],
             [
              0.2222222222222222,
              "#7201a8"
             ],
             [
              0.3333333333333333,
              "#9c179e"
             ],
             [
              0.4444444444444444,
              "#bd3786"
             ],
             [
              0.5555555555555556,
              "#d8576b"
             ],
             [
              0.6666666666666666,
              "#ed7953"
             ],
             [
              0.7777777777777778,
              "#fb9f3a"
             ],
             [
              0.8888888888888888,
              "#fdca26"
             ],
             [
              1,
              "#f0f921"
             ]
            ],
            "type": "contour"
           }
          ],
          "contourcarpet": [
           {
            "colorbar": {
             "outlinewidth": 0,
             "ticks": ""
            },
            "type": "contourcarpet"
           }
          ],
          "heatmap": [
           {
            "colorbar": {
             "outlinewidth": 0,
             "ticks": ""
            },
            "colorscale": [
             [
              0,
              "#0d0887"
             ],
             [
              0.1111111111111111,
              "#46039f"
             ],
             [
              0.2222222222222222,
              "#7201a8"
             ],
             [
              0.3333333333333333,
              "#9c179e"
             ],
             [
              0.4444444444444444,
              "#bd3786"
             ],
             [
              0.5555555555555556,
              "#d8576b"
             ],
             [
              0.6666666666666666,
              "#ed7953"
             ],
             [
              0.7777777777777778,
              "#fb9f3a"
             ],
             [
              0.8888888888888888,
              "#fdca26"
             ],
             [
              1,
              "#f0f921"
             ]
            ],
            "type": "heatmap"
           }
          ],
          "histogram": [
           {
            "marker": {
             "pattern": {
              "fillmode": "overlay",
              "size": 10,
              "solidity": 0.2
             }
            },
            "type": "histogram"
           }
          ],
          "histogram2d": [
           {
            "colorbar": {
             "outlinewidth": 0,
             "ticks": ""
            },
            "colorscale": [
             [
              0,
              "#0d0887"
             ],
             [
              0.1111111111111111,
              "#46039f"
             ],
             [
              0.2222222222222222,
              "#7201a8"
             ],
             [
              0.3333333333333333,
              "#9c179e"
             ],
             [
              0.4444444444444444,
              "#bd3786"
             ],
             [
              0.5555555555555556,
              "#d8576b"
             ],
             [
              0.6666666666666666,
              "#ed7953"
             ],
             [
              0.7777777777777778,
              "#fb9f3a"
             ],
             [
              0.8888888888888888,
              "#fdca26"
             ],
             [
              1,
              "#f0f921"
             ]
            ],
            "type": "histogram2d"
           }
          ],
          "histogram2dcontour": [
           {
            "colorbar": {
             "outlinewidth": 0,
             "ticks": ""
            },
            "colorscale": [
             [
              0,
              "#0d0887"
             ],
             [
              0.1111111111111111,
              "#46039f"
             ],
             [
              0.2222222222222222,
              "#7201a8"
             ],
             [
              0.3333333333333333,
              "#9c179e"
             ],
             [
              0.4444444444444444,
              "#bd3786"
             ],
             [
              0.5555555555555556,
              "#d8576b"
             ],
             [
              0.6666666666666666,
              "#ed7953"
             ],
             [
              0.7777777777777778,
              "#fb9f3a"
             ],
             [
              0.8888888888888888,
              "#fdca26"
             ],
             [
              1,
              "#f0f921"
             ]
            ],
            "type": "histogram2dcontour"
           }
          ],
          "mesh3d": [
           {
            "colorbar": {
             "outlinewidth": 0,
             "ticks": ""
            },
            "type": "mesh3d"
           }
          ],
          "parcoords": [
           {
            "line": {
             "colorbar": {
              "outlinewidth": 0,
              "ticks": ""
             }
            },
            "type": "parcoords"
           }
          ],
          "pie": [
           {
            "automargin": true,
            "type": "pie"
           }
          ],
          "scatter": [
           {
            "fillpattern": {
             "fillmode": "overlay",
             "size": 10,
             "solidity": 0.2
            },
            "type": "scatter"
           }
          ],
          "scatter3d": [
           {
            "line": {
             "colorbar": {
              "outlinewidth": 0,
              "ticks": ""
             }
            },
            "marker": {
             "colorbar": {
              "outlinewidth": 0,
              "ticks": ""
             }
            },
            "type": "scatter3d"
           }
          ],
          "scattercarpet": [
           {
            "marker": {
             "colorbar": {
              "outlinewidth": 0,
              "ticks": ""
             }
            },
            "type": "scattercarpet"
           }
          ],
          "scattergeo": [
           {
            "marker": {
             "colorbar": {
              "outlinewidth": 0,
              "ticks": ""
             }
            },
            "type": "scattergeo"
           }
          ],
          "scattergl": [
           {
            "marker": {
             "colorbar": {
              "outlinewidth": 0,
              "ticks": ""
             }
            },
            "type": "scattergl"
           }
          ],
          "scattermap": [
           {
            "marker": {
             "colorbar": {
              "outlinewidth": 0,
              "ticks": ""
             }
            },
            "type": "scattermap"
           }
          ],
          "scattermapbox": [
           {
            "marker": {
             "colorbar": {
              "outlinewidth": 0,
              "ticks": ""
             }
            },
            "type": "scattermapbox"
           }
          ],
          "scatterpolar": [
           {
            "marker": {
             "colorbar": {
              "outlinewidth": 0,
              "ticks": ""
             }
            },
            "type": "scatterpolar"
           }
          ],
          "scatterpolargl": [
           {
            "marker": {
             "colorbar": {
              "outlinewidth": 0,
              "ticks": ""
             }
            },
            "type": "scatterpolargl"
           }
          ],
          "scatterternary": [
           {
            "marker": {
             "colorbar": {
              "outlinewidth": 0,
              "ticks": ""
             }
            },
            "type": "scatterternary"
           }
          ],
          "surface": [
           {
            "colorbar": {
             "outlinewidth": 0,
             "ticks": ""
            },
            "colorscale": [
             [
              0,
              "#0d0887"
             ],
             [
              0.1111111111111111,
              "#46039f"
             ],
             [
              0.2222222222222222,
              "#7201a8"
             ],
             [
              0.3333333333333333,
              "#9c179e"
             ],
             [
              0.4444444444444444,
              "#bd3786"
             ],
             [
              0.5555555555555556,
              "#d8576b"
             ],
             [
              0.6666666666666666,
              "#ed7953"
             ],
             [
              0.7777777777777778,
              "#fb9f3a"
             ],
             [
              0.8888888888888888,
              "#fdca26"
             ],
             [
              1,
              "#f0f921"
             ]
            ],
            "type": "surface"
           }
          ],
          "table": [
           {
            "cells": {
             "fill": {
              "color": "#EBF0F8"
             },
             "line": {
              "color": "white"
             }
            },
            "header": {
             "fill": {
              "color": "#C8D4E3"
             },
             "line": {
              "color": "white"
             }
            },
            "type": "table"
           }
          ]
         },
         "layout": {
          "annotationdefaults": {
           "arrowcolor": "#2a3f5f",
           "arrowhead": 0,
           "arrowwidth": 1
          },
          "autotypenumbers": "strict",
          "coloraxis": {
           "colorbar": {
            "outlinewidth": 0,
            "ticks": ""
           }
          },
          "colorscale": {
           "diverging": [
            [
             0,
             "#8e0152"
            ],
            [
             0.1,
             "#c51b7d"
            ],
            [
             0.2,
             "#de77ae"
            ],
            [
             0.3,
             "#f1b6da"
            ],
            [
             0.4,
             "#fde0ef"
            ],
            [
             0.5,
             "#f7f7f7"
            ],
            [
             0.6,
             "#e6f5d0"
            ],
            [
             0.7,
             "#b8e186"
            ],
            [
             0.8,
             "#7fbc41"
            ],
            [
             0.9,
             "#4d9221"
            ],
            [
             1,
             "#276419"
            ]
           ],
           "sequential": [
            [
             0,
             "#0d0887"
            ],
            [
             0.1111111111111111,
             "#46039f"
            ],
            [
             0.2222222222222222,
             "#7201a8"
            ],
            [
             0.3333333333333333,
             "#9c179e"
            ],
            [
             0.4444444444444444,
             "#bd3786"
            ],
            [
             0.5555555555555556,
             "#d8576b"
            ],
            [
             0.6666666666666666,
             "#ed7953"
            ],
            [
             0.7777777777777778,
             "#fb9f3a"
            ],
            [
             0.8888888888888888,
             "#fdca26"
            ],
            [
             1,
             "#f0f921"
            ]
           ],
           "sequentialminus": [
            [
             0,
             "#0d0887"
            ],
            [
             0.1111111111111111,
             "#46039f"
            ],
            [
             0.2222222222222222,
             "#7201a8"
            ],
            [
             0.3333333333333333,
             "#9c179e"
            ],
            [
             0.4444444444444444,
             "#bd3786"
            ],
            [
             0.5555555555555556,
             "#d8576b"
            ],
            [
             0.6666666666666666,
             "#ed7953"
            ],
            [
             0.7777777777777778,
             "#fb9f3a"
            ],
            [
             0.8888888888888888,
             "#fdca26"
            ],
            [
             1,
             "#f0f921"
            ]
           ]
          },
          "colorway": [
           "#636efa",
           "#EF553B",
           "#00cc96",
           "#ab63fa",
           "#FFA15A",
           "#19d3f3",
           "#FF6692",
           "#B6E880",
           "#FF97FF",
           "#FECB52"
          ],
          "font": {
           "color": "#2a3f5f"
          },
          "geo": {
           "bgcolor": "white",
           "lakecolor": "white",
           "landcolor": "#E5ECF6",
           "showlakes": true,
           "showland": true,
           "subunitcolor": "white"
          },
          "hoverlabel": {
           "align": "left"
          },
          "hovermode": "closest",
          "mapbox": {
           "style": "light"
          },
          "paper_bgcolor": "white",
          "plot_bgcolor": "#E5ECF6",
          "polar": {
           "angularaxis": {
            "gridcolor": "white",
            "linecolor": "white",
            "ticks": ""
           },
           "bgcolor": "#E5ECF6",
           "radialaxis": {
            "gridcolor": "white",
            "linecolor": "white",
            "ticks": ""
           }
          },
          "scene": {
           "xaxis": {
            "backgroundcolor": "#E5ECF6",
            "gridcolor": "white",
            "gridwidth": 2,
            "linecolor": "white",
            "showbackground": true,
            "ticks": "",
            "zerolinecolor": "white"
           },
           "yaxis": {
            "backgroundcolor": "#E5ECF6",
            "gridcolor": "white",
            "gridwidth": 2,
            "linecolor": "white",
            "showbackground": true,
            "ticks": "",
            "zerolinecolor": "white"
           },
           "zaxis": {
            "backgroundcolor": "#E5ECF6",
            "gridcolor": "white",
            "gridwidth": 2,
            "linecolor": "white",
            "showbackground": true,
            "ticks": "",
            "zerolinecolor": "white"
           }
          },
          "shapedefaults": {
           "line": {
            "color": "#2a3f5f"
           }
          },
          "ternary": {
           "aaxis": {
            "gridcolor": "white",
            "linecolor": "white",
            "ticks": ""
           },
           "baxis": {
            "gridcolor": "white",
            "linecolor": "white",
            "ticks": ""
           },
           "bgcolor": "#E5ECF6",
           "caxis": {
            "gridcolor": "white",
            "linecolor": "white",
            "ticks": ""
           }
          },
          "title": {
           "x": 0.05
          },
          "xaxis": {
           "automargin": true,
           "gridcolor": "white",
           "linecolor": "white",
           "ticks": "",
           "title": {
            "standoff": 15
           },
           "zerolinecolor": "white",
           "zerolinewidth": 2
          },
          "yaxis": {
           "automargin": true,
           "gridcolor": "white",
           "linecolor": "white",
           "ticks": "",
           "title": {
            "standoff": 15
           },
           "zerolinecolor": "white",
           "zerolinewidth": 2
          }
         }
        },
        "title": {
         "text": "Consommation moyenne d'alcool par continent"
        },
        "xaxis": {
         "anchor": "y",
         "domain": [
          0,
          1
         ],
         "title": {
          "text": "Litres d'alcool pur par an"
         }
        },
        "yaxis": {
         "anchor": "x",
         "domain": [
          0,
          1
         ],
         "title": {
          "text": "Continent"
         }
        }
       }
      }
     },
     "metadata": {},
     "output_type": "display_data"
    }
   ],
   "source": [
    "# Ce script analyse la consommation d'alcool par continent et crée un graphique à barres horizontales\n",
    "continent_mapping = {\n",
    "    'Europe': ['FRA', 'DEU', 'GBR', 'ITA', 'ESP', 'POL', 'ROU', 'NLD', 'BEL', 'GRC'],\n",
    "    'Asie': ['CHN', 'JPN', 'KOR', 'IND', 'IDN', 'VNM', 'THA', 'MYS', 'PHL', 'SGP'],\n",
    "    'Amérique': ['USA', 'CAN', 'MEX', 'BRA', 'ARG', 'COL', 'CHL', 'PER', 'VEN', 'URY'],\n",
    "    'Afrique': ['ZAF', 'EGY', 'MAR', 'TUN', 'DZA', 'NGA', 'KEN', 'ETH', 'GHA', 'CIV'],\n",
    "    'Océanie': ['AUS', 'NZL', 'PNG', 'FJI', 'NCL', 'VUT', 'SLB', 'WSM', 'TON']\n",
    "}\n",
    "\n",
    "def attribuer_continent(code_iso):\n",
    "    for continent, pays in continent_mapping.items():\n",
    "        if code_iso in pays:\n",
    "            return continent\n",
    "    return \"Autre\"\n",
    "\n",
    "donnees['Continent'] = donnees['Code ISO'].apply(attribuer_continent)\n",
    "moyennes_continent = donnees.groupby('Continent')['Consommation Alcool'].mean().sort_values(ascending=True)\n",
    "\n",
    "fig_continents = px.bar(\n",
    "    moyennes_continent,\n",
    "    orientation='h',\n",
    "    title='Consommation moyenne d\\'alcool par continent',\n",
    "    labels={'value': 'Litres d\\'alcool pur par an', 'Continent': 'Continent'},\n",
    "    color_discrete_sequence=['#ff6b6b']\n",
    ")\n",
    "\n",
    "fig_continents.update_layout(\n",
    "    showlegend=False,\n",
    "    xaxis_title=\"Litres d'alcool pur par an\",\n",
    "    yaxis_title=\"Continent\"\n",
    ")\n",
    "\n",
    "fig_continents.show()"
   ]
  },
  {
   "cell_type": "code",
   "execution_count": 5,
   "id": "0c1cce5f",
   "metadata": {},
   "outputs": [
    {
     "data": {
      "application/vnd.plotly.v1+json": {
       "config": {
        "plotlyServerURL": "https://plot.ly"
       },
       "data": [
        {
         "hovertemplate": "Pays=%{x}<br>Litres d'alcool pur par an=%{marker.color}<br>Commentaire=%{text}<extra></extra>",
         "legendgroup": "",
         "marker": {
          "color": {
           "bdata": "zczMzMzMMEBSuB6F69EsQD0K16NwvSlAMzMzMzMzKEB7FK5H4fonQK5H4XoUridAUrgehetRJ0DD9Shcj0InQD0K16NwPSdAhetRuB4FJ0A=",
           "dtype": "f8"
          },
          "coloraxis": "coloraxis",
          "pattern": {
           "shape": ""
          }
         },
         "name": "",
         "orientation": "v",
         "showlegend": false,
         "text": [
          "🍻 Champion du monde !",
          "🥂 Très festif",
          "🥂 Très festif",
          "🥂 Très festif",
          "🍷 Amateur éclairé",
          "🍷 Amateur éclairé",
          "🍷 Amateur éclairé",
          "🍷 Amateur éclairé",
          "🍷 Amateur éclairé",
          "🍷 Amateur éclairé"
         ],
         "textposition": "outside",
         "type": "bar",
         "x": [
          "Romania",
          "Georgia",
          "Latvia",
          "Lithuania",
          "Czechia",
          "Germany",
          "Poland",
          "Belarus",
          "Bulgaria",
          "Austria"
         ],
         "xaxis": "x",
         "y": {
          "bdata": "zczMzMzMMEBSuB6F69EsQD0K16NwvSlAMzMzMzMzKEB7FK5H4fonQK5H4XoUridAUrgehetRJ0DD9Shcj0InQD0K16NwPSdAhetRuB4FJ0A=",
          "dtype": "f8"
         },
         "yaxis": "y"
        }
       ],
       "layout": {
        "barmode": "relative",
        "coloraxis": {
         "colorbar": {
          "title": {
           "text": "Litres d'alcool pur par an"
          }
         },
         "colorscale": [
          [
           0,
           "rgb(255,245,240)"
          ],
          [
           0.125,
           "rgb(254,224,210)"
          ],
          [
           0.25,
           "rgb(252,187,161)"
          ],
          [
           0.375,
           "rgb(252,146,114)"
          ],
          [
           0.5,
           "rgb(251,106,74)"
          ],
          [
           0.625,
           "rgb(239,59,44)"
          ],
          [
           0.75,
           "rgb(203,24,29)"
          ],
          [
           0.875,
           "rgb(165,15,21)"
          ],
          [
           1,
           "rgb(103,0,13)"
          ]
         ]
        },
        "legend": {
         "tracegroupgap": 0
        },
        "showlegend": false,
        "template": {
         "data": {
          "bar": [
           {
            "error_x": {
             "color": "#2a3f5f"
            },
            "error_y": {
             "color": "#2a3f5f"
            },
            "marker": {
             "line": {
              "color": "#E5ECF6",
              "width": 0.5
             },
             "pattern": {
              "fillmode": "overlay",
              "size": 10,
              "solidity": 0.2
             }
            },
            "type": "bar"
           }
          ],
          "barpolar": [
           {
            "marker": {
             "line": {
              "color": "#E5ECF6",
              "width": 0.5
             },
             "pattern": {
              "fillmode": "overlay",
              "size": 10,
              "solidity": 0.2
             }
            },
            "type": "barpolar"
           }
          ],
          "carpet": [
           {
            "aaxis": {
             "endlinecolor": "#2a3f5f",
             "gridcolor": "white",
             "linecolor": "white",
             "minorgridcolor": "white",
             "startlinecolor": "#2a3f5f"
            },
            "baxis": {
             "endlinecolor": "#2a3f5f",
             "gridcolor": "white",
             "linecolor": "white",
             "minorgridcolor": "white",
             "startlinecolor": "#2a3f5f"
            },
            "type": "carpet"
           }
          ],
          "choropleth": [
           {
            "colorbar": {
             "outlinewidth": 0,
             "ticks": ""
            },
            "type": "choropleth"
           }
          ],
          "contour": [
           {
            "colorbar": {
             "outlinewidth": 0,
             "ticks": ""
            },
            "colorscale": [
             [
              0,
              "#0d0887"
             ],
             [
              0.1111111111111111,
              "#46039f"
             ],
             [
              0.2222222222222222,
              "#7201a8"
             ],
             [
              0.3333333333333333,
              "#9c179e"
             ],
             [
              0.4444444444444444,
              "#bd3786"
             ],
             [
              0.5555555555555556,
              "#d8576b"
             ],
             [
              0.6666666666666666,
              "#ed7953"
             ],
             [
              0.7777777777777778,
              "#fb9f3a"
             ],
             [
              0.8888888888888888,
              "#fdca26"
             ],
             [
              1,
              "#f0f921"
             ]
            ],
            "type": "contour"
           }
          ],
          "contourcarpet": [
           {
            "colorbar": {
             "outlinewidth": 0,
             "ticks": ""
            },
            "type": "contourcarpet"
           }
          ],
          "heatmap": [
           {
            "colorbar": {
             "outlinewidth": 0,
             "ticks": ""
            },
            "colorscale": [
             [
              0,
              "#0d0887"
             ],
             [
              0.1111111111111111,
              "#46039f"
             ],
             [
              0.2222222222222222,
              "#7201a8"
             ],
             [
              0.3333333333333333,
              "#9c179e"
             ],
             [
              0.4444444444444444,
              "#bd3786"
             ],
             [
              0.5555555555555556,
              "#d8576b"
             ],
             [
              0.6666666666666666,
              "#ed7953"
             ],
             [
              0.7777777777777778,
              "#fb9f3a"
             ],
             [
              0.8888888888888888,
              "#fdca26"
             ],
             [
              1,
              "#f0f921"
             ]
            ],
            "type": "heatmap"
           }
          ],
          "histogram": [
           {
            "marker": {
             "pattern": {
              "fillmode": "overlay",
              "size": 10,
              "solidity": 0.2
             }
            },
            "type": "histogram"
           }
          ],
          "histogram2d": [
           {
            "colorbar": {
             "outlinewidth": 0,
             "ticks": ""
            },
            "colorscale": [
             [
              0,
              "#0d0887"
             ],
             [
              0.1111111111111111,
              "#46039f"
             ],
             [
              0.2222222222222222,
              "#7201a8"
             ],
             [
              0.3333333333333333,
              "#9c179e"
             ],
             [
              0.4444444444444444,
              "#bd3786"
             ],
             [
              0.5555555555555556,
              "#d8576b"
             ],
             [
              0.6666666666666666,
              "#ed7953"
             ],
             [
              0.7777777777777778,
              "#fb9f3a"
             ],
             [
              0.8888888888888888,
              "#fdca26"
             ],
             [
              1,
              "#f0f921"
             ]
            ],
            "type": "histogram2d"
           }
          ],
          "histogram2dcontour": [
           {
            "colorbar": {
             "outlinewidth": 0,
             "ticks": ""
            },
            "colorscale": [
             [
              0,
              "#0d0887"
             ],
             [
              0.1111111111111111,
              "#46039f"
             ],
             [
              0.2222222222222222,
              "#7201a8"
             ],
             [
              0.3333333333333333,
              "#9c179e"
             ],
             [
              0.4444444444444444,
              "#bd3786"
             ],
             [
              0.5555555555555556,
              "#d8576b"
             ],
             [
              0.6666666666666666,
              "#ed7953"
             ],
             [
              0.7777777777777778,
              "#fb9f3a"
             ],
             [
              0.8888888888888888,
              "#fdca26"
             ],
             [
              1,
              "#f0f921"
             ]
            ],
            "type": "histogram2dcontour"
           }
          ],
          "mesh3d": [
           {
            "colorbar": {
             "outlinewidth": 0,
             "ticks": ""
            },
            "type": "mesh3d"
           }
          ],
          "parcoords": [
           {
            "line": {
             "colorbar": {
              "outlinewidth": 0,
              "ticks": ""
             }
            },
            "type": "parcoords"
           }
          ],
          "pie": [
           {
            "automargin": true,
            "type": "pie"
           }
          ],
          "scatter": [
           {
            "fillpattern": {
             "fillmode": "overlay",
             "size": 10,
             "solidity": 0.2
            },
            "type": "scatter"
           }
          ],
          "scatter3d": [
           {
            "line": {
             "colorbar": {
              "outlinewidth": 0,
              "ticks": ""
             }
            },
            "marker": {
             "colorbar": {
              "outlinewidth": 0,
              "ticks": ""
             }
            },
            "type": "scatter3d"
           }
          ],
          "scattercarpet": [
           {
            "marker": {
             "colorbar": {
              "outlinewidth": 0,
              "ticks": ""
             }
            },
            "type": "scattercarpet"
           }
          ],
          "scattergeo": [
           {
            "marker": {
             "colorbar": {
              "outlinewidth": 0,
              "ticks": ""
             }
            },
            "type": "scattergeo"
           }
          ],
          "scattergl": [
           {
            "marker": {
             "colorbar": {
              "outlinewidth": 0,
              "ticks": ""
             }
            },
            "type": "scattergl"
           }
          ],
          "scattermap": [
           {
            "marker": {
             "colorbar": {
              "outlinewidth": 0,
              "ticks": ""
             }
            },
            "type": "scattermap"
           }
          ],
          "scattermapbox": [
           {
            "marker": {
             "colorbar": {
              "outlinewidth": 0,
              "ticks": ""
             }
            },
            "type": "scattermapbox"
           }
          ],
          "scatterpolar": [
           {
            "marker": {
             "colorbar": {
              "outlinewidth": 0,
              "ticks": ""
             }
            },
            "type": "scatterpolar"
           }
          ],
          "scatterpolargl": [
           {
            "marker": {
             "colorbar": {
              "outlinewidth": 0,
              "ticks": ""
             }
            },
            "type": "scatterpolargl"
           }
          ],
          "scatterternary": [
           {
            "marker": {
             "colorbar": {
              "outlinewidth": 0,
              "ticks": ""
             }
            },
            "type": "scatterternary"
           }
          ],
          "surface": [
           {
            "colorbar": {
             "outlinewidth": 0,
             "ticks": ""
            },
            "colorscale": [
             [
              0,
              "#0d0887"
             ],
             [
              0.1111111111111111,
              "#46039f"
             ],
             [
              0.2222222222222222,
              "#7201a8"
             ],
             [
              0.3333333333333333,
              "#9c179e"
             ],
             [
              0.4444444444444444,
              "#bd3786"
             ],
             [
              0.5555555555555556,
              "#d8576b"
             ],
             [
              0.6666666666666666,
              "#ed7953"
             ],
             [
              0.7777777777777778,
              "#fb9f3a"
             ],
             [
              0.8888888888888888,
              "#fdca26"
             ],
             [
              1,
              "#f0f921"
             ]
            ],
            "type": "surface"
           }
          ],
          "table": [
           {
            "cells": {
             "fill": {
              "color": "#EBF0F8"
             },
             "line": {
              "color": "white"
             }
            },
            "header": {
             "fill": {
              "color": "#C8D4E3"
             },
             "line": {
              "color": "white"
             }
            },
            "type": "table"
           }
          ]
         },
         "layout": {
          "annotationdefaults": {
           "arrowcolor": "#2a3f5f",
           "arrowhead": 0,
           "arrowwidth": 1
          },
          "autotypenumbers": "strict",
          "coloraxis": {
           "colorbar": {
            "outlinewidth": 0,
            "ticks": ""
           }
          },
          "colorscale": {
           "diverging": [
            [
             0,
             "#8e0152"
            ],
            [
             0.1,
             "#c51b7d"
            ],
            [
             0.2,
             "#de77ae"
            ],
            [
             0.3,
             "#f1b6da"
            ],
            [
             0.4,
             "#fde0ef"
            ],
            [
             0.5,
             "#f7f7f7"
            ],
            [
             0.6,
             "#e6f5d0"
            ],
            [
             0.7,
             "#b8e186"
            ],
            [
             0.8,
             "#7fbc41"
            ],
            [
             0.9,
             "#4d9221"
            ],
            [
             1,
             "#276419"
            ]
           ],
           "sequential": [
            [
             0,
             "#0d0887"
            ],
            [
             0.1111111111111111,
             "#46039f"
            ],
            [
             0.2222222222222222,
             "#7201a8"
            ],
            [
             0.3333333333333333,
             "#9c179e"
            ],
            [
             0.4444444444444444,
             "#bd3786"
            ],
            [
             0.5555555555555556,
             "#d8576b"
            ],
            [
             0.6666666666666666,
             "#ed7953"
            ],
            [
             0.7777777777777778,
             "#fb9f3a"
            ],
            [
             0.8888888888888888,
             "#fdca26"
            ],
            [
             1,
             "#f0f921"
            ]
           ],
           "sequentialminus": [
            [
             0,
             "#0d0887"
            ],
            [
             0.1111111111111111,
             "#46039f"
            ],
            [
             0.2222222222222222,
             "#7201a8"
            ],
            [
             0.3333333333333333,
             "#9c179e"
            ],
            [
             0.4444444444444444,
             "#bd3786"
            ],
            [
             0.5555555555555556,
             "#d8576b"
            ],
            [
             0.6666666666666666,
             "#ed7953"
            ],
            [
             0.7777777777777778,
             "#fb9f3a"
            ],
            [
             0.8888888888888888,
             "#fdca26"
            ],
            [
             1,
             "#f0f921"
            ]
           ]
          },
          "colorway": [
           "#636efa",
           "#EF553B",
           "#00cc96",
           "#ab63fa",
           "#FFA15A",
           "#19d3f3",
           "#FF6692",
           "#B6E880",
           "#FF97FF",
           "#FECB52"
          ],
          "font": {
           "color": "#2a3f5f"
          },
          "geo": {
           "bgcolor": "white",
           "lakecolor": "white",
           "landcolor": "#E5ECF6",
           "showlakes": true,
           "showland": true,
           "subunitcolor": "white"
          },
          "hoverlabel": {
           "align": "left"
          },
          "hovermode": "closest",
          "mapbox": {
           "style": "light"
          },
          "paper_bgcolor": "white",
          "plot_bgcolor": "#E5ECF6",
          "polar": {
           "angularaxis": {
            "gridcolor": "white",
            "linecolor": "white",
            "ticks": ""
           },
           "bgcolor": "#E5ECF6",
           "radialaxis": {
            "gridcolor": "white",
            "linecolor": "white",
            "ticks": ""
           }
          },
          "scene": {
           "xaxis": {
            "backgroundcolor": "#E5ECF6",
            "gridcolor": "white",
            "gridwidth": 2,
            "linecolor": "white",
            "showbackground": true,
            "ticks": "",
            "zerolinecolor": "white"
           },
           "yaxis": {
            "backgroundcolor": "#E5ECF6",
            "gridcolor": "white",
            "gridwidth": 2,
            "linecolor": "white",
            "showbackground": true,
            "ticks": "",
            "zerolinecolor": "white"
           },
           "zaxis": {
            "backgroundcolor": "#E5ECF6",
            "gridcolor": "white",
            "gridwidth": 2,
            "linecolor": "white",
            "showbackground": true,
            "ticks": "",
            "zerolinecolor": "white"
           }
          },
          "shapedefaults": {
           "line": {
            "color": "#2a3f5f"
           }
          },
          "ternary": {
           "aaxis": {
            "gridcolor": "white",
            "linecolor": "white",
            "ticks": ""
           },
           "baxis": {
            "gridcolor": "white",
            "linecolor": "white",
            "ticks": ""
           },
           "bgcolor": "#E5ECF6",
           "caxis": {
            "gridcolor": "white",
            "linecolor": "white",
            "ticks": ""
           }
          },
          "title": {
           "x": 0.05
          },
          "xaxis": {
           "automargin": true,
           "gridcolor": "white",
           "linecolor": "white",
           "ticks": "",
           "title": {
            "standoff": 15
           },
           "zerolinecolor": "white",
           "zerolinewidth": 2
          },
          "yaxis": {
           "automargin": true,
           "gridcolor": "white",
           "linecolor": "white",
           "ticks": "",
           "title": {
            "standoff": 15
           },
           "zerolinecolor": "white",
           "zerolinewidth": 2
          }
         }
        },
        "title": {
         "text": "Top 10 des pays avec la plus forte consommation d'alcool"
        },
        "xaxis": {
         "anchor": "y",
         "domain": [
          0,
          1
         ],
         "tickangle": 45,
         "title": {
          "text": "Pays"
         }
        },
        "yaxis": {
         "anchor": "x",
         "domain": [
          0,
          1
         ],
         "title": {
          "text": "Litres d'alcool pur par an"
         }
        }
       }
      }
     },
     "metadata": {},
     "output_type": "display_data"
    }
   ],
   "source": [
    "# Ce script identifie et visualise le top 10 des pays consommant le plus d'alcool\n",
    "top_10_pays = donnees.nlargest(10, 'Consommation Alcool')\n",
    "\n",
    "fig_top10 = px.bar(\n",
    "    top_10_pays,\n",
    "    x='Pays',\n",
    "    y='Consommation Alcool',\n",
    "    title='Top 10 des pays avec la plus forte consommation d\\'alcool',\n",
    "    labels={\n",
    "        'Consommation Alcool': 'Litres d\\'alcool pur par an',\n",
    "        'Pays': 'Pays'\n",
    "    },\n",
    "    text='Commentaire',\n",
    "    color='Consommation Alcool',\n",
    "    color_continuous_scale='Reds'\n",
    ")\n",
    "\n",
    "fig_top10.update_traces(textposition='outside')\n",
    "fig_top10.update_layout(\n",
    "    xaxis_tickangle=45,\n",
    "    showlegend=False\n",
    ")\n",
    "\n",
    "fig_top10.show()"
   ]
  },
  {
   "cell_type": "code",
   "execution_count": 8,
   "id": "7d1a4068",
   "metadata": {},
   "outputs": [
    {
     "data": {
      "application/vnd.plotly.v1+json": {
       "config": {
        "plotlyServerURL": "https://plot.ly"
       },
       "data": [
        {
         "hovertemplate": "Pays=Afghanistan<br>Année=%{x}<br>Litres d'alcool pur par an=%{y}<extra></extra>",
         "legendgroup": "Afghanistan",
         "line": {
          "color": "#636efa",
          "dash": "solid"
         },
         "marker": {
          "symbol": "circle"
         },
         "mode": "lines",
         "name": "Afghanistan",
         "orientation": "v",
         "showlegend": true,
         "type": "scatter",
         "x": {
          "bdata": "0AfRB9IH0wfUB9UH1gfXB9gH2QfaB9sH3AfdB94H3wfgB+EH4gfjB+QH",
          "dtype": "i2"
         },
         "xaxis": "x",
         "y": {
          "bdata": "+n5qvHSTaD/6fmq8dJNoP3npJjEIrHw//Knx0k1ikD8bL90kBoGVP9nO91PjpZs/mpmZmZmZmT+4HoXrUbieP5qZmZmZmZk/WmQ730+Nlz/6fmq8dJOIP/yp8dJNYoA//Knx0k1icD/8qfHSTWJwP/yp8dJNYnA/O99PjZdugj85tMh2vp+KP5zEILByaJE//Knx0k1ikD/8qfHSTWKQP7pJDAIrh4Y/",
          "dtype": "f8"
         },
         "yaxis": "y"
        },
        {
         "hovertemplate": "Pays=Albania<br>Année=%{x}<br>Litres d'alcool pur par an=%{y}<extra></extra>",
         "legendgroup": "Albania",
         "line": {
          "color": "#EF553B",
          "dash": "solid"
         },
         "marker": {
          "symbol": "circle"
         },
         "mode": "lines",
         "name": "Albania",
         "orientation": "v",
         "showlegend": true,
         "type": "scatter",
         "x": {
          "bdata": "0AfRB9IH0wfUB9UH1gfXB9gH2QfaB9sH3AfdB94H3wfgB+EH4gfjB+QH",
          "dtype": "i2"
         },
         "xaxis": "x",
         "y": {
          "bdata": "uB6F61G4EUC4HoXrUbgRQEjhehSuRxJAUrgehetREkDsUbgehesTQDMzMzMzMxVAj8L1KFyPFkA9CtejcD0XQAAAAAAAABhAw/UoXI/CF0CamZmZmZkXQFK4HoXrURZAexSuR+F6FUApXI/C9SgUQAAAAAAAABRAKVyPwvUoFECF61G4HoUUQIXrUbgehRRAcT0K16NwFEBxPQrXo3AUQOF6FK5H4RFA",
          "dtype": "f8"
         },
         "yaxis": "y"
        },
        {
         "hovertemplate": "Pays=Algeria<br>Année=%{x}<br>Litres d'alcool pur par an=%{y}<extra></extra>",
         "legendgroup": "Algeria",
         "line": {
          "color": "#00cc96",
          "dash": "solid"
         },
         "marker": {
          "symbol": "circle"
         },
         "mode": "lines",
         "name": "Algeria",
         "orientation": "v",
         "showlegend": true,
         "type": "scatter",
         "x": {
          "bdata": "0AfRB9IH0wfUB9UH1gfXB9gH2QfaB9sH3AfdB94H3wfgB+EH4gfjB+QH",
          "dtype": "i2"
         },
         "xaxis": "x",
         "y": {
          "bdata": "MzMzMzMz0z8zMzMzMzPTPx+F61G4HtU/PQrXo3A92j9xPQrXo3DdPxSuR+F6FN4/KVyPwvUo3D/2KFyPwvXYPz0K16NwPdo/hetRuB6F2z8pXI/C9SjcPylcj8L1KNw/uB6F61G43j+kcD0K16PgP+xRuB6F6+E/j8L1KFyP4j8zMzMzMzPjP4XrUbgeheM/hetRuB6F4z+F61G4HoXjP0jhehSuR+E/",
          "dtype": "f8"
         },
         "yaxis": "y"
        },
        {
         "hovertemplate": "Pays=Andorra<br>Année=%{x}<br>Litres d'alcool pur par an=%{y}<extra></extra>",
         "legendgroup": "Andorra",
         "line": {
          "color": "#ab63fa",
          "dash": "solid"
         },
         "marker": {
          "symbol": "circle"
         },
         "mode": "lines",
         "name": "Andorra",
         "orientation": "v",
         "showlegend": true,
         "type": "scatter",
         "x": {
          "bdata": "0AfRB9IH0wfUB9UH1gfXB9gH2QfaB9sH3AfdB94H3wfgB+EH4gfjB+QH",
          "dtype": "i2"
         },
         "xaxis": "x",
         "y": {
          "bdata": "mpmZmZkZKUCamZmZmRkpQEjhehSuxyhAPQrXo3A9KEDhehSuR2EoQIXrUbgehShA4XoUrkdhKEA9CtejcL0nQArXo3A9CidApHA9CtcjJkCPwvUoXI8lQHE9Ctej8CRApHA9CtejJEBI4XoUrkckQMP1KFyPwiRAhetRuB6FJUDhehSuR2EmQDMzMzMzMyZAmpmZmZkZJkCamZmZmRkmQFyPwvUoXCNA",
          "dtype": "f8"
         },
         "yaxis": "y"
        },
        {
         "hovertemplate": "Pays=Angola<br>Année=%{x}<br>Litres d'alcool pur par an=%{y}<extra></extra>",
         "legendgroup": "Angola",
         "line": {
          "color": "#FFA15A",
          "dash": "solid"
         },
         "marker": {
          "symbol": "circle"
         },
         "mode": "lines",
         "name": "Angola",
         "orientation": "v",
         "showlegend": true,
         "type": "scatter",
         "x": {
          "bdata": "0AfRB9IH0wfUB9UH1gfXB9gH2QfaB9sH3AfdB94H3wfgB+EH4gfjB+QH",
          "dtype": "i2"
         },
         "xaxis": "x",
         "y": {
          "bdata": "w/UoXI/CFEDD9Shcj8IUQLgehetRuBVAUrgehetRFkBSuB6F61EYQMP1KFyPwhpAFK5H4XoUHUBxPQrXo3AeQB+F61G4Hh9AuB6F61E4IECkcD0K16MgQK5H4XoULiFAuB6F61E4IUB7FK5H4XohQKRwPQrXoyBACtejcD0KH0AK16NwPQocQK5H4XoUrhpArkfhehSuGECuR+F6FK4YQIXrUbgehRBA",
          "dtype": "f8"
         },
         "yaxis": "y"
        }
       ],
       "layout": {
        "legend": {
         "title": {
          "text": "Pays"
         },
         "tracegroupgap": 0
        },
        "template": {
         "data": {
          "bar": [
           {
            "error_x": {
             "color": "#2a3f5f"
            },
            "error_y": {
             "color": "#2a3f5f"
            },
            "marker": {
             "line": {
              "color": "#E5ECF6",
              "width": 0.5
             },
             "pattern": {
              "fillmode": "overlay",
              "size": 10,
              "solidity": 0.2
             }
            },
            "type": "bar"
           }
          ],
          "barpolar": [
           {
            "marker": {
             "line": {
              "color": "#E5ECF6",
              "width": 0.5
             },
             "pattern": {
              "fillmode": "overlay",
              "size": 10,
              "solidity": 0.2
             }
            },
            "type": "barpolar"
           }
          ],
          "carpet": [
           {
            "aaxis": {
             "endlinecolor": "#2a3f5f",
             "gridcolor": "white",
             "linecolor": "white",
             "minorgridcolor": "white",
             "startlinecolor": "#2a3f5f"
            },
            "baxis": {
             "endlinecolor": "#2a3f5f",
             "gridcolor": "white",
             "linecolor": "white",
             "minorgridcolor": "white",
             "startlinecolor": "#2a3f5f"
            },
            "type": "carpet"
           }
          ],
          "choropleth": [
           {
            "colorbar": {
             "outlinewidth": 0,
             "ticks": ""
            },
            "type": "choropleth"
           }
          ],
          "contour": [
           {
            "colorbar": {
             "outlinewidth": 0,
             "ticks": ""
            },
            "colorscale": [
             [
              0,
              "#0d0887"
             ],
             [
              0.1111111111111111,
              "#46039f"
             ],
             [
              0.2222222222222222,
              "#7201a8"
             ],
             [
              0.3333333333333333,
              "#9c179e"
             ],
             [
              0.4444444444444444,
              "#bd3786"
             ],
             [
              0.5555555555555556,
              "#d8576b"
             ],
             [
              0.6666666666666666,
              "#ed7953"
             ],
             [
              0.7777777777777778,
              "#fb9f3a"
             ],
             [
              0.8888888888888888,
              "#fdca26"
             ],
             [
              1,
              "#f0f921"
             ]
            ],
            "type": "contour"
           }
          ],
          "contourcarpet": [
           {
            "colorbar": {
             "outlinewidth": 0,
             "ticks": ""
            },
            "type": "contourcarpet"
           }
          ],
          "heatmap": [
           {
            "colorbar": {
             "outlinewidth": 0,
             "ticks": ""
            },
            "colorscale": [
             [
              0,
              "#0d0887"
             ],
             [
              0.1111111111111111,
              "#46039f"
             ],
             [
              0.2222222222222222,
              "#7201a8"
             ],
             [
              0.3333333333333333,
              "#9c179e"
             ],
             [
              0.4444444444444444,
              "#bd3786"
             ],
             [
              0.5555555555555556,
              "#d8576b"
             ],
             [
              0.6666666666666666,
              "#ed7953"
             ],
             [
              0.7777777777777778,
              "#fb9f3a"
             ],
             [
              0.8888888888888888,
              "#fdca26"
             ],
             [
              1,
              "#f0f921"
             ]
            ],
            "type": "heatmap"
           }
          ],
          "histogram": [
           {
            "marker": {
             "pattern": {
              "fillmode": "overlay",
              "size": 10,
              "solidity": 0.2
             }
            },
            "type": "histogram"
           }
          ],
          "histogram2d": [
           {
            "colorbar": {
             "outlinewidth": 0,
             "ticks": ""
            },
            "colorscale": [
             [
              0,
              "#0d0887"
             ],
             [
              0.1111111111111111,
              "#46039f"
             ],
             [
              0.2222222222222222,
              "#7201a8"
             ],
             [
              0.3333333333333333,
              "#9c179e"
             ],
             [
              0.4444444444444444,
              "#bd3786"
             ],
             [
              0.5555555555555556,
              "#d8576b"
             ],
             [
              0.6666666666666666,
              "#ed7953"
             ],
             [
              0.7777777777777778,
              "#fb9f3a"
             ],
             [
              0.8888888888888888,
              "#fdca26"
             ],
             [
              1,
              "#f0f921"
             ]
            ],
            "type": "histogram2d"
           }
          ],
          "histogram2dcontour": [
           {
            "colorbar": {
             "outlinewidth": 0,
             "ticks": ""
            },
            "colorscale": [
             [
              0,
              "#0d0887"
             ],
             [
              0.1111111111111111,
              "#46039f"
             ],
             [
              0.2222222222222222,
              "#7201a8"
             ],
             [
              0.3333333333333333,
              "#9c179e"
             ],
             [
              0.4444444444444444,
              "#bd3786"
             ],
             [
              0.5555555555555556,
              "#d8576b"
             ],
             [
              0.6666666666666666,
              "#ed7953"
             ],
             [
              0.7777777777777778,
              "#fb9f3a"
             ],
             [
              0.8888888888888888,
              "#fdca26"
             ],
             [
              1,
              "#f0f921"
             ]
            ],
            "type": "histogram2dcontour"
           }
          ],
          "mesh3d": [
           {
            "colorbar": {
             "outlinewidth": 0,
             "ticks": ""
            },
            "type": "mesh3d"
           }
          ],
          "parcoords": [
           {
            "line": {
             "colorbar": {
              "outlinewidth": 0,
              "ticks": ""
             }
            },
            "type": "parcoords"
           }
          ],
          "pie": [
           {
            "automargin": true,
            "type": "pie"
           }
          ],
          "scatter": [
           {
            "fillpattern": {
             "fillmode": "overlay",
             "size": 10,
             "solidity": 0.2
            },
            "type": "scatter"
           }
          ],
          "scatter3d": [
           {
            "line": {
             "colorbar": {
              "outlinewidth": 0,
              "ticks": ""
             }
            },
            "marker": {
             "colorbar": {
              "outlinewidth": 0,
              "ticks": ""
             }
            },
            "type": "scatter3d"
           }
          ],
          "scattercarpet": [
           {
            "marker": {
             "colorbar": {
              "outlinewidth": 0,
              "ticks": ""
             }
            },
            "type": "scattercarpet"
           }
          ],
          "scattergeo": [
           {
            "marker": {
             "colorbar": {
              "outlinewidth": 0,
              "ticks": ""
             }
            },
            "type": "scattergeo"
           }
          ],
          "scattergl": [
           {
            "marker": {
             "colorbar": {
              "outlinewidth": 0,
              "ticks": ""
             }
            },
            "type": "scattergl"
           }
          ],
          "scattermap": [
           {
            "marker": {
             "colorbar": {
              "outlinewidth": 0,
              "ticks": ""
             }
            },
            "type": "scattermap"
           }
          ],
          "scattermapbox": [
           {
            "marker": {
             "colorbar": {
              "outlinewidth": 0,
              "ticks": ""
             }
            },
            "type": "scattermapbox"
           }
          ],
          "scatterpolar": [
           {
            "marker": {
             "colorbar": {
              "outlinewidth": 0,
              "ticks": ""
             }
            },
            "type": "scatterpolar"
           }
          ],
          "scatterpolargl": [
           {
            "marker": {
             "colorbar": {
              "outlinewidth": 0,
              "ticks": ""
             }
            },
            "type": "scatterpolargl"
           }
          ],
          "scatterternary": [
           {
            "marker": {
             "colorbar": {
              "outlinewidth": 0,
              "ticks": ""
             }
            },
            "type": "scatterternary"
           }
          ],
          "surface": [
           {
            "colorbar": {
             "outlinewidth": 0,
             "ticks": ""
            },
            "colorscale": [
             [
              0,
              "#0d0887"
             ],
             [
              0.1111111111111111,
              "#46039f"
             ],
             [
              0.2222222222222222,
              "#7201a8"
             ],
             [
              0.3333333333333333,
              "#9c179e"
             ],
             [
              0.4444444444444444,
              "#bd3786"
             ],
             [
              0.5555555555555556,
              "#d8576b"
             ],
             [
              0.6666666666666666,
              "#ed7953"
             ],
             [
              0.7777777777777778,
              "#fb9f3a"
             ],
             [
              0.8888888888888888,
              "#fdca26"
             ],
             [
              1,
              "#f0f921"
             ]
            ],
            "type": "surface"
           }
          ],
          "table": [
           {
            "cells": {
             "fill": {
              "color": "#EBF0F8"
             },
             "line": {
              "color": "white"
             }
            },
            "header": {
             "fill": {
              "color": "#C8D4E3"
             },
             "line": {
              "color": "white"
             }
            },
            "type": "table"
           }
          ]
         },
         "layout": {
          "annotationdefaults": {
           "arrowcolor": "#2a3f5f",
           "arrowhead": 0,
           "arrowwidth": 1
          },
          "autotypenumbers": "strict",
          "coloraxis": {
           "colorbar": {
            "outlinewidth": 0,
            "ticks": ""
           }
          },
          "colorscale": {
           "diverging": [
            [
             0,
             "#8e0152"
            ],
            [
             0.1,
             "#c51b7d"
            ],
            [
             0.2,
             "#de77ae"
            ],
            [
             0.3,
             "#f1b6da"
            ],
            [
             0.4,
             "#fde0ef"
            ],
            [
             0.5,
             "#f7f7f7"
            ],
            [
             0.6,
             "#e6f5d0"
            ],
            [
             0.7,
             "#b8e186"
            ],
            [
             0.8,
             "#7fbc41"
            ],
            [
             0.9,
             "#4d9221"
            ],
            [
             1,
             "#276419"
            ]
           ],
           "sequential": [
            [
             0,
             "#0d0887"
            ],
            [
             0.1111111111111111,
             "#46039f"
            ],
            [
             0.2222222222222222,
             "#7201a8"
            ],
            [
             0.3333333333333333,
             "#9c179e"
            ],
            [
             0.4444444444444444,
             "#bd3786"
            ],
            [
             0.5555555555555556,
             "#d8576b"
            ],
            [
             0.6666666666666666,
             "#ed7953"
            ],
            [
             0.7777777777777778,
             "#fb9f3a"
            ],
            [
             0.8888888888888888,
             "#fdca26"
            ],
            [
             1,
             "#f0f921"
            ]
           ],
           "sequentialminus": [
            [
             0,
             "#0d0887"
            ],
            [
             0.1111111111111111,
             "#46039f"
            ],
            [
             0.2222222222222222,
             "#7201a8"
            ],
            [
             0.3333333333333333,
             "#9c179e"
            ],
            [
             0.4444444444444444,
             "#bd3786"
            ],
            [
             0.5555555555555556,
             "#d8576b"
            ],
            [
             0.6666666666666666,
             "#ed7953"
            ],
            [
             0.7777777777777778,
             "#fb9f3a"
            ],
            [
             0.8888888888888888,
             "#fdca26"
            ],
            [
             1,
             "#f0f921"
            ]
           ]
          },
          "colorway": [
           "#636efa",
           "#EF553B",
           "#00cc96",
           "#ab63fa",
           "#FFA15A",
           "#19d3f3",
           "#FF6692",
           "#B6E880",
           "#FF97FF",
           "#FECB52"
          ],
          "font": {
           "color": "#2a3f5f"
          },
          "geo": {
           "bgcolor": "white",
           "lakecolor": "white",
           "landcolor": "#E5ECF6",
           "showlakes": true,
           "showland": true,
           "subunitcolor": "white"
          },
          "hoverlabel": {
           "align": "left"
          },
          "hovermode": "closest",
          "mapbox": {
           "style": "light"
          },
          "paper_bgcolor": "white",
          "plot_bgcolor": "#E5ECF6",
          "polar": {
           "angularaxis": {
            "gridcolor": "white",
            "linecolor": "white",
            "ticks": ""
           },
           "bgcolor": "#E5ECF6",
           "radialaxis": {
            "gridcolor": "white",
            "linecolor": "white",
            "ticks": ""
           }
          },
          "scene": {
           "xaxis": {
            "backgroundcolor": "#E5ECF6",
            "gridcolor": "white",
            "gridwidth": 2,
            "linecolor": "white",
            "showbackground": true,
            "ticks": "",
            "zerolinecolor": "white"
           },
           "yaxis": {
            "backgroundcolor": "#E5ECF6",
            "gridcolor": "white",
            "gridwidth": 2,
            "linecolor": "white",
            "showbackground": true,
            "ticks": "",
            "zerolinecolor": "white"
           },
           "zaxis": {
            "backgroundcolor": "#E5ECF6",
            "gridcolor": "white",
            "gridwidth": 2,
            "linecolor": "white",
            "showbackground": true,
            "ticks": "",
            "zerolinecolor": "white"
           }
          },
          "shapedefaults": {
           "line": {
            "color": "#2a3f5f"
           }
          },
          "ternary": {
           "aaxis": {
            "gridcolor": "white",
            "linecolor": "white",
            "ticks": ""
           },
           "baxis": {
            "gridcolor": "white",
            "linecolor": "white",
            "ticks": ""
           },
           "bgcolor": "#E5ECF6",
           "caxis": {
            "gridcolor": "white",
            "linecolor": "white",
            "ticks": ""
           }
          },
          "title": {
           "x": 0.05
          },
          "xaxis": {
           "automargin": true,
           "gridcolor": "white",
           "linecolor": "white",
           "ticks": "",
           "title": {
            "standoff": 15
           },
           "zerolinecolor": "white",
           "zerolinewidth": 2
          },
          "yaxis": {
           "automargin": true,
           "gridcolor": "white",
           "linecolor": "white",
           "ticks": "",
           "title": {
            "standoff": 15
           },
           "zerolinecolor": "white",
           "zerolinewidth": 2
          }
         }
        },
        "title": {
         "text": "Évolution de la consommation d'alcool des 5 plus gros consommateurs (2000-2020)"
        },
        "xaxis": {
         "anchor": "y",
         "domain": [
          0,
          1
         ],
         "title": {
          "text": "Année"
         }
        },
        "yaxis": {
         "anchor": "x",
         "domain": [
          0,
          1
         ],
         "title": {
          "text": "Litres d'alcool pur par an"
         }
        }
       }
      }
     },
     "metadata": {},
     "output_type": "display_data"
    }
   ],
   "source": [
    "# Ce script analyse l'évolution de la consommation d'alcool pour les 5 plus gros consommateurs\n",
    "donnees_complete = pd.read_csv('donnée.csv')\n",
    "top_5_pays = donnees['Pays'].head(5).tolist()\n",
    "donnees_evolution = donnees_complete[donnees_complete['Entity'].isin(top_5_pays)]\n",
    "\n",
    "fig_evolution = px.line(\n",
    "    donnees_evolution,\n",
    "    x='Year',\n",
    "    y='Total alcohol consumption per capita (liters of pure alcohol, projected estimates, 15+ years of age)',\n",
    "    color='Entity',\n",
    "    title='Évolution de la consommation d\\'alcool des 5 plus gros consommateurs (2000-2020)',\n",
    "    labels={\n",
    "        'Year': 'Année',\n",
    "        'Total alcohol consumption per capita (liters of pure alcohol, projected estimates, 15+ years of age)': 'Litres d\\'alcool pur par an',\n",
    "        'Entity': 'Pays'\n",
    "    }\n",
    ")\n",
    "\n",
    "fig_evolution.update_layout(\n",
    "    xaxis_title=\"Année\",\n",
    "    yaxis_title=\"Litres d'alcool pur par an\",\n",
    "    legend_title=\"Pays\"\n",
    ")\n",
    "\n",
    "fig_evolution.show()"
   ]
  },
  {
   "cell_type": "code",
   "execution_count": null,
   "id": "3a94ee9e",
   "metadata": {},
   "outputs": [
    {
     "data": {
      "application/vnd.plotly.v1+json": {
       "config": {
        "plotlyServerURL": "https://plot.ly"
       },
       "data": [
        {
         "line": {
          "color": "red",
          "width": 3
         },
         "mode": "lines",
         "name": "Moyenne mondiale",
         "type": "scatter",
         "x": {
          "bdata": "0AfRB9IH0wfUB9UH1gfXB9gH2QfaB9sH3AfdB94H3wfgB+EH4gfjB+QH",
          "dtype": "i2"
         },
         "y": {
          "bdata": "dLtAKZPHFUBI4td6I8cVQHJrjvL1shVAimZUIXW8FUAkPK9G2eYVQG/0jAtsKhZA4pgCoCFsFkCFSXFYlYQWQJ5q12GZWBZAnt905uEsFkAAi0TjVVwWQJ68pnrUVBZAdZtNLoxYFkDFpUgvyz8WQByzy7ZRGhZAtflYYmAfFkBx15Mwk9MVQABAz5lNsRVAfsEcIdOdFUAmiY1rc8MVQJXaEu1uMhRA",
          "dtype": "f8"
         }
        },
        {
         "line": {
          "color": "blue",
          "dash": "dash",
          "width": 3
         },
         "mode": "lines",
         "name": "Médiane mondiale",
         "type": "scatter",
         "x": {
          "bdata": "0AfRB9IH0wfUB9UH1gfXB9gH2QfaB9sH3AfdB94H3wfgB+EH4gfjB+QH",
          "dtype": "i2"
         },
         "y": {
          "bdata": "SOF6FK5HEkBI4XoUrkcSQEjhehSuRxJAPQrXo3A9EkAzMzMzMzMSQD0K16NwPRNASOF6FK5HE0CF61G4HoUTQNejcD0K1xJAG9oAbED0E0DsUbgehesUQFK4HoXrURRAXI/C9ShcFEBSuB6F61EUQGZmZmZmZhRAmpmZmZmZFEBaPtwfOSMUQArXo3A9ChRAzczMzMzME0DsUbgehesTQDMzMzMzMxFA",
          "dtype": "f8"
         }
        }
       ],
       "layout": {
        "height": 600,
        "showlegend": true,
        "template": {
         "data": {
          "bar": [
           {
            "error_x": {
             "color": "rgb(36,36,36)"
            },
            "error_y": {
             "color": "rgb(36,36,36)"
            },
            "marker": {
             "line": {
              "color": "white",
              "width": 0.5
             },
             "pattern": {
              "fillmode": "overlay",
              "size": 10,
              "solidity": 0.2
             }
            },
            "type": "bar"
           }
          ],
          "barpolar": [
           {
            "marker": {
             "line": {
              "color": "white",
              "width": 0.5
             },
             "pattern": {
              "fillmode": "overlay",
              "size": 10,
              "solidity": 0.2
             }
            },
            "type": "barpolar"
           }
          ],
          "carpet": [
           {
            "aaxis": {
             "endlinecolor": "rgb(36,36,36)",
             "gridcolor": "white",
             "linecolor": "white",
             "minorgridcolor": "white",
             "startlinecolor": "rgb(36,36,36)"
            },
            "baxis": {
             "endlinecolor": "rgb(36,36,36)",
             "gridcolor": "white",
             "linecolor": "white",
             "minorgridcolor": "white",
             "startlinecolor": "rgb(36,36,36)"
            },
            "type": "carpet"
           }
          ],
          "choropleth": [
           {
            "colorbar": {
             "outlinewidth": 1,
             "tickcolor": "rgb(36,36,36)",
             "ticks": "outside"
            },
            "type": "choropleth"
           }
          ],
          "contour": [
           {
            "colorbar": {
             "outlinewidth": 1,
             "tickcolor": "rgb(36,36,36)",
             "ticks": "outside"
            },
            "colorscale": [
             [
              0,
              "#440154"
             ],
             [
              0.1111111111111111,
              "#482878"
             ],
             [
              0.2222222222222222,
              "#3e4989"
             ],
             [
              0.3333333333333333,
              "#31688e"
             ],
             [
              0.4444444444444444,
              "#26828e"
             ],
             [
              0.5555555555555556,
              "#1f9e89"
             ],
             [
              0.6666666666666666,
              "#35b779"
             ],
             [
              0.7777777777777778,
              "#6ece58"
             ],
             [
              0.8888888888888888,
              "#b5de2b"
             ],
             [
              1,
              "#fde725"
             ]
            ],
            "type": "contour"
           }
          ],
          "contourcarpet": [
           {
            "colorbar": {
             "outlinewidth": 1,
             "tickcolor": "rgb(36,36,36)",
             "ticks": "outside"
            },
            "type": "contourcarpet"
           }
          ],
          "heatmap": [
           {
            "colorbar": {
             "outlinewidth": 1,
             "tickcolor": "rgb(36,36,36)",
             "ticks": "outside"
            },
            "colorscale": [
             [
              0,
              "#440154"
             ],
             [
              0.1111111111111111,
              "#482878"
             ],
             [
              0.2222222222222222,
              "#3e4989"
             ],
             [
              0.3333333333333333,
              "#31688e"
             ],
             [
              0.4444444444444444,
              "#26828e"
             ],
             [
              0.5555555555555556,
              "#1f9e89"
             ],
             [
              0.6666666666666666,
              "#35b779"
             ],
             [
              0.7777777777777778,
              "#6ece58"
             ],
             [
              0.8888888888888888,
              "#b5de2b"
             ],
             [
              1,
              "#fde725"
             ]
            ],
            "type": "heatmap"
           }
          ],
          "histogram": [
           {
            "marker": {
             "line": {
              "color": "white",
              "width": 0.6
             }
            },
            "type": "histogram"
           }
          ],
          "histogram2d": [
           {
            "colorbar": {
             "outlinewidth": 1,
             "tickcolor": "rgb(36,36,36)",
             "ticks": "outside"
            },
            "colorscale": [
             [
              0,
              "#440154"
             ],
             [
              0.1111111111111111,
              "#482878"
             ],
             [
              0.2222222222222222,
              "#3e4989"
             ],
             [
              0.3333333333333333,
              "#31688e"
             ],
             [
              0.4444444444444444,
              "#26828e"
             ],
             [
              0.5555555555555556,
              "#1f9e89"
             ],
             [
              0.6666666666666666,
              "#35b779"
             ],
             [
              0.7777777777777778,
              "#6ece58"
             ],
             [
              0.8888888888888888,
              "#b5de2b"
             ],
             [
              1,
              "#fde725"
             ]
            ],
            "type": "histogram2d"
           }
          ],
          "histogram2dcontour": [
           {
            "colorbar": {
             "outlinewidth": 1,
             "tickcolor": "rgb(36,36,36)",
             "ticks": "outside"
            },
            "colorscale": [
             [
              0,
              "#440154"
             ],
             [
              0.1111111111111111,
              "#482878"
             ],
             [
              0.2222222222222222,
              "#3e4989"
             ],
             [
              0.3333333333333333,
              "#31688e"
             ],
             [
              0.4444444444444444,
              "#26828e"
             ],
             [
              0.5555555555555556,
              "#1f9e89"
             ],
             [
              0.6666666666666666,
              "#35b779"
             ],
             [
              0.7777777777777778,
              "#6ece58"
             ],
             [
              0.8888888888888888,
              "#b5de2b"
             ],
             [
              1,
              "#fde725"
             ]
            ],
            "type": "histogram2dcontour"
           }
          ],
          "mesh3d": [
           {
            "colorbar": {
             "outlinewidth": 1,
             "tickcolor": "rgb(36,36,36)",
             "ticks": "outside"
            },
            "type": "mesh3d"
           }
          ],
          "parcoords": [
           {
            "line": {
             "colorbar": {
              "outlinewidth": 1,
              "tickcolor": "rgb(36,36,36)",
              "ticks": "outside"
             }
            },
            "type": "parcoords"
           }
          ],
          "pie": [
           {
            "automargin": true,
            "type": "pie"
           }
          ],
          "scatter": [
           {
            "fillpattern": {
             "fillmode": "overlay",
             "size": 10,
             "solidity": 0.2
            },
            "type": "scatter"
           }
          ],
          "scatter3d": [
           {
            "line": {
             "colorbar": {
              "outlinewidth": 1,
              "tickcolor": "rgb(36,36,36)",
              "ticks": "outside"
             }
            },
            "marker": {
             "colorbar": {
              "outlinewidth": 1,
              "tickcolor": "rgb(36,36,36)",
              "ticks": "outside"
             }
            },
            "type": "scatter3d"
           }
          ],
          "scattercarpet": [
           {
            "marker": {
             "colorbar": {
              "outlinewidth": 1,
              "tickcolor": "rgb(36,36,36)",
              "ticks": "outside"
             }
            },
            "type": "scattercarpet"
           }
          ],
          "scattergeo": [
           {
            "marker": {
             "colorbar": {
              "outlinewidth": 1,
              "tickcolor": "rgb(36,36,36)",
              "ticks": "outside"
             }
            },
            "type": "scattergeo"
           }
          ],
          "scattergl": [
           {
            "marker": {
             "colorbar": {
              "outlinewidth": 1,
              "tickcolor": "rgb(36,36,36)",
              "ticks": "outside"
             }
            },
            "type": "scattergl"
           }
          ],
          "scattermap": [
           {
            "marker": {
             "colorbar": {
              "outlinewidth": 1,
              "tickcolor": "rgb(36,36,36)",
              "ticks": "outside"
             }
            },
            "type": "scattermap"
           }
          ],
          "scattermapbox": [
           {
            "marker": {
             "colorbar": {
              "outlinewidth": 1,
              "tickcolor": "rgb(36,36,36)",
              "ticks": "outside"
             }
            },
            "type": "scattermapbox"
           }
          ],
          "scatterpolar": [
           {
            "marker": {
             "colorbar": {
              "outlinewidth": 1,
              "tickcolor": "rgb(36,36,36)",
              "ticks": "outside"
             }
            },
            "type": "scatterpolar"
           }
          ],
          "scatterpolargl": [
           {
            "marker": {
             "colorbar": {
              "outlinewidth": 1,
              "tickcolor": "rgb(36,36,36)",
              "ticks": "outside"
             }
            },
            "type": "scatterpolargl"
           }
          ],
          "scatterternary": [
           {
            "marker": {
             "colorbar": {
              "outlinewidth": 1,
              "tickcolor": "rgb(36,36,36)",
              "ticks": "outside"
             }
            },
            "type": "scatterternary"
           }
          ],
          "surface": [
           {
            "colorbar": {
             "outlinewidth": 1,
             "tickcolor": "rgb(36,36,36)",
             "ticks": "outside"
            },
            "colorscale": [
             [
              0,
              "#440154"
             ],
             [
              0.1111111111111111,
              "#482878"
             ],
             [
              0.2222222222222222,
              "#3e4989"
             ],
             [
              0.3333333333333333,
              "#31688e"
             ],
             [
              0.4444444444444444,
              "#26828e"
             ],
             [
              0.5555555555555556,
              "#1f9e89"
             ],
             [
              0.6666666666666666,
              "#35b779"
             ],
             [
              0.7777777777777778,
              "#6ece58"
             ],
             [
              0.8888888888888888,
              "#b5de2b"
             ],
             [
              1,
              "#fde725"
             ]
            ],
            "type": "surface"
           }
          ],
          "table": [
           {
            "cells": {
             "fill": {
              "color": "rgb(237,237,237)"
             },
             "line": {
              "color": "white"
             }
            },
            "header": {
             "fill": {
              "color": "rgb(217,217,217)"
             },
             "line": {
              "color": "white"
             }
            },
            "type": "table"
           }
          ]
         },
         "layout": {
          "annotationdefaults": {
           "arrowhead": 0,
           "arrowwidth": 1
          },
          "autotypenumbers": "strict",
          "coloraxis": {
           "colorbar": {
            "outlinewidth": 1,
            "tickcolor": "rgb(36,36,36)",
            "ticks": "outside"
           }
          },
          "colorscale": {
           "diverging": [
            [
             0,
             "rgb(103,0,31)"
            ],
            [
             0.1,
             "rgb(178,24,43)"
            ],
            [
             0.2,
             "rgb(214,96,77)"
            ],
            [
             0.3,
             "rgb(244,165,130)"
            ],
            [
             0.4,
             "rgb(253,219,199)"
            ],
            [
             0.5,
             "rgb(247,247,247)"
            ],
            [
             0.6,
             "rgb(209,229,240)"
            ],
            [
             0.7,
             "rgb(146,197,222)"
            ],
            [
             0.8,
             "rgb(67,147,195)"
            ],
            [
             0.9,
             "rgb(33,102,172)"
            ],
            [
             1,
             "rgb(5,48,97)"
            ]
           ],
           "sequential": [
            [
             0,
             "#440154"
            ],
            [
             0.1111111111111111,
             "#482878"
            ],
            [
             0.2222222222222222,
             "#3e4989"
            ],
            [
             0.3333333333333333,
             "#31688e"
            ],
            [
             0.4444444444444444,
             "#26828e"
            ],
            [
             0.5555555555555556,
             "#1f9e89"
            ],
            [
             0.6666666666666666,
             "#35b779"
            ],
            [
             0.7777777777777778,
             "#6ece58"
            ],
            [
             0.8888888888888888,
             "#b5de2b"
            ],
            [
             1,
             "#fde725"
            ]
           ],
           "sequentialminus": [
            [
             0,
             "#440154"
            ],
            [
             0.1111111111111111,
             "#482878"
            ],
            [
             0.2222222222222222,
             "#3e4989"
            ],
            [
             0.3333333333333333,
             "#31688e"
            ],
            [
             0.4444444444444444,
             "#26828e"
            ],
            [
             0.5555555555555556,
             "#1f9e89"
            ],
            [
             0.6666666666666666,
             "#35b779"
            ],
            [
             0.7777777777777778,
             "#6ece58"
            ],
            [
             0.8888888888888888,
             "#b5de2b"
            ],
            [
             1,
             "#fde725"
            ]
           ]
          },
          "colorway": [
           "#1F77B4",
           "#FF7F0E",
           "#2CA02C",
           "#D62728",
           "#9467BD",
           "#8C564B",
           "#E377C2",
           "#7F7F7F",
           "#BCBD22",
           "#17BECF"
          ],
          "font": {
           "color": "rgb(36,36,36)"
          },
          "geo": {
           "bgcolor": "white",
           "lakecolor": "white",
           "landcolor": "white",
           "showlakes": true,
           "showland": true,
           "subunitcolor": "white"
          },
          "hoverlabel": {
           "align": "left"
          },
          "hovermode": "closest",
          "mapbox": {
           "style": "light"
          },
          "paper_bgcolor": "white",
          "plot_bgcolor": "white",
          "polar": {
           "angularaxis": {
            "gridcolor": "rgb(232,232,232)",
            "linecolor": "rgb(36,36,36)",
            "showgrid": false,
            "showline": true,
            "ticks": "outside"
           },
           "bgcolor": "white",
           "radialaxis": {
            "gridcolor": "rgb(232,232,232)",
            "linecolor": "rgb(36,36,36)",
            "showgrid": false,
            "showline": true,
            "ticks": "outside"
           }
          },
          "scene": {
           "xaxis": {
            "backgroundcolor": "white",
            "gridcolor": "rgb(232,232,232)",
            "gridwidth": 2,
            "linecolor": "rgb(36,36,36)",
            "showbackground": true,
            "showgrid": false,
            "showline": true,
            "ticks": "outside",
            "zeroline": false,
            "zerolinecolor": "rgb(36,36,36)"
           },
           "yaxis": {
            "backgroundcolor": "white",
            "gridcolor": "rgb(232,232,232)",
            "gridwidth": 2,
            "linecolor": "rgb(36,36,36)",
            "showbackground": true,
            "showgrid": false,
            "showline": true,
            "ticks": "outside",
            "zeroline": false,
            "zerolinecolor": "rgb(36,36,36)"
           },
           "zaxis": {
            "backgroundcolor": "white",
            "gridcolor": "rgb(232,232,232)",
            "gridwidth": 2,
            "linecolor": "rgb(36,36,36)",
            "showbackground": true,
            "showgrid": false,
            "showline": true,
            "ticks": "outside",
            "zeroline": false,
            "zerolinecolor": "rgb(36,36,36)"
           }
          },
          "shapedefaults": {
           "fillcolor": "black",
           "line": {
            "width": 0
           },
           "opacity": 0.3
          },
          "ternary": {
           "aaxis": {
            "gridcolor": "rgb(232,232,232)",
            "linecolor": "rgb(36,36,36)",
            "showgrid": false,
            "showline": true,
            "ticks": "outside"
           },
           "baxis": {
            "gridcolor": "rgb(232,232,232)",
            "linecolor": "rgb(36,36,36)",
            "showgrid": false,
            "showline": true,
            "ticks": "outside"
           },
           "bgcolor": "white",
           "caxis": {
            "gridcolor": "rgb(232,232,232)",
            "linecolor": "rgb(36,36,36)",
            "showgrid": false,
            "showline": true,
            "ticks": "outside"
           }
          },
          "title": {
           "x": 0.05
          },
          "xaxis": {
           "automargin": true,
           "gridcolor": "rgb(232,232,232)",
           "linecolor": "rgb(36,36,36)",
           "showgrid": false,
           "showline": true,
           "ticks": "outside",
           "title": {
            "standoff": 15
           },
           "zeroline": false,
           "zerolinecolor": "rgb(36,36,36)"
          },
          "yaxis": {
           "automargin": true,
           "gridcolor": "rgb(232,232,232)",
           "linecolor": "rgb(36,36,36)",
           "showgrid": false,
           "showline": true,
           "ticks": "outside",
           "title": {
            "standoff": 15
           },
           "zeroline": false,
           "zerolinecolor": "rgb(36,36,36)"
          }
         }
        },
        "title": {
         "text": "Évolution de la consommation mondiale d'alcool (2000-2020)"
        },
        "width": 1000,
        "xaxis": {
         "title": {
          "text": "Année"
         }
        },
        "yaxis": {
         "title": {
          "text": "Litres d'alcool pur par an"
         }
        }
       }
      }
     },
     "metadata": {},
     "output_type": "display_data"
    }
   ],
   "source": [
    "# Calcul de la moyenne mondiale par année\n",
    "moyenne_mondiale = donnees_complete.groupby('Année')[\n",
    "    'Consommation totale d\\'alcool par habitant (litres d\\'alcool pur, estimations projetées, 15 ans et plus)'\n",
    "].mean().reset_index()\n",
    "\n",
    "# Calcul de la médiane mondiale par année\n",
    "mediane_mondiale = donnees_complete.groupby('Année')[\n",
    "    'Consommation totale d\\'alcool par habitant (litres d\\'alcool pur, estimations projetées, 15 ans et plus)'\n",
    "].median().reset_index()\n",
    "\n",
    "fig = go.Figure()\n",
    "\n",
    "fig.add_trace(\n",
    "    go.Scatter(\n",
    "        x=moyenne_mondiale['Année'],\n",
    "        y=moyenne_mondiale['Consommation totale d\\'alcool par habitant (litres d\\'alcool pur, estimations projetées, 15 ans et plus)'],\n",
    "        mode='lines',\n",
    "        name='Moyenne mondiale',\n",
    "        line=dict(color='red', width=3)\n",
    "    )\n",
    ")\n",
    "\n",
    "fig.add_trace(\n",
    "    go.Scatter(\n",
    "        x=mediane_mondiale['Année'],\n",
    "        y=mediane_mondiale['Consommation totale d\\'alcool par habitant (litres d\\'alcool pur, estimations projetées, 15 ans et plus)'],\n",
    "        mode='lines',\n",
    "        name='Médiane mondiale',\n",
    "        line=dict(color='blue', width=3, dash='dash')\n",
    "    )\n",
    ")\n",
    "\n",
    "fig.update_layout(\n",
    "    title=\"Évolution de la consommation mondiale d'alcool (2000-2020)\",\n",
    "    xaxis_title=\"Année\",\n",
    "    yaxis_title=\"Litres d'alcool pur par an\",\n",
    "    showlegend=True,\n",
    "    width=1000,\n",
    "    height=600,\n",
    "    template='simple_white'\n",
    ")\n",
    "\n",
    "fig.show()"
   ]
  },
  {
   "cell_type": "code",
   "execution_count": null,
   "id": "e159de9d",
   "metadata": {},
   "outputs": [
    {
     "data": {
      "application/vnd.plotly.v1+json": {
       "config": {
        "plotlyServerURL": "https://plot.ly"
       },
       "data": [
        {
         "name": "Afghanistan",
         "showlegend": false,
         "type": "scatter",
         "x": {
          "bdata": "0AfRB9IH0wfUB9UH1gfXB9gH2QfaB9sH3AfdB94H3wfgB+EH4gfjB+QH",
          "dtype": "i2"
         },
         "xaxis": "x",
         "y": {
          "bdata": "+n5qvHSTaD/6fmq8dJNoP3npJjEIrHw//Knx0k1ikD8bL90kBoGVP9nO91PjpZs/mpmZmZmZmT+4HoXrUbieP5qZmZmZmZk/WmQ730+Nlz/6fmq8dJOIP/yp8dJNYoA//Knx0k1icD/8qfHSTWJwP/yp8dJNYnA/O99PjZdugj85tMh2vp+KP5zEILByaJE//Knx0k1ikD/8qfHSTWKQP7pJDAIrh4Y/",
          "dtype": "f8"
         },
         "yaxis": "y"
        },
        {
         "name": "Albania",
         "showlegend": false,
         "type": "scatter",
         "x": {
          "bdata": "0AfRB9IH0wfUB9UH1gfXB9gH2QfaB9sH3AfdB94H3wfgB+EH4gfjB+QH",
          "dtype": "i2"
         },
         "xaxis": "x2",
         "y": {
          "bdata": "uB6F61G4EUC4HoXrUbgRQEjhehSuRxJAUrgehetREkDsUbgehesTQDMzMzMzMxVAj8L1KFyPFkA9CtejcD0XQAAAAAAAABhAw/UoXI/CF0CamZmZmZkXQFK4HoXrURZAexSuR+F6FUApXI/C9SgUQAAAAAAAABRAKVyPwvUoFECF61G4HoUUQIXrUbgehRRAcT0K16NwFEBxPQrXo3AUQOF6FK5H4RFA",
          "dtype": "f8"
         },
         "yaxis": "y2"
        },
        {
         "name": "Algeria",
         "showlegend": false,
         "type": "scatter",
         "x": {
          "bdata": "0AfRB9IH0wfUB9UH1gfXB9gH2QfaB9sH3AfdB94H3wfgB+EH4gfjB+QH",
          "dtype": "i2"
         },
         "xaxis": "x3",
         "y": {
          "bdata": "MzMzMzMz0z8zMzMzMzPTPx+F61G4HtU/PQrXo3A92j9xPQrXo3DdPxSuR+F6FN4/KVyPwvUo3D/2KFyPwvXYPz0K16NwPdo/hetRuB6F2z8pXI/C9SjcPylcj8L1KNw/uB6F61G43j+kcD0K16PgP+xRuB6F6+E/j8L1KFyP4j8zMzMzMzPjP4XrUbgeheM/hetRuB6F4z+F61G4HoXjP0jhehSuR+E/",
          "dtype": "f8"
         },
         "yaxis": "y3"
        },
        {
         "name": "Andorra",
         "showlegend": false,
         "type": "scatter",
         "x": {
          "bdata": "0AfRB9IH0wfUB9UH1gfXB9gH2QfaB9sH3AfdB94H3wfgB+EH4gfjB+QH",
          "dtype": "i2"
         },
         "xaxis": "x4",
         "y": {
          "bdata": "mpmZmZkZKUCamZmZmRkpQEjhehSuxyhAPQrXo3A9KEDhehSuR2EoQIXrUbgehShA4XoUrkdhKEA9CtejcL0nQArXo3A9CidApHA9CtcjJkCPwvUoXI8lQHE9Ctej8CRApHA9CtejJEBI4XoUrkckQMP1KFyPwiRAhetRuB6FJUDhehSuR2EmQDMzMzMzMyZAmpmZmZkZJkCamZmZmRkmQFyPwvUoXCNA",
          "dtype": "f8"
         },
         "yaxis": "y4"
        },
        {
         "name": "Angola",
         "showlegend": false,
         "type": "scatter",
         "x": {
          "bdata": "0AfRB9IH0wfUB9UH1gfXB9gH2QfaB9sH3AfdB94H3wfgB+EH4gfjB+QH",
          "dtype": "i2"
         },
         "xaxis": "x5",
         "y": {
          "bdata": "w/UoXI/CFEDD9Shcj8IUQLgehetRuBVAUrgehetRFkBSuB6F61EYQMP1KFyPwhpAFK5H4XoUHUBxPQrXo3AeQB+F61G4Hh9AuB6F61E4IECkcD0K16MgQK5H4XoULiFAuB6F61E4IUB7FK5H4XohQKRwPQrXoyBACtejcD0KH0AK16NwPQocQK5H4XoUrhpArkfhehSuGECuR+F6FK4YQIXrUbgehRBA",
          "dtype": "f8"
         },
         "yaxis": "y5"
        },
        {
         "name": "Antigua and Barbuda",
         "showlegend": false,
         "type": "scatter",
         "x": {
          "bdata": "0AfRB9IH0wfUB9UH1gfXB9gH2QfaB9sH3AfdB94H3wfgB+EH4gfjB+QH",
          "dtype": "i2"
         },
         "xaxis": "x6",
         "y": {
          "bdata": "KVyPwvUoFUApXI/C9SgVQNejcD0K1xRAZmZmZmZmFEC4HoXrUbgVQM3MzMzMzBdAuB6F61G4GUAAAAAAAAAaQAAAAAAAABlA4XoUrkfhF0D2KFyPwvUWQKRwPQrXoxdAw/UoXI/CGUAAAAAAAAAcQPYoXI/C9RxAj8L1KFyPHUDsUbgeheseQIXrUbgehSBAhetRuB4FIUCF61G4HgUhQKRwPQrXoxpA",
          "dtype": "f8"
         },
         "yaxis": "y6"
        },
        {
         "name": "Argentina",
         "showlegend": false,
         "type": "scatter",
         "x": {
          "bdata": "0AfRB9IH0wfUB9UH1gfXB9gH2QfaB9sH3AfdB94H3wfgB+EH4gfjB+QH",
          "dtype": "i2"
         },
         "xaxis": "x7",
         "y": {
          "bdata": "7FG4HoXrGkDsUbgehesaQK5H4XoUrhhAXI/C9ShcF0DNzMzMzMwXQK5H4XoUrhhAexSuR+F6GkAAAAAAAAAcQBSuR+F6FB1Aw/UoXI/CHUDD9Shcj8IeQLgehetROCBAzczMzMzMIED2KFyPwvUgQMP1KFyPQiFApHA9CtcjIUAzMzMzMzMhQK5H4XoUriBAFK5H4XoUIEAUrkfhehQgQJqZmZmZGSBA",
          "dtype": "f8"
         },
         "yaxis": "y7"
        },
        {
         "name": "Armenia",
         "showlegend": false,
         "type": "scatter",
         "x": {
          "bdata": "0AfRB9IH0wfUB9UH1gfXB9gH2QfaB9sH3AfdB94H3wfgB+EH4gfjB+QH",
          "dtype": "i2"
         },
         "xaxis": "x8",
         "y": {
          "bdata": "rkfhehSuDUCuR+F6FK4NQNejcD0K1w1AH4XrUbgeEED2KFyPwvURQFyPwvUoXBNAzczMzMzME0CF61G4HoUTQJqZmZmZmRNA9ihcj8L1E0A9CtejcD0UQB+F61G4HhRApHA9CtejE0DXo3A9CtcTQPYoXI/C9RNA7FG4HoXrE0CF61G4HoUTQGZmZmZmZhNA7FG4HoXrE0DsUbgehesTQB+F61G4HhFA",
          "dtype": "f8"
         },
         "yaxis": "y8"
        },
        {
         "name": "Australia",
         "showlegend": false,
         "type": "scatter",
         "x": {
          "bdata": "0AfRB9IH0wfUB9UH1gfXB9gH2QfaB9sH3AfdB94H3wfgB+EH4gfjB+QH",
          "dtype": "i2"
         },
         "xaxis": "x9",
         "y": {
          "bdata": "mpmZmZkZJUCamZmZmRklQPYoXI/C9SRApHA9CtcjJUBxPQrXo3AlQKRwPQrXoyVAmpmZmZkZJkDhehSuR2EmQI/C9ShcjyZAhetRuB6FJkAzMzMzMzMmQM3MzMzMzCVAcT0K16NwJUApXI/C9SglQOxRuB6F6yRASOF6FK7HJEAAAAAAAIAkQOF6FK5HYSRArkfhehQuJECuR+F6FC4kQBSuR+F6lCRA",
          "dtype": "f8"
         },
         "yaxis": "y9"
        },
        {
         "name": "Austria",
         "showlegend": false,
         "type": "scatter",
         "x": {
          "bdata": "0AfRB9IH0wfUB9UH1gfXB9gH2QfaB9sH3AfdB94H3wfgB+EH4gfjB+QH",
          "dtype": "i2"
         },
         "xaxis": "x10",
         "y": {
          "bdata": "SOF6FK7HKUBI4XoUrscpQMP1KFyPQilAj8L1KFwPKUCuR+F6FC4pQLgehetROClA9ihcj8J1KUBSuB6F61EpQM3MzMzMzChACtejcD2KKED2KFyPwnUoQDMzMzMzsyhArkfhehSuKEB7FK5H4fooQClcj8L1qChA4XoUrkdhKEBcj8L1KNwnQNejcD0K1ydAcT0K16PwJ0BxPQrXo/AnQIXrUbgeBSdA",
          "dtype": "f8"
         },
         "yaxis": "y10"
        },
        {
         "name": "Azerbaijan",
         "showlegend": false,
         "type": "scatter",
         "x": {
          "bdata": "0AfRB9IH0wfUB9UH1gfXB9gH2QfaB9sH3AfdB94H3wfgB+EH4gfjB+QH",
          "dtype": "i2"
         },
         "xaxis": "x11",
         "y": {
          "bdata": "H4XrUbge+T8fhetRuB75P3E9CtejcPk/FK5H4XoU+j8zMzMzMzP7P/YoXI/C9fw/j8L1KFyP/j89CtejcD0AQArXo3A9Cv8/rkfhehSu/z/2KFyPwvX8P3sUrkfhevw/KVyPwvUo+D+PwvUoXI/2P2ZmZmZmZvY/CtejcD0K9z9cj8L1KFz3P3E9CtejcPk/hetRuB6F/z+F61G4HoX/P+xRuB6F6wNA",
          "dtype": "f8"
         },
         "yaxis": "y11"
        },
        {
         "name": "Bahamas",
         "showlegend": false,
         "type": "scatter",
         "x": {
          "bdata": "0AfRB9IH0wfUB9UH1gfXB9gH2QfaB9sH3AfdB94H3wfgB+EH4gfjB+QH",
          "dtype": "i2"
         },
         "xaxis": "x12",
         "y": {
          "bdata": "UrgehetRE0BSuB6F61ETQI/C9ShcjxJAPQrXo3A9EkAzMzMzMzMSQMP1KFyPwhJASOF6FK5HE0CF61G4HoUTQK5H4XoUrhJA16NwPQrXEUBSuB6F61ERQHE9CtejcBFAexSuR+F6EUBxPQrXo3ARQGZmZmZmZhFAcT0K16NwEUB7FK5H4XoRQIXrUbgehRFAj8L1KFyPEUCPwvUoXI8RQDMzMzMzMw1A",
          "dtype": "f8"
         },
         "yaxis": "y12"
        },
        {
         "name": "Bahrain",
         "showlegend": false,
         "type": "scatter",
         "x": {
          "bdata": "0AfRB9IH0wfUB9UH1gfXB9gH2QfaB9sH3AfdB94H3wfgB+EH4gfjB+QH",
          "dtype": "i2"
         },
         "xaxis": "x13",
         "y": {
          "bdata": "hetRuB6FBUCF61G4HoUFQBSuR+F6FARACtejcD0KA0BSuB6F61ECQD0K16NwPQJAUrgehetRAkA9CtejcD0CQM3MzMzMzAJASOF6FK5HA0DNzMzMzMwCQClcj8L1KAJAH4XrUbgeAUCkcD0K16MAQAAAAAAAAABAPQrXo3A9/j9SuB6F61H8P2ZmZmZmZvo/SOF6FK5H+T9I4XoUrkf5PwAAAAAAAPQ/",
          "dtype": "f8"
         },
         "yaxis": "y13"
        },
        {
         "name": "Bangladesh",
         "showlegend": false,
         "type": "scatter",
         "x": {
          "bdata": "0AfRB9IH0wfUB9UH1gfXB9gH2QfaB9sH3AfdB94H3wfgB+EH4gfjB+QH",
          "dtype": "i2"
         },
         "xaxis": "x14",
         "y": {
          "bdata": "/Knx0k1icD/8qfHSTWJwP/p+arx0k2g/+n5qvHSTaD/8qfHSTWJgP/yp8dJNYmA/+n5qvHSTaD/8qfHSTWJwP/yp8dJNYnA//Knx0k1icD/8qfHSTWJwP/yp8dJNYnA/exSuR+F6dD97FK5H4Xp0P3sUrkfhenQ/exSuR+F6dD97FK5H4Xp0P3sUrkfhenQ/exSuR+F6dD97FK5H4Xp0P1pkO99Pjbc/",
          "dtype": "f8"
         },
         "yaxis": "y14"
        },
        {
         "name": "Barbados",
         "showlegend": false,
         "type": "scatter",
         "x": {
          "bdata": "0AfRB9IH0wfUB9UH1gfXB9gH2QfaB9sH3AfdB94H3wfgB+EH4gfjB+QH",
          "dtype": "i2"
         },
         "xaxis": "x15",
         "y": {
          "bdata": "FK5H4XoUHEAUrkfhehQcQBSuR+F6FBxApHA9CtejHECuR+F6FK4dQDMzMzMzMx9ACtejcD0KIECamZmZmZkgQClcj8L1qCBAUrgehevRIEAK16NwPYogQDMzMzMzsyBA9ihcj8L1IEBI4XoUrkchQDMzMzMzsyFAXI/C9ShcIkDNzMzMzMwiQHsUrkfh+iJAcT0K16PwIkBxPQrXo/AiQHE9CtejcCBA",
          "dtype": "f8"
         },
         "yaxis": "y15"
        },
        {
         "name": "Belarus",
         "showlegend": false,
         "type": "scatter",
         "x": {
          "bdata": "0AfRB9IH0wfUB9UH1gfXB9gH2QfaB9sH3AfdB94H3wfgB+EH4gfjB+QH",
          "dtype": "i2"
         },
         "xaxis": "x16",
         "y": {
          "bdata": "w/UoXI9CKUDD9Shcj0IpQKRwPQrXIyhAexSuR+H6KECkcD0K16MoQBSuR+F6lClAzczMzMzMKkD2KFyPwvUsQFK4HoXr0S1AmpmZmZkZLkB7FK5H4fotQKRwPQrXoy1AcT0K16NwLEBcj8L1KFwqQOxRuB6F6ydAFK5H4XoUJkCamZmZmRklQEjhehSuRyVAzczMzMzMJUDNzMzMzMwlQMP1KFyPQidA",
          "dtype": "f8"
         },
         "yaxis": "y16"
        },
        {
         "name": "Belgium",
         "showlegend": false,
         "type": "scatter",
         "x": {
          "bdata": "0AfRB9IH0wfUB9UH1gfXB9gH2QfaB9sH3AfdB94H3wfgB+EH4gfjB+QH",
          "dtype": "i2"
         },
         "xaxis": "x17",
         "y": {
          "bdata": "16NwPQrXJkDXo3A9CtcmQEjhehSuxyZAUrgehevRJkCamZmZmZkmQAAAAAAAgCZAzczMzMxMJkCamZmZmZkmQKRwPQrXoyZA7FG4HoXrJkApXI/C9agmQKRwPQrXoyZAKVyPwvWoJkBxPQrXo/AmQB+F61G4HidAexSuR+F6JkAUrkfhepQlQMP1KFyPwiRAj8L1KFyPJECPwvUoXI8kQFyPwvUo3CJA",
          "dtype": "f8"
         },
         "yaxis": "y17"
        },
        {
         "name": "Belize",
         "showlegend": false,
         "type": "scatter",
         "x": {
          "bdata": "0AfRB9IH0wfUB9UH1gfXB9gH2QfaB9sH3AfdB94H3wfgB+EH4gfjB+QH",
          "dtype": "i2"
         },
         "xaxis": "x18",
         "y": {
          "bdata": "uB6F61G4EkC4HoXrUbgSQEjhehSuRxRAzczMzMzMFUBxPQrXo3AXQLgehetRuBdA16NwPQrXGEC4HoXrUbgZQOxRuB6F6xlASOF6FK5HGUCF61G4HoUYQHE9CtejcBhAmpmZmZmZGEAUrkfhehQZQHsUrkfhehlAXI/C9ShcGUCamZmZmZkYQK5H4XoUrhdA16NwPQrXFkDXo3A9CtcWQFyPwvUoXA1A",
          "dtype": "f8"
         },
         "yaxis": "y18"
        },
        {
         "name": "Benin",
         "showlegend": false,
         "type": "scatter",
         "x": {
          "bdata": "0AfRB9IH0wfUB9UH1gfXB9gH2QfaB9sH3AfdB94H3wfgB+EH4gfjB+QH",
          "dtype": "i2"
         },
         "xaxis": "x19",
         "y": {
          "bdata": "KVyPwvUoBEApXI/C9SgEQI/C9ShcjwRAUrgehetRBEApXI/C9SgEQB+F61G4HgNAexSuR+F6AkBcj8L1KFwDQClcj8L1KARAexSuR+F6EkBxPQrXo3AaQM3MzMzMTCFApHA9CtejIUDXo3A9ClchQGZmZmZm5iBAMzMzMzMzIECamZmZmZkfQK5H4XoULiBAMzMzMzOzIEAzMzMzM7MgQClcj8L1qCFA",
          "dtype": "f8"
         },
         "yaxis": "y19"
        },
        {
         "name": "Bhutan",
         "showlegend": false,
         "type": "scatter",
         "x": {
          "bdata": "0AfRB9IH0wfUB9UH1gfXB9gH2QfaB9sH3AfdB94H3wfgB+EH4gfjB+QH",
          "dtype": "i2"
         },
         "xaxis": "x20",
         "y": {
          "bdata": "SOF6FK5HCUBI4XoUrkcJQJqZmZmZmQFAmpmZmZmZ/T9SuB6F61ECQFK4HoXrUQBA16NwPQrX8z/NzMzMzMzkP6RwPQrXo+A/4XoUrkfh4j/D9Shcj8LlP4/C9Shcj+o/zczMzMzM7D8zMzMzMzPrPz0K16NwPeI/exSuR+F61D8K16NwPQrHP5qZmZmZmck/mpmZmZmZyT+amZmZmZnJPwrXo3A9Csc/",
          "dtype": "f8"
         },
         "yaxis": "y20"
        },
        {
         "name": "Bolivia",
         "showlegend": false,
         "type": "scatter",
         "x": {
          "bdata": "0AfRB9IH0wfUB9UH1gfXB9gH2QfaB9sH3AfdB94H3wfgB+EH4gfjB+QH",
          "dtype": "i2"
         },
         "xaxis": "x21",
         "y": {
          "bdata": "H4XrUbgeCUAfhetRuB4JQPYoXI/C9QhAPQrXo3A9CkDsUbgehesLQHsUrkfheg5AcT0K16NwEEC4HoXrUbgRQK5H4XoUrhJA7FG4HoXrEkCkcD0K16MSQBSuR+F6FBJAzczMzMzMEUCamZmZmZkRQGZmZmZmZhFAPQrXo3A9EUAK16NwPQoRQMP1KFyPwhBAZmZmZmZmEEBmZmZmZmYQQLgehetRuAxA",
          "dtype": "f8"
         },
         "yaxis": "y21"
        },
        {
         "name": "Bosnia and Herzegovina",
         "showlegend": false,
         "type": "scatter",
         "x": {
          "bdata": "0AfRB9IH0wfUB9UH1gfXB9gH2QfaB9sH3AfdB94H3wfgB+EH4gfjB+QH",
          "dtype": "i2"
         },
         "xaxis": "x22",
         "y": {
          "bdata": "rkfhehSuE0CuR+F6FK4TQEjhehSuRxRApHA9CtejFEB7FK5H4XoVQFyPwvUoXBZAhetRuB6FF0A9CtejcD0YQB+F61G4HhhAcT0K16NwF0D2KFyPwvUWQB+F61G4HhdASOF6FK5HF0A9CtejcD0XQFK4HoXrURdAzczMzMzMF0CamZmZmZkYQFK4HoXrURlAhetRuB6FGUCF61G4HoUZQHsUrkfhehdA",
          "dtype": "f8"
         },
         "yaxis": "y22"
        },
        {
         "name": "Botswana",
         "showlegend": false,
         "type": "scatter",
         "x": {
          "bdata": "0AfRB9IH0wfUB9UH1gfXB9gH2QfaB9sH3AfdB94H3wfgB+EH4gfjB+QH",
          "dtype": "i2"
         },
         "xaxis": "x23",
         "y": {
          "bdata": "w/UoXI/CG0DD9Shcj8IbQClcj8L1KBxAAAAAAAAAHEDhehSuR+EbQMP1KFyPwh1ApHA9CtejH0AAAAAAAIAgQHsUrkfheh5A16NwPQrXHUDhehSuR+EdQHE9CtejcB9AUrgehetRHkCamZmZmZkcQArXo3A9ChxAUrgehetRHEBI4XoUrkcdQHE9CtejcB5AUrgehetRIEBSuB6F61EgQBSuR+F6FB1A",
          "dtype": "f8"
         },
         "yaxis": "y23"
        },
        {
         "name": "Brazil",
         "showlegend": false,
         "type": "scatter",
         "x": {
          "bdata": "0AfRB9IH0wfUB9UH1gfXB9gH2QfaB9sH3AfdB94H3wfgB+EH4gfjB+QH",
          "dtype": "i2"
         },
         "xaxis": "x24",
         "y": {
          "bdata": "7FG4HoVrIUDsUbgehWshQKRwPQrXIyFAUrgehevRIECkcD0K16MgQI/C9ShcjyBApHA9CtejIEC4HoXrUbggQGZmZmZm5iBAH4XrUbgeIUDD9Shcj0IhQOF6FK5HYSFApHA9CtcjIUAAAAAAAAAhQK5H4XoUriBAZmZmZmZmIEAAAAAAAAAgQClcj8L1KB9ArkfhehSuHkCuR+F6FK4eQM3MzMzMzB5A",
          "dtype": "f8"
         },
         "yaxis": "y24"
        },
        {
         "name": "Brunei",
         "showlegend": false,
         "type": "scatter",
         "x": {
          "bdata": "0AfRB9IH0wfUB9UH1gfXB9gH2QfaB9sH3AfdB94H3wfgB+EH4gfjB+QH",
          "dtype": "i2"
         },
         "xaxis": "x25",
         "y": {
          "bdata": "4XoUrkfhyj/hehSuR+HKPzMzMzMzM8M/O99PjZdusj9Ei2zn+6mxPwrXo3A9Csc/exSuR+F61D+F61G4HoXbP2ZmZmZmZtY/cT0K16NwzT/sUbgehevRP+F6FK5H4do/UrgehetR4D8UrkfhehTePz0K16NwPdo/PQrXo3A92j89CtejcD3aPz0K16NwPdo/PQrXo3A92j89CtejcD3aP1K4HoXrUeA/",
          "dtype": "f8"
         },
         "yaxis": "y25"
        },
        {
         "name": "Bulgaria",
         "showlegend": false,
         "type": "scatter",
         "x": {
          "bdata": "0AfRB9IH0wfUB9UH1gfXB9gH2QfaB9sH3AfdB94H3wfgB+EH4gfjB+QH",
          "dtype": "i2"
         },
         "xaxis": "x26",
         "y": {
          "bdata": "PQrXo3C9JkA9CtejcL0mQClcj8L1KCdApHA9CtejJkAK16NwPQomQFyPwvUoXCVA4XoUrkdhJUDD9Shcj8IlQHsUrkfh+iVAKVyPwvWoJUBSuB6F61ElQD0K16NwvSVAj8L1KFwPJkBSuB6F61EmQFyPwvUoXCZA4XoUrkfhJkDNzMzMzEwnQDMzMzMzsydA16NwPQrXJ0DXo3A9CtcnQD0K16NwPSdA",
          "dtype": "f8"
         },
         "yaxis": "y26"
        },
        {
         "name": "Burkina Faso",
         "showlegend": false,
         "type": "scatter",
         "x": {
          "bdata": "0AfRB9IH0wfUB9UH1gfXB9gH2QfaB9sH3AfdB94H3wfgB+EH4gfjB+QH",
          "dtype": "i2"
         },
         "xaxis": "x27",
         "y": {
          "bdata": "cT0K16NwH0BxPQrXo3AfQHsUrkfheiBA9ihcj8J1IEA9CtejcL0gQFK4HoXr0SBAXI/C9SjcIEAUrkfhepQgQOxRuB6FayBAUrgehetRIEC4HoXrUTggQEjhehSuRyBAUrgehetRIEDhehSuR2EhQFK4HoXrUSJAUrgehetRI0BxPQrXo3AjQIXrUbgehSNAH4XrUbieI0AfhetRuJ4jQArXo3A9iiZA",
          "dtype": "f8"
         },
         "yaxis": "y27"
        },
        {
         "name": "Burundi",
         "showlegend": false,
         "type": "scatter",
         "x": {
          "bdata": "0AfRB9IH0wfUB9UH1gfXB9gH2QfaB9sH3AfdB94H3wfgB+EH4gfjB+QH",
          "dtype": "i2"
         },
         "xaxis": "x28",
         "y": {
          "bdata": "7FG4HoXrHUDsUbgehesdQGZmZmZmZhxAZmZmZmZmG0A9CtejcD0aQI/C9ShcjxlAj8L1KFyPGUCPwvUoXI8ZQGZmZmZmZhlAH4XrUbgeGUCuR+F6FK4YQPYoXI/C9RRApHA9CtejEkBSuB6F61EQQFyPwvUoXBFAw/UoXI/CEEDD9Shcj8IQQJqZmZmZmRBAhetRuB6FEECF61G4HoUQQKRwPQrXoxBA",
          "dtype": "f8"
         },
         "yaxis": "y28"
        },
        {
         "name": "Cambodia",
         "showlegend": false,
         "type": "scatter",
         "x": {
          "bdata": "0AfRB9IH0wfUB9UH1gfXB9gH2QfaB9sH3AfdB94H3wfgB+EH4gfjB+QH",
          "dtype": "i2"
         },
         "xaxis": "x29",
         "y": {
          "bdata": "9ihcj8L1/D/2KFyPwvX8PxSuR+F6FABAAAAAAAAAAkBSuB6F61EEQHsUrkfhegZA4XoUrkfhCEA9CtejcD0KQK5H4XoUrgtAH4XrUbgeEEDXo3A9CtcSQJqZmZmZmRVAFK5H4XoUF0CF61G4HoUYQDMzMzMzMxpAPQrXo3A9HEBxPQrXo3AeQMP1KFyPQiBA9ihcj8L1IED2KFyPwvUgQK5H4XoUrhpA",
          "dtype": "f8"
         },
         "yaxis": "y29"
        },
        {
         "name": "Cameroon",
         "showlegend": false,
         "type": "scatter",
         "x": {
          "bdata": "0AfRB9IH0wfUB9UH1gfXB9gH2QfaB9sH3AfdB94H3wfgB+EH4gfjB+QH",
          "dtype": "i2"
         },
         "xaxis": "x30",
         "y": {
          "bdata": "exSuR+F6JUB7FK5H4XolQKRwPQrXIyZAUrgehetRJkCPwvUoXI8mQOxRuB6F6yZA4XoUrkdhJ0DXo3A9CtcnQM3MzMzMTChAzczMzMzMKECamZmZmRkpQI/C9ShcjylA9ihcj8L1KUD2KFyPwvUoQHE9CtejcCdAcT0K16NwJUBSuB6F69EkQFK4HoXrUSRAMzMzMzMzJEAzMzMzMzMkQDMzMzMzMyNA",
          "dtype": "f8"
         },
         "yaxis": "y30"
        },
        {
         "name": "Canada",
         "showlegend": false,
         "type": "scatter",
         "x": {
          "bdata": "0AfRB9IH0wfUB9UH1gfXB9gH2QfaB9sH3AfdB94H3wfgB+EH4gfjB+QH",
          "dtype": "i2"
         },
         "xaxis": "x31",
         "y": {
          "bdata": "w/UoXI/CIkDD9Shcj8IiQGZmZmZm5iJAAAAAAAAAI0AzMzMzMzMjQAAAAAAAgCNAZmZmZmbmI0CuR+F6FC4kQFyPwvUoXCRA9ihcj8J1JEDsUbgehWskQNejcD0KVyRAMzMzMzMzJECamZmZmRkkQGZmZmZm5iNA16NwPQrXI0DXo3A9CtcjQGZmZmZm5iNAzczMzMzMI0DNzMzMzMwjQEjhehSuxyNA",
          "dtype": "f8"
         },
         "yaxis": "y31"
        },
        {
         "name": "Cape Verde",
         "showlegend": false,
         "type": "scatter",
         "x": {
          "bdata": "0AfRB9IH0wfUB9UH1gfXB9gH2QfaB9sH3AfdB94H3wfgB+EH4gfjB+QH",
          "dtype": "i2"
         },
         "xaxis": "x32",
         "y": {
          "bdata": "SOF6FK5HEkBI4XoUrkcSQK5H4XoUrhJAPQrXo3A9E0Bcj8L1KFwTQGZmZmZmZhRAmpmZmZmZFUCkcD0K16MVQClcj8L1KBVAKVyPwvUoFUCF61G4HoUWQD0K16NwPRdAUrgehetRFkDsUbgehesVQBSuR+F6FBZASOF6FK5HF0BxPQrXo3AYQAAAAAAAABlAFK5H4XoUGUAUrkfhehQZQArXo3A9ChhA",
          "dtype": "f8"
         },
         "yaxis": "y32"
        },
        {
         "name": "Central African Republic",
         "showlegend": false,
         "type": "scatter",
         "x": {
          "bdata": "0AfRB9IH0wfUB9UH1gfXB9gH2QfaB9sH3AfdB94H3wfgB+EH4gfjB+QH",
          "dtype": "i2"
         },
         "xaxis": "x33",
         "y": {
          "bdata": "4XoUrkfhAkDhehSuR+ECQKRwPQrXowJAUrgehetRAkA9CtejcD0CQFK4HoXrUQJAj8L1KFyPAkAfhetRuB4DQB+F61G4HgNAXI/C9ShcA0CamZmZmZkDQFK4HoXrUQRAUrgehetRAkBSuB6F61EAQEjhehSuR/0/CtejcD0K/z8UrkfhehQAQBSuR+F6FABA16NwPQrX/z/Xo3A9Ctf/PwAAAAAAAPw/",
          "dtype": "f8"
         },
         "yaxis": "y33"
        },
        {
         "name": "Chad",
         "showlegend": false,
         "type": "scatter",
         "x": {
          "bdata": "0AfRB9IH0wfUB9UH1gfXB9gH2QfaB9sH3AfdB94H3wfgB+EH4gfjB+QH",
          "dtype": "i2"
         },
         "xaxis": "x34",
         "y": {
          "bdata": "FK5H4XoUBEAUrkfhehQEQEjhehSuRwdAmpmZmZmZB0AK16NwPQoJQKRwPQrXowhAPQrXo3A9CkCPwvUoXI8KQJqZmZmZmQtA9ihcj8L1DEDhehSuR+EOQDMzMzMzMxBAAAAAAAAAEUCkcD0K16MRQDMzMzMzMxJAUrgehetREkBmZmZmZmYRQDMzMzMzMxBA16NwPQrXDUDXo3A9CtcNQEjhehSuRwdA",
          "dtype": "f8"
         },
         "yaxis": "y34"
        },
        {
         "name": "Chile",
         "showlegend": false,
         "type": "scatter",
         "x": {
          "bdata": "0AfRB9IH0wfUB9UH1gfXB9gH2QfaB9sH3AfdB94H3wfgB+EH4gfjB+QH",
          "dtype": "i2"
         },
         "xaxis": "x35",
         "y": {
          "bdata": "MzMzMzMzGkAzMzMzMzMaQFyPwvUoXBpApHA9CtejGkCkcD0K16McQOF6FK5H4R1ASOF6FK5HH0DsUbgeheseQFyPwvUoXB9Aj8L1KFyPH0ApXI/C9SgfQIXrUbgeBSBAmpmZmZmZH0DhehSuR2EgQBSuR+F6FCBAAAAAAAAAH0AUrkfhehQcQAAAAAAAABpAAAAAAAAAG0AAAAAAAAAbQD0K16NwPR5A",
          "dtype": "f8"
         },
         "yaxis": "y35"
        },
        {
         "name": "China",
         "showlegend": false,
         "type": "scatter",
         "x": {
          "bdata": "0AfRB9IH0wfUB9UH1gfXB9gH2QfaB9sH3AfdB94H3wfgB+EH4gfjB+QH",
          "dtype": "i2"
         },
         "xaxis": "x36",
         "y": {
          "bdata": "9ihcj8L1DED2KFyPwvUMQArXo3A9CgtAAAAAAAAACkAUrkfhehQKQK5H4XoUrgtApHA9CtejDkDsUbgehesQQNejcD0K1xJACtejcD0KFUCamZmZmZkXQAAAAAAAABpArkfhehSuG0CkcD0K16McQClcj8L1KB1AZmZmZmZmHUC4HoXrUbgcQB+F61G4HhpA7FG4HoXrFkDsUbgehesWQFK4HoXrURJA",
          "dtype": "f8"
         },
         "yaxis": "y36"
        },
        {
         "name": "Colombia",
         "showlegend": false,
         "type": "scatter",
         "x": {
          "bdata": "0AfRB9IH0wfUB9UH1gfXB9gH2QfaB9sH3AfdB94H3wfgB+EH4gfjB+QH",
          "dtype": "i2"
         },
         "xaxis": "x37",
         "y": {
          "bdata": "XI/C9ShcFUBcj8L1KFwVQM3MzMzMzBRAj8L1KFyPFEB7FK5H4XoUQOxRuB6F6xRAcT0K16NwFUCF61G4HoUVQDMzMzMzMxVAhetRuB6FFEBI4XoUrkcUQD0K16NwPRRAXI/C9ShcFEA9CtejcD0UQOxRuB6F6xNAFK5H4XoUFEAAAAAAAAAUQArXo3A9ChRArkfhehSuE0CuR+F6FK4TQPYoXI/C9RBA",
          "dtype": "f8"
         },
         "yaxis": "y37"
        },
        {
         "name": "Comoros",
         "showlegend": false,
         "type": "scatter",
         "x": {
          "bdata": "0AfRB9IH0wfUB9UH1gfXB9gH2QfaB9sH3AfdB94H3wfgB+EH4gfjB+QH",
          "dtype": "i2"
         },
         "xaxis": "x38",
         "y": {
          "bdata": "exSuR+F6xD97FK5H4XrEP0jhehSuR9E/UrgehetR2D8UrkfhehTeP4XrUbgehds/w/UoXI/C1T8AAAAAAADQP+F6FK5H4co/mpmZmZmZyT+amZmZmZnJPwrXo3A9Csc/4XoUrkfhyj8pXI/C9SjMPylcj8L1KMw/mpmZmZmZyT9xPQrXo3DNPwAAAAAAANA/AAAAAAAA0D8AAAAAAADQP3E9CtejcM0/",
          "dtype": "f8"
         },
         "yaxis": "y38"
        },
        {
         "name": "Congo",
         "showlegend": false,
         "type": "scatter",
         "x": {
          "bdata": "0AfRB9IH0wfUB9UH1gfXB9gH2QfaB9sH3AfdB94H3wfgB+EH4gfjB+QH",
          "dtype": "i2"
         },
         "xaxis": "x39",
         "y": {
          "bdata": "pHA9CtejBkCkcD0K16MGQHE9CtejcAdAXI/C9ShcB0AK16NwPQoHQD0K16NwPQhApHA9CtejCkCamZmZmZkNQNejcD0K1w9AZmZmZmZmEUCamZmZmZkSQNejcD0K1xNAZmZmZmZmFEDXo3A9CtcUQPYoXI/C9RRArkfhehSuFkB7FK5H4XoYQAAAAAAAABpAmpmZmZmZGUCamZmZmZkZQDMzMzMzMxhA",
          "dtype": "f8"
         },
         "yaxis": "y39"
        },
        {
         "name": "Costa Rica",
         "showlegend": false,
         "type": "scatter",
         "x": {
          "bdata": "0AfRB9IH0wfUB9UH1gfXB9gH2QfaB9sH3AfdB94H3wfgB+EH4gfjB+QH",
          "dtype": "i2"
         },
         "xaxis": "x40",
         "y": {
          "bdata": "cT0K16NwEkBxPQrXo3ASQClcj8L1KBJAAAAAAAAAEkDhehSuR+ERQClcj8L1KBJAXI/C9ShcEkCamZmZmZkSQFK4HoXrURJAhetRuB6FEUAAAAAAAAAQQHE9CtejcA1AcT0K16NwC0AfhetRuB4LQB+F61G4HgtAAAAAAAAADEA9CtejcD0MQGZmZmZmZgxAmpmZmZmZC0CamZmZmZkLQDMzMzMzMwtA",
          "dtype": "f8"
         },
         "yaxis": "y40"
        },
        {
         "name": "Cote d'Ivoire",
         "showlegend": false,
         "type": "scatter",
         "x": {
          "bdata": "0AfRB9IH0wfUB9UH1gfXB9gH2QfaB9sH3AfdB94H3wfgB+EH4gfjB+QH",
          "dtype": "i2"
         },
         "xaxis": "x41",
         "y": {
          "bdata": "16NwPQrXEEDXo3A9CtcQQHE9CtejcBFAZmZmZmZmEUBmZmZmZmYRQArXo3A9ChFA7FG4HoXrEEDD9Shcj8IQQOF6FK5H4RBAPQrXo3A9DECPwvUoXI8GQPYoXI/C9QBAMzMzMzMzAUAUrkfhehQCQIXrUbgehQNAj8L1KFyPBEAzMzMzMzMFQK5H4XoUrgVAZmZmZmZmBkBmZmZmZmYGQM3MzMzMzAZA",
          "dtype": "f8"
         },
         "yaxis": "y41"
        },
        {
         "name": "Croatia",
         "showlegend": false,
         "type": "scatter",
         "x": {
          "bdata": "0AfRB9IH0wfUB9UH1gfXB9gH2QfaB9sH3AfdB94H3wfgB+EH4gfjB+QH",
          "dtype": "i2"
         },
         "xaxis": "x42",
         "y": {
          "bdata": "4XoUrkfhJUDhehSuR+ElQLgehetRuCVAFK5H4XoUJUC4HoXrUbgjQOxRuB6F6yJAmpmZmZmZIkBxPQrXo/AiQIXrUbgeBSNA7FG4HoXrIkD2KFyPwvUiQNejcD0K1yJApHA9CtejIkBSuB6F69EhQOF6FK5HYSFArkfhehQuIUDNzMzMzEwhQMP1KFyPQiFAFK5H4XoUIUAUrkfhehQhQJqZmZmZmR5A",
          "dtype": "f8"
         },
         "yaxis": "y42"
        },
        {
         "name": "Cuba",
         "showlegend": false,
         "type": "scatter",
         "x": {
          "bdata": "0AfRB9IH0wfUB9UH1gfXB9gH2QfaB9sH3AfdB94H3wfgB+EH4gfjB+QH",
          "dtype": "i2"
         },
         "xaxis": "x43",
         "y": {
          "bdata": "uB6F61G4FUC4HoXrUbgVQFK4HoXrURZA16NwPQrXFkBcj8L1KFwXQAAAAAAAABdAhetRuB6FFkBI4XoUrkcWQB+F61G4HhZAKVyPwvUoFkAAAAAAAAAWQDMzMzMzMxZAUrgehetRFkCkcD0K16MWQBSuR+F6FBdAZmZmZmZmF0CkcD0K16MXQM3MzMzMzBdACtejcD0KGEAK16NwPQoYQIXrUbgehRVA",
          "dtype": "f8"
         },
         "yaxis": "y43"
        },
        {
         "name": "Cyprus",
         "showlegend": false,
         "type": "scatter",
         "x": {
          "bdata": "0AfRB9IH0wfUB9UH1gfXB9gH2QfaB9sH3AfdB94H3wfgB+EH4gfjB+QH",
          "dtype": "i2"
         },
         "xaxis": "x44",
         "y": {
          "bdata": "uB6F61G4IUC4HoXrUbghQLgehetROCJAFK5H4XqUI0BmZmZmZmYjQMP1KFyPwiNAAAAAAAAAI0DNzMzMzEwjQPYoXI/C9SJAXI/C9SjcIkA9CtejcD0iQKRwPQrXIyJACtejcD0KIUCF61G4HoUgQIXrUbgeBSBAPQrXo3A9IECuR+F6FC4gQKRwPQrXIyBAmpmZmZkZIECamZmZmRkgQHE9CtejcBlA",
          "dtype": "f8"
         },
         "yaxis": "y44"
        },
        {
         "name": "Czechia",
         "showlegend": false,
         "type": "scatter",
         "x": {
          "bdata": "0AfRB9IH0wfUB9UH1gfXB9gH2QfaB9sH3AfdB94H3wfgB+EH4gfjB+QH",
          "dtype": "i2"
         },
         "xaxis": "x45",
         "y": {
          "bdata": "cT0K16NwLEBxPQrXo3AsQOxRuB6FayxAw/UoXI9CLECuR+F6FC4sQHsUrkfh+itAuB6F61E4LEAzMzMzMzMsQBSuR+F6FCxA16NwPQpXK0ApXI/C9agqQMP1KFyPQipAKVyPwvUoKkBI4XoUrkcqQLgehetROCpAcT0K16NwKkBmZmZmZmYqQIXrUbgehSpAFK5H4XqUKkAUrkfhepQqQHsUrkfh+idA",
          "dtype": "f8"
         },
         "yaxis": "y45"
        },
        {
         "name": "Democratic Republic of Congo",
         "showlegend": false,
         "type": "scatter",
         "x": {
          "bdata": "0AfRB9IH0wfUB9UH1gfXB9gH2QfaB9sH3AfdB94H3wfgB+EH4gfjB+QH",
          "dtype": "i2"
         },
         "xaxis": "x46",
         "y": {
          "bdata": "FK5H4XqUIEAUrkfhepQgQFyPwvUo3CBAXI/C9ShcIUBSuB6F61EcQBSuR+F6FBZAFK5H4XoUDkBcj8L1KFwPQJqZmZmZmRBAMzMzMzMzDUB7FK5H4XoIQDMzMzMzMwNAZmZmZmZmBEAfhetRuB4FQKRwPQrXowRAhetRuB6FA0A9CtejcD0CQJqZmZmZmQFA9ihcj8L1AED2KFyPwvUAQLgehetRuP4/",
          "dtype": "f8"
         },
         "yaxis": "y46"
        },
        {
         "name": "Denmark",
         "showlegend": false,
         "type": "scatter",
         "x": {
          "bdata": "0AfRB9IH0wfUB9UH1gfXB9gH2QfaB9sH3AfdB94H3wfgB+EH4gfjB+QH",
          "dtype": "i2"
         },
         "xaxis": "x47",
         "y": {
          "bdata": "4XoUrkdhJ0DhehSuR2EnQEjhehSuRydAmpmZmZkZJ0AK16NwPQonQClcj8L1qCZA7FG4HoVrJkAAAAAAAAAmQOxRuB6FayVA9ihcj8L1JEBI4XoUrsckQLgehetROCRAKVyPwvWoI0CamZmZmRkjQDMzMzMzMyNAuB6F61E4I0AK16NwPQojQAAAAAAAACNAzczMzMzMIkDNzMzMzMwiQHsUrkfh+iJA",
          "dtype": "f8"
         },
         "yaxis": "y47"
        },
        {
         "name": "Djibouti",
         "showlegend": false,
         "type": "scatter",
         "x": {
          "bdata": "0AfRB9IH0wfUB9UH1gfXB9gH2QfaB9sH3AfdB94H3wfgB+EH4gfjB+QH",
          "dtype": "i2"
         },
         "xaxis": "x48",
         "y": {
          "bdata": "zczMzMzM5D/NzMzMzMzkPx+F61G4HuU/cT0K16Nw5T9xPQrXo3DlP3E9CtejcOU/cT0K16Nw5T8UrkfhehTmP2ZmZmZmZuY/XI/C9Shc5z8UrkfhehTmP3E9CtejcOU/H4XrUbge5T/NzMzMzMzkP+F6FK5H4eI/9ihcj8L14D9cj8L1KFzfPxSuR+F6FN4/mpmZmZmZ2T+amZmZmZnZP1K4HoXrUdg/",
          "dtype": "f8"
         },
         "yaxis": "y48"
        },
        {
         "name": "Dominica",
         "showlegend": false,
         "type": "scatter",
         "x": {
          "bdata": "0AfRB9IH0wfUB9UH1gfXB9gH2QfaB9sH3AfdB94H3wfgB+EH4gfjB+QH",
          "dtype": "i2"
         },
         "xaxis": "x49",
         "y": {
          "bdata": "PQrXo3A9IEA9CtejcD0gQHsUrkfheh9AuB6F61G4H0C4HoXrUbgfQKRwPQrXox9AUrgehetRHkBI4XoUrkcdQI/C9ShcjxxAhetRuB6FG0AzMzMzMzMaQHsUrkfhehlAj8L1KFyPGUCamZmZmZkZQKRwPQrXoxlAPQrXo3A9GUAzMzMzMzMZQNejcD0K1xhAZmZmZmZmGEBmZmZmZmYYQBSuR+F6FBRA",
          "dtype": "f8"
         },
         "yaxis": "y49"
        },
        {
         "name": "Dominican Republic",
         "showlegend": false,
         "type": "scatter",
         "x": {
          "bdata": "0AfRB9IH0wfUB9UH1gfXB9gH2QfaB9sH3AfdB94H3wfgB+EH4gfjB+QH",
          "dtype": "i2"
         },
         "xaxis": "x50",
         "y": {
          "bdata": "pHA9CtejH0CkcD0K16MfQDMzMzMzMx9AzczMzMzMHUCuR+F6FK4cQNejcD0K1xtApHA9CtejHEDXo3A9CtccQI/C9ShcjxxA9ihcj8L1G0Bcj8L1KFwbQB+F61G4HhtA7FG4HoXrGkCamZmZmZkaQFyPwvUoXBpASOF6FK5HGkCPwvUoXI8aQMP1KFyPwhpACtejcD0KG0AK16NwPQobQAAAAAAAABpA",
          "dtype": "f8"
         },
         "yaxis": "y50"
        },
        {
         "name": "East Asia and Pacific (WB)",
         "showlegend": false,
         "type": "scatter",
         "x": {
          "bdata": "0AfRB9IH0wfUB9UH1gfXB9gH2QfaB9sH3AfdB94H3wfgB+EH4gfjB+QH",
          "dtype": "i2"
         },
         "xaxis": "x51",
         "y": {
          "bdata": "ZoS3ByGAD0CdkyjF2HMPQHB87ZklEQ5Axplw+VlmDUDMf0i/fZ0NQFJU7B6Pvw5AOCG+XUBZEEBkLImi9lERQEZks36OghJAmlshrMbyE0BFx8ScVrAVQPpw2p3/WBdAkm9bAL9zGEBG09nJ4AgZQDRKl/4lURlAIQVPIVd6GUCa+op/6R4ZQNY73A4NexdAmDEFa5x9FUAgL/98tnkVQCl1yThGIhJA",
          "dtype": "f8"
         },
         "yaxis": "y51"
        },
        {
         "name": "East Timor",
         "showlegend": false,
         "type": "scatter",
         "x": {
          "bdata": "0AfRB9IH0wfUB9UH1gfXB9gH2QfaB9sH3AfdB94H3wfgB+EH4gfjB+QH",
          "dtype": "i2"
         },
         "xaxis": "x52",
         "y": {
          "bdata": "mpmZmZmZ4T+amZmZmZnhP/YoXI/C9eA/AAAAAAAA4D8UrkfhehTeP9ejcD0K19M/CtejcD0Kxz8pXI/C9SisP+Olm8QgsLI/pHA9CtejwD8zMzMzMzPTP7gehetRuN4/MzMzMzMz4z+PwvUoXI/iP6RwPQrXo+A/FK5H4XoU3j9xPQrXo3DdPxSuR+F6FN4/mpmZmZmZ2T+amZmZmZnZP8P1KFyPwsU/",
          "dtype": "f8"
         },
         "yaxis": "y52"
        },
        {
         "name": "Ecuador",
         "showlegend": false,
         "type": "scatter",
         "x": {
          "bdata": "0AfRB9IH0wfUB9UH1gfXB9gH2QfaB9sH3AfdB94H3wfgB+EH4gfjB+QH",
          "dtype": "i2"
         },
         "xaxis": "x53",
         "y": {
          "bdata": "rkfhehSuEECuR+F6FK4QQEjhehSuRxBAXI/C9ShcD0B7FK5H4XoOQBSuR+F6FA5A7FG4HoXrDUBmZmZmZmYOQDMzMzMzMw9AAAAAAAAAEEB7FK5H4XoQQMP1KFyPwhBAw/UoXI/CEECF61G4HoUQQD0K16NwPRBAzczMzMzMDkA9CtejcD0MQGZmZmZmZgpAFK5H4XoUCkAUrkfhehQKQFK4HoXrUQRA",
          "dtype": "f8"
         },
         "yaxis": "y53"
        },
        {
         "name": "Egypt",
         "showlegend": false,
         "type": "scatter",
         "x": {
          "bdata": "0AfRB9IH0wfUB9UH1gfXB9gH2QfaB9sH3AfdB94H3wfgB+EH4gfjB+QH",
          "dtype": "i2"
         },
         "xaxis": "x54",
         "y": {
          "bdata": "7FG4HoXrwT/sUbgehevBP+xRuB6F68E/7FG4HoXrwT8zMzMzMzPDP3sUrkfhesQ/w/UoXI/CxT+amZmZmZnJP5qZmZmZmck/4XoUrkfhyj+amZmZmZnJP5qZmZmZmck/UrgehetRyD9SuB6F61HIP1K4HoXrUcg/CtejcD0Kxz97FK5H4XrEPzMzMzMzM8M/MzMzMzMzwz8zMzMzMzPDP6RwPQrXo8A/",
          "dtype": "f8"
         },
         "yaxis": "y54"
        },
        {
         "name": "El Salvador",
         "showlegend": false,
         "type": "scatter",
         "x": {
          "bdata": "0AfRB9IH0wfUB9UH1gfXB9gH2QfaB9sH3AfdB94H3wfgB+EH4gfjB+QH",
          "dtype": "i2"
         },
         "xaxis": "x55",
         "y": {
          "bdata": "H4XrUbgeCUAfhetRuB4JQNejcD0K1wlA7FG4HoXrCUBxPQrXo3AJQLgehetRuAhApHA9CtejCEBmZmZmZmYIQNejcD0K1wdAexSuR+F6BkCuR+F6FK4FQHE9CtejcAVAhetRuB6FBUDsUbgehesFQD0K16NwPQZAH4XrUbgeB0AUrkfhehQIQDMzMzMzMwlAPQrXo3A9CkA9CtejcD0KQDMzMzMzMwlA",
          "dtype": "f8"
         },
         "yaxis": "y55"
        },
        {
         "name": "Equatorial Guinea",
         "showlegend": false,
         "type": "scatter",
         "x": {
          "bdata": "0AfRB9IH0wfUB9UH1gfXB9gH2QfaB9sH3AfdB94H3wfgB+EH4gfjB+QH",
          "dtype": "i2"
         },
         "xaxis": "x56",
         "y": {
          "bdata": "AAAAAAAAH0AAAAAAAAAfQDMzMzMzMyBAAAAAAAAAIUDhehSuR+EhQLgehetROCJAXI/C9ShcIkDD9Shcj8IhQOxRuB6F6yBASOF6FK5HIUBSuB6F61EiQPYoXI/C9SNAcT0K16PwI0D2KFyPwnUjQOxRuB6FayJA7FG4HoVrIUB7FK5H4XofQMP1KFyPwhxAw/UoXI/CG0DD9Shcj8IbQD0K16NwPRpA",
          "dtype": "f8"
         },
         "yaxis": "y56"
        },
        {
         "name": "Eritrea",
         "showlegend": false,
         "type": "scatter",
         "x": {
          "bdata": "0AfRB9IH0wfUB9UH1gfXB9gH2QfaB9sH3AfdB94H3wfgB+EH4gfjB+QH",
          "dtype": "i2"
         },
         "xaxis": "x57",
         "y": {
          "bdata": "AAAAAAAA8D8AAAAAAADwP83MzMzMzOw/hetRuB6F6z97FK5H4XrsPwAAAAAAAPQ/hetRuB6F/z/hehSuR+H+P6RwPQrXo/w/9ihcj8L19D8zMzMzMzP3P7gehetRuPY/ZmZmZmZm9j+amZmZmZn1P5qZmZmZmfU/H4XrUbge9T+kcD0K16P0P9ejcD0K1/M/rkfhehSu8z+uR+F6FK7zPx+F61G4HvE/",
          "dtype": "f8"
         },
         "yaxis": "y57"
        },
        {
         "name": "Estonia",
         "showlegend": false,
         "type": "scatter",
         "x": {
          "bdata": "0AfRB9IH0wfUB9UH1gfXB9gH2QfaB9sH3AfdB94H3wfgB+EH4gfjB+QH",
          "dtype": "i2"
         },
         "xaxis": "x58",
         "y": {
          "bdata": "ZmZmZmbmJEBmZmZmZuYkQD0K16NwPSZAAAAAAAAAKUBI4XoUrkcrQAAAAAAAgC5AAAAAAACAL0CuR+F6FK4vQK5H4XoULi5A16NwPQrXLED2KFyPwnUsQPYoXI/CdS1AZmZmZmbmLkDsUbgehWsvQEjhehSuRy9AH4XrUbgeLkDXo3A9CtcrQClcj8L1qChAhetRuB6FJkCF61G4HoUmQFyPwvUoXCVA",
          "dtype": "f8"
         },
         "yaxis": "y58"
        },
        {
         "name": "Eswatini",
         "showlegend": false,
         "type": "scatter",
         "x": {
          "bdata": "0AfRB9IH0wfUB9UH1gfXB9gH2QfaB9sH3AfdB94H3wfgB+EH4gfjB+QH",
          "dtype": "i2"
         },
         "xaxis": "x59",
         "y": {
          "bdata": "XI/C9SjcIkBcj8L1KNwiQOF6FK5H4SJAw/UoXI9CIUAfhetRuB4hQK5H4XoULiBAw/UoXI9CIEDXo3A9CtcfQAAAAAAAAB9AAAAAAAAAHUCamZmZmZkcQJqZmZmZmRtAcT0K16NwHkCkcD0K16MfQI/C9ShcDyBA7FG4HoXrHkD2KFyPwvUeQBSuR+F6FCBArkfhehQuIECuR+F6FC4gQClcj8L1KBtA",
          "dtype": "f8"
         },
         "yaxis": "y59"
        },
        {
         "name": "Ethiopia",
         "showlegend": false,
         "type": "scatter",
         "x": {
          "bdata": "0AfRB9IH0wfUB9UH1gfXB9gH2QfaB9sH3AfdB94H3wfgB+EH4gfjB+QH",
          "dtype": "i2"
         },
         "xaxis": "x60",
         "y": {
          "bdata": "MzMzMzMz8z8zMzMzMzPzP2ZmZmZmZvI/PQrXo3A98j9cj8L1KFzzP2ZmZmZmZvY/hetRuB6F9z+kcD0K16P4P3sUrkfhevg/cT0K16Nw+T+4HoXrUbj6P/YoXI/C9fw/MzMzMzMz/z/hehSuR+EAQClcj8L1KAJAKVyPwvUoBEApXI/C9SgGQKRwPQrXowhA4XoUrkfhCkDhehSuR+EKQHsUrkfheghA",
          "dtype": "f8"
         },
         "yaxis": "y60"
        },
        {
         "name": "Europe and Central Asia (WB)",
         "showlegend": false,
         "type": "scatter",
         "x": {
          "bdata": "0AfRB9IH0wfUB9UH1gfXB9gH2QfaB9sH3AfdB94H3wfgB+EH4gfjB+QH",
          "dtype": "i2"
         },
         "xaxis": "x61",
         "y": {
          "bdata": "nYL8bORKJkAeUaG6uUAmQLFSQUXVNyZAzLOSVnwjJkDS5GIMrAMmQA/UKY9u7CVA++jUlc/aJUBm2ZPA5sQlQEGBd/LpYSVAM1LvqZzeJEBWYp6VtHokQHxgx3+BSCRAMKGCwwsSJECDiT+KOrsjQGzrp/+sVSNA8FF/vcICI0D/zYsTX8UiQGMMrOP4oSJAuwopP6mGIkCqm4u/7XkiQP2+f/PivCFA",
          "dtype": "f8"
         },
         "yaxis": "y61"
        },
        {
         "name": "European Union (27)",
         "showlegend": false,
         "type": "scatter",
         "x": {
          "bdata": "0AfRB9IH0wfUB9UH1gfXB9gH2QfaB9sH3AfdB94H3wfgB+EH4gfjB+QH",
          "dtype": "i2"
         },
         "xaxis": "x62",
         "y": {
          "bdata": "5Pc2/dmPKEADQ1a3eo4oQD27fOvDWihAQSybOSQdKEDM0HgiiNsnQFUTRN0HqCdAOpD11OpzJ0ArEhPU8E0nQBoxs89j7CZAgEQTKGJ5JkCkG2FREScmQOXuc3y0ACZAYvTcQlfqJUCztb5IaMslQC7+tidIxCVA5+RFJuDPJUDFjVvMz+UlQP7zNGCQ5CVAE4HqH0TmJUC78lmeB+clQNEfmnlybSRA",
          "dtype": "f8"
         },
         "yaxis": "y62"
        },
        {
         "name": "Fiji",
         "showlegend": false,
         "type": "scatter",
         "x": {
          "bdata": "0AfRB9IH0wfUB9UH1gfXB9gH2QfaB9sH3AfdB94H3wfgB+EH4gfjB+QH",
          "dtype": "i2"
         },
         "xaxis": "x63",
         "y": {
          "bdata": "SOF6FK5HA0BI4XoUrkcDQPYoXI/C9QJAmpmZmZmZA0A9CtejcD0EQFyPwvUoXAVAuB6F61G4BkDXo3A9CtcHQGZmZmZmZghA9ihcj8L1BkDNzMzMzMwGQHsUrkfhegZAmpmZmZmZB0DXo3A9CtcHQD0K16NwPQhAexSuR+F6CEBmZmZmZmYIQHE9CtejcAlAmpmZmZmZC0CamZmZmZkLQKRwPQrXowxA",
          "dtype": "f8"
         },
         "yaxis": "y63"
        },
        {
         "name": "Finland",
         "showlegend": false,
         "type": "scatter",
         "x": {
          "bdata": "0AfRB9IH0wfUB9UH1gfXB9gH2QfaB9sH3AfdB94H3wfgB+EH4gfjB+QH",
          "dtype": "i2"
         },
         "xaxis": "x64",
         "y": {
          "bdata": "AAAAAAAAJEAAAAAAAAAkQEjhehSuRyRAZmZmZmbmJEBcj8L1KFwlQGZmZmZm5iVAPQrXo3A9JkDsUbgehWsmQEjhehSuRyZASOF6FK7HJUB7FK5H4XolQAAAAAAAACVAj8L1KFyPJEDXo3A9CtcjQFK4HoXrUSNAXI/C9SjcIkCamZmZmZkiQPYoXI/CdSJAUrgehetRIkBSuB6F61EiQClcj8L1KCJA",
          "dtype": "f8"
         },
         "yaxis": "y64"
        },
        {
         "name": "France",
         "showlegend": false,
         "type": "scatter",
         "x": {
          "bdata": "0AfRB9IH0wfUB9UH1gfXB9gH2QfaB9sH3AfdB94H3wfgB+EH4gfjB+QH",
          "dtype": "i2"
         },
         "xaxis": "x65",
         "y": {
          "bdata": "cT0K16NwK0BxPQrXo3ArQKRwPQrXIytAhetRuB6FKkDhehSuR+EpQB+F61G4nilAAAAAAACAKUDD9Shcj0IpQIXrUbgeBSlAH4XrUbieKEAAAAAAAIAoQLgehetROChAXI/C9SjcJ0CuR+F6FK4nQPYoXI/CdSdA9ihcj8J1J0AzMzMzMzMnQM3MzMzMzCZAmpmZmZmZJkCamZmZmZkmQKRwPQrXoyRA",
          "dtype": "f8"
         },
         "yaxis": "y65"
        },
        {
         "name": "Gabon",
         "showlegend": false,
         "type": "scatter",
         "x": {
          "bdata": "0AfRB9IH0wfUB9UH1gfXB9gH2QfaB9sH3AfdB94H3wfgB+EH4gfjB+QH",
          "dtype": "i2"
         },
         "xaxis": "x66",
         "y": {
          "bdata": "SOF6FK5HI0BI4XoUrkcjQMP1KFyPwiFAj8L1KFyPIEAK16NwPYogQEjhehSuxyFAhetRuB6FIkCPwvUoXI8iQOF6FK5HYSJAmpmZmZkZIkBSuB6F69EhQFyPwvUoXCFAUrgehevRIEBxPQrXo/AgQFK4HoXrUSFAMzMzMzMzIUBmZmZmZmYgQMP1KFyPwh5AUrgehetRHUBSuB6F61EdQEjhehSuRyBA",
          "dtype": "f8"
         },
         "yaxis": "y66"
        },
        {
         "name": "Gambia",
         "showlegend": false,
         "type": "scatter",
         "x": {
          "bdata": "0AfRB9IH0wfUB9UH1gfXB9gH2QfaB9sH3AfdB94H3wfgB+EH4gfjB+QH",
          "dtype": "i2"
         },
         "xaxis": "x67",
         "y": {
          "bdata": "7FG4HoXrDUDsUbgehesNQOF6FK5H4Q5AhetRuB6FD0CamZmZmZkPQKRwPQrXow5AhetRuB6FDUBSuB6F61EMQJqZmZmZmQtAKVyPwvUoCkBcj8L1KFwJQGZmZmZmZghA9ihcj8L1BkAUrkfhehQGQM3MzMzMzAJAj8L1KFyPAEDsUbgehev5P8P1KFyPwvU/w/UoXI/C8T/D9Shcj8LxP4XrUbgeheM/",
          "dtype": "f8"
         },
         "yaxis": "y67"
        },
        {
         "name": "Georgia",
         "showlegend": false,
         "type": "scatter",
         "x": {
          "bdata": "0AfRB9IH0wfUB9UH1gfXB9gH2QfaB9sH3AfdB94H3wfgB+EH4gfjB+QH",
          "dtype": "i2"
         },
         "xaxis": "x68",
         "y": {
          "bdata": "pHA9CtcjJUCkcD0K1yMlQOxRuB6FayRA7FG4HoXrJECuR+F6FC4mQIXrUbgehShAj8L1KFwPK0AK16NwPQotQGZmZmZmZi1AmpmZmZmZLUCuR+F6FK4tQHsUrkfh+i1A16NwPQpXLUBxPQrXo3AsQArXo3A9CixAZmZmZmbmK0BxPQrXo/ArQHE9Ctej8CtAKVyPwvWoLEApXI/C9agsQFK4HoXr0SxA",
          "dtype": "f8"
         },
         "yaxis": "y68"
        },
        {
         "name": "Germany",
         "showlegend": false,
         "type": "scatter",
         "x": {
          "bdata": "0AfRB9IH0wfUB9UH1gfXB9gH2QfaB9sH3AfdB94H3wfgB+EH4gfjB+QH",
          "dtype": "i2"
         },
         "xaxis": "x69",
         "y": {
          "bdata": "pHA9CtejK0CkcD0K16MrQPYoXI/C9SpAhetRuB6FKkCkcD0K1yMqQIXrUbgeBSpASOF6FK7HKUAUrkfhepQpQDMzMzMzMylA7FG4HoXrKEBSuB6F69EoQEjhehSuxyhASOF6FK7HKEAfhetRuJ4oQPYoXI/CdShAzczMzMxMKEDXo3A9ClcoQPYoXI/CdShAcT0K16NwKEBxPQrXo3AoQK5H4XoUridA",
          "dtype": "f8"
         },
         "yaxis": "y69"
        },
        {
         "name": "Ghana",
         "showlegend": false,
         "type": "scatter",
         "x": {
          "bdata": "0AfRB9IH0wfUB9UH1gfXB9gH2QfaB9sH3AfdB94H3wfgB+EH4gfjB+QH",
          "dtype": "i2"
         },
         "xaxis": "x70",
         "y": {
          "bdata": "SOF6FK5HFUBI4XoUrkcVQClcj8L1KBVA4XoUrkfhFEB7FK5H4XoUQHE9CtejcBRAMzMzMzMzE0CF61G4HoUTQKRwPQrXoxNAw/UoXI/CFUDNzMzMzMwVQD0K16NwPRVASOF6FK5HFEBSuB6F61EUQGZmZmZmZhRACtejcD0KFEDXo3A9CtcSQFK4HoXrURJAMzMzMzMzEkAzMzMzMzMSQArXo3A9ChFA",
          "dtype": "f8"
         },
         "yaxis": "y70"
        },
        {
         "name": "Greece",
         "showlegend": false,
         "type": "scatter",
         "x": {
          "bdata": "0AfRB9IH0wfUB9UH1gfXB9gH2QfaB9sH3AfdB94H3wfgB+EH4gfjB+QH",
          "dtype": "i2"
         },
         "xaxis": "x71",
         "y": {
          "bdata": "9ihcj8J1IUD2KFyPwnUhQArXo3A9iiFAMzMzMzOzIUD2KFyPwnUiQArXo3A9iiJArkfhehSuIkCPwvUoXI8iQAAAAAAAgCJAuB6F61E4IkBxPQrXo3AhQPYoXI/C9SBAexSuR+F6IEAzMzMzMzMgQBSuR+F6FB9A7FG4HoXrHUBcj8L1KFwdQB+F61G4Hh1AexSuR+F6HEB7FK5H4XocQD0K16NwPRdA",
          "dtype": "f8"
         },
         "yaxis": "y71"
        },
        {
         "name": "Grenada",
         "showlegend": false,
         "type": "scatter",
         "x": {
          "bdata": "0AfRB9IH0wfUB9UH1gfXB9gH2QfaB9sH3AfdB94H3wfgB+EH4gfjB+QH",
          "dtype": "i2"
         },
         "xaxis": "x72",
         "y": {
          "bdata": "w/UoXI/CHkDD9Shcj8IeQFK4HoXrUR9ArkfhehSuH0CuR+F6FK4fQMP1KFyPwh9ASOF6FK5HIEBxPQrXo3AgQB+F61G4HiBAH4XrUbgeH0AzMzMzMzMeQNejcD0K1x1A7FG4HoXrHUApXI/C9SgeQIXrUbgehR5AFK5H4XoUH0Bcj8L1KFwfQMP1KFyPwh9AH4XrUbgeIEAfhetRuB4gQFK4HoXrUR1A",
          "dtype": "f8"
         },
         "yaxis": "y72"
        },
        {
         "name": "Guatemala",
         "showlegend": false,
         "type": "scatter",
         "x": {
          "bdata": "0AfRB9IH0wfUB9UH1gfXB9gH2QfaB9sH3AfdB94H3wfgB+EH4gfjB+QH",
          "dtype": "i2"
         },
         "xaxis": "x73",
         "y": {
          "bdata": "SOF6FK5HA0BI4XoUrkcDQM3MzMzMzAJAexSuR+F6AkBSuB6F61ECQClcj8L1KAJAKVyPwvUoAkDXo3A9CtcBQDMzMzMzMwFAexSuR+F6AEBSuB6F61EAQAAAAAAAAABA4XoUrkfh/j/2KFyPwvX8P4XrUbgehfs/ZmZmZmZm+j/sUbgehev5P+xRuB6F6/k/FK5H4XoU+j8UrkfhehT6P6RwPQrXo/g/",
          "dtype": "f8"
         },
         "yaxis": "y73"
        },
        {
         "name": "Guinea",
         "showlegend": false,
         "type": "scatter",
         "x": {
          "bdata": "0AfRB9IH0wfUB9UH1gfXB9gH2QfaB9sH3AfdB94H3wfgB+EH4gfjB+QH",
          "dtype": "i2"
         },
         "xaxis": "x74",
         "y": {
          "bdata": "j8L1KFyP0j+PwvUoXI/SPzMzMzMzM9M/9ihcj8L12D9SuB6F61HYPwrXo3A9Ctc/7FG4HoXr0T/sUbgehevRP+xRuB6F69E/j8L1KFyP0j/Xo3A9CtfTP8P1KFyPwtU/CtejcD0K1z/2KFyPwvXYP83MzMzMzNw/AAAAAAAA4D9cj8L1KFzfPxSuR+F6FN4/FK5H4XoU3j8UrkfhehTeP6RwPQrXo+A/",
          "dtype": "f8"
         },
         "yaxis": "y74"
        },
        {
         "name": "Guinea-Bissau",
         "showlegend": false,
         "type": "scatter",
         "x": {
          "bdata": "0AfRB9IH0wfUB9UH1gfXB9gH2QfaB9sH3AfdB94H3wfgB+EH4gfjB+QH",
          "dtype": "i2"
         },
         "xaxis": "x75",
         "y": {
          "bdata": "mpmZmZmZEECamZmZmZkQQI/C9Shcjw5AexSuR+F6DkBSuB6F61EQQM3MzMzMzBFACtejcD0KEkApXI/C9SgRQDMzMzMzMxBAH4XrUbgeD0AK16NwPQoPQHE9CtejcA9AhetRuB6FD0BI4XoUrkcPQEjhehSuRw9A7FG4HoXrD0BSuB6F61EQQMP1KFyPwhBAj8L1KFyPEECPwvUoXI8QQNejcD0K1w1A",
          "dtype": "f8"
         },
         "yaxis": "y75"
        },
        {
         "name": "Guyana",
         "showlegend": false,
         "type": "scatter",
         "x": {
          "bdata": "0AfRB9IH0wfUB9UH1gfXB9gH2QfaB9sH3AfdB94H3wfgB+EH4gfjB+QH",
          "dtype": "i2"
         },
         "xaxis": "x76",
         "y": {
          "bdata": "hetRuB6FFUCF61G4HoUVQFyPwvUoXBdAexSuR+F6GEAUrkfhehQYQEjhehSuRxdArkfhehSuFkB7FK5H4XoWQKRwPQrXoxZAzczMzMzMFkAUrkfhehQXQFK4HoXrURdAj8L1KFyPF0DNzMzMzMwXQHsUrkfhehdAAAAAAAAAF0AUrkfhehQWQKRwPQrXoxVAZmZmZmZmFUBmZmZmZmYVQClcj8L1KBRA",
          "dtype": "f8"
         },
         "yaxis": "y76"
        },
        {
         "name": "Haiti",
         "showlegend": false,
         "type": "scatter",
         "x": {
          "bdata": "0AfRB9IH0wfUB9UH1gfXB9gH2QfaB9sH3AfdB94H3wfgB+EH4gfjB+QH",
          "dtype": "i2"
         },
         "xaxis": "x77",
         "y": {
          "bdata": "j8L1KFyPEECPwvUoXI8QQHE9CtejcBBAXI/C9ShcEEAfhetRuB4QQBSuR+F6FBBA7FG4HoXrD0DXo3A9CtcPQOxRuB6F6w9AUrgehetRDEAfhetRuB4JQOxRuB6F6wVAmpmZmZmZB0B7FK5H4XoIQIXrUbgehQlAw/UoXI/CCUAK16NwPQoLQAAAAAAAAAxAmpmZmZmZC0CamZmZmZkLQOF6FK5H4QhA",
          "dtype": "f8"
         },
         "yaxis": "y77"
        },
        {
         "name": "High-income countries",
         "showlegend": false,
         "type": "scatter",
         "x": {
          "bdata": "0AfRB9IH0wfUB9UH1gfXB9gH2QfaB9sH3AfdB94H3wfgB+EH4gfjB+QH",
          "dtype": "i2"
         },
         "xaxis": "x78",
         "y": {
          "bdata": "3SObq+ZZJUAIAmTo2FElQKkUOxqHOiVAR3TPukYjJUBwfO2ZJRklQFu0AG2rCSVAMpI9Qs34JEBccXFUbtokQNNmnIaokiRAhhxbzxA2JEAOorWizfEjQGPS30vh0SNAUYcVbvmwI0CMoZxoV3kjQByXcVMDPSNAmn0eozwTI0CGWP0RhvEiQJT1m4np2iJAF2GKcmnMIkBlVu9wO8wiQBcMrrmjXyJA",
          "dtype": "f8"
         },
         "yaxis": "y78"
        },
        {
         "name": "Honduras",
         "showlegend": false,
         "type": "scatter",
         "x": {
          "bdata": "0AfRB9IH0wfUB9UH1gfXB9gH2QfaB9sH3AfdB94H3wfgB+EH4gfjB+QH",
          "dtype": "i2"
         },
         "xaxis": "x79",
         "y": {
          "bdata": "uB6F61G4CEC4HoXrUbgIQOxRuB6F6wlAexSuR+F6CkC4HoXrUbgKQB+F61G4HgtAhetRuB6FC0AK16NwPQoLQD0K16NwPQpAhetRuB6FCUAK16NwPQoJQM3MzMzMzAhAzczMzMzMCEDsUbgehesHQEjhehSuRwdAzczMzMzMBkCF61G4HoUHQHsUrkfheghAXI/C9ShcCUBcj8L1KFwJQKRwPQrXowhA",
          "dtype": "f8"
         },
         "yaxis": "y79"
        },
        {
         "name": "Hungary",
         "showlegend": false,
         "type": "scatter",
         "x": {
          "bdata": "0AfRB9IH0wfUB9UH1gfXB9gH2QfaB9sH3AfdB94H3wfgB+EH4gfjB+QH",
          "dtype": "i2"
         },
         "xaxis": "x80",
         "y": {
          "bdata": "w/UoXI/CKEDD9Shcj8IoQNejcD0KVylA4XoUrkdhKUCuR+F6FC4pQClcj8L1KClAuB6F61G4KECF61G4HgUoQAAAAAAAACdAZmZmZmbmJUCuR+F6FK4lQHE9CtejcCVAcT0K16NwJUApXI/C9SglQArXo3A9CiVAXI/C9ShcJUDD9Shcj0IlQAAAAAAAgCVAMzMzMzMzJUAzMzMzMzMlQFyPwvUo3CNA",
          "dtype": "f8"
         },
         "yaxis": "y80"
        },
        {
         "name": "Iceland",
         "showlegend": false,
         "type": "scatter",
         "x": {
          "bdata": "0AfRB9IH0wfUB9UH1gfXB9gH2QfaB9sH3AfdB94H3wfgB+EH4gfjB+QH",
          "dtype": "i2"
         },
         "xaxis": "x81",
         "y": {
          "bdata": "rkfhehSuG0CuR+F6FK4bQClcj8L1KBxApHA9CtejHEBI4XoUrkcdQBSuR+F6FB5AH4XrUbgeH0A9CtejcD0fQEjhehSuRx9AUrgehetRHkDhehSuR+EdQFyPwvUoXB1AUrgehetRHUCF61G4HoUdQI/C9Shcjx5AZmZmZmZmH0CkcD0K1yMgQClcj8L1KCBApHA9CtcjIECkcD0K1yMgQMP1KFyPwh9A",
          "dtype": "f8"
         },
         "yaxis": "y81"
        },
        {
         "name": "India",
         "showlegend": false,
         "type": "scatter",
         "x": {
          "bdata": "0AfRB9IH0wfUB9UH1gfXB9gH2QfaB9sH3AfdB94H3wfgB+EH4gfjB+QH",
          "dtype": "i2"
         },
         "xaxis": "x82",
         "y": {
          "bdata": "hetRuB6F/z+F61G4HoX/P+F6FK5H4QBArkfhehSuAUBSuB6F61ECQB+F61G4HgNAzczMzMzMBECamZmZmZkHQD0K16NwPQxAcT0K16NwEEB7FK5H4XoSQI/C9ShcjxNAFK5H4XoUFEApXI/C9SgUQBSuR+F6FBRA16NwPQrXE0B7FK5H4XoTQHsUrkfhehNArkfhehSuE0CuR+F6FK4TQGZmZmZmZhBA",
          "dtype": "f8"
         },
         "yaxis": "y82"
        },
        {
         "name": "Indonesia",
         "showlegend": false,
         "type": "scatter",
         "x": {
          "bdata": "0AfRB9IH0wfUB9UH1gfXB9gH2QfaB9sH3AfdB94H3wfgB+EH4gfjB+QH",
          "dtype": "i2"
         },
         "xaxis": "x83",
         "y": {
          "bdata": "c2iR7Xw/tT9zaJHtfD+1P4PAyqFFtrM/i2zn+6nxsj+DwMqhRbazP8uhRbbz/bQ/w/UoXI/CtT9iEFg5tMi2P6rx0k1iELg/mpmZmZmZuT+amZmZmZm5Pylcj8L1KLw/KVyPwvUovD8pXI/C9Si8Pylcj8L1KLw/KVyPwvUovD8pXI/C9Si8Pylcj8L1KLw/KVyPwvUovD8pXI/C9Si8P4ts5/up8bI/",
          "dtype": "f8"
         },
         "yaxis": "y83"
        },
        {
         "name": "Iran",
         "showlegend": false,
         "type": "scatter",
         "x": {
          "bdata": "0AfRB9IH0wfUB9UH1gfXB9gH2QfaB9sH3AfdB94H3wfgB+EH4gfjB+QH",
          "dtype": "i2"
         },
         "xaxis": "x84",
         "y": {
          "bdata": "Gy/dJAaBlT8bL90kBoGVP7gehetRuJ4/ukkMAiuHpj9U46WbxCCwP8P1KFyPwrU/uB6F61G4vj/sUbgehevBP3sUrkfhesQ/SOF6FK5H4T/sUbgehevxP1yPwvUoXPc/j8L1KFyP9j9I4XoUrkfpP+F6FK5H4do/KVyPwvUo3D89CtejcD3qPwrXo3A9Cu8/ZmZmZmZm5j9mZmZmZmbmP1K4HoXrUeA/",
          "dtype": "f8"
         },
         "yaxis": "y84"
        },
        {
         "name": "Iraq",
         "showlegend": false,
         "type": "scatter",
         "x": {
          "bdata": "0AfRB9IH0wfUB9UH1gfXB9gH2QfaB9sH3AfdB94H3wfgB+EH4gfjB+QH",
          "dtype": "i2"
         },
         "xaxis": "x85",
         "y": {
          "bdata": "UrgehetRyD9SuB6F61HIPylcj8L1KLw/GQRWDi2yrT8pXI/C9Si8P+xRuB6F68E/w/UoXI/CxT8K16NwPQrHP5qZmZmZmck/KVyPwvUozD+4HoXrUbjOPwAAAAAAANA/uB6F61G4zj9xPQrXo3DNP3E9CtejcM0/cT0K16NwzT+4HoXrUbjOP7gehetRuM4/uB6F61G4zj+4HoXrUbjOP7gehetRuM4/",
          "dtype": "f8"
         },
         "yaxis": "y85"
        },
        {
         "name": "Ireland",
         "showlegend": false,
         "type": "scatter",
         "x": {
          "bdata": "0AfRB9IH0wfUB9UH1gfXB9gH2QfaB9sH3AfdB94H3wfgB+EH4gfjB+QH",
          "dtype": "i2"
         },
         "xaxis": "x86",
         "y": {
          "bdata": "j8L1KFwPLkCPwvUoXA8uQAAAAAAAgC1AXI/C9SjcLEDD9Shcj0IsQEjhehSuRyxAzczMzMxMLEAzMzMzM7MrQD0K16NwPSpACtejcD0KKUDsUbgehWsoQBSuR+F6lChAXI/C9SjcJ0BxPQrXo3AnQHsUrkfh+iZA7FG4HoVrJ0CF61G4HoUnQDMzMzMzsydAZmZmZmZmJ0BmZmZmZmYnQArXo3A9iiVA",
          "dtype": "f8"
         },
         "yaxis": "y86"
        },
        {
         "name": "Israel",
         "showlegend": false,
         "type": "scatter",
         "x": {
          "bdata": "0AfRB9IH0wfUB9UH1gfXB9gH2QfaB9sH3AfdB94H3wfgB+EH4gfjB+QH",
          "dtype": "i2"
         },
         "xaxis": "x87",
         "y": {
          "bdata": "cT0K16NwB0BxPQrXo3AHQPYoXI/C9QZApHA9CtejBkC4HoXrUbgGQM3MzMzMzAZAH4XrUbgeB0CF61G4HoUHQFK4HoXrUQhACtejcD0KCUBI4XoUrkcJQK5H4XoUrglAw/UoXI/CCUAfhetRuB4JQD0K16NwPQhAhetRuB6FB0CamZmZmZkHQMP1KFyPwgdAFK5H4XoUCEAUrkfhehQIQLgehetRuAZA",
          "dtype": "f8"
         },
         "yaxis": "y87"
        },
        {
         "name": "Italy",
         "showlegend": false,
         "type": "scatter",
         "x": {
          "bdata": "0AfRB9IH0wfUB9UH1gfXB9gH2QfaB9sH3AfdB94H3wfgB+EH4gfjB+QH",
          "dtype": "i2"
         },
         "xaxis": "x88",
         "y": {
          "bdata": "ZmZmZmbmI0BmZmZmZuYjQJqZmZmZmSNApHA9CtcjI0D2KFyPwvUhQKRwPQrXoyBA7FG4HoXrHkApXI/C9SgeQArXo3A9Ch1AuB6F61G4HEDhehSuR+EcQEjhehSuRx5Aw/UoXI/CHkCF61G4HoUfQBSuR+F6FB9AuB6F61G4HkBxPQrXo3AeQD0K16NwPR9A4XoUrkfhH0DhehSuR+EfQOF6FK5H4RtA",
          "dtype": "f8"
         },
         "yaxis": "y88"
        },
        {
         "name": "Jamaica",
         "showlegend": false,
         "type": "scatter",
         "x": {
          "bdata": "0AfRB9IH0wfUB9UH1gfXB9gH2QfaB9sH3AfdB94H3wfgB+EH4gfjB+QH",
          "dtype": "i2"
         },
         "xaxis": "x89",
         "y": {
          "bdata": "uB6F61G4CkC4HoXrUbgKQDMzMzMzMwlAzczMzMzMCEDNzMzMzMwIQArXo3A9CglApHA9CtejCEApXI/C9SgIQK5H4XoUrgdA7FG4HoXrB0BSuB6F61EIQArXo3A9CglAmpmZmZmZCUApXI/C9SgKQM3MzMzMzApAH4XrUbgeC0DD9Shcj8ILQGZmZmZmZgxAzczMzMzMDEDNzMzMzMwMQM3MzMzMzAhA",
          "dtype": "f8"
         },
         "yaxis": "y89"
        },
        {
         "name": "Japan",
         "showlegend": false,
         "type": "scatter",
         "x": {
          "bdata": "0AfRB9IH0wfUB9UH1gfXB9gH2QfaB9sH3AfdB94H3wfgB+EH4gfjB+QH",
          "dtype": "i2"
         },
         "xaxis": "x90",
         "y": {
          "bdata": "pHA9CtejHkCkcD0K16MeQEjhehSuRx1AFK5H4XoUHUBSuB6F61EdQKRwPQrXox1APQrXo3A9HUA9CtejcD0cQFyPwvUoXBtAFK5H4XoUG0AUrkfhehQbQBSuR+F6FBtAMzMzMzMzG0AUrkfhehQbQArXo3A9ChtA4XoUrkfhGkAAAAAAAAAbQOF6FK5H4RpAuB6F61G4GkC4HoXrUbgaQIXrUbgehRlA",
          "dtype": "f8"
         },
         "yaxis": "y90"
        },
        {
         "name": "Jordan",
         "showlegend": false,
         "type": "scatter",
         "x": {
          "bdata": "0AfRB9IH0wfUB9UH1gfXB9gH2QfaB9sH3AfdB94H3wfgB+EH4gfjB+QH",
          "dtype": "i2"
         },
         "xaxis": "x91",
         "y": {
          "bdata": "XI/C9Shc3z9cj8L1KFzfP1yPwvUoXN8/XI/C9Shc3z9cj8L1KFzfPwAAAAAAAOA/UrgehetR4D/2KFyPwvXgP/YoXI/C9eA/UrgehetR4D+4HoXrUbjeP83MzMzMzNw/4XoUrkfh2j89CtejcD3aP1K4HoXrUdg/rkfhehSu1z/D9Shcj8LVPx+F61G4HtU/16NwPQrX0z/Xo3A9CtfTP3E9CtejcM0/",
          "dtype": "f8"
         },
         "yaxis": "y91"
        },
        {
         "name": "Kazakhstan",
         "showlegend": false,
         "type": "scatter",
         "x": {
          "bdata": "0AfRB9IH0wfUB9UH1gfXB9gH2QfaB9sH3AfdB94H3wfgB+EH4gfjB+QH",
          "dtype": "i2"
         },
         "xaxis": "x92",
         "y": {
          "bdata": "j8L1KFyPGkCPwvUoXI8aQBSuR+F6FBtA9ihcj8L1G0D2KFyPwvUcQKRwPQrXox1AexSuR+F6GkAUrkfhehQWQArXo3A9ChFA4XoUrkfhEEDNzMzMzMwQQI/C9ShcjxFASOF6FK5HEUCamZmZmZkRQAAAAAAAABFArkfhehSuEEDD9Shcj8IQQOxRuB6F6xFAFK5H4XoUEkAUrkfhehQSQBSuR+F6FBJA",
          "dtype": "f8"
         },
         "yaxis": "y92"
        },
        {
         "name": "Kenya",
         "showlegend": false,
         "type": "scatter",
         "x": {
          "bdata": "0AfRB9IH0wfUB9UH1gfXB9gH2QfaB9sH3AfdB94H3wfgB+EH4gfjB+QH",
          "dtype": "i2"
         },
         "xaxis": "x93",
         "y": {
          "bdata": "SOF6FK5HAUBI4XoUrkcBQEjhehSuRwFAexSuR+F6AECPwvUoXI8AQDMzMzMzMwFACtejcD0KA0CPwvUoXI8CQHsUrkfhegJAuB6F61G4AkAUrkfhehQEQHE9CtejcAVAAAAAAAAABkBSuB6F61EGQGZmZmZmZgZAPQrXo3A9BkDNzMzMzMwGQM3MzMzMzAZA9ihcj8L1BkD2KFyPwvUGQMP1KFyPwgNA",
          "dtype": "f8"
         },
         "yaxis": "y93"
        },
        {
         "name": "Kiribati",
         "showlegend": false,
         "type": "scatter",
         "x": {
          "bdata": "0AfRB9IH0wfUB9UH1gfXB9gH2QfaB9sH3AfdB94H3wfgB+EH4gfjB+QH",
          "dtype": "i2"
         },
         "xaxis": "x94",
         "y": {
          "bdata": "hetRuB6F9z+F61G4HoX3P7gehetRuPY/rkfhehSu8z+PwvUoXI/yP+xRuB6F6/E/ZmZmZmZm8j9SuB6F61HwP2ZmZmZmZu4/w/UoXI/C5T/NzMzMzMzkP+F6FK5H4eI/MzMzMzMz4z/hehSuR+HiP+F6FK5H4eI/uB6F61G45j8AAAAAAADoP/YoXI/C9eg/UrgehetR6D9SuB6F61HoPwrXo3A9Cuc/",
          "dtype": "f8"
         },
         "yaxis": "y94"
        },
        {
         "name": "Kuwait",
         "showlegend": false,
         "type": "scatter",
         "x": {
          "bdata": "0AfRB9IH0wfUB9UH1gfXB9gH2QfaB9sH3AfdB94H3wfgB+EH4gfjB+QH",
          "dtype": "i2"
         },
         "xaxis": "x95",
         "y": {
          "bdata": "AAAAAAAAAAAAAAAAAAAAAAAAAAAAAAAAAAAAAAAAAAAAAAAAAAAAAAAAAAAAAAAAAAAAAAAAAAAAAAAAAAAAAAAAAAAAAAAAAAAAAAAAAAAAAAAAAAAAAAAAAAAAAAAAAAAAAAAAAAAAAAAAAAAAAAAAAAAAAAAAAAAAAAAAAAAAAAAAAAAAAAAAAAAAAAAAAAAAAAAAAAAAAAAAAAAAAAAAAAAAAAAA",
          "dtype": "f8"
         },
         "yaxis": "y95"
        },
        {
         "name": "Kyrgyzstan",
         "showlegend": false,
         "type": "scatter",
         "x": {
          "bdata": "0AfRB9IH0wfUB9UH1gfXB9gH2QfaB9sH3AfdB94H3wfgB+EH4gfjB+QH",
          "dtype": "i2"
         },
         "xaxis": "x96",
         "y": {
          "bdata": "H4XrUbgeFkAfhetRuB4WQBSuR+F6FBlAMzMzMzMzGkCamZmZmZkaQPYoXI/C9RpAH4XrUbgeG0AK16NwPQobQBSuR+F6FBpAzczMzMzMGUCPwvUoXI8ZQClcj8L1KBpAKVyPwvUoGkB7FK5H4XoaQKRwPQrXoxlArkfhehSuGEDsUbgehesWQJqZmZmZmRVAzczMzMzME0DNzMzMzMwTQArXo3A9Cg1A",
          "dtype": "f8"
         },
         "yaxis": "y96"
        },
        {
         "name": "Laos",
         "showlegend": false,
         "type": "scatter",
         "x": {
          "bdata": "0AfRB9IH0wfUB9UH1gfXB9gH2QfaB9sH3AfdB94H3wfgB+EH4gfjB+QH",
          "dtype": "i2"
         },
         "xaxis": "x97",
         "y": {
          "bdata": "XI/C9ShcIEBcj8L1KFwgQIXrUbgehR1ASOF6FK5HHkDXo3A9CtceQEjhehSuRx9AZmZmZmbmIEAUrkfhehQiQFyPwvUoXCNAH4XrUbgeJEDXo3A9CtckQGZmZmZmZiVA9ihcj8J1JUCkcD0K16MlQArXo3A9CiZAH4XrUbieJkBcj8L1KNwmQLgehetRuCZACtejcD0KJ0AK16NwPQonQKRwPQrXoyVA",
          "dtype": "f8"
         },
         "yaxis": "y97"
        },
        {
         "name": "Latin America and Caribbean (WB)",
         "showlegend": false,
         "type": "scatter",
         "x": {
          "bdata": "0AfRB9IH0wfUB9UH1gfXB9gH2QfaB9sH3AfdB94H3wfgB+EH4gfjB+QH",
          "dtype": "i2"
         },
         "xaxis": "x98",
         "y": {
          "bdata": "1Ce5wyZSG0CWsaGb/VEbQA+y0d6FuhpAbToCuFlcGkCS9YpdkW4aQBmYy/xZshpA0el5NxbkGkCc3zDRIPUaQHqrCf2n7hpAHuG04EX3GkCzZOme0O4aQM7Pw7++/BpAOwlbomm/GkCJKZFEL5MaQMV0IVZ/VBpAEff9QF78GUBse7slOZAZQDZAxGHEARlALeKFvgXDGEBio6zfTMQYQLmKxW8KSxdA",
          "dtype": "f8"
         },
         "yaxis": "y98"
        },
        {
         "name": "Latvia",
         "showlegend": false,
         "type": "scatter",
         "x": {
          "bdata": "0AfRB9IH0wfUB9UH1gfXB9gH2QfaB9sH3AfdB94H3wfgB+EH4gfjB+QH",
          "dtype": "i2"
         },
         "xaxis": "x99",
         "y": {
          "bdata": "zczMzMzMIUDNzMzMzMwhQFyPwvUoXCJAexSuR+F6I0CuR+F6FK4kQD0K16NwvSVAZmZmZmbmJkBmZmZmZuYnQKRwPQrXoydA7FG4HoXrJkB7FK5H4folQKRwPQrXIyZA4XoUrkdhJkAUrkfhepQmQM3MzMzMzCZAuB6F61E4J0AzMzMzMzMoQGZmZmZmZilArkfhehQuKkCuR+F6FC4qQD0K16NwvSlA",
          "dtype": "f8"
         },
         "yaxis": "y99"
        },
        {
         "name": "Lebanon",
         "showlegend": false,
         "type": "scatter",
         "x": {
          "bdata": "0AfRB9IH0wfUB9UH1gfXB9gH2QfaB9sH3AfdB94H3wfgB+EH4gfjB+QH",
          "dtype": "i2"
         },
         "xaxis": "x100",
         "y": {
          "bdata": "PQrXo3A9AkA9CtejcD0CQJqZmZmZmQFAzczMzMzMAEBSuB6F61EAQArXo3A9Cv8/mpmZmZmZ/T8fhetRuB79P/YoXI/C9fw/cT0K16Nw/T8fhetRuB79PwAAAAAAAPw/7FG4HoXr+T/NzMzMzMz4P3sUrkfhevg/exSuR+F6+D9SuB6F61H4Pylcj8L1KPg/rkfhehSu9z+uR+F6FK73Pylcj8L1KPQ/",
          "dtype": "f8"
         },
         "yaxis": "y100"
        },
        {
         "name": "Lesotho",
         "showlegend": false,
         "type": "scatter",
         "x": {
          "bdata": "0AfRB9IH0wfUB9UH1gfXB9gH2QfaB9sH3AfdB94H3wfgB+EH4gfjB+QH",
          "dtype": "i2"
         },
         "xaxis": "x101",
         "y": {
          "bdata": "FK5H4XoUDkAUrkfhehQOQJqZmZmZmQ1AMzMzMzMzDUAzMzMzMzMNQDMzMzMzMw1AXI/C9ShcDUCuR+F6FK4NQFK4HoXrUQ5ACtejcD0KDUAfhetRuB4LQI/C9ShcjwhA16NwPQrXB0BSuB6F61EIQOxRuB6F6wlAPQrXo3A9CkAK16NwPQoLQEjhehSuRxBAKVyPwvUoEkApXI/C9SgSQDMzMzMzMxFA",
          "dtype": "f8"
         },
         "yaxis": "y101"
        },
        {
         "name": "Liberia",
         "showlegend": false,
         "type": "scatter",
         "x": {
          "bdata": "0AfRB9IH0wfUB9UH1gfXB9gH2QfaB9sH3AfdB94H3wfgB+EH4gfjB+QH",
          "dtype": "i2"
         },
         "xaxis": "x102",
         "y": {
          "bdata": "AAAAAAAAEkAAAAAAAAASQK5H4XoUrhFAhetRuB6FEUBxPQrXo3ARQEjhehSuRxFAFK5H4XoUEUC4HoXrUbgQQFyPwvUoXBBAw/UoXI/CD0AzMzMzMzMPQD0K16NwPQ5ArkfhehSuDUC4HoXrUbgMQArXo3A9Cg1ACtejcD0KDUBxPQrXo3ANQHE9CtejcA1AH4XrUbgeDUAfhetRuB4NQOF6FK5H4QZA",
          "dtype": "f8"
         },
         "yaxis": "y102"
        },
        {
         "name": "Libya",
         "showlegend": false,
         "type": "scatter",
         "x": {
          "bdata": "0AfRB9IH0wfUB9UH1gfXB9gH2QfaB9sH3AfdB94H3wfgB+EH4gfjB+QH",
          "dtype": "i2"
         },
         "xaxis": "x103",
         "y": {
          "bdata": "eekmMQisfD956SYxCKx8P3npJjEIrHw/eekmMQisnD956SYxCKycP9nO91PjpZs/+n5qvHSTeD/8qfHSTWKAPzvfT42XboI/O99PjZdugj956SYxCKx8P3npJjEIrHw//Knx0k1igD8730+Nl26CPzvfT42XboI/ukkMAiuHhj97FK5H4XqEP/yp8dJNYoA//Knx0k1igD/8qfHSTWKAP/p+arx0k4g/",
          "dtype": "f8"
         },
         "yaxis": "y103"
        },
        {
         "name": "Lithuania",
         "showlegend": false,
         "type": "scatter",
         "x": {
          "bdata": "0AfRB9IH0wfUB9UH1gfXB9gH2QfaB9sH3AfdB94H3wfgB+EH4gfjB+QH",
          "dtype": "i2"
         },
         "xaxis": "x104",
         "y": {
          "bdata": "AAAAAAAAJ0AAAAAAAAAnQNejcD0K1ydAexSuR+H6KEBSuB6F69EpQI/C9ShcDytACtejcD0KLEDXo3A9CtcsQJqZmZmZmSxAAAAAAACAK0CamZmZmRksQFK4HoXrUS1AFK5H4XoUL0CkcD0K1yMvQOxRuB6F6y1A16NwPQpXLECPwvUoXA8qQBSuR+F6lChAFK5H4XqUJ0AUrkfhepQnQDMzMzMzMyhA",
          "dtype": "f8"
         },
         "yaxis": "y104"
        },
        {
         "name": "Low-income countries",
         "showlegend": false,
         "type": "scatter",
         "x": {
          "bdata": "0AfRB9IH0wfUB9UH1gfXB9gH2QfaB9sH3AfdB94H3wfgB+EH4gfjB+QH",
          "dtype": "i2"
         },
         "xaxis": "x105",
         "y": {
          "bdata": "mo3fJYLiC0C4kh0bgegLQNrcPeU9wwtAiQDxBAzcC0CLql/pfDgKQOIxTSIM3QhA9ZlYhXInB0Br7o3GRuUGQH6TAftDngZAeWBbmrYqBkCBJh1AGgkGQDhIiPIFrQVA9z5VhQayBUCv/4TEhxMGQL8rgv+tdAZAxEsmXenLBkA96lSe5Z4GQGula4GYvwZA/a1Tm+7rBkC7tyIxQe0GQCxF8pVAKgZA",
          "dtype": "f8"
         },
         "yaxis": "y105"
        },
        {
         "name": "Lower-middle-income countries",
         "showlegend": false,
         "type": "scatter",
         "x": {
          "bdata": "0AfRB9IH0wfUB9UH1gfXB9gH2QfaB9sH3AfdB94H3wfgB+EH4gfjB+QH",
          "dtype": "i2"
         },
         "xaxis": "x106",
         "y": {
          "bdata": "wUpPom88A0Bs7dhjfT4DQD75BQXv1QNA0qsBSkNtBEDIkt7cBAQFQB8UlKKVywVA6MZPPpjvBkAc3yjDAnkIQACsjhzp/ApAEjsJW6IJDUD+EeG6vQ8PQKp8z0iEBhBAnuxmRj9qEECFKSVfZIUQQAyP/SyWghBAb15BP/htEED2pALdTUYQQOUoQBTMSBBA4/p3feZkEECEEmba/mUQQLQatz3mSAxA",
          "dtype": "f8"
         },
         "yaxis": "y106"
        },
        {
         "name": "Luxembourg",
         "showlegend": false,
         "type": "scatter",
         "x": {
          "bdata": "0AfRB9IH0wfUB9UH1gfXB9gH2QfaB9sH3AfdB94H3wfgB+EH4gfjB+QH",
          "dtype": "i2"
         },
         "xaxis": "x107",
         "y": {
          "bdata": "zczMzMxMK0DNzMzMzEwrQFK4HoXr0SpAw/UoXI9CKkC4HoXrUbgpQAAAAAAAgClASOF6FK5HKUAK16NwPQopQLgehetRuChA4XoUrkdhKEDD9Shcj0IoQBSuR+F6FChAZmZmZmbmJ0C4HoXrUbgnQIXrUbgehSdA7FG4HoVrJ0BSuB6F61EnQClcj8L1KCdAj8L1KFwPJ0CPwvUoXA8nQKRwPQrXoyVA",
          "dtype": "f8"
         },
         "yaxis": "y107"
        },
        {
         "name": "Madagascar",
         "showlegend": false,
         "type": "scatter",
         "x": {
          "bdata": "0AfRB9IH0wfUB9UH1gfXB9gH2QfaB9sH3AfdB94H3wfgB+EH4gfjB+QH",
          "dtype": "i2"
         },
         "xaxis": "x108",
         "y": {
          "bdata": "XI/C9Shc9z9cj8L1KFz3PwAAAAAAAPQ/H4XrUbge8T8AAAAAAADwPxSuR+F6FO4/H4XrUbge7T8pXI/C9SjsP65H4XoUru8/pHA9Ctej8D/2KFyPwvXwP7gehetRuO4/w/UoXI/C7T8K16NwPQrvPylcj8L1KPA/KVyPwvUo8D8AAAAAAADwP1K4HoXrUfA/UrgehetR8D9SuB6F61HwP65H4XoUru8/",
          "dtype": "f8"
         },
         "yaxis": "y108"
        },
        {
         "name": "Malawi",
         "showlegend": false,
         "type": "scatter",
         "x": {
          "bdata": "0AfRB9IH0wfUB9UH1gfXB9gH2QfaB9sH3AfdB94H3wfgB+EH4gfjB+QH",
          "dtype": "i2"
         },
         "xaxis": "x109",
         "y": {
          "bdata": "AAAAAAAACEAAAAAAAAAIQHE9CtejcAdAMzMzMzMzB0AfhetRuB4HQArXo3A9CglA9ihcj8L1CkBmZmZmZmYMQIXrUbgehQtArkfhehSuC0CPwvUoXI8MQK5H4XoUrg1ArkfhehSuDUBxPQrXo3ANQKRwPQrXowxA9ihcj8L1CkCF61G4HoUJQArXo3A9CglA7FG4HoXrCUDsUbgehesJQOF6FK5H4QxA",
          "dtype": "f8"
         },
         "yaxis": "y109"
        },
        {
         "name": "Malaysia",
         "showlegend": false,
         "type": "scatter",
         "x": {
          "bdata": "0AfRB9IH0wfUB9UH1gfXB9gH2QfaB9sH3AfdB94H3wfgB+EH4gfjB+QH",
          "dtype": "i2"
         },
         "xaxis": "x110",
         "y": {
          "bdata": "16NwPQrX4z/Xo3A9CtfjP4XrUbgeheM/16NwPQrX4z/Xo3A9CtfjP+F6FK5H4eI/mpmZmZmZ4T+amZmZmZnhP+xRuB6F6+E/4XoUrkfh4j8zMzMzMzPjP9ejcD0K1+M/KVyPwvUo5D8pXI/C9SjkPylcj8L1KOQ/zczMzMzM5D8UrkfhehTmP1yPwvUoXOc/UrgehetR6D9SuB6F61HoP65H4XoUruc/",
          "dtype": "f8"
         },
         "yaxis": "y110"
        },
        {
         "name": "Maldives",
         "showlegend": false,
         "type": "scatter",
         "x": {
          "bdata": "0AfRB9IH0wfUB9UH1gfXB9gH2QfaB9sH3AfdB94H3wfgB+EH4gfjB+QH",
          "dtype": "i2"
         },
         "xaxis": "x111",
         "y": {
          "bdata": "AAAAAAAA/D8AAAAAAAD8P4/C9Shcj/o/7FG4HoXr+T8zMzMzMzP3P+xRuB6F6/U/j8L1KFyP9j/2KFyPwvX4PxSuR+F6FPo/mpmZmZmZ+T/2KFyPwvX4P1K4HoXrUfg/rkfhehSu9z8zMzMzMzP3Pz0K16NwPfY/mpmZmZmZ9T8fhetRuB71P5qZmZmZmfU/4XoUrkfh9j/hehSuR+H2P9ejcD0K1/c/",
          "dtype": "f8"
         },
         "yaxis": "y111"
        },
        {
         "name": "Mali",
         "showlegend": false,
         "type": "scatter",
         "x": {
          "bdata": "0AfRB9IH0wfUB9UH1gfXB9gH2QfaB9sH3AfdB94H3wfgB+EH4gfjB+QH",
          "dtype": "i2"
         },
         "xaxis": "x112",
         "y": {
          "bdata": "PQrXo3A96j89CtejcD3qP+xRuB6F6+k/mpmZmZmZ6T/2KFyPwvXoP6RwPQrXo+g/9ihcj8L16D9I4XoUrkfpP0jhehSuR+k/9ihcj8L1AEAzMzMzMzMLQM3MzMzMzBJAzczMzMzMEUDD9Shcj8IRQM3MzMzMzBFAXI/C9ShcEkD2KFyPwvURQIXrUbgehRFAZmZmZmZmEUBmZmZmZmYRQEjhehSuRxVA",
          "dtype": "f8"
         },
         "yaxis": "y112"
        },
        {
         "name": "Malta",
         "showlegend": false,
         "type": "scatter",
         "x": {
          "bdata": "0AfRB9IH0wfUB9UH1gfXB9gH2QfaB9sH3AfdB94H3wfgB+EH4gfjB+QH",
          "dtype": "i2"
         },
         "xaxis": "x113",
         "y": {
          "bdata": "zczMzMzMFkDNzMzMzMwWQHE9CtejcBdAFK5H4XoUGECPwvUoXI8YQBSuR+F6FBtAzczMzMzMHEDhehSuR+EdQJqZmZmZmRxApHA9CtejG0CkcD0K16MbQM3MzMzMzBtAmpmZmZmZHEAUrkfhehQdQKRwPQrXox1A4XoUrkfhHkBI4XoUrkcgQOF6FK5H4SBACtejcD0KIUAK16NwPQohQHE9CtejcBxA",
          "dtype": "f8"
         },
         "yaxis": "y113"
        },
        {
         "name": "Mauritania",
         "showlegend": false,
         "type": "scatter",
         "x": {
          "bdata": "0AfRB9IH0wfUB9UH1gfXB9gH2QfaB9sH3AfdB94H3wfgB+EH4gfjB+QH",
          "dtype": "i2"
         },
         "xaxis": "x114",
         "y": {
          "bdata": "AAAAAAAAAAAAAAAAAAAAAAAAAAAAAAAAAAAAAAAAAAAAAAAAAAAAAAAAAAAAAAAAAAAAAAAAAAAAAAAAAAAAAAAAAAAAAAAAAAAAAAAAAAAAAAAAAAAAAAAAAAAAAAAAAAAAAAAAAAAAAAAAAAAAAAAAAAAAAAAAAAAAAAAAAAAAAAAAAAAAAAAAAAAAAAAAAAAAAAAAAAAAAAAAAAAAAAAAAAAAAAAA",
          "dtype": "f8"
         },
         "yaxis": "y114"
        },
        {
         "name": "Mauritius",
         "showlegend": false,
         "type": "scatter",
         "x": {
          "bdata": "0AfRB9IH0wfUB9UH1gfXB9gH2QfaB9sH3AfdB94H3wfgB+EH4gfjB+QH",
          "dtype": "i2"
         },
         "xaxis": "x115",
         "y": {
          "bdata": "hetRuB4FIECF61G4HgUgQLgehetRuB9AmpmZmZmZH0C4HoXrUbgfQHE9CtejcB9AFK5H4XoUH0BmZmZmZmYeQFyPwvUoXB5ASOF6FK5HHkCuR+F6FK4eQHE9CtejcB5AXI/C9ShcHkAK16NwPQoeQJqZmZmZmR1AmpmZmZmZHUCamZmZmZkdQBSuR+F6FB5AFK5H4XoUHkAUrkfhehQeQHE9CtejcBtA",
          "dtype": "f8"
         },
         "yaxis": "y115"
        },
        {
         "name": "Mexico",
         "showlegend": false,
         "type": "scatter",
         "x": {
          "bdata": "0AfRB9IH0wfUB9UH1gfXB9gH2QfaB9sH3AfdB94H3wfgB+EH4gfjB+QH",
          "dtype": "i2"
         },
         "xaxis": "x116",
         "y": {
          "bdata": "pHA9CtejGECkcD0K16MYQGZmZmZmZhhAXI/C9ShcGEB7FK5H4XoYQMP1KFyPwhhAuB6F61G4F0CuR+F6FK4WQJqZmZmZmRVAUrgehetRFUDsUbgehesUQDMzMzMzMxRArkfhehSuE0B7FK5H4XoTQOxRuB6F6xNAmpmZmZmZFECF61G4HoUVQClcj8L1KBZA4XoUrkfhFkDhehSuR+EWQClcj8L1KBNA",
          "dtype": "f8"
         },
         "yaxis": "y116"
        },
        {
         "name": "Micronesia (country)",
         "showlegend": false,
         "type": "scatter",
         "x": {
          "bdata": "0AfRB9IH0wfUB9UH1gfXB9gH2QfaB9sH3AfdB94H3wfgB+EH4gfjB+QH",
          "dtype": "i2"
         },
         "xaxis": "x117",
         "y": {
          "bdata": "H4XrUbgeC0AfhetRuB4LQOxRuB6F6w1AXI/C9ShcC0CPwvUoXI8IQBSuR+F6FARAzczMzMzMAkD2KFyPwvUCQAAAAAAAAARAUrgehetRBEAAAAAAAAAEQKRwPQrXowZAKVyPwvUoBkD2KFyPwvUEQM3MzMzMzABAuB6F61G4AEAK16NwPQoBQArXo3A9CgFA9ihcj8L1AED2KFyPwvUAQClcj8L1KABA",
          "dtype": "f8"
         },
         "yaxis": "y117"
        },
        {
         "name": "Middle East and North Africa (WB)",
         "showlegend": false,
         "type": "scatter",
         "x": {
          "bdata": "0AfRB9IH0wfUB9UH1gfXB9gH2QfaB9sH3AfdB94H3wfgB+EH4gfjB+QH",
          "dtype": "i2"
         },
         "xaxis": "x118",
         "y": {
          "bdata": "CFf+hMy42T+FSOHVzaDZPzsHKj6ZWtk/lXMxH3OS2T8TjaSTW0naPweGYuHav9o/Rd84hIUu2z8uR36zgwDcP8CW9IP85Nw/1K5T9qde4T8nn8MhwC7lP6jF4GHa9+Y/Q4VVguYP5j81omqq3aXhP0O2Rfw3rd4//sboyrEG3z+4ANmQJO3hPxbYpT533+I/l52PfG8d4T9s87UdCQrhP+fEHtrHitw/",
          "dtype": "f8"
         },
         "yaxis": "y118"
        },
        {
         "name": "Middle-income countries",
         "showlegend": false,
         "type": "scatter",
         "x": {
          "bdata": "0AfRB9IH0wfUB9UH1gfXB9gH2QfaB9sH3AfdB94H3wfgB+EH4gfjB+QH",
          "dtype": "i2"
         },
         "xaxis": "x119",
         "y": {
          "bdata": "ubU7WoslC0CfsB+9PBgLQPUSY5l+mQpAFHAZgcJqCkBMESqCSasKQMdMol7wiQtARhW0f1T5DEB3SDFAopkOQOpKuhxlYxBAX8vQHWl9EUCbWOArusUSQKweMA+ZshNAOBJosKlTFECFeY8zTYgUQNGJTuDniRRAfXbAdcV8FEBaPtwfOSMUQIbJVMGoVBNAJT0MrU5uEkAAOWHCaG4SQEJmHUQhqA9A",
          "dtype": "f8"
         },
         "yaxis": "y119"
        },
        {
         "name": "Moldova",
         "showlegend": false,
         "type": "scatter",
         "x": {
          "bdata": "0AfRB9IH0wfUB9UH1gfXB9gH2QfaB9sH3AfdB94H3wfgB+EH4gfjB+QH",
          "dtype": "i2"
         },
         "xaxis": "x120",
         "y": {
          "bdata": "uB6F61G4JEC4HoXrUbgkQOF6FK5HYSZAcT0K16PwJ0AAAAAAAIApQGZmZmZm5ilA9ihcj8J1KUAUrkfhepQoQFK4HoXrUSdAMzMzMzOzJkBcj8L1KNwmQAAAAAAAAChA4XoUrkfhKEAAAAAAAIAoQJqZmZmZmSdAMzMzMzOzJkB7FK5H4XomQClcj8L1qCZAuB6F61G4JkC4HoXrUbgmQClcj8L1KCZA",
          "dtype": "f8"
         },
         "yaxis": "y120"
        },
        {
         "name": "Mongolia",
         "showlegend": false,
         "type": "scatter",
         "x": {
          "bdata": "0AfRB9IH0wfUB9UH1gfXB9gH2QfaB9sH3AfdB94H3wfgB+EH4gfjB+QH",
          "dtype": "i2"
         },
         "xaxis": "x121",
         "y": {
          "bdata": "pHA9CtejBkCkcD0K16MGQB+F61G4HgVAhetRuB6FA0BxPQrXo3ALQArXo3A9ChJASOF6FK5HHECamZmZmZkgQOxRuB6F6yFAAAAAAAAAIUAK16NwPQofQKRwPQrXIyBAPQrXo3A9I0BSuB6F61ElQFyPwvUo3CVAUrgehetRI0DNzMzMzEwhQGZmZmZm5iBAuB6F61G4H0C4HoXrUbgfQLgehetRuB5A",
          "dtype": "f8"
         },
         "yaxis": "y121"
        },
        {
         "name": "Montenegro",
         "showlegend": false,
         "type": "scatter",
         "x": {
          "bdata": "2gffB+MH",
          "dtype": "i2"
         },
         "xaxis": "x122",
         "y": {
          "bdata": "zczMzMzMJECamZmZmRkjQK5H4XoUriRA",
          "dtype": "f8"
         },
         "yaxis": "y122"
        },
        {
         "name": "Morocco",
         "showlegend": false,
         "type": "scatter",
         "x": {
          "bdata": "0AfRB9IH0wfUB9UH1gfXB9gH2QfaB9sH3AfdB94H3wfgB+EH4gfjB+QH",
          "dtype": "i2"
         },
         "xaxis": "x123",
         "y": {
          "bdata": "cT0K16Nw3T9xPQrXo3DdPxSuR+F6FN4/uB6F61G43j+4HoXrUbjeP7gehetRuN4/XI/C9Shc3z8AAAAAAADgP6RwPQrXo+A/UrgehetR4D8AAAAAAADgP7gehetRuN4/FK5H4XoU3j9xPQrXo3DdP4XrUbgehds/PQrXo3A92j89CtejcD3aPylcj8L1KNw/XI/C9Shc3z9cj8L1KFzfPwAAAAAAAOA/",
          "dtype": "f8"
         },
         "yaxis": "y123"
        },
        {
         "name": "Mozambique",
         "showlegend": false,
         "type": "scatter",
         "x": {
          "bdata": "0AfRB9IH0wfUB9UH1gfXB9gH2QfaB9sH3AfdB94H3wfgB+EH4gfjB+QH",
          "dtype": "i2"
         },
         "xaxis": "x124",
         "y": {
          "bdata": "cT0K16Nw8T9xPQrXo3DxP/YoXI/C9fA/zczMzMzM8D/2KFyPwvXwP83MzMzMzPA/zczMzMzM8D9I4XoUrkfxP+xRuB6F6/E/uB6F61G48j+uR+F6FK7zP0jhehSuR/U/uB6F61G49j8pXI/C9Sj4P8P1KFyPwvk/KVyPwvUo/D8UrkfhehT+P4XrUbgehf8/PQrXo3A9AEA9CtejcD0AQD0K16NwPf4/",
          "dtype": "f8"
         },
         "yaxis": "y124"
        },
        {
         "name": "Myanmar",
         "showlegend": false,
         "type": "scatter",
         "x": {
          "bdata": "0AfRB9IH0wfUB9UH1gfXB9gH2QfaB9sH3AfdB94H3wfgB+EH4gfjB+QH",
          "dtype": "i2"
         },
         "xaxis": "x125",
         "y": {
          "bdata": "rkfhehSu1z+uR+F6FK7XP6RwPQrXo+A/cT0K16Nw5T/D9Shcj8LlP7gehetRuOY/AAAAAAAA6D/sUbgehevpP83MzMzMzOw/XI/C9Shc7z+amZmZmZnxP65H4XoUrvM/mpmZmZmZ9T8zMzMzMzP3P1K4HoXrUfg/7FG4HoXr+T8pXI/C9Sj8P4/C9Shcj/4/9ihcj8L1AED2KFyPwvUAQOF6FK5H4f4/",
          "dtype": "f8"
         },
         "yaxis": "y125"
        },
        {
         "name": "Namibia",
         "showlegend": false,
         "type": "scatter",
         "x": {
          "bdata": "0AfRB9IH0wfUB9UH1gfXB9gH2QfaB9sH3AfdB94H3wfgB+EH4gfjB+QH",
          "dtype": "i2"
         },
         "xaxis": "x126",
         "y": {
          "bdata": "mpmZmZmZEkCamZmZmZkSQEjhehSuRxJAMzMzMzMzEkD2KFyPwvURQM3MzMzMzBFAhetRuB6FEUC4HoXrUbgRQHE9CtejcBJAFK5H4XoUE0DXo3A9CtcTQFK4HoXrURRAXI/C9ShcFUA9CtejcD0WQDMzMzMzMxdACtejcD0KGEBcj8L1KFwYQFyPwvUoXBhAuB6F61G4F0C4HoXrUbgXQDMzMzMzMxRA",
          "dtype": "f8"
         },
         "yaxis": "y126"
        },
        {
         "name": "Nauru",
         "showlegend": false,
         "type": "scatter",
         "x": {
          "bdata": "0AfRB9IH0wfUB9UH1gfXB9gH2QfaB9sH3AfdB94H3wfgB+EH4gfjB+QH",
          "dtype": "i2"
         },
         "xaxis": "x127",
         "y": {
          "bdata": "4XoUrkfhEUDhehSuR+ERQPYoXI/C9QpAKVyPwvUoCkD2KFyPwvUGQBSuR+F6FAZAexSuR+F6BEAUrkfhehQGQFyPwvUoXAVAFK5H4XoUDECkcD0K16MQQAAAAAAAABNAFK5H4XoUEEDNzMzMzMwKQJqZmZmZmQdAhetRuB6FB0CF61G4HoUHQIXrUbgehQdAhetRuB6FB0CF61G4HoUHQFK4HoXrUQZA",
          "dtype": "f8"
         },
         "yaxis": "y127"
        },
        {
         "name": "Nepal",
         "showlegend": false,
         "type": "scatter",
         "x": {
          "bdata": "0AfRB9IH0wfUB9UH1gfXB9gH2QfaB9sH3AfdB94H3wfgB+EH4gfjB+QH",
          "dtype": "i2"
         },
         "xaxis": "x128",
         "y": {
          "bdata": "mpmZmZmZyT+amZmZmZnJPwAAAAAAANA/16NwPQrX0z/Xo3A9CtfTP9ejcD0K19M/MzMzMzMz0z8zMzMzMzPTP9ejcD0K19M/exSuR+F65D9mZmZmZmbuP9ejcD0K1/M/KVyPwvUo9D9mZmZmZmbyP+F6FK5H4fI/hetRuB6F8z+amZmZmZn1P3E9CtejcPU/w/UoXI/C9T/D9Shcj8L1P/YoXI/C9fA/",
          "dtype": "f8"
         },
         "yaxis": "y128"
        },
        {
         "name": "Netherlands",
         "showlegend": false,
         "type": "scatter",
         "x": {
          "bdata": "0AfRB9IH0wfUB9UH1gfXB9gH2QfaB9sH3AfdB94H3wfgB+EH4gfjB+QH",
          "dtype": "i2"
         },
         "xaxis": "x129",
         "y": {
          "bdata": "SOF6FK5HJkBI4XoUrkcmQFK4HoXr0SVAH4XrUbieJUD2KFyPwnUlQAAAAAAAgCVAXI/C9ShcJUDXo3A9ClclQIXrUbgeBSVAPQrXo3C9JEBmZmZmZmYkQNejcD0KVyRAexSuR+H6I0AK16NwPYojQAAAAAAAACNAw/UoXI/CIkApXI/C9agiQK5H4XoUriJAmpmZmZmZIkCamZmZmZkiQOxRuB6FayFA",
          "dtype": "f8"
         },
         "yaxis": "y129"
        },
        {
         "name": "New Zealand",
         "showlegend": false,
         "type": "scatter",
         "x": {
          "bdata": "0AfRB9IH0wfUB9UH1gfXB9gH2QfaB9sH3AfdB94H3wfgB+EH4gfjB+QH",
          "dtype": "i2"
         },
         "xaxis": "x130",
         "y": {
          "bdata": "CtejcD2KI0AK16NwPYojQJqZmZmZmSNAZmZmZmbmI0AK16NwPQokQM3MzMzMTCRAzczMzMxMJEBmZmZmZmYkQM3MzMzMTCRAFK5H4XqUJECPwvUoXI8kQAAAAAAAgCRApHA9CtcjJEBSuB6F69EjQHsUrkfheiNA4XoUrkdhI0DsUbgehWsjQDMzMzMzsyNASOF6FK7HI0BI4XoUrscjQArXo3A9CiRA",
          "dtype": "f8"
         },
         "yaxis": "y130"
        },
        {
         "name": "Nicaragua",
         "showlegend": false,
         "type": "scatter",
         "x": {
          "bdata": "0AfRB9IH0wfUB9UH1gfXB9gH2QfaB9sH3AfdB94H3wfgB+EH4gfjB+QH",
          "dtype": "i2"
         },
         "xaxis": "x131",
         "y": {
          "bdata": "cT0K16NwD0BxPQrXo3APQNejcD0K1w9AUrgehetREECPwvUoXI8QQHE9CtejcBBAexSuR+F6EEBcj8L1KFwQQNejcD0K1w9ApHA9CtejDkAAAAAAAAAOQM3MzMzMzA5AXI/C9ShcD0DsUbgehesPQB+F61G4HhBAcT0K16NwEEDsUbgehesQQPYoXI/C9RBArkfhehSuEECuR+F6FK4QQFyPwvUoXA1A",
          "dtype": "f8"
         },
         "yaxis": "y131"
        },
        {
         "name": "Niger",
         "showlegend": false,
         "type": "scatter",
         "x": {
          "bdata": "0AfRB9IH0wfUB9UH1gfXB9gH2QfaB9sH3AfdB94H3wfgB+EH4gfjB+QH",
          "dtype": "i2"
         },
         "xaxis": "x132",
         "y": {
          "bdata": "7FG4HoXrwT/sUbgehevBP+xRuB6F68E/7FG4HoXrwT/sUbgehevBP+xRuB6F68E/7FG4HoXrwT8zMzMzMzPDPzMzMzMzM8M/exSuR+F6xD/D9Shcj8LFPwrXo3A9Csc/CtejcD0Kxz8K16NwPQrHPwrXo3A9Csc/CtejcD0Kxz/D9Shcj8LFPzMzMzMzM8M/pHA9CtejwD+kcD0K16PAP6RwPQrXo8A/",
          "dtype": "f8"
         },
         "yaxis": "y132"
        },
        {
         "name": "Nigeria",
         "showlegend": false,
         "type": "scatter",
         "x": {
          "bdata": "0AfRB9IH0wfUB9UH1gfXB9gH2QfaB9sH3AfdB94H3wfgB+EH4gfjB+QH",
          "dtype": "i2"
         },
         "xaxis": "x133",
         "y": {
          "bdata": "uB6F61G4H0C4HoXrUbgfQJqZmZmZmR9ArkfhehSuH0DD9Shcj8IfQKRwPQrXox9AZmZmZmZmH0AAAAAAAAAfQIXrUbgehR5Aw/UoXI/CGEA9CtejcD0UQNejcD0K1w9AH4XrUbgeEUBSuB6F61ERQI/C9ShcjxFAj8L1KFyPEUBmZmZmZmYRQClcj8L1KBFA16NwPQrXEEDXo3A9CtcQQD0K16NwPQ5A",
          "dtype": "f8"
         },
         "yaxis": "y133"
        },
        {
         "name": "North America (WB)",
         "showlegend": false,
         "type": "scatter",
         "x": {
          "bdata": "0AfRB9IH0wfUB9UH1gfXB9gH2QfaB9sH3AfdB94H3wfgB+EH4gfjB+QH",
          "dtype": "i2"
         },
         "xaxis": "x134",
         "y": {
          "bdata": "Ei9P54oqIkDRXKeRlioiQJOKxtrfSSJAKGVSQxtoIkDlYDYBho0iQDLp76XwsCJAhUGZRpPbIkB9lBEXgP4iQFiMutbeByNALLmKxW/qIkDgaMcNv9siQOjbgqW68CJA2GZjJeYRI0B6ceKrHR0jQGvwvioXCiNAOUayR6gRI0BW1jbF4xojQJ4Hd2ftLiNAmBQfn5A1I0CponiVtTUjQK7vw0FCzCNA",
          "dtype": "f8"
         },
         "yaxis": "y134"
        },
        {
         "name": "North Korea",
         "showlegend": false,
         "type": "scatter",
         "x": {
          "bdata": "0AfRB9IH0wfUB9UH1gfXB9gH2QfaB9sH3AfdB94H3wfgB+EH4gfjB+QH",
          "dtype": "i2"
         },
         "xaxis": "x135",
         "y": {
          "bdata": "9ihcj8L1DkD2KFyPwvUOQClcj8L1KA5A7FG4HoXrD0AfhetRuB4QQFyPwvUoXBBAXI/C9ShcEEBSuB6F61EQQHE9CtejcBBAH4XrUbgeEUC4HoXrUbgRQArXo3A9ChJAFK5H4XoUEkAK16NwPQoSQNejcD0K1xFAzczMzMzMEUCamZmZmZkRQGZmZmZmZhFAKVyPwvUoEUApXI/C9SgRQPYoXI/C9Q5A",
          "dtype": "f8"
         },
         "yaxis": "y135"
        },
        {
         "name": "North Macedonia",
         "showlegend": false,
         "type": "scatter",
         "x": {
          "bdata": "0AfRB9IH0wfUB9UH1gfXB9gH2QfaB9sH3AfdB94H3wfgB+EH4gfjB+QH",
          "dtype": "i2"
         },
         "xaxis": "x136",
         "y": {
          "bdata": "16NwPQrXEUDXo3A9CtcRQOxRuB6F6xJAw/UoXI/CE0AK16NwPQoUQArXo3A9ChNAXI/C9ShcEkAK16NwPQoSQNejcD0K1xFAuB6F61G4EUBI4XoUrkcRQFyPwvUoXBFAXI/C9ShcEUBI4XoUrkcRQD0K16NwPRFAMzMzMzMzEUBxPQrXo3ARQOxRuB6F6xFAexSuR+F6EkB7FK5H4XoSQHE9CtejcBFA",
          "dtype": "f8"
         },
         "yaxis": "y136"
        },
        {
         "name": "Norway",
         "showlegend": false,
         "type": "scatter",
         "x": {
          "bdata": "0AfRB9IH0wfUB9UH1gfXB9gH2QfaB9sH3AfdB94H3wfgB+EH4gfjB+QH",
          "dtype": "i2"
         },
         "xaxis": "x137",
         "y": {
          "bdata": "hetRuB6FGkCF61G4HoUaQArXo3A9ChtAAAAAAAAAHECamZmZmZkcQBSuR+F6FB1AexSuR+F6HUDsUbgehesdQDMzMzMzMx5AKVyPwvUoHkC4HoXrUbgdQAAAAAAAAB1AZmZmZmZmHEDXo3A9CtcbQIXrUbgehRtAUrgehetRG0A9CtejcD0bQD0K16NwPRtAMzMzMzMzG0AzMzMzMzMbQIXrUbgehR1A",
          "dtype": "f8"
         },
         "yaxis": "y137"
        },
        {
         "name": "Oman",
         "showlegend": false,
         "type": "scatter",
         "x": {
          "bdata": "0AfRB9IH0wfUB9UH1gfXB9gH2QfaB9sH3AfdB94H3wfgB+EH4gfjB+QH",
          "dtype": "i2"
         },
         "xaxis": "x138",
         "y": {
          "bdata": "PQrXo3A96j89CtejcD3qP3sUrkfheuw/XI/C9Shc7z+kcD0K16PwP6RwPQrXo/A/AAAAAAAA8D/D9Shcj8LtP83MzMzMzOw/exSuR+F67D8pXI/C9SjsP9ejcD0K1+s/4XoUrkfh6j+amZmZmZnpP0jhehSuR+k/7FG4HoXr6T8zMzMzMzPrP9ejcD0K1+s/KVyPwvUo7D8pXI/C9SjsP1K4HoXrUeA/",
          "dtype": "f8"
         },
         "yaxis": "y138"
        },
        {
         "name": "Pakistan",
         "showlegend": false,
         "type": "scatter",
         "x": {
          "bdata": "0AfRB9IH0wfUB9UH1gfXB9gH2QfaB9sH3AfdB94H3wfgB+EH4gfjB+QH",
          "dtype": "i2"
         },
         "xaxis": "x139",
         "y": {
          "bdata": "TDeJQWDloD9MN4lBYOWgP1g5tMh2vp8//Knx0k1ioD/LoUW28/2kP5qZmZmZmak/aJHtfD81rj8IrBxaZDuvPwisHFpkO68/kxgEVg4tsj/TTWIQWDm0P8P1KFyPwrU/Gy/dJAaBtT8bL90kBoG1P2IQWDm0yLY/+n5qvHSTuD/y0k1iEFi5P5qZmZmZmbk/mpmZmZmZuT+amZmZmZm5Pxsv3SQGgbU/",
          "dtype": "f8"
         },
         "yaxis": "y139"
        },
        {
         "name": "Panama",
         "showlegend": false,
         "type": "scatter",
         "x": {
          "bdata": "0AfRB9IH0wfUB9UH1gfXB9gH2QfaB9sH3AfdB94H3wfgB+EH4gfjB+QH",
          "dtype": "i2"
         },
         "xaxis": "x140",
         "y": {
          "bdata": "exSuR+F6FUB7FK5H4XoVQD0K16NwPRVAcT0K16NwFUBcj8L1KFwVQIXrUbgehRVACtejcD0KFkB7FK5H4XoXQNejcD0K1xhAw/UoXI/CGUAK16NwPQoaQClcj8L1KBpASOF6FK5HGkBxPQrXo3AaQJqZmZmZmRpAXI/C9ShcGkB7FK5H4XoaQEjhehSuRxpAZmZmZmZmGkBmZmZmZmYaQKRwPQrXoxJA",
          "dtype": "f8"
         },
         "yaxis": "y140"
        },
        {
         "name": "Papua New Guinea",
         "showlegend": false,
         "type": "scatter",
         "x": {
          "bdata": "0AfRB9IH0wfUB9UH1gfXB9gH2QfaB9sH3AfdB94H3wfgB+EH4gfjB+QH",
          "dtype": "i2"
         },
         "xaxis": "x141",
         "y": {
          "bdata": "cT0K16NwAUBxPQrXo3ABQLgehetRuABAuB6F61G4/j9mZmZmZmb+PxSuR+F6FP4/4XoUrkfh/j9mZmZmZmb+P7gehetRuP4/ZmZmZmZm+j9mZmZmZmb2PwAAAAAAAPQ/w/UoXI/C9T/2KFyPwvX4P7gehetRuPo/rkfhehSu+z/Xo3A9Ctf7Pylcj8L1KPw/MzMzMzMz+z8zMzMzMzP7PxSuR+F6FPI/",
          "dtype": "f8"
         },
         "yaxis": "y141"
        },
        {
         "name": "Paraguay",
         "showlegend": false,
         "type": "scatter",
         "x": {
          "bdata": "0AfRB9IH0wfUB9UH1gfXB9gH2QfaB9sH3AfdB94H3wfgB+EH4gfjB+QH",
          "dtype": "i2"
         },
         "xaxis": "x142",
         "y": {
          "bdata": "uB6F61G4FkC4HoXrUbgWQClcj8L1KBVAw/UoXI/CFECuR+F6FK4VQIXrUbgehRdApHA9CtejGEBI4XoUrkcaQFyPwvUoXBpAhetRuB6FGkB7FK5H4XoZQBSuR+F6FBlAPQrXo3A9GEAfhetRuB4XQDMzMzMzMxZApHA9CtejFUDD9Shcj8IVQB+F61G4HhZAZmZmZmZmFkBmZmZmZmYWQHsUrkfhehZA",
          "dtype": "f8"
         },
         "yaxis": "y142"
        },
        {
         "name": "Peru",
         "showlegend": false,
         "type": "scatter",
         "x": {
          "bdata": "0AfRB9IH0wfUB9UH1gfXB9gH2QfaB9sH3AfdB94H3wfgB+EH4gfjB+QH",
          "dtype": "i2"
         },
         "xaxis": "x143",
         "y": {
          "bdata": "H4XrUbgeGEAfhetRuB4YQI/C9ShcjxdAFK5H4XoUGEB7FK5H4XoYQLgehetRuBhA7FG4HoXrGEDsUbgehesZQKRwPQrXoxpAexSuR+F6HEApXI/C9SgeQAAAAAAAACBApHA9CtcjIECkcD0K16MfQLgehetRuB5AMzMzMzMzHkAzMzMzMzMeQB+F61G4Hh5AzczMzMzMHUDNzMzMzMwdQM3MzMzMzBlA",
          "dtype": "f8"
         },
         "yaxis": "y143"
        },
        {
         "name": "Philippines",
         "showlegend": false,
         "type": "scatter",
         "x": {
          "bdata": "0AfRB9IH0wfUB9UH1gfXB9gH2QfaB9sH3AfdB94H3wfgB+EH4gfjB+QH",
          "dtype": "i2"
         },
         "xaxis": "x144",
         "y": {
          "bdata": "SOF6FK5HF0BI4XoUrkcXQBSuR+F6FBdACtejcD0KF0D2KFyPwvUWQI/C9ShcjxZASOF6FK5HFkBcj8L1KFwWQM3MzMzMzBZAuB6F61G4F0B7FK5H4XoYQFK4HoXrURlArkfhehSuGEA9CtejcD0YQFyPwvUoXBdAZmZmZmZmF0CamZmZmZkXQClcj8L1KBhAuB6F61G4GEC4HoXrUbgYQKRwPQrXoxZA",
          "dtype": "f8"
         },
         "yaxis": "y144"
        },
        {
         "name": "Poland",
         "showlegend": false,
         "type": "scatter",
         "x": {
          "bdata": "0AfRB9IH0wfUB9UH1gfXB9gH2QfaB9sH3AfdB94H3wfgB+EH4gfjB+QH",
          "dtype": "i2"
         },
         "xaxis": "x145",
         "y": {
          "bdata": "zczMzMxMI0DNzMzMzEwjQClcj8L1qCNAexSuR+F6JEAUrkfhehQlQOxRuB6FayVAFK5H4XoUJkAAAAAAAAAnQDMzMzMzMydAexSuR+H6JkCamZmZmZkmQBSuR+F6lCZA9ihcj8L1JkAK16NwPQonQClcj8L1KCdA7FG4HoXrJkBxPQrXo/AmQAAAAAAAACdAw/UoXI9CJ0DD9Shcj0InQFK4HoXrUSdA",
          "dtype": "f8"
         },
         "yaxis": "y145"
        },
        {
         "name": "Portugal",
         "showlegend": false,
         "type": "scatter",
         "x": {
          "bdata": "0AfRB9IH0wfUB9UH1gfXB9gH2QfaB9sH3AfdB94H3wfgB+EH4gfjB+QH",
          "dtype": "i2"
         },
         "xaxis": "x146",
         "y": {
          "bdata": "CtejcD2KKUAK16NwPYopQDMzMzMzMylA9ihcj8L1KEAfhetRuJ4oQFyPwvUoXChAZmZmZmbmJ0CPwvUoXI8nQFyPwvUoXCdArkfhehQuJ0DNzMzMzMwmQLgehetRuCVAKVyPwvWoJEA9CtejcD0kQBSuR+F6lCRAFK5H4XoUJUCamZmZmRklQOF6FK5H4SRAZmZmZmbmJEBmZmZmZuYkQMP1KFyPwiFA",
          "dtype": "f8"
         },
         "yaxis": "y146"
        },
        {
         "name": "Qatar",
         "showlegend": false,
         "type": "scatter",
         "x": {
          "bdata": "0AfRB9IH0wfUB9UH1gfXB9gH2QfaB9sH3AfdB94H3wfgB+EH4gfjB+QH",
          "dtype": "i2"
         },
         "xaxis": "x147",
         "y": {
          "bdata": "FK5H4XoU7j8UrkfhehTuP8P1KFyPwvE/hetRuB6F8z+kcD0K16P0P83MzMzMzPQ/pHA9Ctej9D8pXI/C9Sj0P65H4XoUrvM/MzMzMzMz8z+4HoXrUbjyP4/C9Shcj/I/PQrXo3A98j8UrkfhehTyP2ZmZmZmZvI/uB6F61G48j/hehSuR+HyP7gehetRuPI/ZmZmZmZm8j9mZmZmZmbyP83MzMzMzPA/",
          "dtype": "f8"
         },
         "yaxis": "y147"
        },
        {
         "name": "Romania",
         "showlegend": false,
         "type": "scatter",
         "x": {
          "bdata": "0AfRB9IH0wfUB9UH1gfXB9gH2QfaB9sH3AfdB94H3wfgB+EH4gfjB+QH",
          "dtype": "i2"
         },
         "xaxis": "x148",
         "y": {
          "bdata": "zczMzMwMM0DNzMzMzAwzQGZmZmZmZjNACtejcD1KM0BxPQrXo7AyQFK4HoXrUTJA16NwPQoXMkDXo3A9ClcyQKRwPQrXYzJA4XoUrkchMkAfhetRuJ4xQFK4HoXrUTFArkfhehQuMUDXo3A9ChcxQHsUrkfh+jBAmpmZmZnZMEBSuB6F69EwQOxRuB6F6zBAPQrXo3D9MEA9CtejcP0wQM3MzMzMzDBA",
          "dtype": "f8"
         },
         "yaxis": "y148"
        },
        {
         "name": "Russia",
         "showlegend": false,
         "type": "scatter",
         "x": {
          "bdata": "0AfRB9IH0wfUB9UH1gfXB9gH2QfaB9sH3AfdB94H3wfgB+EH4gfjB+QH",
          "dtype": "i2"
         },
         "xaxis": "x149",
         "y": {
          "bdata": "uB6F61G4K0C4HoXrUbgrQD0K16NwPSxAKVyPwvWoLEBmZmZmZuYsQAAAAAAAAC1APQrXo3A9LUDNzMzMzEwtQOxRuB6F6yxArkfhehQuLECF61G4HoUrQDMzMzMzMytApHA9CtejKkCuR+F6FK4pQFK4HoXrUShASOF6FK5HJ0CamZmZmRkmQHE9CtejcCVA16NwPQrXJEDXo3A9CtckQI/C9ShcDyVA",
          "dtype": "f8"
         },
         "yaxis": "y149"
        },
        {
         "name": "Rwanda",
         "showlegend": false,
         "type": "scatter",
         "x": {
          "bdata": "0AfRB9IH0wfUB9UH1gfXB9gH2QfaB9sH3AfdB94H3wfgB+EH4gfjB+QH",
          "dtype": "i2"
         },
         "xaxis": "x150",
         "y": {
          "bdata": "4XoUrkfh9j/hehSuR+H2P7gehetRuPY/7FG4HoXr9T8UrkfhehT2P2ZmZmZmZvY/ZmZmZmZm9j8fhetRuB71PwAAAAAAAPQ/KVyPwvUo9D8AAAAAAAD0Pylcj8L1KPQ/AAAAAAAA9D/NzMzMzMz0P8P1KFyPwvU/7FG4HoXr9T/D9Shcj8L1P3E9CtejcPU/FK5H4XoU/j8UrkfhehT+P/YoXI/C9QZA",
          "dtype": "f8"
         },
         "yaxis": "y150"
        },
        {
         "name": "Saint Kitts and Nevis",
         "showlegend": false,
         "type": "scatter",
         "x": {
          "bdata": "0AfRB9IH0wfUB9UH1gfXB9gH2QfaB9sH3AfdB94H3wfgB+EH4gfjB+QH",
          "dtype": "i2"
         },
         "xaxis": "x151",
         "y": {
          "bdata": "16NwPQrXGUDXo3A9CtcZQB+F61G4HhpA16NwPQrXGkDXo3A9CtccQClcj8L1KB9AAAAAAAAAIEB7FK5H4XofQOF6FK5H4R1ArkfhehSuG0DhehSuR+EZQIXrUbgehRhAZmZmZmZmGEBcj8L1KFwYQFK4HoXrURhAexSuR+F6GECuR+F6FK4YQAAAAAAAABlAXI/C9ShcGUBcj8L1KFwZQMP1KFyPwhJA",
          "dtype": "f8"
         },
         "yaxis": "y151"
        },
        {
         "name": "Saint Lucia",
         "showlegend": false,
         "type": "scatter",
         "x": {
          "bdata": "0AfRB9IH0wfUB9UH1gfXB9gH2QfaB9sH3AfdB94H3wfgB+EH4gfjB+QH",
          "dtype": "i2"
         },
         "xaxis": "x152",
         "y": {
          "bdata": "MzMzMzOzJEAzMzMzM7MkQGZmZmZmZiVAH4XrUbieJUDD9Shcj8ImQBSuR+F6FCdAj8L1KFyPJ0DXo3A9CtcmQArXo3A9iiVAKVyPwvUoJEAzMzMzMzMjQHsUrkfheiJAKVyPwvWoIUC4HoXrUTghQHsUrkfh+iBAw/UoXI9CIUAK16NwPYohQAAAAAAAACJAcT0K16PwIkBxPQrXo/AiQI/C9ShcjyJA",
          "dtype": "f8"
         },
         "yaxis": "y152"
        },
        {
         "name": "Saint Vincent and the Grenadines",
         "showlegend": false,
         "type": "scatter",
         "x": {
          "bdata": "0AfRB9IH0wfUB9UH1gfXB9gH2QfaB9sH3AfdB94H3wfgB+EH4gfjB+QH",
          "dtype": "i2"
         },
         "xaxis": "x153",
         "y": {
          "bdata": "XI/C9ShcEkBcj8L1KFwSQJqZmZmZmRJAMzMzMzMzE0CkcD0K16MUQI/C9ShcjxVAXI/C9ShcFkCuR+F6FK4XQDMzMzMzMxlArkfhehSuGkCkcD0K16MaQEjhehSuRxpAH4XrUbgeGkBSuB6F61EaQBSuR+F6FBtACtejcD0KHEC4HoXrUbgcQOF6FK5H4RxApHA9CtejHECkcD0K16McQHsUrkfhehZA",
          "dtype": "f8"
         },
         "yaxis": "y153"
        },
        {
         "name": "Samoa",
         "showlegend": false,
         "type": "scatter",
         "x": {
          "bdata": "0AfRB9IH0wfUB9UH1gfXB9gH2QfaB9sH3AfdB94H3wfgB+EH4gfjB+QH",
          "dtype": "i2"
         },
         "xaxis": "x154",
         "y": {
          "bdata": "KVyPwvUoEEApXI/C9SgQQGZmZmZmZhBAcT0K16NwEEBmZmZmZmYQQArXo3A9Cg9AAAAAAAAADkBcj8L1KFwNQB+F61G4HgtACtejcD0KCUC4HoXrUbgEQIXrUbgehQNASOF6FK5HAUAK16NwPQoBQGZmZmZmZgBAcT0K16NwAUApXI/C9SgCQArXo3A9CgNAH4XrUbgeA0AfhetRuB4DQM3MzMzMzAJA",
          "dtype": "f8"
         },
         "yaxis": "y154"
        },
        {
         "name": "Sao Tome and Principe",
         "showlegend": false,
         "type": "scatter",
         "x": {
          "bdata": "0AfRB9IH0wfUB9UH1gfXB9gH2QfaB9sH3AfdB94H3wfgB+EH4gfjB+QH",
          "dtype": "i2"
         },
         "xaxis": "x155",
         "y": {
          "bdata": "9ihcj8L1GkD2KFyPwvUaQArXo3A9Ch1AzczMzMzMHkBcj8L1KFweQArXo3A9Ch1AcT0K16NwG0DXo3A9CtcZQM3MzMzMzBdAUrgehetRFkCuR+F6FK4XQIXrUbgehRlApHA9CtejG0AzMzMzMzMbQNejcD0K1xlAuB6F61G4F0BSuB6F61EVQHE9CtejcBRACtejcD0KFEAK16NwPQoUQClcj8L1KBNA",
          "dtype": "f8"
         },
         "yaxis": "y155"
        },
        {
         "name": "Saudi Arabia",
         "showlegend": false,
         "type": "scatter",
         "x": {
          "bdata": "0AfRB9IH0wfUB9UH1gfXB9gH2QfaB9sH3AfdB94H3wfgB+EH4gfjB+QH",
          "dtype": "i2"
         },
         "xaxis": "x156",
         "y": {
          "bdata": "AAAAAAAAAAAAAAAAAAAAAAAAAAAAAAAAAAAAAAAAAAAAAAAAAAAAAAAAAAAAAAAAAAAAAAAAAAAAAAAAAAAAAAAAAAAAAAAAAAAAAAAAAAAAAAAAAAAAAAAAAAAAAAAAAAAAAAAAAAAAAAAAAAAAAAAAAAAAAAAAAAAAAAAAAAAAAAAAAAAAAAAAAAAAAAAAAAAAAAAAAAAAAAAAAAAAAAAAAAAAAAAA",
          "dtype": "f8"
         },
         "yaxis": "y156"
        },
        {
         "name": "Senegal",
         "showlegend": false,
         "type": "scatter",
         "x": {
          "bdata": "0AfRB9IH0wfUB9UH1gfXB9gH2QfaB9sH3AfdB94H3wfgB+EH4gfjB+QH",
          "dtype": "i2"
         },
         "xaxis": "x157",
         "y": {
          "bdata": "FK5H4XoU3j8UrkfhehTePwAAAAAAAOA/XI/C9Shc3z8UrkfhehTePxSuR+F6FN4/FK5H4XoU3j+4HoXrUbjeP3E9CtejcN0/hetRuB6F2z89CtejcD3aP5qZmZmZmdk/UrgehetR2D+uR+F6FK7XPwrXo3A9Ctc/rkfhehSu1z/2KFyPwvXYP5qZmZmZmdk/PQrXo3A92j89CtejcD3aP1K4HoXrUdg/",
          "dtype": "f8"
         },
         "yaxis": "y157"
        },
        {
         "name": "Serbia",
         "showlegend": false,
         "type": "scatter",
         "x": {
          "bdata": "2gffB+MH",
          "dtype": "i2"
         },
         "xaxis": "x158",
         "y": {
          "bdata": "XI/C9SjcI0Bcj8L1KFwfQI/C9Shcjx9A",
          "dtype": "f8"
         },
         "yaxis": "y158"
        },
        {
         "name": "Seychelles",
         "showlegend": false,
         "type": "scatter",
         "x": {
          "bdata": "0AfRB9IH0wfUB9UH1gfXB9gH2QfaB9sH3AfdB94H3wfgB+EH4gfjB+QH",
          "dtype": "i2"
         },
         "xaxis": "x159",
         "y": {
          "bdata": "pHA9CtejHUCkcD0K16MdQLgehetRuB5AFK5H4XoUH0CkcD0K16MfQClcj8L1KCBAj8L1KFyPIUBcj8L1KNwgQB+F61G4Hh9AuB6F61G4HEAUrkfhehQfQPYoXI/C9SFAXI/C9ShcI0C4HoXrUTgkQFyPwvUoXCVAj8L1KFwPKEAAAAAAAIApQFyPwvUo3ChAexSuR+H6J0B7FK5H4fonQOF6FK5HYSRA",
          "dtype": "f8"
         },
         "yaxis": "y159"
        },
        {
         "name": "Sierra Leone",
         "showlegend": false,
         "type": "scatter",
         "x": {
          "bdata": "0AfRB9IH0wfUB9UH1gfXB9gH2QfaB9sH3AfdB94H3wfgB+EH4gfjB+QH",
          "dtype": "i2"
         },
         "xaxis": "x160",
         "y": {
          "bdata": "KVyPwvUozD8pXI/C9SjMP7gehetRuM4/pHA9Ctej0D+4HoXrUbjOPylcj8L1KMw/KVyPwvUozD8AAAAAAADQP+xRuB6F69E/j8L1KFyP0j/Xo3A9CtfTP2ZmZmZmZtY/PQrXo3A92j89CtejcD3aP1K4HoXrUdg/16NwPQrX0z9I4XoUrkfRPwAAAAAAANA/pHA9Ctej0D+kcD0K16PQP4/C9Shcj9I/",
          "dtype": "f8"
         },
         "yaxis": "y160"
        },
        {
         "name": "Singapore",
         "showlegend": false,
         "type": "scatter",
         "x": {
          "bdata": "0AfRB9IH0wfUB9UH1gfXB9gH2QfaB9sH3AfdB94H3wfgB+EH4gfjB+QH",
          "dtype": "i2"
         },
         "xaxis": "x161",
         "y": {
          "bdata": "PQrXo3A9AkA9CtejcD0CQHsUrkfhegBASOF6FK5H/T9xPQrXo3D5P+xRuB6F6/k/j8L1KFyP+j+uR+F6FK77P3sUrkfhevw/w/UoXI/C/T+4HoXrUbj+P9ejcD0K1/8/16NwPQrX/z+F61G4HoX/P7gehetRuP4/j8L1KFyP/j89CtejcD3+Pz0K16NwPf4/7FG4HoXr/T/sUbgehev9P/YoXI/C9fw/",
          "dtype": "f8"
         },
         "yaxis": "y161"
        },
        {
         "name": "Slovakia",
         "showlegend": false,
         "type": "scatter",
         "x": {
          "bdata": "0AfRB9IH0wfUB9UH1gfXB9gH2QfaB9sH3AfdB94H3wfgB+EH4gfjB+QH",
          "dtype": "i2"
         },
         "xaxis": "x162",
         "y": {
          "bdata": "rkfhehQuJkCuR+F6FC4mQHE9CtejcCVAAAAAAAAAJUAAAAAAAAAlQD0K16NwPSVAj8L1KFyPJUBcj8L1KNwlQI/C9ShcDyZASOF6FK7HJUAUrkfhehQlQMP1KFyPwiRAmpmZmZmZJEAUrkfhepQkQKRwPQrXoyRApHA9CtejJEBI4XoUrkckQKRwPQrXIyRA9ihcj8L1JED2KFyPwvUkQNejcD0KVyVA",
          "dtype": "f8"
         },
         "yaxis": "y162"
        },
        {
         "name": "Slovenia",
         "showlegend": false,
         "type": "scatter",
         "x": {
          "bdata": "0AfRB9IH0wfUB9UH1gfXB9gH2QfaB9sH3AfdB94H3wfgB+EH4gfjB+QH",
          "dtype": "i2"
         },
         "xaxis": "x163",
         "y": {
          "bdata": "MzMzMzMzKEAzMzMzMzMoQOF6FK5HYSdA4XoUrkdhJkAzMzMzMzMnQB+F61G4nidAPQrXo3A9KECPwvUoXA8oQHE9Ctej8CZAAAAAAACAJkBI4XoUrkcmQI/C9ShcjyZAhetRuB4FJkC4HoXrUTgmQArXo3A9iiZAKVyPwvUoJ0AfhetRuJ4mQB+F61G4niVA9ihcj8L1JUD2KFyPwvUlQFK4HoXr0SRA",
          "dtype": "f8"
         },
         "yaxis": "y163"
        },
        {
         "name": "Solomon Islands",
         "showlegend": false,
         "type": "scatter",
         "x": {
          "bdata": "0AfRB9IH0wfUB9UH1gfXB9gH2QfaB9sH3AfdB94H3wfgB+EH4gfjB+QH",
          "dtype": "i2"
         },
         "xaxis": "x164",
         "y": {
          "bdata": "UrgehetR6D9SuB6F61HoPx+F61G4HuU/H4XrUbge7T9mZmZmZmbuP6RwPQrXo/A/KVyPwvUo8D/NzMzMzMzwPxSuR+F6FPI/FK5H4XoU8j/sUbgehevxPylcj8L1KPA/ZmZmZmZm7j9xPQrXo3DtPxSuR+F6FO4/H4XrUbge8T+F61G4HoXzP3sUrkfhevg/7FG4HoXr+T/sUbgehev5PzMzMzMzM/c/",
          "dtype": "f8"
         },
         "yaxis": "y164"
        },
        {
         "name": "Somalia",
         "showlegend": false,
         "type": "scatter",
         "x": {
          "bdata": "0AfRB9IH0wfUB9UH1gfXB9gH2QfaB9sH3AfdB94H3wfgB+EH4gfjB+QH",
          "dtype": "i2"
         },
         "xaxis": "x165",
         "y": {
          "bdata": "AAAAAAAAAAAAAAAAAAAAAAAAAAAAAAAAAAAAAAAAAAAAAAAAAAAAAAAAAAAAAAAAAAAAAAAAAAAAAAAAAAAAAAAAAAAAAAAAAAAAAAAAAAAAAAAAAAAAAAAAAAAAAAAAAAAAAAAAAAAAAAAAAAAAAAAAAAAAAAAAAAAAAAAAAAAAAAAAAAAAAAAAAAAAAAAAAAAAAAAAAAAAAAAAAAAAAAAAAAAAAAAA",
          "dtype": "f8"
         },
         "yaxis": "y165"
        },
        {
         "name": "South Africa",
         "showlegend": false,
         "type": "scatter",
         "x": {
          "bdata": "0AfRB9IH0wfUB9UH1gfXB9gH2QfaB9sH3AfdB94H3wfgB+EH4gfjB+QH",
          "dtype": "i2"
         },
         "xaxis": "x166",
         "y": {
          "bdata": "7FG4HoXrIUDsUbgeheshQBSuR+F6lCFAcT0K16NwIUBmZmZmZmYhQAAAAAAAgCFAH4XrUbieIUApXI/C9aghQI/C9ShcjyFA16NwPQpXIUBcj8L1KFwhQBSuR+F6lCFAzczMzMzMIUDXo3A9CtchQFyPwvUo3CFAw/UoXI/CIUCamZmZmZkhQHE9CtejcCFACtejcD2KIUAK16NwPYohQIXrUbgehRxA",
          "dtype": "f8"
         },
         "yaxis": "y166"
        },
        {
         "name": "South Asia (WB)",
         "showlegend": false,
         "type": "scatter",
         "x": {
          "bdata": "0AfRB9IH0wfUB9UH1gfXB9gH2QfaB9sH3AfdB94H3wfgB+EH4gfjB+QH",
          "dtype": "i2"
         },
         "xaxis": "x167",
         "y": {
          "bdata": "/iTjvQ+s+D+WLN0T2qj4P6ytMxnpYPo/19NYDGiT+z/s0WV7PpT8P8f0hCUe0P0/QMo+fiU2AECaQBGLGFYCQNzWFp6X2gVARZuII7RqCUByuQveoZIMQOTuGMNBRw5A8parH5sUD0DiI2JKJDEPQIXzBB0IFA9AGKYAYly7DkAvFLAdjDgOQMvZO6OtOg5Ae6jIfJuJDkDbatYZ34cOQJPpK6PsiAlA",
          "dtype": "f8"
         },
         "yaxis": "y167"
        },
        {
         "name": "South Korea",
         "showlegend": false,
         "type": "scatter",
         "x": {
          "bdata": "0AfRB9IH0wfUB9UH1gfXB9gH2QfaB9sH3AfdB94H3wfgB+EH4gfjB+QH",
          "dtype": "i2"
         },
         "xaxis": "x168",
         "y": {
          "bdata": "XI/C9SjcJUBcj8L1KNwlQOxRuB6FayVA7FG4HoXrI0AUrkfhepQjQIXrUbgeBSNAZmZmZmbmIkAUrkfhehQjQClcj8L1KCNAj8L1KFwPI0DD9Shcj8IiQD0K16NwvSJAKVyPwvWoIkCamZmZmRkiQB+F61G4niFACtejcD0KIUBxPQrXo/AgQBSuR+F6lCBA4XoUrkdhIEDhehSuR2EgQClcj8L1KB9A",
          "dtype": "f8"
         },
         "yaxis": "y168"
        },
        {
         "name": "Spain",
         "showlegend": false,
         "type": "scatter",
         "x": {
          "bdata": "0AfRB9IH0wfUB9UH1gfXB9gH2QfaB9sH3AfdB94H3wfgB+EH4gfjB+QH",
          "dtype": "i2"
         },
         "xaxis": "x169",
         "y": {
          "bdata": "16NwPQpXJ0DXo3A9ClcnQPYoXI/C9SZAAAAAAACAJkDsUbgehWsnQGZmZmZm5idAuB6F61G4J0CkcD0K16MmQPYoXI/CdSVAhetRuB4FJEB7FK5H4foiQAAAAAAAACJAw/UoXI/CIUCuR+F6FC4hQOF6FK5HYSJA4XoUrkfhI0Bcj8L1KNwlQFyPwvUo3CVAUrgehevRJUBSuB6F69ElQFK4HoXrUSJA",
          "dtype": "f8"
         },
         "yaxis": "y169"
        },
        {
         "name": "Sri Lanka",
         "showlegend": false,
         "type": "scatter",
         "x": {
          "bdata": "0AfRB9IH0wfUB9UH1gfXB9gH2QfaB9sH3AfdB94H3wfgB+EH4gfjB+QH",
          "dtype": "i2"
         },
         "xaxis": "x170",
         "y": {
          "bdata": "FK5H4XoU/j8UrkfhehT+P1yPwvUoXP8/7FG4HoXr/T+uR+F6FK7/P3sUrkfhegBApHA9CtejAkD2KFyPwvUCQDMzMzMzMwNASOF6FK5HA0DNzMzMzMwEQB+F61G4HgdAFK5H4XoUCEBxPQrXo3AHQOF6FK5H4QZA4XoUrkfhBkBI4XoUrkcHQOF6FK5H4QZApHA9CtejBkCkcD0K16MGQEjhehSuRwdA",
          "dtype": "f8"
         },
         "yaxis": "y170"
        },
        {
         "name": "Sub-Saharan Africa (WB)",
         "showlegend": false,
         "type": "scatter",
         "x": {
          "bdata": "0AfRB9IH0wfUB9UH1gfXB9gH2QfaB9sH3AfdB94H3wfgB+EH4gfjB+QH",
          "dtype": "i2"
         },
         "xaxis": "x171",
         "y": {
          "bdata": "z2kWaHc4FkDxxc1f1zUWQAHR3b/D7hVA3bQZpyHaFUA/H8B9eHkVQOcYkL3eZRVAa8iJwKIMFUAA7f38reMUQKeK84EuuxRAeEXwv5WUE0At1PWfkOASQHQO+cK/GxJAgEkqU8xhEkDZWC7A44gSQNTX8zXLlRJAYrt7gO57EkDBUl3AyyQSQPFFe7yQ7hFAHN8owwLZEUCxTpXvGdkRQNi61Aj9nBBA",
          "dtype": "f8"
         },
         "yaxis": "y171"
        },
        {
         "name": "Sudan",
         "showlegend": false,
         "type": "scatter",
         "x": {
          "bdata": "0AfRB9IH0wfUB9UH1gfXB9gH2QfaB9sH3AfdB94H3wfgB+EH4gfjB+QH",
          "dtype": "i2"
         },
         "xaxis": "x172",
         "y": {
          "bdata": "AAAAAAAAAAAAAAAAAAAAAAAAAAAAAAAAAAAAAAAAAAAAAAAAAAAAAAAAAAAAAAAAAAAAAAAAAAAAAAAAAAAAAAAAAAAAAAAAAAAAAAAAAAAK16NwPQqnP1pkO99Pjac/WmQ730+Npz8K16NwPQrHP1K4HoXrUcg/UrgehetRyD/8qfHSTWJgP/yp8dJNYmA/exSuR+F6dD97FK5H4Xp0P3sUrkfheoQ/",
          "dtype": "f8"
         },
         "yaxis": "y172"
        },
        {
         "name": "Suriname",
         "showlegend": false,
         "type": "scatter",
         "x": {
          "bdata": "0AfRB9IH0wfUB9UH1gfXB9gH2QfaB9sH3AfdB94H3wfgB+EH4gfjB+QH",
          "dtype": "i2"
         },
         "xaxis": "x173",
         "y": {
          "bdata": "9ihcj8L1EkD2KFyPwvUSQClcj8L1KBNAuB6F61G4E0DXo3A9CtcTQOF6FK5H4RNACtejcD0KFEB7FK5H4XoUQArXo3A9ChVArkfhehSuFUDNzMzMzMwWQOxRuB6F6xdArkfhehSuGEBI4XoUrkcYQOF6FK5H4RZAuB6F61G4FkBSuB6F61EXQClcj8L1KBlAhetRuB6FGkCF61G4HoUaQLgehetRuBdA",
          "dtype": "f8"
         },
         "yaxis": "y173"
        },
        {
         "name": "Sweden",
         "showlegend": false,
         "type": "scatter",
         "x": {
          "bdata": "0AfRB9IH0wfUB9UH1gfXB9gH2QfaB9sH3AfdB94H3wfgB+EH4gfjB+QH",
          "dtype": "i2"
         },
         "xaxis": "x174",
         "y": {
          "bdata": "PQrXo3C9IkA9CtejcL0iQKRwPQrXIyNAFK5H4XoUI0BI4XoUrsciQB+F61G4niJASOF6FK7HIkD2KFyPwvUiQLgehetROCNAcT0K16NwI0AUrkfhepQjQHE9CtejcCNAUrgehetRI0AzMzMzMzMjQBSuR+F6FCNAZmZmZmbmIkAzMzMzM7MiQClcj8L1qCJAmpmZmZmZIkCamZmZmZkiQKRwPQrXIyNA",
          "dtype": "f8"
         },
         "yaxis": "y174"
        },
        {
         "name": "Switzerland",
         "showlegend": false,
         "type": "scatter",
         "x": {
          "bdata": "0AfRB9IH0wfUB9UH1gfXB9gH2QfaB9sH3AfdB94H3wfgB+EH4gfjB+QH",
          "dtype": "i2"
         },
         "xaxis": "x175",
         "y": {
          "bdata": "9ihcj8L1KED2KFyPwvUoQClcj8L1qChAPQrXo3A9KEDD9Shcj8InQFK4HoXrUSdAuB6F61E4J0DD9Shcj0InQK5H4XoULidAXI/C9SjcJkCkcD0K16MmQOxRuB6FayZAMzMzMzMzJkDsUbgeheslQD0K16NwvSVA4XoUrkdhJUCPwvUoXA8lQLgehetRuCRAzczMzMzMJEDNzMzMzMwkQKRwPQrXIyRA",
          "dtype": "f8"
         },
         "yaxis": "y175"
        },
        {
         "name": "Syria",
         "showlegend": false,
         "type": "scatter",
         "x": {
          "bdata": "0AfRB9IH0wfUB9UH1gfXB9gH2QfaB9sH3AfdB94H3wfgB+EH4gfjB+QH",
          "dtype": "i2"
         },
         "xaxis": "x176",
         "y": {
          "bdata": "pHA9Ctej9D+kcD0K16P0Pylcj8L1KPQ/XI/C9Shc8z+PwvUoXI/yP8P1KFyPwvE/9ihcj8L18D+kcD0K16PwP83MzMzMzPA/9ihcj8L18D+uR+F6FK7vP65H4XoUruc/cT0K16Nw3T9I4XoUrkfRP+xRuB6F69E/j8L1KFyP0j8AAAAAAADQPylcj8L1KMw/mpmZmZmZyT+amZmZmZnJP1pkO99Pjbc/",
          "dtype": "f8"
         },
         "yaxis": "y176"
        },
        {
         "name": "Tajikistan",
         "showlegend": false,
         "type": "scatter",
         "x": {
          "bdata": "0AfRB9IH0wfUB9UH1gfXB9gH2QfaB9sH3AfdB94H3wfgB+EH4gfjB+QH",
          "dtype": "i2"
         },
         "xaxis": "x177",
         "y": {
          "bdata": "zczMzMzM7D/NzMzMzMzsP3sUrkfheuw/hetRuB6F6z89CtejcD3qP1K4HoXrUeg/ZmZmZmZm5j97FK5H4XrkP3sUrkfheuQ/zczMzMzM5D8UrkfhehTmPwrXo3A9Cuc/UrgehetR6D+amZmZmZnpP4XrUbgehes/exSuR+F67D8fhetRuB7tP3sUrkfheuw/16NwPQrX6z/Xo3A9CtfrP65H4XoUruc/",
          "dtype": "f8"
         },
         "yaxis": "y177"
        },
        {
         "name": "Tanzania",
         "showlegend": false,
         "type": "scatter",
         "x": {
          "bdata": "0AfRB9IH0wfUB9UH1gfXB9gH2QfaB9sH3AfdB94H3wfgB+EH4gfjB+QH",
          "dtype": "i2"
         },
         "xaxis": "x178",
         "y": {
          "bdata": "XI/C9SjcJkBcj8L1KNwmQJqZmZmZmSRApHA9CtcjJECuR+F6FK4kQI/C9ShcDydAZmZmZmbmJ0DD9Shcj0InQFyPwvUoXCdAhetRuB4FJ0DXo3A9CtcnQJqZmZmZmSdArkfhehQuJ0A9CtejcD0nQGZmZmZmZidAzczMzMxMJ0DsUbgehWsmQM3MzMzMTCVAuB6F61G4JEC4HoXrUbgkQGZmZmZm5iVA",
          "dtype": "f8"
         },
         "yaxis": "y178"
        },
        {
         "name": "Thailand",
         "showlegend": false,
         "type": "scatter",
         "x": {
          "bdata": "0AfRB9IH0wfUB9UH1gfXB9gH2QfaB9sH3AfdB94H3wfgB+EH4gfjB+QH",
          "dtype": "i2"
         },
         "xaxis": "x179",
         "y": {
          "bdata": "uB6F61E4IUC4HoXrUTghQNejcD0K1yFApHA9CtcjIkCPwvUoXI8iQLgehetRuCJArkfhehSuIkBSuB6F61EhQOxRuB6F6x9ApHA9CtejHUBI4XoUrkceQHsUrkfheh9AKVyPwvUoIEBSuB6F61EgQDMzMzMzMyBAUrgehetRIECPwvUoXI8gQM3MzMzMzB9AZmZmZmZmH0BmZmZmZmYfQPYoXI/C9R9A",
          "dtype": "f8"
         },
         "yaxis": "y179"
        },
        {
         "name": "Togo",
         "showlegend": false,
         "type": "scatter",
         "x": {
          "bdata": "0AfRB9IH0wfUB9UH1gfXB9gH2QfaB9sH3AfdB94H3wfgB+EH4gfjB+QH",
          "dtype": "i2"
         },
         "xaxis": "x180",
         "y": {
          "bdata": "AAAAAAAA+D8AAAAAAAD4P7gehetRuPY/uB6F61G49j+kcD0K16P4PwrXo3A9Cvs/uB6F61G4/j+uR+F6FK7/P4XrUbgehf8/PQrXo3A9/j+kcD0K16P8P4XrUbgehfs/rkfhehSu+z+F61G4HoX7P83MzMzMzPw/hetRuB6F+z8UrkfhehT6PwAAAAAAAPg/uB6F61G49j+4HoXrUbj2PwrXo3A9Cvc/",
          "dtype": "f8"
         },
         "yaxis": "y180"
        },
        {
         "name": "Tonga",
         "showlegend": false,
         "type": "scatter",
         "x": {
          "bdata": "0AfRB9IH0wfUB9UH1gfXB9gH2QfaB9sH3AfdB94H3wfgB+EH4gfjB+QH",
          "dtype": "i2"
         },
         "xaxis": "x181",
         "y": {
          "bdata": "XI/C9Shc9z9cj8L1KFz3P3sUrkfhevg/exSuR+F6+D+4HoXrUbj6Pz0K16NwPfo/XI/C9Shc+z/2KFyPwvX4PwrXo3A9Cvc/zczMzMzM9D/hehSuR+HyP4/C9Shcj+o/KVyPwvUo3D8pXI/C9SjMPzMzMzMzM9M/CtejcD0K1z+amZmZmZnZP/YoXI/C9dg/UrgehetR2D9SuB6F61HYPwrXo3A9Ctc/",
          "dtype": "f8"
         },
         "yaxis": "y181"
        },
        {
         "name": "Trinidad and Tobago",
         "showlegend": false,
         "type": "scatter",
         "x": {
          "bdata": "0AfRB9IH0wfUB9UH1gfXB9gH2QfaB9sH3AfdB94H3wfgB+EH4gfjB+QH",
          "dtype": "i2"
         },
         "xaxis": "x182",
         "y": {
          "bdata": "CtejcD0KFEAK16NwPQoUQOF6FK5H4RRAMzMzMzMzFkAK16NwPQoXQPYoXI/C9RdAmpmZmZmZGEDhehSuR+EYQMP1KFyPwhhApHA9CtejGECamZmZmZkYQLgehetRuBhAzczMzMzMGED2KFyPwvUYQBSuR+F6FBlA7FG4HoXrGEB7FK5H4XoYQArXo3A9ChhAPQrXo3A9GEA9CtejcD0YQB+F61G4HhhA",
          "dtype": "f8"
         },
         "yaxis": "y182"
        },
        {
         "name": "Tunisia",
         "showlegend": false,
         "type": "scatter",
         "x": {
          "bdata": "0AfRB9IH0wfUB9UH1gfXB9gH2QfaB9sH3AfdB94H3wfgB+EH4gfjB+QH",
          "dtype": "i2"
         },
         "xaxis": "x183",
         "y": {
          "bdata": "FK5H4XoU+j8UrkfhehT6P+xRuB6F6/k/FK5H4XoU+j+PwvUoXI/6P1yPwvUoXPs/4XoUrkfh+j8K16NwPQr7P+F6FK5H4fo/MzMzMzMz+z+PwvUoXI/6P4/C9Shcj/o/hetRuB6F+z9xPQrXo3D9PzMzMzMzM/8/PQrXo3A9AEBSuB6F61EAQClcj8L1KABAFK5H4XoUAEAUrkfhehQAQFyPwvUoXPs/",
          "dtype": "f8"
         },
         "yaxis": "y183"
        },
        {
         "name": "Turkey",
         "showlegend": false,
         "type": "scatter",
         "x": {
          "bdata": "0AfRB9IH0wfUB9UH1gfXB9gH2QfaB9sH3AfdB94H3wfgB+EH4gfjB+QH",
          "dtype": "i2"
         },
         "xaxis": "x184",
         "y": {
          "bdata": "rkfhehSuA0CuR+F6FK4DQEjhehSuRwNAuB6F61G4AkCF61G4HoUBQHsUrkfhegBAMzMzMzMz/z/Xo3A9Ctf/Pz0K16NwPQBAzczMzMzMAED2KFyPwvUAQB+F61G4HgFApHA9CtejAEA9CtejcD0AQDMzMzMzM/8/ZmZmZmZm/j9xPQrXo3D9P3E9CtejcP0/H4XrUbge/T8fhetRuB79PwrXo3A9Cvs/",
          "dtype": "f8"
         },
         "yaxis": "y184"
        },
        {
         "name": "Turkmenistan",
         "showlegend": false,
         "type": "scatter",
         "x": {
          "bdata": "0AfRB9IH0wfUB9UH1gfXB9gH2QfaB9sH3AfdB94H3wfgB+EH4gfjB+QH",
          "dtype": "i2"
         },
         "xaxis": "x185",
         "y": {
          "bdata": "CtejcD0KBUAK16NwPQoFQClcj8L1KARAuB6F61G4BEBcj8L1KFwFQEjhehSuRwVAUrgehetRBEDhehSuR+ECQHE9CtejcAFAMzMzMzMzA0BI4XoUrkcFQAAAAAAAAAhAuB6F61G4CEBxPQrXo3AJQNejcD0K1wlAmpmZmZmZCUBI4XoUrkcJQGZmZmZmZghAcT0K16NwB0BxPQrXo3AHQPYoXI/C9QRA",
          "dtype": "f8"
         },
         "yaxis": "y185"
        },
        {
         "name": "Tuvalu",
         "showlegend": false,
         "type": "scatter",
         "x": {
          "bdata": "0AfRB9IH0wfUB9UH1gfXB9gH2QfaB9sH3AfdB94H3wfgB+EH4gfjB+QH",
          "dtype": "i2"
         },
         "xaxis": "x186",
         "y": {
          "bdata": "KVyPwvUo/D8pXI/C9Sj8P3E9CtejcP0/PQrXo3A9/j8K16NwPQr/P83MzMzMzPw/w/UoXI/C8T9SuB6F61H0P6RwPQrXo/Q/hetRuB6F9z9xPQrXo3D5P3E9CtejcP0/uB6F61G4AEBSuB6F61ECQOF6FK5H4QBAw/UoXI/C/T/Xo3A9Ctf3P3sUrkfhevQ/AAAAAAAA9D8AAAAAAAD0Pylcj8L1KPQ/",
          "dtype": "f8"
         },
         "yaxis": "y186"
        },
        {
         "name": "Uganda",
         "showlegend": false,
         "type": "scatter",
         "x": {
          "bdata": "0AfRB9IH0wfUB9UH1gfXB9gH2QfaB9sH3AfdB94H3wfgB+EH4gfjB+QH",
          "dtype": "i2"
         },
         "xaxis": "x187",
         "y": {
          "bdata": "CtejcD3KMUAK16NwPcoxQBSuR+F6lDFA16NwPQpXMUC4HoXrUTgxQClcj8L1KDFAFK5H4XoUMUBSuB6F6xEwQIXrUbgeBS5AuB6F61E4LEAAAAAAAAAsQNejcD0K1ytAzczMzMxMK0BxPQrXo/AqQMP1KFyPwipAj8L1KFyPKkBI4XoUrscpQClcj8L1KClA7FG4HoVrKEDsUbgehWsoQJqZmZmZmSZA",
          "dtype": "f8"
         },
         "yaxis": "y187"
        },
        {
         "name": "Ukraine",
         "showlegend": false,
         "type": "scatter",
         "x": {
          "bdata": "0AfRB9IH0wfUB9UH1gfXB9gH2QfaB9sH3AfdB94H3wfgB+EH4gfjB+QH",
          "dtype": "i2"
         },
         "xaxis": "x188",
         "y": {
          "bdata": "KVyPwvUoJUApXI/C9SglQArXo3A9CiVAexSuR+F6JEA9CtejcD0kQI/C9ShcjyRAexSuR+F6JUD2KFyPwvUmQNejcD0K1ydAKVyPwvWoJ0BSuB6F61EnQI/C9ShcDydAj8L1KFyPJ0DXo3A9CtcmQM3MzMzMTCVA9ihcj8J1I0Bcj8L1KNwhQOxRuB6FayFAZmZmZmZmIUBmZmZmZmYhQHsUrkfheiJA",
          "dtype": "f8"
         },
         "yaxis": "y188"
        },
        {
         "name": "United Arab Emirates",
         "showlegend": false,
         "type": "scatter",
         "x": {
          "bdata": "0AfRB9IH0wfUB9UH1gfXB9gH2QfaB9sH3AfdB94H3wfgB+EH4gfjB+QH",
          "dtype": "i2"
         },
         "xaxis": "x189",
         "y": {
          "bdata": "KVyPwvUo/D8pXI/C9Sj8Pylcj8L1KPw/KVyPwvUo/D97FK5H4Xr8P1K4HoXrUfw/exSuR+F6/D/D9Shcj8L9P4/C9Shcj/4/XI/C9Shc/z9cj8L1KFz/P9ejcD0K1/8/UrgehetRAEAK16NwPQoBQAAAAAAAAAJA9ihcj8L1AkBxPQrXo3ADQHE9CtejcANA9ihcj8L1AkD2KFyPwvUCQKRwPQrXowBA",
          "dtype": "f8"
         },
         "yaxis": "y189"
        },
        {
         "name": "United Kingdom",
         "showlegend": false,
         "type": "scatter",
         "x": {
          "bdata": "0AfRB9IH0wfUB9UH1gfXB9gH2QfaB9sH3AfdB94H3wfgB+EH4gfjB+QH",
          "dtype": "i2"
         },
         "xaxis": "x190",
         "y": {
          "bdata": "j8L1KFyPKECPwvUoXI8oQNejcD0K1yhAAAAAAAAAKUCF61G4HgUpQMP1KFyPwihA4XoUrkdhKEDhehSuR+EnQLgehetROCdAAAAAAACAJkBmZmZmZuYlQBSuR+F6lCVApHA9CtcjJUDhehSuR+EkQOF6FK5H4SRACtejcD0KJUBI4XoUrkclQArXo3A9iiVApHA9CtejJUCkcD0K16MlQPYoXI/CdSVA",
          "dtype": "f8"
         },
         "yaxis": "y190"
        },
        {
         "name": "United States",
         "showlegend": false,
         "type": "scatter",
         "x": {
          "bdata": "0AfRB9IH0wfUB9UH1gfXB9gH2QfaB9sH3AfdB94H3wfgB+EH4gfjB+QH",
          "dtype": "i2"
         },
         "xaxis": "x191",
         "y": {
          "bdata": "mpmZmZkZIkCamZmZmRkiQLgehetROCJA16NwPQpXIkB7FK5H4XoiQJqZmZmZmSJAPQrXo3C9IkBcj8L1KNwiQOF6FK5H4SJAPQrXo3C9IkCuR+F6FK4iQEjhehSuxyJAcT0K16PwIkAAAAAAAAAjQHE9Ctej8CJAexSuR+H6IkCF61G4HgUjQJqZmZmZGSNApHA9CtcjI0CkcD0K1yMjQM3MzMzMzCNA",
          "dtype": "f8"
         },
         "yaxis": "y191"
        },
        {
         "name": "Upper-middle-income countries",
         "showlegend": false,
         "type": "scatter",
         "x": {
          "bdata": "0AfRB9IH0wfUB9UH1gfXB9gH2QfaB9sH3AfdB94H3wfgB+EH4gfjB+QH",
          "dtype": "i2"
         },
         "xaxis": "x192",
         "y": {
          "bdata": "vtwnRwGiEEDWHvZCAZsQQFZsgl5u5g9ANydAXlkjD0AiQDwBAycPQB04Z0RpDxBAqmG/J9bpEEARAk3fxskRQIeaMoFswxJAG9oAbED0E0DnepG/ansVQAZJn1bRzxZAox8Np8ytF0C5bHTOTwEYQNxAJr5/EBhAh2u1h70QGEAf6LLiZZcXQB6Jl6dzFRZAhzJUxVRKFEBmguFcw0wUQCp/rQEAZhFA",
          "dtype": "f8"
         },
         "yaxis": "y192"
        },
        {
         "name": "Uruguay",
         "showlegend": false,
         "type": "scatter",
         "x": {
          "bdata": "0AfRB9IH0wfUB9UH1gfXB9gH2QfaB9sH3AfdB94H3wfgB+EH4gfjB+QH",
          "dtype": "i2"
         },
         "xaxis": "x193",
         "y": {
          "bdata": "4XoUrkfhG0DhehSuR+EbQI/C9ShcjxlAKVyPwvUoGEBI4XoUrkcYQJqZmZmZmRlAAAAAAAAAGkDD9Shcj8IZQMP1KFyPwhlAZmZmZmZmGUA9CtejcD0ZQKRwPQrXoxdA9ihcj8L1FkD2KFyPwvUWQAAAAAAAABhAFK5H4XoUGEBxPQrXo3AXQB+F61G4HhZAzczMzMzMFUDNzMzMzMwVQHE9CtejcBZA",
          "dtype": "f8"
         },
         "yaxis": "y193"
        },
        {
         "name": "Uzbekistan",
         "showlegend": false,
         "type": "scatter",
         "x": {
          "bdata": "0AfRB9IH0wfUB9UH1gfXB9gH2QfaB9sH3AfdB94H3wfgB+EH4gfjB+QH",
          "dtype": "i2"
         },
         "xaxis": "x194",
         "y": {
          "bdata": "UrgehetRDEBSuB6F61EMQJqZmZmZmQ1AzczMzMzMDkA9CtejcD0QQFyPwvUoXBFArkfhehSuEkBmZmZmZmYOQKRwPQrXowZAAAAAAAAA/D+kcD0K16P8P5qZmZmZmf0/uB6F61G4/j9xPQrXo3ABQB+F61G4HgNAZmZmZmZmBEAfhetRuB4FQLgehetRuARAzczMzMzMBEDNzMzMzMwEQM3MzMzMzABA",
          "dtype": "f8"
         },
         "yaxis": "y194"
        },
        {
         "name": "Vanuatu",
         "showlegend": false,
         "type": "scatter",
         "x": {
          "bdata": "0AfRB9IH0wfUB9UH1gfXB9gH2QfaB9sH3AfdB94H3wfgB+EH4gfjB+QH",
          "dtype": "i2"
         },
         "xaxis": "x195",
         "y": {
          "bdata": "UrgehetR9D9SuB6F61H0P3sUrkfhevQ/cT0K16Nw9T8pXI/C9Sj0P7gehetRuPI/uB6F61G48j8zMzMzMzPzP1yPwvUoXPM/j8L1KFyP9j+4HoXrUbj6P65H4XoUrv8/AAAAAAAAAEDsUbgehev9P65H4XoUrvs/CtejcD0K+z+uR+F6FK77P9ejcD0K1/s/7FG4HoXr/T/sUbgehev9P1K4HoXrUQBA",
          "dtype": "f8"
         },
         "yaxis": "y195"
        },
        {
         "name": "Venezuela",
         "showlegend": false,
         "type": "scatter",
         "x": {
          "bdata": "0AfRB9IH0wfUB9UH1gfXB9gH2QfaB9sH3AfdB94H3wfgB+EH4gfjB+QH",
          "dtype": "i2"
         },
         "xaxis": "x196",
         "y": {
          "bdata": "16NwPQpXIEDXo3A9ClcgQNejcD0K1x5AKVyPwvUoHkCF61G4HoUfQFyPwvUo3CBAKVyPwvWoIUBmZmZmZuYhQHsUrkfheiFAAAAAAACAIEAAAAAAAAAfQMP1KFyPwh1ACtejcD0KHUCuR+F6FK4cQOF6FK5H4RtAMzMzMzMzGEDNzMzMzMwTQMP1KFyPwg1AKVyPwvUoCEApXI/C9SgIQNejcD0K1/8/",
          "dtype": "f8"
         },
         "yaxis": "y196"
        },
        {
         "name": "Vietnam",
         "showlegend": false,
         "type": "scatter",
         "x": {
          "bdata": "0AfRB9IH0wfUB9UH1gfXB9gH2QfaB9sH3AfdB94H3wfgB+EH4gfjB+QH",
          "dtype": "i2"
         },
         "xaxis": "x197",
         "y": {
          "bdata": "PQrXo3A9CkA9CtejcD0KQAAAAAAAAAxAXI/C9ShcD0BmZmZmZmYRQD0K16NwPRNAzczMzMzMFEDsUbgehesWQPYoXI/C9RhAUrgehetRG0B7FK5H4XodQD0K16NwPR9ArkfhehQuIECPwvUoXI8gQI/C9ShcDyFAMzMzMzOzIUDXo3A9ClciQB+F61G4niJArkfhehSuIkCuR+F6FK4iQBSuR+F6FCBA",
          "dtype": "f8"
         },
         "yaxis": "y197"
        },
        {
         "name": "World",
         "showlegend": false,
         "type": "scatter",
         "x": {
          "bdata": "0AfRB9IH0wfUB9UH1gfXB9gH2QfaB9sH3AfdB94H3wfgB+EH4gfjB+QH",
          "dtype": "i2"
         },
         "xaxis": "x198",
         "y": {
          "bdata": "mkF8YMdvFEDP86eN6lQUQOKencIACBRAdHlzuFbbE0DzOuKQDdQTQMMHG0OlBhRAZyIRvwdsFEBmvoOfOOgUQCtYmd8fhRVARRK9jGIZFkAW+mAZG9oWQATEyaJVahdA4eAcvwHHF0CPjUC8rs8XQDZpZKHnsBdACQK/oUuLF0AboZ+p1y0XQF0xyALLfhZAfGKdKt/DFUD8h5kiZbgVQLiTiPAvkhNA",
          "dtype": "f8"
         },
         "yaxis": "y198"
        },
        {
         "name": "Yemen",
         "showlegend": false,
         "type": "scatter",
         "x": {
          "bdata": "0AfRB9IH0wfUB9UH1gfXB9gH2QfaB9sH3AfdB94H3wfgB+EH4gfjB+QH",
          "dtype": "i2"
         },
         "xaxis": "x199",
         "y": {
          "bdata": "uB6F61G4vj+4HoXrUbi+Pylcj8L1KLw/AiuHFtnOtz8zMzMzMzOzPzvfT42XbrI/9P3UeOkmsT/0/dR46SaxP1g5tMh2vq8/uB6F61G4rj8ZBFYOLbKtP1g5tMh2vq8/eekmMQisrD8pXI/C9SisP/p+arx0k6g/exSuR+F6pD9YObTIdr6fP9nO91PjpZs/eekmMQisnD956SYxCKycP7pJDAIrh6Y/",
          "dtype": "f8"
         },
         "yaxis": "y199"
        },
        {
         "name": "Zambia",
         "showlegend": false,
         "type": "scatter",
         "x": {
          "bdata": "0AfRB9IH0wfUB9UH1gfXB9gH2QfaB9sH3AfdB94H3wfgB+EH4gfjB+QH",
          "dtype": "i2"
         },
         "xaxis": "x200",
         "y": {
          "bdata": "exSuR+F6DEB7FK5H4XoMQJqZmZmZmQtA9ihcj8L1CkA9CtejcD0KQKRwPQrXowpASOF6FK5HCUD2KFyPwvUIQFK4HoXrUQhAw/UoXI/CCUB7FK5H4XoKQLgehetRuApAH4XrUbgeC0CPwvUoXI8MQFyPwvUoXA1A16NwPQrXDUAAAAAAAAAOQKRwPQrXow5AzczMzMzMDkDNzMzMzMwOQPYoXI/C9QxA",
          "dtype": "f8"
         },
         "yaxis": "y200"
        },
        {
         "name": "Zimbabwe",
         "showlegend": false,
         "type": "scatter",
         "x": {
          "bdata": "0AfRB9IH0wfUB9UH1gfXB9gH2QfaB9sH3AfdB94H3wfgB+EH4gfjB+QH",
          "dtype": "i2"
         },
         "xaxis": "x201",
         "y": {
          "bdata": "PQrXo3A9CEA9CtejcD0IQFyPwvUoXAdA4XoUrkfhBkCuR+F6FK4FQAAAAAAAAAZA7FG4HoXrBUC4HoXrUbgEQArXo3A9CgVA4XoUrkfhBkB7FK5H4XoKQAAAAAAAAA5A16NwPQrXD0BI4XoUrkcQQFyPwvUoXA9AAAAAAAAADkB7FK5H4XoMQClcj8L1KAxACtejcD0KDUAK16NwPQoNQFyPwvUoXAVA",
          "dtype": "f8"
         },
         "yaxis": "y201"
        }
       ],
       "layout": {
        "annotations": [
         {
          "font": {
           "size": 16
          },
          "showarrow": false,
          "text": "Afghanistan",
          "x": 0.10625,
          "xanchor": "center",
          "xref": "paper",
          "y": 1,
          "yanchor": "bottom",
          "yref": "paper"
         },
         {
          "font": {
           "size": 16
          },
          "showarrow": false,
          "text": "Albania",
          "x": 0.36875,
          "xanchor": "center",
          "xref": "paper",
          "y": 1,
          "yanchor": "bottom",
          "yref": "paper"
         },
         {
          "font": {
           "size": 16
          },
          "showarrow": false,
          "text": "Algeria",
          "x": 0.6312500000000001,
          "xanchor": "center",
          "xref": "paper",
          "y": 1,
          "yanchor": "bottom",
          "yref": "paper"
         },
         {
          "font": {
           "size": 16
          },
          "showarrow": false,
          "text": "Andorra",
          "x": 0.89375,
          "xanchor": "center",
          "xref": "paper",
          "y": 1,
          "yanchor": "bottom",
          "yref": "paper"
         },
         {
          "font": {
           "size": 16
          },
          "showarrow": false,
          "text": "Angola",
          "x": 0.10625,
          "xanchor": "center",
          "xref": "paper",
          "y": 0.9801999231064975,
          "yanchor": "bottom",
          "yref": "paper"
         },
         {
          "font": {
           "size": 16
          },
          "showarrow": false,
          "text": "Antigua and Barbuda",
          "x": 0.36875,
          "xanchor": "center",
          "xref": "paper",
          "y": 0.9801999231064975,
          "yanchor": "bottom",
          "yref": "paper"
         },
         {
          "font": {
           "size": 16
          },
          "showarrow": false,
          "text": "Argentina",
          "x": 0.6312500000000001,
          "xanchor": "center",
          "xref": "paper",
          "y": 0.9801999231064975,
          "yanchor": "bottom",
          "yref": "paper"
         },
         {
          "font": {
           "size": 16
          },
          "showarrow": false,
          "text": "Armenia",
          "x": 0.89375,
          "xanchor": "center",
          "xref": "paper",
          "y": 0.9801999231064975,
          "yanchor": "bottom",
          "yref": "paper"
         },
         {
          "font": {
           "size": 16
          },
          "showarrow": false,
          "text": "Australia",
          "x": 0.10625,
          "xanchor": "center",
          "xref": "paper",
          "y": 0.960399846212995,
          "yanchor": "bottom",
          "yref": "paper"
         },
         {
          "font": {
           "size": 16
          },
          "showarrow": false,
          "text": "Austria",
          "x": 0.36875,
          "xanchor": "center",
          "xref": "paper",
          "y": 0.960399846212995,
          "yanchor": "bottom",
          "yref": "paper"
         },
         {
          "font": {
           "size": 16
          },
          "showarrow": false,
          "text": "Azerbaijan",
          "x": 0.6312500000000001,
          "xanchor": "center",
          "xref": "paper",
          "y": 0.960399846212995,
          "yanchor": "bottom",
          "yref": "paper"
         },
         {
          "font": {
           "size": 16
          },
          "showarrow": false,
          "text": "Bahamas",
          "x": 0.89375,
          "xanchor": "center",
          "xref": "paper",
          "y": 0.960399846212995,
          "yanchor": "bottom",
          "yref": "paper"
         },
         {
          "font": {
           "size": 16
          },
          "showarrow": false,
          "text": "Bahrain",
          "x": 0.10625,
          "xanchor": "center",
          "xref": "paper",
          "y": 0.9405997693194925,
          "yanchor": "bottom",
          "yref": "paper"
         },
         {
          "font": {
           "size": 16
          },
          "showarrow": false,
          "text": "Bangladesh",
          "x": 0.36875,
          "xanchor": "center",
          "xref": "paper",
          "y": 0.9405997693194925,
          "yanchor": "bottom",
          "yref": "paper"
         },
         {
          "font": {
           "size": 16
          },
          "showarrow": false,
          "text": "Barbados",
          "x": 0.6312500000000001,
          "xanchor": "center",
          "xref": "paper",
          "y": 0.9405997693194925,
          "yanchor": "bottom",
          "yref": "paper"
         },
         {
          "font": {
           "size": 16
          },
          "showarrow": false,
          "text": "Belarus",
          "x": 0.89375,
          "xanchor": "center",
          "xref": "paper",
          "y": 0.9405997693194925,
          "yanchor": "bottom",
          "yref": "paper"
         },
         {
          "font": {
           "size": 16
          },
          "showarrow": false,
          "text": "Belgium",
          "x": 0.10625,
          "xanchor": "center",
          "xref": "paper",
          "y": 0.92079969242599,
          "yanchor": "bottom",
          "yref": "paper"
         },
         {
          "font": {
           "size": 16
          },
          "showarrow": false,
          "text": "Belize",
          "x": 0.36875,
          "xanchor": "center",
          "xref": "paper",
          "y": 0.92079969242599,
          "yanchor": "bottom",
          "yref": "paper"
         },
         {
          "font": {
           "size": 16
          },
          "showarrow": false,
          "text": "Benin",
          "x": 0.6312500000000001,
          "xanchor": "center",
          "xref": "paper",
          "y": 0.92079969242599,
          "yanchor": "bottom",
          "yref": "paper"
         },
         {
          "font": {
           "size": 16
          },
          "showarrow": false,
          "text": "Bhutan",
          "x": 0.89375,
          "xanchor": "center",
          "xref": "paper",
          "y": 0.92079969242599,
          "yanchor": "bottom",
          "yref": "paper"
         },
         {
          "font": {
           "size": 16
          },
          "showarrow": false,
          "text": "Bolivia",
          "x": 0.10625,
          "xanchor": "center",
          "xref": "paper",
          "y": 0.9009996155324875,
          "yanchor": "bottom",
          "yref": "paper"
         },
         {
          "font": {
           "size": 16
          },
          "showarrow": false,
          "text": "Bosnia and Herzegovina",
          "x": 0.36875,
          "xanchor": "center",
          "xref": "paper",
          "y": 0.9009996155324875,
          "yanchor": "bottom",
          "yref": "paper"
         },
         {
          "font": {
           "size": 16
          },
          "showarrow": false,
          "text": "Botswana",
          "x": 0.6312500000000001,
          "xanchor": "center",
          "xref": "paper",
          "y": 0.9009996155324875,
          "yanchor": "bottom",
          "yref": "paper"
         },
         {
          "font": {
           "size": 16
          },
          "showarrow": false,
          "text": "Brazil",
          "x": 0.89375,
          "xanchor": "center",
          "xref": "paper",
          "y": 0.9009996155324875,
          "yanchor": "bottom",
          "yref": "paper"
         },
         {
          "font": {
           "size": 16
          },
          "showarrow": false,
          "text": "Brunei",
          "x": 0.10625,
          "xanchor": "center",
          "xref": "paper",
          "y": 0.881199538638985,
          "yanchor": "bottom",
          "yref": "paper"
         },
         {
          "font": {
           "size": 16
          },
          "showarrow": false,
          "text": "Bulgaria",
          "x": 0.36875,
          "xanchor": "center",
          "xref": "paper",
          "y": 0.881199538638985,
          "yanchor": "bottom",
          "yref": "paper"
         },
         {
          "font": {
           "size": 16
          },
          "showarrow": false,
          "text": "Burkina Faso",
          "x": 0.6312500000000001,
          "xanchor": "center",
          "xref": "paper",
          "y": 0.881199538638985,
          "yanchor": "bottom",
          "yref": "paper"
         },
         {
          "font": {
           "size": 16
          },
          "showarrow": false,
          "text": "Burundi",
          "x": 0.89375,
          "xanchor": "center",
          "xref": "paper",
          "y": 0.881199538638985,
          "yanchor": "bottom",
          "yref": "paper"
         },
         {
          "font": {
           "size": 16
          },
          "showarrow": false,
          "text": "Cambodia",
          "x": 0.10625,
          "xanchor": "center",
          "xref": "paper",
          "y": 0.8613994617454825,
          "yanchor": "bottom",
          "yref": "paper"
         },
         {
          "font": {
           "size": 16
          },
          "showarrow": false,
          "text": "Cameroon",
          "x": 0.36875,
          "xanchor": "center",
          "xref": "paper",
          "y": 0.8613994617454825,
          "yanchor": "bottom",
          "yref": "paper"
         },
         {
          "font": {
           "size": 16
          },
          "showarrow": false,
          "text": "Canada",
          "x": 0.6312500000000001,
          "xanchor": "center",
          "xref": "paper",
          "y": 0.8613994617454825,
          "yanchor": "bottom",
          "yref": "paper"
         },
         {
          "font": {
           "size": 16
          },
          "showarrow": false,
          "text": "Cape Verde",
          "x": 0.89375,
          "xanchor": "center",
          "xref": "paper",
          "y": 0.8613994617454825,
          "yanchor": "bottom",
          "yref": "paper"
         },
         {
          "font": {
           "size": 16
          },
          "showarrow": false,
          "text": "Central African Republic",
          "x": 0.10625,
          "xanchor": "center",
          "xref": "paper",
          "y": 0.8415993848519799,
          "yanchor": "bottom",
          "yref": "paper"
         },
         {
          "font": {
           "size": 16
          },
          "showarrow": false,
          "text": "Chad",
          "x": 0.36875,
          "xanchor": "center",
          "xref": "paper",
          "y": 0.8415993848519799,
          "yanchor": "bottom",
          "yref": "paper"
         },
         {
          "font": {
           "size": 16
          },
          "showarrow": false,
          "text": "Chile",
          "x": 0.6312500000000001,
          "xanchor": "center",
          "xref": "paper",
          "y": 0.8415993848519799,
          "yanchor": "bottom",
          "yref": "paper"
         },
         {
          "font": {
           "size": 16
          },
          "showarrow": false,
          "text": "China",
          "x": 0.89375,
          "xanchor": "center",
          "xref": "paper",
          "y": 0.8415993848519799,
          "yanchor": "bottom",
          "yref": "paper"
         },
         {
          "font": {
           "size": 16
          },
          "showarrow": false,
          "text": "Colombia",
          "x": 0.10625,
          "xanchor": "center",
          "xref": "paper",
          "y": 0.8217993079584776,
          "yanchor": "bottom",
          "yref": "paper"
         },
         {
          "font": {
           "size": 16
          },
          "showarrow": false,
          "text": "Comoros",
          "x": 0.36875,
          "xanchor": "center",
          "xref": "paper",
          "y": 0.8217993079584776,
          "yanchor": "bottom",
          "yref": "paper"
         },
         {
          "font": {
           "size": 16
          },
          "showarrow": false,
          "text": "Congo",
          "x": 0.6312500000000001,
          "xanchor": "center",
          "xref": "paper",
          "y": 0.8217993079584776,
          "yanchor": "bottom",
          "yref": "paper"
         },
         {
          "font": {
           "size": 16
          },
          "showarrow": false,
          "text": "Costa Rica",
          "x": 0.89375,
          "xanchor": "center",
          "xref": "paper",
          "y": 0.8217993079584776,
          "yanchor": "bottom",
          "yref": "paper"
         },
         {
          "font": {
           "size": 16
          },
          "showarrow": false,
          "text": "Cote d'Ivoire",
          "x": 0.10625,
          "xanchor": "center",
          "xref": "paper",
          "y": 0.8019992310649751,
          "yanchor": "bottom",
          "yref": "paper"
         },
         {
          "font": {
           "size": 16
          },
          "showarrow": false,
          "text": "Croatia",
          "x": 0.36875,
          "xanchor": "center",
          "xref": "paper",
          "y": 0.8019992310649751,
          "yanchor": "bottom",
          "yref": "paper"
         },
         {
          "font": {
           "size": 16
          },
          "showarrow": false,
          "text": "Cuba",
          "x": 0.6312500000000001,
          "xanchor": "center",
          "xref": "paper",
          "y": 0.8019992310649751,
          "yanchor": "bottom",
          "yref": "paper"
         },
         {
          "font": {
           "size": 16
          },
          "showarrow": false,
          "text": "Cyprus",
          "x": 0.89375,
          "xanchor": "center",
          "xref": "paper",
          "y": 0.8019992310649751,
          "yanchor": "bottom",
          "yref": "paper"
         },
         {
          "font": {
           "size": 16
          },
          "showarrow": false,
          "text": "Czechia",
          "x": 0.10625,
          "xanchor": "center",
          "xref": "paper",
          "y": 0.7821991541714725,
          "yanchor": "bottom",
          "yref": "paper"
         },
         {
          "font": {
           "size": 16
          },
          "showarrow": false,
          "text": "Democratic Republic of Congo",
          "x": 0.36875,
          "xanchor": "center",
          "xref": "paper",
          "y": 0.7821991541714725,
          "yanchor": "bottom",
          "yref": "paper"
         },
         {
          "font": {
           "size": 16
          },
          "showarrow": false,
          "text": "Denmark",
          "x": 0.6312500000000001,
          "xanchor": "center",
          "xref": "paper",
          "y": 0.7821991541714725,
          "yanchor": "bottom",
          "yref": "paper"
         },
         {
          "font": {
           "size": 16
          },
          "showarrow": false,
          "text": "Djibouti",
          "x": 0.89375,
          "xanchor": "center",
          "xref": "paper",
          "y": 0.7821991541714725,
          "yanchor": "bottom",
          "yref": "paper"
         },
         {
          "font": {
           "size": 16
          },
          "showarrow": false,
          "text": "Dominica",
          "x": 0.10625,
          "xanchor": "center",
          "xref": "paper",
          "y": 0.7623990772779701,
          "yanchor": "bottom",
          "yref": "paper"
         },
         {
          "font": {
           "size": 16
          },
          "showarrow": false,
          "text": "Dominican Republic",
          "x": 0.36875,
          "xanchor": "center",
          "xref": "paper",
          "y": 0.7623990772779701,
          "yanchor": "bottom",
          "yref": "paper"
         },
         {
          "font": {
           "size": 16
          },
          "showarrow": false,
          "text": "East Asia and Pacific (WB)",
          "x": 0.6312500000000001,
          "xanchor": "center",
          "xref": "paper",
          "y": 0.7623990772779701,
          "yanchor": "bottom",
          "yref": "paper"
         },
         {
          "font": {
           "size": 16
          },
          "showarrow": false,
          "text": "East Timor",
          "x": 0.89375,
          "xanchor": "center",
          "xref": "paper",
          "y": 0.7623990772779701,
          "yanchor": "bottom",
          "yref": "paper"
         },
         {
          "font": {
           "size": 16
          },
          "showarrow": false,
          "text": "Ecuador",
          "x": 0.10625,
          "xanchor": "center",
          "xref": "paper",
          "y": 0.7425990003844675,
          "yanchor": "bottom",
          "yref": "paper"
         },
         {
          "font": {
           "size": 16
          },
          "showarrow": false,
          "text": "Egypt",
          "x": 0.36875,
          "xanchor": "center",
          "xref": "paper",
          "y": 0.7425990003844675,
          "yanchor": "bottom",
          "yref": "paper"
         },
         {
          "font": {
           "size": 16
          },
          "showarrow": false,
          "text": "El Salvador",
          "x": 0.6312500000000001,
          "xanchor": "center",
          "xref": "paper",
          "y": 0.7425990003844675,
          "yanchor": "bottom",
          "yref": "paper"
         },
         {
          "font": {
           "size": 16
          },
          "showarrow": false,
          "text": "Equatorial Guinea",
          "x": 0.89375,
          "xanchor": "center",
          "xref": "paper",
          "y": 0.7425990003844675,
          "yanchor": "bottom",
          "yref": "paper"
         },
         {
          "font": {
           "size": 16
          },
          "showarrow": false,
          "text": "Eritrea",
          "x": 0.10625,
          "xanchor": "center",
          "xref": "paper",
          "y": 0.722798923490965,
          "yanchor": "bottom",
          "yref": "paper"
         },
         {
          "font": {
           "size": 16
          },
          "showarrow": false,
          "text": "Estonia",
          "x": 0.36875,
          "xanchor": "center",
          "xref": "paper",
          "y": 0.722798923490965,
          "yanchor": "bottom",
          "yref": "paper"
         },
         {
          "font": {
           "size": 16
          },
          "showarrow": false,
          "text": "Eswatini",
          "x": 0.6312500000000001,
          "xanchor": "center",
          "xref": "paper",
          "y": 0.722798923490965,
          "yanchor": "bottom",
          "yref": "paper"
         },
         {
          "font": {
           "size": 16
          },
          "showarrow": false,
          "text": "Ethiopia",
          "x": 0.89375,
          "xanchor": "center",
          "xref": "paper",
          "y": 0.722798923490965,
          "yanchor": "bottom",
          "yref": "paper"
         },
         {
          "font": {
           "size": 16
          },
          "showarrow": false,
          "text": "Europe and Central Asia (WB)",
          "x": 0.10625,
          "xanchor": "center",
          "xref": "paper",
          "y": 0.7029988465974625,
          "yanchor": "bottom",
          "yref": "paper"
         },
         {
          "font": {
           "size": 16
          },
          "showarrow": false,
          "text": "European Union (27)",
          "x": 0.36875,
          "xanchor": "center",
          "xref": "paper",
          "y": 0.7029988465974625,
          "yanchor": "bottom",
          "yref": "paper"
         },
         {
          "font": {
           "size": 16
          },
          "showarrow": false,
          "text": "Fiji",
          "x": 0.6312500000000001,
          "xanchor": "center",
          "xref": "paper",
          "y": 0.7029988465974625,
          "yanchor": "bottom",
          "yref": "paper"
         },
         {
          "font": {
           "size": 16
          },
          "showarrow": false,
          "text": "Finland",
          "x": 0.89375,
          "xanchor": "center",
          "xref": "paper",
          "y": 0.7029988465974625,
          "yanchor": "bottom",
          "yref": "paper"
         },
         {
          "font": {
           "size": 16
          },
          "showarrow": false,
          "text": "France",
          "x": 0.10625,
          "xanchor": "center",
          "xref": "paper",
          "y": 0.68319876970396,
          "yanchor": "bottom",
          "yref": "paper"
         },
         {
          "font": {
           "size": 16
          },
          "showarrow": false,
          "text": "Gabon",
          "x": 0.36875,
          "xanchor": "center",
          "xref": "paper",
          "y": 0.68319876970396,
          "yanchor": "bottom",
          "yref": "paper"
         },
         {
          "font": {
           "size": 16
          },
          "showarrow": false,
          "text": "Gambia",
          "x": 0.6312500000000001,
          "xanchor": "center",
          "xref": "paper",
          "y": 0.68319876970396,
          "yanchor": "bottom",
          "yref": "paper"
         },
         {
          "font": {
           "size": 16
          },
          "showarrow": false,
          "text": "Georgia",
          "x": 0.89375,
          "xanchor": "center",
          "xref": "paper",
          "y": 0.68319876970396,
          "yanchor": "bottom",
          "yref": "paper"
         },
         {
          "font": {
           "size": 16
          },
          "showarrow": false,
          "text": "Germany",
          "x": 0.10625,
          "xanchor": "center",
          "xref": "paper",
          "y": 0.6633986928104575,
          "yanchor": "bottom",
          "yref": "paper"
         },
         {
          "font": {
           "size": 16
          },
          "showarrow": false,
          "text": "Ghana",
          "x": 0.36875,
          "xanchor": "center",
          "xref": "paper",
          "y": 0.6633986928104575,
          "yanchor": "bottom",
          "yref": "paper"
         },
         {
          "font": {
           "size": 16
          },
          "showarrow": false,
          "text": "Greece",
          "x": 0.6312500000000001,
          "xanchor": "center",
          "xref": "paper",
          "y": 0.6633986928104575,
          "yanchor": "bottom",
          "yref": "paper"
         },
         {
          "font": {
           "size": 16
          },
          "showarrow": false,
          "text": "Grenada",
          "x": 0.89375,
          "xanchor": "center",
          "xref": "paper",
          "y": 0.6633986928104575,
          "yanchor": "bottom",
          "yref": "paper"
         },
         {
          "font": {
           "size": 16
          },
          "showarrow": false,
          "text": "Guatemala",
          "x": 0.10625,
          "xanchor": "center",
          "xref": "paper",
          "y": 0.643598615916955,
          "yanchor": "bottom",
          "yref": "paper"
         },
         {
          "font": {
           "size": 16
          },
          "showarrow": false,
          "text": "Guinea",
          "x": 0.36875,
          "xanchor": "center",
          "xref": "paper",
          "y": 0.643598615916955,
          "yanchor": "bottom",
          "yref": "paper"
         },
         {
          "font": {
           "size": 16
          },
          "showarrow": false,
          "text": "Guinea-Bissau",
          "x": 0.6312500000000001,
          "xanchor": "center",
          "xref": "paper",
          "y": 0.643598615916955,
          "yanchor": "bottom",
          "yref": "paper"
         },
         {
          "font": {
           "size": 16
          },
          "showarrow": false,
          "text": "Guyana",
          "x": 0.89375,
          "xanchor": "center",
          "xref": "paper",
          "y": 0.643598615916955,
          "yanchor": "bottom",
          "yref": "paper"
         },
         {
          "font": {
           "size": 16
          },
          "showarrow": false,
          "text": "Haiti",
          "x": 0.10625,
          "xanchor": "center",
          "xref": "paper",
          "y": 0.6237985390234525,
          "yanchor": "bottom",
          "yref": "paper"
         },
         {
          "font": {
           "size": 16
          },
          "showarrow": false,
          "text": "High-income countries",
          "x": 0.36875,
          "xanchor": "center",
          "xref": "paper",
          "y": 0.6237985390234525,
          "yanchor": "bottom",
          "yref": "paper"
         },
         {
          "font": {
           "size": 16
          },
          "showarrow": false,
          "text": "Honduras",
          "x": 0.6312500000000001,
          "xanchor": "center",
          "xref": "paper",
          "y": 0.6237985390234525,
          "yanchor": "bottom",
          "yref": "paper"
         },
         {
          "font": {
           "size": 16
          },
          "showarrow": false,
          "text": "Hungary",
          "x": 0.89375,
          "xanchor": "center",
          "xref": "paper",
          "y": 0.6237985390234525,
          "yanchor": "bottom",
          "yref": "paper"
         },
         {
          "font": {
           "size": 16
          },
          "showarrow": false,
          "text": "Iceland",
          "x": 0.10625,
          "xanchor": "center",
          "xref": "paper",
          "y": 0.60399846212995,
          "yanchor": "bottom",
          "yref": "paper"
         },
         {
          "font": {
           "size": 16
          },
          "showarrow": false,
          "text": "India",
          "x": 0.36875,
          "xanchor": "center",
          "xref": "paper",
          "y": 0.60399846212995,
          "yanchor": "bottom",
          "yref": "paper"
         },
         {
          "font": {
           "size": 16
          },
          "showarrow": false,
          "text": "Indonesia",
          "x": 0.6312500000000001,
          "xanchor": "center",
          "xref": "paper",
          "y": 0.60399846212995,
          "yanchor": "bottom",
          "yref": "paper"
         },
         {
          "font": {
           "size": 16
          },
          "showarrow": false,
          "text": "Iran",
          "x": 0.89375,
          "xanchor": "center",
          "xref": "paper",
          "y": 0.60399846212995,
          "yanchor": "bottom",
          "yref": "paper"
         },
         {
          "font": {
           "size": 16
          },
          "showarrow": false,
          "text": "Iraq",
          "x": 0.10625,
          "xanchor": "center",
          "xref": "paper",
          "y": 0.5841983852364475,
          "yanchor": "bottom",
          "yref": "paper"
         },
         {
          "font": {
           "size": 16
          },
          "showarrow": false,
          "text": "Ireland",
          "x": 0.36875,
          "xanchor": "center",
          "xref": "paper",
          "y": 0.5841983852364475,
          "yanchor": "bottom",
          "yref": "paper"
         },
         {
          "font": {
           "size": 16
          },
          "showarrow": false,
          "text": "Israel",
          "x": 0.6312500000000001,
          "xanchor": "center",
          "xref": "paper",
          "y": 0.5841983852364475,
          "yanchor": "bottom",
          "yref": "paper"
         },
         {
          "font": {
           "size": 16
          },
          "showarrow": false,
          "text": "Italy",
          "x": 0.89375,
          "xanchor": "center",
          "xref": "paper",
          "y": 0.5841983852364475,
          "yanchor": "bottom",
          "yref": "paper"
         },
         {
          "font": {
           "size": 16
          },
          "showarrow": false,
          "text": "Jamaica",
          "x": 0.10625,
          "xanchor": "center",
          "xref": "paper",
          "y": 0.564398308342945,
          "yanchor": "bottom",
          "yref": "paper"
         },
         {
          "font": {
           "size": 16
          },
          "showarrow": false,
          "text": "Japan",
          "x": 0.36875,
          "xanchor": "center",
          "xref": "paper",
          "y": 0.564398308342945,
          "yanchor": "bottom",
          "yref": "paper"
         },
         {
          "font": {
           "size": 16
          },
          "showarrow": false,
          "text": "Jordan",
          "x": 0.6312500000000001,
          "xanchor": "center",
          "xref": "paper",
          "y": 0.564398308342945,
          "yanchor": "bottom",
          "yref": "paper"
         },
         {
          "font": {
           "size": 16
          },
          "showarrow": false,
          "text": "Kazakhstan",
          "x": 0.89375,
          "xanchor": "center",
          "xref": "paper",
          "y": 0.564398308342945,
          "yanchor": "bottom",
          "yref": "paper"
         },
         {
          "font": {
           "size": 16
          },
          "showarrow": false,
          "text": "Kenya",
          "x": 0.10625,
          "xanchor": "center",
          "xref": "paper",
          "y": 0.5445982314494425,
          "yanchor": "bottom",
          "yref": "paper"
         },
         {
          "font": {
           "size": 16
          },
          "showarrow": false,
          "text": "Kiribati",
          "x": 0.36875,
          "xanchor": "center",
          "xref": "paper",
          "y": 0.5445982314494425,
          "yanchor": "bottom",
          "yref": "paper"
         },
         {
          "font": {
           "size": 16
          },
          "showarrow": false,
          "text": "Kuwait",
          "x": 0.6312500000000001,
          "xanchor": "center",
          "xref": "paper",
          "y": 0.5445982314494425,
          "yanchor": "bottom",
          "yref": "paper"
         },
         {
          "font": {
           "size": 16
          },
          "showarrow": false,
          "text": "Kyrgyzstan",
          "x": 0.89375,
          "xanchor": "center",
          "xref": "paper",
          "y": 0.5445982314494425,
          "yanchor": "bottom",
          "yref": "paper"
         },
         {
          "font": {
           "size": 16
          },
          "showarrow": false,
          "text": "Laos",
          "x": 0.10625,
          "xanchor": "center",
          "xref": "paper",
          "y": 0.5247981545559399,
          "yanchor": "bottom",
          "yref": "paper"
         },
         {
          "font": {
           "size": 16
          },
          "showarrow": false,
          "text": "Latin America and Caribbean (WB)",
          "x": 0.36875,
          "xanchor": "center",
          "xref": "paper",
          "y": 0.5247981545559399,
          "yanchor": "bottom",
          "yref": "paper"
         },
         {
          "font": {
           "size": 16
          },
          "showarrow": false,
          "text": "Latvia",
          "x": 0.6312500000000001,
          "xanchor": "center",
          "xref": "paper",
          "y": 0.5247981545559399,
          "yanchor": "bottom",
          "yref": "paper"
         },
         {
          "font": {
           "size": 16
          },
          "showarrow": false,
          "text": "Lebanon",
          "x": 0.89375,
          "xanchor": "center",
          "xref": "paper",
          "y": 0.5247981545559399,
          "yanchor": "bottom",
          "yref": "paper"
         },
         {
          "font": {
           "size": 16
          },
          "showarrow": false,
          "text": "Lesotho",
          "x": 0.10625,
          "xanchor": "center",
          "xref": "paper",
          "y": 0.5049980776624375,
          "yanchor": "bottom",
          "yref": "paper"
         },
         {
          "font": {
           "size": 16
          },
          "showarrow": false,
          "text": "Liberia",
          "x": 0.36875,
          "xanchor": "center",
          "xref": "paper",
          "y": 0.5049980776624375,
          "yanchor": "bottom",
          "yref": "paper"
         },
         {
          "font": {
           "size": 16
          },
          "showarrow": false,
          "text": "Libya",
          "x": 0.6312500000000001,
          "xanchor": "center",
          "xref": "paper",
          "y": 0.5049980776624375,
          "yanchor": "bottom",
          "yref": "paper"
         },
         {
          "font": {
           "size": 16
          },
          "showarrow": false,
          "text": "Lithuania",
          "x": 0.89375,
          "xanchor": "center",
          "xref": "paper",
          "y": 0.5049980776624375,
          "yanchor": "bottom",
          "yref": "paper"
         },
         {
          "font": {
           "size": 16
          },
          "showarrow": false,
          "text": "Low-income countries",
          "x": 0.10625,
          "xanchor": "center",
          "xref": "paper",
          "y": 0.485198000768935,
          "yanchor": "bottom",
          "yref": "paper"
         },
         {
          "font": {
           "size": 16
          },
          "showarrow": false,
          "text": "Lower-middle-income countries",
          "x": 0.36875,
          "xanchor": "center",
          "xref": "paper",
          "y": 0.485198000768935,
          "yanchor": "bottom",
          "yref": "paper"
         },
         {
          "font": {
           "size": 16
          },
          "showarrow": false,
          "text": "Luxembourg",
          "x": 0.6312500000000001,
          "xanchor": "center",
          "xref": "paper",
          "y": 0.485198000768935,
          "yanchor": "bottom",
          "yref": "paper"
         },
         {
          "font": {
           "size": 16
          },
          "showarrow": false,
          "text": "Madagascar",
          "x": 0.89375,
          "xanchor": "center",
          "xref": "paper",
          "y": 0.485198000768935,
          "yanchor": "bottom",
          "yref": "paper"
         },
         {
          "font": {
           "size": 16
          },
          "showarrow": false,
          "text": "Malawi",
          "x": 0.10625,
          "xanchor": "center",
          "xref": "paper",
          "y": 0.4653979238754325,
          "yanchor": "bottom",
          "yref": "paper"
         },
         {
          "font": {
           "size": 16
          },
          "showarrow": false,
          "text": "Malaysia",
          "x": 0.36875,
          "xanchor": "center",
          "xref": "paper",
          "y": 0.4653979238754325,
          "yanchor": "bottom",
          "yref": "paper"
         },
         {
          "font": {
           "size": 16
          },
          "showarrow": false,
          "text": "Maldives",
          "x": 0.6312500000000001,
          "xanchor": "center",
          "xref": "paper",
          "y": 0.4653979238754325,
          "yanchor": "bottom",
          "yref": "paper"
         },
         {
          "font": {
           "size": 16
          },
          "showarrow": false,
          "text": "Mali",
          "x": 0.89375,
          "xanchor": "center",
          "xref": "paper",
          "y": 0.4653979238754325,
          "yanchor": "bottom",
          "yref": "paper"
         },
         {
          "font": {
           "size": 16
          },
          "showarrow": false,
          "text": "Malta",
          "x": 0.10625,
          "xanchor": "center",
          "xref": "paper",
          "y": 0.44559784698193,
          "yanchor": "bottom",
          "yref": "paper"
         },
         {
          "font": {
           "size": 16
          },
          "showarrow": false,
          "text": "Mauritania",
          "x": 0.36875,
          "xanchor": "center",
          "xref": "paper",
          "y": 0.44559784698193,
          "yanchor": "bottom",
          "yref": "paper"
         },
         {
          "font": {
           "size": 16
          },
          "showarrow": false,
          "text": "Mauritius",
          "x": 0.6312500000000001,
          "xanchor": "center",
          "xref": "paper",
          "y": 0.44559784698193,
          "yanchor": "bottom",
          "yref": "paper"
         },
         {
          "font": {
           "size": 16
          },
          "showarrow": false,
          "text": "Mexico",
          "x": 0.89375,
          "xanchor": "center",
          "xref": "paper",
          "y": 0.44559784698193,
          "yanchor": "bottom",
          "yref": "paper"
         },
         {
          "font": {
           "size": 16
          },
          "showarrow": false,
          "text": "Micronesia (country)",
          "x": 0.10625,
          "xanchor": "center",
          "xref": "paper",
          "y": 0.42579777008842745,
          "yanchor": "bottom",
          "yref": "paper"
         },
         {
          "font": {
           "size": 16
          },
          "showarrow": false,
          "text": "Middle East and North Africa (WB)",
          "x": 0.36875,
          "xanchor": "center",
          "xref": "paper",
          "y": 0.42579777008842745,
          "yanchor": "bottom",
          "yref": "paper"
         },
         {
          "font": {
           "size": 16
          },
          "showarrow": false,
          "text": "Middle-income countries",
          "x": 0.6312500000000001,
          "xanchor": "center",
          "xref": "paper",
          "y": 0.42579777008842745,
          "yanchor": "bottom",
          "yref": "paper"
         },
         {
          "font": {
           "size": 16
          },
          "showarrow": false,
          "text": "Moldova",
          "x": 0.89375,
          "xanchor": "center",
          "xref": "paper",
          "y": 0.42579777008842745,
          "yanchor": "bottom",
          "yref": "paper"
         },
         {
          "font": {
           "size": 16
          },
          "showarrow": false,
          "text": "Mongolia",
          "x": 0.10625,
          "xanchor": "center",
          "xref": "paper",
          "y": 0.405997693194925,
          "yanchor": "bottom",
          "yref": "paper"
         },
         {
          "font": {
           "size": 16
          },
          "showarrow": false,
          "text": "Montenegro",
          "x": 0.36875,
          "xanchor": "center",
          "xref": "paper",
          "y": 0.405997693194925,
          "yanchor": "bottom",
          "yref": "paper"
         },
         {
          "font": {
           "size": 16
          },
          "showarrow": false,
          "text": "Morocco",
          "x": 0.6312500000000001,
          "xanchor": "center",
          "xref": "paper",
          "y": 0.405997693194925,
          "yanchor": "bottom",
          "yref": "paper"
         },
         {
          "font": {
           "size": 16
          },
          "showarrow": false,
          "text": "Mozambique",
          "x": 0.89375,
          "xanchor": "center",
          "xref": "paper",
          "y": 0.405997693194925,
          "yanchor": "bottom",
          "yref": "paper"
         },
         {
          "font": {
           "size": 16
          },
          "showarrow": false,
          "text": "Myanmar",
          "x": 0.10625,
          "xanchor": "center",
          "xref": "paper",
          "y": 0.3861976163014225,
          "yanchor": "bottom",
          "yref": "paper"
         },
         {
          "font": {
           "size": 16
          },
          "showarrow": false,
          "text": "Namibia",
          "x": 0.36875,
          "xanchor": "center",
          "xref": "paper",
          "y": 0.3861976163014225,
          "yanchor": "bottom",
          "yref": "paper"
         },
         {
          "font": {
           "size": 16
          },
          "showarrow": false,
          "text": "Nauru",
          "x": 0.6312500000000001,
          "xanchor": "center",
          "xref": "paper",
          "y": 0.3861976163014225,
          "yanchor": "bottom",
          "yref": "paper"
         },
         {
          "font": {
           "size": 16
          },
          "showarrow": false,
          "text": "Nepal",
          "x": 0.89375,
          "xanchor": "center",
          "xref": "paper",
          "y": 0.3861976163014225,
          "yanchor": "bottom",
          "yref": "paper"
         },
         {
          "font": {
           "size": 16
          },
          "showarrow": false,
          "text": "Netherlands",
          "x": 0.10625,
          "xanchor": "center",
          "xref": "paper",
          "y": 0.36639753940791997,
          "yanchor": "bottom",
          "yref": "paper"
         },
         {
          "font": {
           "size": 16
          },
          "showarrow": false,
          "text": "New Zealand",
          "x": 0.36875,
          "xanchor": "center",
          "xref": "paper",
          "y": 0.36639753940791997,
          "yanchor": "bottom",
          "yref": "paper"
         },
         {
          "font": {
           "size": 16
          },
          "showarrow": false,
          "text": "Nicaragua",
          "x": 0.6312500000000001,
          "xanchor": "center",
          "xref": "paper",
          "y": 0.36639753940791997,
          "yanchor": "bottom",
          "yref": "paper"
         },
         {
          "font": {
           "size": 16
          },
          "showarrow": false,
          "text": "Niger",
          "x": 0.89375,
          "xanchor": "center",
          "xref": "paper",
          "y": 0.36639753940791997,
          "yanchor": "bottom",
          "yref": "paper"
         },
         {
          "font": {
           "size": 16
          },
          "showarrow": false,
          "text": "Nigeria",
          "x": 0.10625,
          "xanchor": "center",
          "xref": "paper",
          "y": 0.3465974625144175,
          "yanchor": "bottom",
          "yref": "paper"
         },
         {
          "font": {
           "size": 16
          },
          "showarrow": false,
          "text": "North America (WB)",
          "x": 0.36875,
          "xanchor": "center",
          "xref": "paper",
          "y": 0.3465974625144175,
          "yanchor": "bottom",
          "yref": "paper"
         },
         {
          "font": {
           "size": 16
          },
          "showarrow": false,
          "text": "North Korea",
          "x": 0.6312500000000001,
          "xanchor": "center",
          "xref": "paper",
          "y": 0.3465974625144175,
          "yanchor": "bottom",
          "yref": "paper"
         },
         {
          "font": {
           "size": 16
          },
          "showarrow": false,
          "text": "North Macedonia",
          "x": 0.89375,
          "xanchor": "center",
          "xref": "paper",
          "y": 0.3465974625144175,
          "yanchor": "bottom",
          "yref": "paper"
         },
         {
          "font": {
           "size": 16
          },
          "showarrow": false,
          "text": "Norway",
          "x": 0.10625,
          "xanchor": "center",
          "xref": "paper",
          "y": 0.326797385620915,
          "yanchor": "bottom",
          "yref": "paper"
         },
         {
          "font": {
           "size": 16
          },
          "showarrow": false,
          "text": "Oman",
          "x": 0.36875,
          "xanchor": "center",
          "xref": "paper",
          "y": 0.326797385620915,
          "yanchor": "bottom",
          "yref": "paper"
         },
         {
          "font": {
           "size": 16
          },
          "showarrow": false,
          "text": "Pakistan",
          "x": 0.6312500000000001,
          "xanchor": "center",
          "xref": "paper",
          "y": 0.326797385620915,
          "yanchor": "bottom",
          "yref": "paper"
         },
         {
          "font": {
           "size": 16
          },
          "showarrow": false,
          "text": "Panama",
          "x": 0.89375,
          "xanchor": "center",
          "xref": "paper",
          "y": 0.326797385620915,
          "yanchor": "bottom",
          "yref": "paper"
         },
         {
          "font": {
           "size": 16
          },
          "showarrow": false,
          "text": "Papua New Guinea",
          "x": 0.10625,
          "xanchor": "center",
          "xref": "paper",
          "y": 0.3069973087274125,
          "yanchor": "bottom",
          "yref": "paper"
         },
         {
          "font": {
           "size": 16
          },
          "showarrow": false,
          "text": "Paraguay",
          "x": 0.36875,
          "xanchor": "center",
          "xref": "paper",
          "y": 0.3069973087274125,
          "yanchor": "bottom",
          "yref": "paper"
         },
         {
          "font": {
           "size": 16
          },
          "showarrow": false,
          "text": "Peru",
          "x": 0.6312500000000001,
          "xanchor": "center",
          "xref": "paper",
          "y": 0.3069973087274125,
          "yanchor": "bottom",
          "yref": "paper"
         },
         {
          "font": {
           "size": 16
          },
          "showarrow": false,
          "text": "Philippines",
          "x": 0.89375,
          "xanchor": "center",
          "xref": "paper",
          "y": 0.3069973087274125,
          "yanchor": "bottom",
          "yref": "paper"
         },
         {
          "font": {
           "size": 16
          },
          "showarrow": false,
          "text": "Poland",
          "x": 0.10625,
          "xanchor": "center",
          "xref": "paper",
          "y": 0.28719723183391,
          "yanchor": "bottom",
          "yref": "paper"
         },
         {
          "font": {
           "size": 16
          },
          "showarrow": false,
          "text": "Portugal",
          "x": 0.36875,
          "xanchor": "center",
          "xref": "paper",
          "y": 0.28719723183391,
          "yanchor": "bottom",
          "yref": "paper"
         },
         {
          "font": {
           "size": 16
          },
          "showarrow": false,
          "text": "Qatar",
          "x": 0.6312500000000001,
          "xanchor": "center",
          "xref": "paper",
          "y": 0.28719723183391,
          "yanchor": "bottom",
          "yref": "paper"
         },
         {
          "font": {
           "size": 16
          },
          "showarrow": false,
          "text": "Romania",
          "x": 0.89375,
          "xanchor": "center",
          "xref": "paper",
          "y": 0.28719723183391,
          "yanchor": "bottom",
          "yref": "paper"
         },
         {
          "font": {
           "size": 16
          },
          "showarrow": false,
          "text": "Russia",
          "x": 0.10625,
          "xanchor": "center",
          "xref": "paper",
          "y": 0.26739715494040744,
          "yanchor": "bottom",
          "yref": "paper"
         },
         {
          "font": {
           "size": 16
          },
          "showarrow": false,
          "text": "Rwanda",
          "x": 0.36875,
          "xanchor": "center",
          "xref": "paper",
          "y": 0.26739715494040744,
          "yanchor": "bottom",
          "yref": "paper"
         },
         {
          "font": {
           "size": 16
          },
          "showarrow": false,
          "text": "Saint Kitts and Nevis",
          "x": 0.6312500000000001,
          "xanchor": "center",
          "xref": "paper",
          "y": 0.26739715494040744,
          "yanchor": "bottom",
          "yref": "paper"
         },
         {
          "font": {
           "size": 16
          },
          "showarrow": false,
          "text": "Saint Lucia",
          "x": 0.89375,
          "xanchor": "center",
          "xref": "paper",
          "y": 0.26739715494040744,
          "yanchor": "bottom",
          "yref": "paper"
         },
         {
          "font": {
           "size": 16
          },
          "showarrow": false,
          "text": "Saint Vincent and the Grenadines",
          "x": 0.10625,
          "xanchor": "center",
          "xref": "paper",
          "y": 0.24759707804690503,
          "yanchor": "bottom",
          "yref": "paper"
         },
         {
          "font": {
           "size": 16
          },
          "showarrow": false,
          "text": "Samoa",
          "x": 0.36875,
          "xanchor": "center",
          "xref": "paper",
          "y": 0.24759707804690503,
          "yanchor": "bottom",
          "yref": "paper"
         },
         {
          "font": {
           "size": 16
          },
          "showarrow": false,
          "text": "Sao Tome and Principe",
          "x": 0.6312500000000001,
          "xanchor": "center",
          "xref": "paper",
          "y": 0.24759707804690503,
          "yanchor": "bottom",
          "yref": "paper"
         },
         {
          "font": {
           "size": 16
          },
          "showarrow": false,
          "text": "Saudi Arabia",
          "x": 0.89375,
          "xanchor": "center",
          "xref": "paper",
          "y": 0.24759707804690503,
          "yanchor": "bottom",
          "yref": "paper"
         },
         {
          "font": {
           "size": 16
          },
          "showarrow": false,
          "text": "Senegal",
          "x": 0.10625,
          "xanchor": "center",
          "xref": "paper",
          "y": 0.22779700115340254,
          "yanchor": "bottom",
          "yref": "paper"
         },
         {
          "font": {
           "size": 16
          },
          "showarrow": false,
          "text": "Serbia",
          "x": 0.36875,
          "xanchor": "center",
          "xref": "paper",
          "y": 0.22779700115340254,
          "yanchor": "bottom",
          "yref": "paper"
         },
         {
          "font": {
           "size": 16
          },
          "showarrow": false,
          "text": "Seychelles",
          "x": 0.6312500000000001,
          "xanchor": "center",
          "xref": "paper",
          "y": 0.22779700115340254,
          "yanchor": "bottom",
          "yref": "paper"
         },
         {
          "font": {
           "size": 16
          },
          "showarrow": false,
          "text": "Sierra Leone",
          "x": 0.89375,
          "xanchor": "center",
          "xref": "paper",
          "y": 0.22779700115340254,
          "yanchor": "bottom",
          "yref": "paper"
         },
         {
          "font": {
           "size": 16
          },
          "showarrow": false,
          "text": "Singapore",
          "x": 0.10625,
          "xanchor": "center",
          "xref": "paper",
          "y": 0.20799692425990005,
          "yanchor": "bottom",
          "yref": "paper"
         },
         {
          "font": {
           "size": 16
          },
          "showarrow": false,
          "text": "Slovakia",
          "x": 0.36875,
          "xanchor": "center",
          "xref": "paper",
          "y": 0.20799692425990005,
          "yanchor": "bottom",
          "yref": "paper"
         },
         {
          "font": {
           "size": 16
          },
          "showarrow": false,
          "text": "Slovenia",
          "x": 0.6312500000000001,
          "xanchor": "center",
          "xref": "paper",
          "y": 0.20799692425990005,
          "yanchor": "bottom",
          "yref": "paper"
         },
         {
          "font": {
           "size": 16
          },
          "showarrow": false,
          "text": "Solomon Islands",
          "x": 0.89375,
          "xanchor": "center",
          "xref": "paper",
          "y": 0.20799692425990005,
          "yanchor": "bottom",
          "yref": "paper"
         },
         {
          "font": {
           "size": 16
          },
          "showarrow": false,
          "text": "Somalia",
          "x": 0.10625,
          "xanchor": "center",
          "xref": "paper",
          "y": 0.18819684736639752,
          "yanchor": "bottom",
          "yref": "paper"
         },
         {
          "font": {
           "size": 16
          },
          "showarrow": false,
          "text": "South Africa",
          "x": 0.36875,
          "xanchor": "center",
          "xref": "paper",
          "y": 0.18819684736639752,
          "yanchor": "bottom",
          "yref": "paper"
         },
         {
          "font": {
           "size": 16
          },
          "showarrow": false,
          "text": "South Asia (WB)",
          "x": 0.6312500000000001,
          "xanchor": "center",
          "xref": "paper",
          "y": 0.18819684736639752,
          "yanchor": "bottom",
          "yref": "paper"
         },
         {
          "font": {
           "size": 16
          },
          "showarrow": false,
          "text": "South Korea",
          "x": 0.89375,
          "xanchor": "center",
          "xref": "paper",
          "y": 0.18819684736639752,
          "yanchor": "bottom",
          "yref": "paper"
         },
         {
          "font": {
           "size": 16
          },
          "showarrow": false,
          "text": "Spain",
          "x": 0.10625,
          "xanchor": "center",
          "xref": "paper",
          "y": 0.16839677047289503,
          "yanchor": "bottom",
          "yref": "paper"
         },
         {
          "font": {
           "size": 16
          },
          "showarrow": false,
          "text": "Sri Lanka",
          "x": 0.36875,
          "xanchor": "center",
          "xref": "paper",
          "y": 0.16839677047289503,
          "yanchor": "bottom",
          "yref": "paper"
         },
         {
          "font": {
           "size": 16
          },
          "showarrow": false,
          "text": "Sub-Saharan Africa (WB)",
          "x": 0.6312500000000001,
          "xanchor": "center",
          "xref": "paper",
          "y": 0.16839677047289503,
          "yanchor": "bottom",
          "yref": "paper"
         },
         {
          "font": {
           "size": 16
          },
          "showarrow": false,
          "text": "Sudan",
          "x": 0.89375,
          "xanchor": "center",
          "xref": "paper",
          "y": 0.16839677047289503,
          "yanchor": "bottom",
          "yref": "paper"
         },
         {
          "font": {
           "size": 16
          },
          "showarrow": false,
          "text": "Suriname",
          "x": 0.10625,
          "xanchor": "center",
          "xref": "paper",
          "y": 0.14859669357939254,
          "yanchor": "bottom",
          "yref": "paper"
         },
         {
          "font": {
           "size": 16
          },
          "showarrow": false,
          "text": "Sweden",
          "x": 0.36875,
          "xanchor": "center",
          "xref": "paper",
          "y": 0.14859669357939254,
          "yanchor": "bottom",
          "yref": "paper"
         },
         {
          "font": {
           "size": 16
          },
          "showarrow": false,
          "text": "Switzerland",
          "x": 0.6312500000000001,
          "xanchor": "center",
          "xref": "paper",
          "y": 0.14859669357939254,
          "yanchor": "bottom",
          "yref": "paper"
         },
         {
          "font": {
           "size": 16
          },
          "showarrow": false,
          "text": "Syria",
          "x": 0.89375,
          "xanchor": "center",
          "xref": "paper",
          "y": 0.14859669357939254,
          "yanchor": "bottom",
          "yref": "paper"
         },
         {
          "font": {
           "size": 16
          },
          "showarrow": false,
          "text": "Tajikistan",
          "x": 0.10625,
          "xanchor": "center",
          "xref": "paper",
          "y": 0.12879661668589004,
          "yanchor": "bottom",
          "yref": "paper"
         },
         {
          "font": {
           "size": 16
          },
          "showarrow": false,
          "text": "Tanzania",
          "x": 0.36875,
          "xanchor": "center",
          "xref": "paper",
          "y": 0.12879661668589004,
          "yanchor": "bottom",
          "yref": "paper"
         },
         {
          "font": {
           "size": 16
          },
          "showarrow": false,
          "text": "Thailand",
          "x": 0.6312500000000001,
          "xanchor": "center",
          "xref": "paper",
          "y": 0.12879661668589004,
          "yanchor": "bottom",
          "yref": "paper"
         },
         {
          "font": {
           "size": 16
          },
          "showarrow": false,
          "text": "Togo",
          "x": 0.89375,
          "xanchor": "center",
          "xref": "paper",
          "y": 0.12879661668589004,
          "yanchor": "bottom",
          "yref": "paper"
         },
         {
          "font": {
           "size": 16
          },
          "showarrow": false,
          "text": "Tonga",
          "x": 0.10625,
          "xanchor": "center",
          "xref": "paper",
          "y": 0.10899653979238755,
          "yanchor": "bottom",
          "yref": "paper"
         },
         {
          "font": {
           "size": 16
          },
          "showarrow": false,
          "text": "Trinidad and Tobago",
          "x": 0.36875,
          "xanchor": "center",
          "xref": "paper",
          "y": 0.10899653979238755,
          "yanchor": "bottom",
          "yref": "paper"
         },
         {
          "font": {
           "size": 16
          },
          "showarrow": false,
          "text": "Tunisia",
          "x": 0.6312500000000001,
          "xanchor": "center",
          "xref": "paper",
          "y": 0.10899653979238755,
          "yanchor": "bottom",
          "yref": "paper"
         },
         {
          "font": {
           "size": 16
          },
          "showarrow": false,
          "text": "Turkey",
          "x": 0.89375,
          "xanchor": "center",
          "xref": "paper",
          "y": 0.10899653979238755,
          "yanchor": "bottom",
          "yref": "paper"
         },
         {
          "font": {
           "size": 16
          },
          "showarrow": false,
          "text": "Turkmenistan",
          "x": 0.10625,
          "xanchor": "center",
          "xref": "paper",
          "y": 0.08919646289888504,
          "yanchor": "bottom",
          "yref": "paper"
         },
         {
          "font": {
           "size": 16
          },
          "showarrow": false,
          "text": "Tuvalu",
          "x": 0.36875,
          "xanchor": "center",
          "xref": "paper",
          "y": 0.08919646289888504,
          "yanchor": "bottom",
          "yref": "paper"
         },
         {
          "font": {
           "size": 16
          },
          "showarrow": false,
          "text": "Uganda",
          "x": 0.6312500000000001,
          "xanchor": "center",
          "xref": "paper",
          "y": 0.08919646289888504,
          "yanchor": "bottom",
          "yref": "paper"
         },
         {
          "font": {
           "size": 16
          },
          "showarrow": false,
          "text": "Ukraine",
          "x": 0.89375,
          "xanchor": "center",
          "xref": "paper",
          "y": 0.08919646289888504,
          "yanchor": "bottom",
          "yref": "paper"
         },
         {
          "font": {
           "size": 16
          },
          "showarrow": false,
          "text": "United Arab Emirates",
          "x": 0.10625,
          "xanchor": "center",
          "xref": "paper",
          "y": 0.06939638600538255,
          "yanchor": "bottom",
          "yref": "paper"
         },
         {
          "font": {
           "size": 16
          },
          "showarrow": false,
          "text": "United Kingdom",
          "x": 0.36875,
          "xanchor": "center",
          "xref": "paper",
          "y": 0.06939638600538255,
          "yanchor": "bottom",
          "yref": "paper"
         },
         {
          "font": {
           "size": 16
          },
          "showarrow": false,
          "text": "United States",
          "x": 0.6312500000000001,
          "xanchor": "center",
          "xref": "paper",
          "y": 0.06939638600538255,
          "yanchor": "bottom",
          "yref": "paper"
         },
         {
          "font": {
           "size": 16
          },
          "showarrow": false,
          "text": "Upper-middle-income countries",
          "x": 0.89375,
          "xanchor": "center",
          "xref": "paper",
          "y": 0.06939638600538255,
          "yanchor": "bottom",
          "yref": "paper"
         },
         {
          "font": {
           "size": 16
          },
          "showarrow": false,
          "text": "Uruguay",
          "x": 0.10625,
          "xanchor": "center",
          "xref": "paper",
          "y": 0.04959630911188004,
          "yanchor": "bottom",
          "yref": "paper"
         },
         {
          "font": {
           "size": 16
          },
          "showarrow": false,
          "text": "Uzbekistan",
          "x": 0.36875,
          "xanchor": "center",
          "xref": "paper",
          "y": 0.04959630911188004,
          "yanchor": "bottom",
          "yref": "paper"
         },
         {
          "font": {
           "size": 16
          },
          "showarrow": false,
          "text": "Vanuatu",
          "x": 0.6312500000000001,
          "xanchor": "center",
          "xref": "paper",
          "y": 0.04959630911188004,
          "yanchor": "bottom",
          "yref": "paper"
         },
         {
          "font": {
           "size": 16
          },
          "showarrow": false,
          "text": "Venezuela",
          "x": 0.89375,
          "xanchor": "center",
          "xref": "paper",
          "y": 0.04959630911188004,
          "yanchor": "bottom",
          "yref": "paper"
         },
         {
          "font": {
           "size": 16
          },
          "showarrow": false,
          "text": "Vietnam",
          "x": 0.10625,
          "xanchor": "center",
          "xref": "paper",
          "y": 0.029796232218377544,
          "yanchor": "bottom",
          "yref": "paper"
         },
         {
          "font": {
           "size": 16
          },
          "showarrow": false,
          "text": "World",
          "x": 0.36875,
          "xanchor": "center",
          "xref": "paper",
          "y": 0.029796232218377544,
          "yanchor": "bottom",
          "yref": "paper"
         },
         {
          "font": {
           "size": 16
          },
          "showarrow": false,
          "text": "Yemen",
          "x": 0.6312500000000001,
          "xanchor": "center",
          "xref": "paper",
          "y": 0.029796232218377544,
          "yanchor": "bottom",
          "yref": "paper"
         },
         {
          "font": {
           "size": 16
          },
          "showarrow": false,
          "text": "Zambia",
          "x": 0.89375,
          "xanchor": "center",
          "xref": "paper",
          "y": 0.029796232218377544,
          "yanchor": "bottom",
          "yref": "paper"
         },
         {
          "font": {
           "size": 16
          },
          "showarrow": false,
          "text": "Zimbabwe",
          "x": 0.10625,
          "xanchor": "center",
          "xref": "paper",
          "y": 0.009996155324875047,
          "yanchor": "bottom",
          "yref": "paper"
         }
        ],
        "height": 15300,
        "showlegend": false,
        "template": {
         "data": {
          "bar": [
           {
            "error_x": {
             "color": "#2a3f5f"
            },
            "error_y": {
             "color": "#2a3f5f"
            },
            "marker": {
             "line": {
              "color": "#E5ECF6",
              "width": 0.5
             },
             "pattern": {
              "fillmode": "overlay",
              "size": 10,
              "solidity": 0.2
             }
            },
            "type": "bar"
           }
          ],
          "barpolar": [
           {
            "marker": {
             "line": {
              "color": "#E5ECF6",
              "width": 0.5
             },
             "pattern": {
              "fillmode": "overlay",
              "size": 10,
              "solidity": 0.2
             }
            },
            "type": "barpolar"
           }
          ],
          "carpet": [
           {
            "aaxis": {
             "endlinecolor": "#2a3f5f",
             "gridcolor": "white",
             "linecolor": "white",
             "minorgridcolor": "white",
             "startlinecolor": "#2a3f5f"
            },
            "baxis": {
             "endlinecolor": "#2a3f5f",
             "gridcolor": "white",
             "linecolor": "white",
             "minorgridcolor": "white",
             "startlinecolor": "#2a3f5f"
            },
            "type": "carpet"
           }
          ],
          "choropleth": [
           {
            "colorbar": {
             "outlinewidth": 0,
             "ticks": ""
            },
            "type": "choropleth"
           }
          ],
          "contour": [
           {
            "colorbar": {
             "outlinewidth": 0,
             "ticks": ""
            },
            "colorscale": [
             [
              0,
              "#0d0887"
             ],
             [
              0.1111111111111111,
              "#46039f"
             ],
             [
              0.2222222222222222,
              "#7201a8"
             ],
             [
              0.3333333333333333,
              "#9c179e"
             ],
             [
              0.4444444444444444,
              "#bd3786"
             ],
             [
              0.5555555555555556,
              "#d8576b"
             ],
             [
              0.6666666666666666,
              "#ed7953"
             ],
             [
              0.7777777777777778,
              "#fb9f3a"
             ],
             [
              0.8888888888888888,
              "#fdca26"
             ],
             [
              1,
              "#f0f921"
             ]
            ],
            "type": "contour"
           }
          ],
          "contourcarpet": [
           {
            "colorbar": {
             "outlinewidth": 0,
             "ticks": ""
            },
            "type": "contourcarpet"
           }
          ],
          "heatmap": [
           {
            "colorbar": {
             "outlinewidth": 0,
             "ticks": ""
            },
            "colorscale": [
             [
              0,
              "#0d0887"
             ],
             [
              0.1111111111111111,
              "#46039f"
             ],
             [
              0.2222222222222222,
              "#7201a8"
             ],
             [
              0.3333333333333333,
              "#9c179e"
             ],
             [
              0.4444444444444444,
              "#bd3786"
             ],
             [
              0.5555555555555556,
              "#d8576b"
             ],
             [
              0.6666666666666666,
              "#ed7953"
             ],
             [
              0.7777777777777778,
              "#fb9f3a"
             ],
             [
              0.8888888888888888,
              "#fdca26"
             ],
             [
              1,
              "#f0f921"
             ]
            ],
            "type": "heatmap"
           }
          ],
          "histogram": [
           {
            "marker": {
             "pattern": {
              "fillmode": "overlay",
              "size": 10,
              "solidity": 0.2
             }
            },
            "type": "histogram"
           }
          ],
          "histogram2d": [
           {
            "colorbar": {
             "outlinewidth": 0,
             "ticks": ""
            },
            "colorscale": [
             [
              0,
              "#0d0887"
             ],
             [
              0.1111111111111111,
              "#46039f"
             ],
             [
              0.2222222222222222,
              "#7201a8"
             ],
             [
              0.3333333333333333,
              "#9c179e"
             ],
             [
              0.4444444444444444,
              "#bd3786"
             ],
             [
              0.5555555555555556,
              "#d8576b"
             ],
             [
              0.6666666666666666,
              "#ed7953"
             ],
             [
              0.7777777777777778,
              "#fb9f3a"
             ],
             [
              0.8888888888888888,
              "#fdca26"
             ],
             [
              1,
              "#f0f921"
             ]
            ],
            "type": "histogram2d"
           }
          ],
          "histogram2dcontour": [
           {
            "colorbar": {
             "outlinewidth": 0,
             "ticks": ""
            },
            "colorscale": [
             [
              0,
              "#0d0887"
             ],
             [
              0.1111111111111111,
              "#46039f"
             ],
             [
              0.2222222222222222,
              "#7201a8"
             ],
             [
              0.3333333333333333,
              "#9c179e"
             ],
             [
              0.4444444444444444,
              "#bd3786"
             ],
             [
              0.5555555555555556,
              "#d8576b"
             ],
             [
              0.6666666666666666,
              "#ed7953"
             ],
             [
              0.7777777777777778,
              "#fb9f3a"
             ],
             [
              0.8888888888888888,
              "#fdca26"
             ],
             [
              1,
              "#f0f921"
             ]
            ],
            "type": "histogram2dcontour"
           }
          ],
          "mesh3d": [
           {
            "colorbar": {
             "outlinewidth": 0,
             "ticks": ""
            },
            "type": "mesh3d"
           }
          ],
          "parcoords": [
           {
            "line": {
             "colorbar": {
              "outlinewidth": 0,
              "ticks": ""
             }
            },
            "type": "parcoords"
           }
          ],
          "pie": [
           {
            "automargin": true,
            "type": "pie"
           }
          ],
          "scatter": [
           {
            "fillpattern": {
             "fillmode": "overlay",
             "size": 10,
             "solidity": 0.2
            },
            "type": "scatter"
           }
          ],
          "scatter3d": [
           {
            "line": {
             "colorbar": {
              "outlinewidth": 0,
              "ticks": ""
             }
            },
            "marker": {
             "colorbar": {
              "outlinewidth": 0,
              "ticks": ""
             }
            },
            "type": "scatter3d"
           }
          ],
          "scattercarpet": [
           {
            "marker": {
             "colorbar": {
              "outlinewidth": 0,
              "ticks": ""
             }
            },
            "type": "scattercarpet"
           }
          ],
          "scattergeo": [
           {
            "marker": {
             "colorbar": {
              "outlinewidth": 0,
              "ticks": ""
             }
            },
            "type": "scattergeo"
           }
          ],
          "scattergl": [
           {
            "marker": {
             "colorbar": {
              "outlinewidth": 0,
              "ticks": ""
             }
            },
            "type": "scattergl"
           }
          ],
          "scattermap": [
           {
            "marker": {
             "colorbar": {
              "outlinewidth": 0,
              "ticks": ""
             }
            },
            "type": "scattermap"
           }
          ],
          "scattermapbox": [
           {
            "marker": {
             "colorbar": {
              "outlinewidth": 0,
              "ticks": ""
             }
            },
            "type": "scattermapbox"
           }
          ],
          "scatterpolar": [
           {
            "marker": {
             "colorbar": {
              "outlinewidth": 0,
              "ticks": ""
             }
            },
            "type": "scatterpolar"
           }
          ],
          "scatterpolargl": [
           {
            "marker": {
             "colorbar": {
              "outlinewidth": 0,
              "ticks": ""
             }
            },
            "type": "scatterpolargl"
           }
          ],
          "scatterternary": [
           {
            "marker": {
             "colorbar": {
              "outlinewidth": 0,
              "ticks": ""
             }
            },
            "type": "scatterternary"
           }
          ],
          "surface": [
           {
            "colorbar": {
             "outlinewidth": 0,
             "ticks": ""
            },
            "colorscale": [
             [
              0,
              "#0d0887"
             ],
             [
              0.1111111111111111,
              "#46039f"
             ],
             [
              0.2222222222222222,
              "#7201a8"
             ],
             [
              0.3333333333333333,
              "#9c179e"
             ],
             [
              0.4444444444444444,
              "#bd3786"
             ],
             [
              0.5555555555555556,
              "#d8576b"
             ],
             [
              0.6666666666666666,
              "#ed7953"
             ],
             [
              0.7777777777777778,
              "#fb9f3a"
             ],
             [
              0.8888888888888888,
              "#fdca26"
             ],
             [
              1,
              "#f0f921"
             ]
            ],
            "type": "surface"
           }
          ],
          "table": [
           {
            "cells": {
             "fill": {
              "color": "#EBF0F8"
             },
             "line": {
              "color": "white"
             }
            },
            "header": {
             "fill": {
              "color": "#C8D4E3"
             },
             "line": {
              "color": "white"
             }
            },
            "type": "table"
           }
          ]
         },
         "layout": {
          "annotationdefaults": {
           "arrowcolor": "#2a3f5f",
           "arrowhead": 0,
           "arrowwidth": 1
          },
          "autotypenumbers": "strict",
          "coloraxis": {
           "colorbar": {
            "outlinewidth": 0,
            "ticks": ""
           }
          },
          "colorscale": {
           "diverging": [
            [
             0,
             "#8e0152"
            ],
            [
             0.1,
             "#c51b7d"
            ],
            [
             0.2,
             "#de77ae"
            ],
            [
             0.3,
             "#f1b6da"
            ],
            [
             0.4,
             "#fde0ef"
            ],
            [
             0.5,
             "#f7f7f7"
            ],
            [
             0.6,
             "#e6f5d0"
            ],
            [
             0.7,
             "#b8e186"
            ],
            [
             0.8,
             "#7fbc41"
            ],
            [
             0.9,
             "#4d9221"
            ],
            [
             1,
             "#276419"
            ]
           ],
           "sequential": [
            [
             0,
             "#0d0887"
            ],
            [
             0.1111111111111111,
             "#46039f"
            ],
            [
             0.2222222222222222,
             "#7201a8"
            ],
            [
             0.3333333333333333,
             "#9c179e"
            ],
            [
             0.4444444444444444,
             "#bd3786"
            ],
            [
             0.5555555555555556,
             "#d8576b"
            ],
            [
             0.6666666666666666,
             "#ed7953"
            ],
            [
             0.7777777777777778,
             "#fb9f3a"
            ],
            [
             0.8888888888888888,
             "#fdca26"
            ],
            [
             1,
             "#f0f921"
            ]
           ],
           "sequentialminus": [
            [
             0,
             "#0d0887"
            ],
            [
             0.1111111111111111,
             "#46039f"
            ],
            [
             0.2222222222222222,
             "#7201a8"
            ],
            [
             0.3333333333333333,
             "#9c179e"
            ],
            [
             0.4444444444444444,
             "#bd3786"
            ],
            [
             0.5555555555555556,
             "#d8576b"
            ],
            [
             0.6666666666666666,
             "#ed7953"
            ],
            [
             0.7777777777777778,
             "#fb9f3a"
            ],
            [
             0.8888888888888888,
             "#fdca26"
            ],
            [
             1,
             "#f0f921"
            ]
           ]
          },
          "colorway": [
           "#636efa",
           "#EF553B",
           "#00cc96",
           "#ab63fa",
           "#FFA15A",
           "#19d3f3",
           "#FF6692",
           "#B6E880",
           "#FF97FF",
           "#FECB52"
          ],
          "font": {
           "color": "#2a3f5f"
          },
          "geo": {
           "bgcolor": "white",
           "lakecolor": "white",
           "landcolor": "#E5ECF6",
           "showlakes": true,
           "showland": true,
           "subunitcolor": "white"
          },
          "hoverlabel": {
           "align": "left"
          },
          "hovermode": "closest",
          "mapbox": {
           "style": "light"
          },
          "paper_bgcolor": "white",
          "plot_bgcolor": "#E5ECF6",
          "polar": {
           "angularaxis": {
            "gridcolor": "white",
            "linecolor": "white",
            "ticks": ""
           },
           "bgcolor": "#E5ECF6",
           "radialaxis": {
            "gridcolor": "white",
            "linecolor": "white",
            "ticks": ""
           }
          },
          "scene": {
           "xaxis": {
            "backgroundcolor": "#E5ECF6",
            "gridcolor": "white",
            "gridwidth": 2,
            "linecolor": "white",
            "showbackground": true,
            "ticks": "",
            "zerolinecolor": "white"
           },
           "yaxis": {
            "backgroundcolor": "#E5ECF6",
            "gridcolor": "white",
            "gridwidth": 2,
            "linecolor": "white",
            "showbackground": true,
            "ticks": "",
            "zerolinecolor": "white"
           },
           "zaxis": {
            "backgroundcolor": "#E5ECF6",
            "gridcolor": "white",
            "gridwidth": 2,
            "linecolor": "white",
            "showbackground": true,
            "ticks": "",
            "zerolinecolor": "white"
           }
          },
          "shapedefaults": {
           "line": {
            "color": "#2a3f5f"
           }
          },
          "ternary": {
           "aaxis": {
            "gridcolor": "white",
            "linecolor": "white",
            "ticks": ""
           },
           "baxis": {
            "gridcolor": "white",
            "linecolor": "white",
            "ticks": ""
           },
           "bgcolor": "#E5ECF6",
           "caxis": {
            "gridcolor": "white",
            "linecolor": "white",
            "ticks": ""
           }
          },
          "title": {
           "x": 0.05
          },
          "xaxis": {
           "automargin": true,
           "gridcolor": "white",
           "linecolor": "white",
           "ticks": "",
           "title": {
            "standoff": 15
           },
           "zerolinecolor": "white",
           "zerolinewidth": 2
          },
          "yaxis": {
           "automargin": true,
           "gridcolor": "white",
           "linecolor": "white",
           "ticks": "",
           "title": {
            "standoff": 15
           },
           "zerolinecolor": "white",
           "zerolinewidth": 2
          }
         }
        },
        "title": {
         "text": "Évolution de la consommation d'alcool par pays (2000-2020)"
        },
        "xaxis": {
         "anchor": "y",
         "domain": [
          0,
          0.2125
         ],
         "title": {
          "text": "Année"
         }
        },
        "xaxis10": {
         "anchor": "y10",
         "domain": [
          0.2625,
          0.475
         ],
         "title": {
          "text": "Année"
         }
        },
        "xaxis100": {
         "anchor": "y100",
         "domain": [
          0.7875,
          1
         ],
         "title": {
          "text": "Année"
         }
        },
        "xaxis101": {
         "anchor": "y101",
         "domain": [
          0,
          0.2125
         ],
         "title": {
          "text": "Année"
         }
        },
        "xaxis102": {
         "anchor": "y102",
         "domain": [
          0.2625,
          0.475
         ],
         "title": {
          "text": "Année"
         }
        },
        "xaxis103": {
         "anchor": "y103",
         "domain": [
          0.525,
          0.7375
         ],
         "title": {
          "text": "Année"
         }
        },
        "xaxis104": {
         "anchor": "y104",
         "domain": [
          0.7875,
          1
         ],
         "title": {
          "text": "Année"
         }
        },
        "xaxis105": {
         "anchor": "y105",
         "domain": [
          0,
          0.2125
         ],
         "title": {
          "text": "Année"
         }
        },
        "xaxis106": {
         "anchor": "y106",
         "domain": [
          0.2625,
          0.475
         ],
         "title": {
          "text": "Année"
         }
        },
        "xaxis107": {
         "anchor": "y107",
         "domain": [
          0.525,
          0.7375
         ],
         "title": {
          "text": "Année"
         }
        },
        "xaxis108": {
         "anchor": "y108",
         "domain": [
          0.7875,
          1
         ],
         "title": {
          "text": "Année"
         }
        },
        "xaxis109": {
         "anchor": "y109",
         "domain": [
          0,
          0.2125
         ],
         "title": {
          "text": "Année"
         }
        },
        "xaxis11": {
         "anchor": "y11",
         "domain": [
          0.525,
          0.7375
         ],
         "title": {
          "text": "Année"
         }
        },
        "xaxis110": {
         "anchor": "y110",
         "domain": [
          0.2625,
          0.475
         ],
         "title": {
          "text": "Année"
         }
        },
        "xaxis111": {
         "anchor": "y111",
         "domain": [
          0.525,
          0.7375
         ],
         "title": {
          "text": "Année"
         }
        },
        "xaxis112": {
         "anchor": "y112",
         "domain": [
          0.7875,
          1
         ],
         "title": {
          "text": "Année"
         }
        },
        "xaxis113": {
         "anchor": "y113",
         "domain": [
          0,
          0.2125
         ],
         "title": {
          "text": "Année"
         }
        },
        "xaxis114": {
         "anchor": "y114",
         "domain": [
          0.2625,
          0.475
         ],
         "title": {
          "text": "Année"
         }
        },
        "xaxis115": {
         "anchor": "y115",
         "domain": [
          0.525,
          0.7375
         ],
         "title": {
          "text": "Année"
         }
        },
        "xaxis116": {
         "anchor": "y116",
         "domain": [
          0.7875,
          1
         ],
         "title": {
          "text": "Année"
         }
        },
        "xaxis117": {
         "anchor": "y117",
         "domain": [
          0,
          0.2125
         ],
         "title": {
          "text": "Année"
         }
        },
        "xaxis118": {
         "anchor": "y118",
         "domain": [
          0.2625,
          0.475
         ],
         "title": {
          "text": "Année"
         }
        },
        "xaxis119": {
         "anchor": "y119",
         "domain": [
          0.525,
          0.7375
         ],
         "title": {
          "text": "Année"
         }
        },
        "xaxis12": {
         "anchor": "y12",
         "domain": [
          0.7875,
          1
         ],
         "title": {
          "text": "Année"
         }
        },
        "xaxis120": {
         "anchor": "y120",
         "domain": [
          0.7875,
          1
         ],
         "title": {
          "text": "Année"
         }
        },
        "xaxis121": {
         "anchor": "y121",
         "domain": [
          0,
          0.2125
         ],
         "title": {
          "text": "Année"
         }
        },
        "xaxis122": {
         "anchor": "y122",
         "domain": [
          0.2625,
          0.475
         ],
         "title": {
          "text": "Année"
         }
        },
        "xaxis123": {
         "anchor": "y123",
         "domain": [
          0.525,
          0.7375
         ],
         "title": {
          "text": "Année"
         }
        },
        "xaxis124": {
         "anchor": "y124",
         "domain": [
          0.7875,
          1
         ],
         "title": {
          "text": "Année"
         }
        },
        "xaxis125": {
         "anchor": "y125",
         "domain": [
          0,
          0.2125
         ],
         "title": {
          "text": "Année"
         }
        },
        "xaxis126": {
         "anchor": "y126",
         "domain": [
          0.2625,
          0.475
         ],
         "title": {
          "text": "Année"
         }
        },
        "xaxis127": {
         "anchor": "y127",
         "domain": [
          0.525,
          0.7375
         ],
         "title": {
          "text": "Année"
         }
        },
        "xaxis128": {
         "anchor": "y128",
         "domain": [
          0.7875,
          1
         ],
         "title": {
          "text": "Année"
         }
        },
        "xaxis129": {
         "anchor": "y129",
         "domain": [
          0,
          0.2125
         ],
         "title": {
          "text": "Année"
         }
        },
        "xaxis13": {
         "anchor": "y13",
         "domain": [
          0,
          0.2125
         ],
         "title": {
          "text": "Année"
         }
        },
        "xaxis130": {
         "anchor": "y130",
         "domain": [
          0.2625,
          0.475
         ],
         "title": {
          "text": "Année"
         }
        },
        "xaxis131": {
         "anchor": "y131",
         "domain": [
          0.525,
          0.7375
         ],
         "title": {
          "text": "Année"
         }
        },
        "xaxis132": {
         "anchor": "y132",
         "domain": [
          0.7875,
          1
         ],
         "title": {
          "text": "Année"
         }
        },
        "xaxis133": {
         "anchor": "y133",
         "domain": [
          0,
          0.2125
         ],
         "title": {
          "text": "Année"
         }
        },
        "xaxis134": {
         "anchor": "y134",
         "domain": [
          0.2625,
          0.475
         ],
         "title": {
          "text": "Année"
         }
        },
        "xaxis135": {
         "anchor": "y135",
         "domain": [
          0.525,
          0.7375
         ],
         "title": {
          "text": "Année"
         }
        },
        "xaxis136": {
         "anchor": "y136",
         "domain": [
          0.7875,
          1
         ],
         "title": {
          "text": "Année"
         }
        },
        "xaxis137": {
         "anchor": "y137",
         "domain": [
          0,
          0.2125
         ],
         "title": {
          "text": "Année"
         }
        },
        "xaxis138": {
         "anchor": "y138",
         "domain": [
          0.2625,
          0.475
         ],
         "title": {
          "text": "Année"
         }
        },
        "xaxis139": {
         "anchor": "y139",
         "domain": [
          0.525,
          0.7375
         ],
         "title": {
          "text": "Année"
         }
        },
        "xaxis14": {
         "anchor": "y14",
         "domain": [
          0.2625,
          0.475
         ],
         "title": {
          "text": "Année"
         }
        },
        "xaxis140": {
         "anchor": "y140",
         "domain": [
          0.7875,
          1
         ],
         "title": {
          "text": "Année"
         }
        },
        "xaxis141": {
         "anchor": "y141",
         "domain": [
          0,
          0.2125
         ],
         "title": {
          "text": "Année"
         }
        },
        "xaxis142": {
         "anchor": "y142",
         "domain": [
          0.2625,
          0.475
         ],
         "title": {
          "text": "Année"
         }
        },
        "xaxis143": {
         "anchor": "y143",
         "domain": [
          0.525,
          0.7375
         ],
         "title": {
          "text": "Année"
         }
        },
        "xaxis144": {
         "anchor": "y144",
         "domain": [
          0.7875,
          1
         ],
         "title": {
          "text": "Année"
         }
        },
        "xaxis145": {
         "anchor": "y145",
         "domain": [
          0,
          0.2125
         ],
         "title": {
          "text": "Année"
         }
        },
        "xaxis146": {
         "anchor": "y146",
         "domain": [
          0.2625,
          0.475
         ],
         "title": {
          "text": "Année"
         }
        },
        "xaxis147": {
         "anchor": "y147",
         "domain": [
          0.525,
          0.7375
         ],
         "title": {
          "text": "Année"
         }
        },
        "xaxis148": {
         "anchor": "y148",
         "domain": [
          0.7875,
          1
         ],
         "title": {
          "text": "Année"
         }
        },
        "xaxis149": {
         "anchor": "y149",
         "domain": [
          0,
          0.2125
         ],
         "title": {
          "text": "Année"
         }
        },
        "xaxis15": {
         "anchor": "y15",
         "domain": [
          0.525,
          0.7375
         ],
         "title": {
          "text": "Année"
         }
        },
        "xaxis150": {
         "anchor": "y150",
         "domain": [
          0.2625,
          0.475
         ],
         "title": {
          "text": "Année"
         }
        },
        "xaxis151": {
         "anchor": "y151",
         "domain": [
          0.525,
          0.7375
         ],
         "title": {
          "text": "Année"
         }
        },
        "xaxis152": {
         "anchor": "y152",
         "domain": [
          0.7875,
          1
         ],
         "title": {
          "text": "Année"
         }
        },
        "xaxis153": {
         "anchor": "y153",
         "domain": [
          0,
          0.2125
         ],
         "title": {
          "text": "Année"
         }
        },
        "xaxis154": {
         "anchor": "y154",
         "domain": [
          0.2625,
          0.475
         ],
         "title": {
          "text": "Année"
         }
        },
        "xaxis155": {
         "anchor": "y155",
         "domain": [
          0.525,
          0.7375
         ],
         "title": {
          "text": "Année"
         }
        },
        "xaxis156": {
         "anchor": "y156",
         "domain": [
          0.7875,
          1
         ],
         "title": {
          "text": "Année"
         }
        },
        "xaxis157": {
         "anchor": "y157",
         "domain": [
          0,
          0.2125
         ],
         "title": {
          "text": "Année"
         }
        },
        "xaxis158": {
         "anchor": "y158",
         "domain": [
          0.2625,
          0.475
         ],
         "title": {
          "text": "Année"
         }
        },
        "xaxis159": {
         "anchor": "y159",
         "domain": [
          0.525,
          0.7375
         ],
         "title": {
          "text": "Année"
         }
        },
        "xaxis16": {
         "anchor": "y16",
         "domain": [
          0.7875,
          1
         ],
         "title": {
          "text": "Année"
         }
        },
        "xaxis160": {
         "anchor": "y160",
         "domain": [
          0.7875,
          1
         ],
         "title": {
          "text": "Année"
         }
        },
        "xaxis161": {
         "anchor": "y161",
         "domain": [
          0,
          0.2125
         ],
         "title": {
          "text": "Année"
         }
        },
        "xaxis162": {
         "anchor": "y162",
         "domain": [
          0.2625,
          0.475
         ],
         "title": {
          "text": "Année"
         }
        },
        "xaxis163": {
         "anchor": "y163",
         "domain": [
          0.525,
          0.7375
         ],
         "title": {
          "text": "Année"
         }
        },
        "xaxis164": {
         "anchor": "y164",
         "domain": [
          0.7875,
          1
         ],
         "title": {
          "text": "Année"
         }
        },
        "xaxis165": {
         "anchor": "y165",
         "domain": [
          0,
          0.2125
         ],
         "title": {
          "text": "Année"
         }
        },
        "xaxis166": {
         "anchor": "y166",
         "domain": [
          0.2625,
          0.475
         ],
         "title": {
          "text": "Année"
         }
        },
        "xaxis167": {
         "anchor": "y167",
         "domain": [
          0.525,
          0.7375
         ],
         "title": {
          "text": "Année"
         }
        },
        "xaxis168": {
         "anchor": "y168",
         "domain": [
          0.7875,
          1
         ],
         "title": {
          "text": "Année"
         }
        },
        "xaxis169": {
         "anchor": "y169",
         "domain": [
          0,
          0.2125
         ],
         "title": {
          "text": "Année"
         }
        },
        "xaxis17": {
         "anchor": "y17",
         "domain": [
          0,
          0.2125
         ],
         "title": {
          "text": "Année"
         }
        },
        "xaxis170": {
         "anchor": "y170",
         "domain": [
          0.2625,
          0.475
         ],
         "title": {
          "text": "Année"
         }
        },
        "xaxis171": {
         "anchor": "y171",
         "domain": [
          0.525,
          0.7375
         ],
         "title": {
          "text": "Année"
         }
        },
        "xaxis172": {
         "anchor": "y172",
         "domain": [
          0.7875,
          1
         ],
         "title": {
          "text": "Année"
         }
        },
        "xaxis173": {
         "anchor": "y173",
         "domain": [
          0,
          0.2125
         ],
         "title": {
          "text": "Année"
         }
        },
        "xaxis174": {
         "anchor": "y174",
         "domain": [
          0.2625,
          0.475
         ],
         "title": {
          "text": "Année"
         }
        },
        "xaxis175": {
         "anchor": "y175",
         "domain": [
          0.525,
          0.7375
         ],
         "title": {
          "text": "Année"
         }
        },
        "xaxis176": {
         "anchor": "y176",
         "domain": [
          0.7875,
          1
         ],
         "title": {
          "text": "Année"
         }
        },
        "xaxis177": {
         "anchor": "y177",
         "domain": [
          0,
          0.2125
         ],
         "title": {
          "text": "Année"
         }
        },
        "xaxis178": {
         "anchor": "y178",
         "domain": [
          0.2625,
          0.475
         ],
         "title": {
          "text": "Année"
         }
        },
        "xaxis179": {
         "anchor": "y179",
         "domain": [
          0.525,
          0.7375
         ],
         "title": {
          "text": "Année"
         }
        },
        "xaxis18": {
         "anchor": "y18",
         "domain": [
          0.2625,
          0.475
         ],
         "title": {
          "text": "Année"
         }
        },
        "xaxis180": {
         "anchor": "y180",
         "domain": [
          0.7875,
          1
         ],
         "title": {
          "text": "Année"
         }
        },
        "xaxis181": {
         "anchor": "y181",
         "domain": [
          0,
          0.2125
         ],
         "title": {
          "text": "Année"
         }
        },
        "xaxis182": {
         "anchor": "y182",
         "domain": [
          0.2625,
          0.475
         ],
         "title": {
          "text": "Année"
         }
        },
        "xaxis183": {
         "anchor": "y183",
         "domain": [
          0.525,
          0.7375
         ],
         "title": {
          "text": "Année"
         }
        },
        "xaxis184": {
         "anchor": "y184",
         "domain": [
          0.7875,
          1
         ],
         "title": {
          "text": "Année"
         }
        },
        "xaxis185": {
         "anchor": "y185",
         "domain": [
          0,
          0.2125
         ],
         "title": {
          "text": "Année"
         }
        },
        "xaxis186": {
         "anchor": "y186",
         "domain": [
          0.2625,
          0.475
         ],
         "title": {
          "text": "Année"
         }
        },
        "xaxis187": {
         "anchor": "y187",
         "domain": [
          0.525,
          0.7375
         ],
         "title": {
          "text": "Année"
         }
        },
        "xaxis188": {
         "anchor": "y188",
         "domain": [
          0.7875,
          1
         ],
         "title": {
          "text": "Année"
         }
        },
        "xaxis189": {
         "anchor": "y189",
         "domain": [
          0,
          0.2125
         ],
         "title": {
          "text": "Année"
         }
        },
        "xaxis19": {
         "anchor": "y19",
         "domain": [
          0.525,
          0.7375
         ],
         "title": {
          "text": "Année"
         }
        },
        "xaxis190": {
         "anchor": "y190",
         "domain": [
          0.2625,
          0.475
         ],
         "title": {
          "text": "Année"
         }
        },
        "xaxis191": {
         "anchor": "y191",
         "domain": [
          0.525,
          0.7375
         ],
         "title": {
          "text": "Année"
         }
        },
        "xaxis192": {
         "anchor": "y192",
         "domain": [
          0.7875,
          1
         ],
         "title": {
          "text": "Année"
         }
        },
        "xaxis193": {
         "anchor": "y193",
         "domain": [
          0,
          0.2125
         ],
         "title": {
          "text": "Année"
         }
        },
        "xaxis194": {
         "anchor": "y194",
         "domain": [
          0.2625,
          0.475
         ],
         "title": {
          "text": "Année"
         }
        },
        "xaxis195": {
         "anchor": "y195",
         "domain": [
          0.525,
          0.7375
         ],
         "title": {
          "text": "Année"
         }
        },
        "xaxis196": {
         "anchor": "y196",
         "domain": [
          0.7875,
          1
         ],
         "title": {
          "text": "Année"
         }
        },
        "xaxis197": {
         "anchor": "y197",
         "domain": [
          0,
          0.2125
         ],
         "title": {
          "text": "Année"
         }
        },
        "xaxis198": {
         "anchor": "y198",
         "domain": [
          0.2625,
          0.475
         ],
         "title": {
          "text": "Année"
         }
        },
        "xaxis199": {
         "anchor": "y199",
         "domain": [
          0.525,
          0.7375
         ],
         "title": {
          "text": "Année"
         }
        },
        "xaxis2": {
         "anchor": "y2",
         "domain": [
          0.2625,
          0.475
         ],
         "title": {
          "text": "Année"
         }
        },
        "xaxis20": {
         "anchor": "y20",
         "domain": [
          0.7875,
          1
         ],
         "title": {
          "text": "Année"
         }
        },
        "xaxis200": {
         "anchor": "y200",
         "domain": [
          0.7875,
          1
         ],
         "title": {
          "text": "Année"
         }
        },
        "xaxis201": {
         "anchor": "y201",
         "domain": [
          0,
          0.2125
         ],
         "title": {
          "text": "Année"
         }
        },
        "xaxis202": {
         "anchor": "y202",
         "domain": [
          0.2625,
          0.475
         ],
         "title": {
          "text": "Année"
         }
        },
        "xaxis203": {
         "anchor": "y203",
         "domain": [
          0.525,
          0.7375
         ],
         "title": {
          "text": "Année"
         }
        },
        "xaxis204": {
         "anchor": "y204",
         "domain": [
          0.7875,
          1
         ],
         "title": {
          "text": "Année"
         }
        },
        "xaxis21": {
         "anchor": "y21",
         "domain": [
          0,
          0.2125
         ],
         "title": {
          "text": "Année"
         }
        },
        "xaxis22": {
         "anchor": "y22",
         "domain": [
          0.2625,
          0.475
         ],
         "title": {
          "text": "Année"
         }
        },
        "xaxis23": {
         "anchor": "y23",
         "domain": [
          0.525,
          0.7375
         ],
         "title": {
          "text": "Année"
         }
        },
        "xaxis24": {
         "anchor": "y24",
         "domain": [
          0.7875,
          1
         ],
         "title": {
          "text": "Année"
         }
        },
        "xaxis25": {
         "anchor": "y25",
         "domain": [
          0,
          0.2125
         ],
         "title": {
          "text": "Année"
         }
        },
        "xaxis26": {
         "anchor": "y26",
         "domain": [
          0.2625,
          0.475
         ],
         "title": {
          "text": "Année"
         }
        },
        "xaxis27": {
         "anchor": "y27",
         "domain": [
          0.525,
          0.7375
         ],
         "title": {
          "text": "Année"
         }
        },
        "xaxis28": {
         "anchor": "y28",
         "domain": [
          0.7875,
          1
         ],
         "title": {
          "text": "Année"
         }
        },
        "xaxis29": {
         "anchor": "y29",
         "domain": [
          0,
          0.2125
         ],
         "title": {
          "text": "Année"
         }
        },
        "xaxis3": {
         "anchor": "y3",
         "domain": [
          0.525,
          0.7375
         ],
         "title": {
          "text": "Année"
         }
        },
        "xaxis30": {
         "anchor": "y30",
         "domain": [
          0.2625,
          0.475
         ],
         "title": {
          "text": "Année"
         }
        },
        "xaxis31": {
         "anchor": "y31",
         "domain": [
          0.525,
          0.7375
         ],
         "title": {
          "text": "Année"
         }
        },
        "xaxis32": {
         "anchor": "y32",
         "domain": [
          0.7875,
          1
         ],
         "title": {
          "text": "Année"
         }
        },
        "xaxis33": {
         "anchor": "y33",
         "domain": [
          0,
          0.2125
         ],
         "title": {
          "text": "Année"
         }
        },
        "xaxis34": {
         "anchor": "y34",
         "domain": [
          0.2625,
          0.475
         ],
         "title": {
          "text": "Année"
         }
        },
        "xaxis35": {
         "anchor": "y35",
         "domain": [
          0.525,
          0.7375
         ],
         "title": {
          "text": "Année"
         }
        },
        "xaxis36": {
         "anchor": "y36",
         "domain": [
          0.7875,
          1
         ],
         "title": {
          "text": "Année"
         }
        },
        "xaxis37": {
         "anchor": "y37",
         "domain": [
          0,
          0.2125
         ],
         "title": {
          "text": "Année"
         }
        },
        "xaxis38": {
         "anchor": "y38",
         "domain": [
          0.2625,
          0.475
         ],
         "title": {
          "text": "Année"
         }
        },
        "xaxis39": {
         "anchor": "y39",
         "domain": [
          0.525,
          0.7375
         ],
         "title": {
          "text": "Année"
         }
        },
        "xaxis4": {
         "anchor": "y4",
         "domain": [
          0.7875,
          1
         ],
         "title": {
          "text": "Année"
         }
        },
        "xaxis40": {
         "anchor": "y40",
         "domain": [
          0.7875,
          1
         ],
         "title": {
          "text": "Année"
         }
        },
        "xaxis41": {
         "anchor": "y41",
         "domain": [
          0,
          0.2125
         ],
         "title": {
          "text": "Année"
         }
        },
        "xaxis42": {
         "anchor": "y42",
         "domain": [
          0.2625,
          0.475
         ],
         "title": {
          "text": "Année"
         }
        },
        "xaxis43": {
         "anchor": "y43",
         "domain": [
          0.525,
          0.7375
         ],
         "title": {
          "text": "Année"
         }
        },
        "xaxis44": {
         "anchor": "y44",
         "domain": [
          0.7875,
          1
         ],
         "title": {
          "text": "Année"
         }
        },
        "xaxis45": {
         "anchor": "y45",
         "domain": [
          0,
          0.2125
         ],
         "title": {
          "text": "Année"
         }
        },
        "xaxis46": {
         "anchor": "y46",
         "domain": [
          0.2625,
          0.475
         ],
         "title": {
          "text": "Année"
         }
        },
        "xaxis47": {
         "anchor": "y47",
         "domain": [
          0.525,
          0.7375
         ],
         "title": {
          "text": "Année"
         }
        },
        "xaxis48": {
         "anchor": "y48",
         "domain": [
          0.7875,
          1
         ],
         "title": {
          "text": "Année"
         }
        },
        "xaxis49": {
         "anchor": "y49",
         "domain": [
          0,
          0.2125
         ],
         "title": {
          "text": "Année"
         }
        },
        "xaxis5": {
         "anchor": "y5",
         "domain": [
          0,
          0.2125
         ],
         "title": {
          "text": "Année"
         }
        },
        "xaxis50": {
         "anchor": "y50",
         "domain": [
          0.2625,
          0.475
         ],
         "title": {
          "text": "Année"
         }
        },
        "xaxis51": {
         "anchor": "y51",
         "domain": [
          0.525,
          0.7375
         ],
         "title": {
          "text": "Année"
         }
        },
        "xaxis52": {
         "anchor": "y52",
         "domain": [
          0.7875,
          1
         ],
         "title": {
          "text": "Année"
         }
        },
        "xaxis53": {
         "anchor": "y53",
         "domain": [
          0,
          0.2125
         ],
         "title": {
          "text": "Année"
         }
        },
        "xaxis54": {
         "anchor": "y54",
         "domain": [
          0.2625,
          0.475
         ],
         "title": {
          "text": "Année"
         }
        },
        "xaxis55": {
         "anchor": "y55",
         "domain": [
          0.525,
          0.7375
         ],
         "title": {
          "text": "Année"
         }
        },
        "xaxis56": {
         "anchor": "y56",
         "domain": [
          0.7875,
          1
         ],
         "title": {
          "text": "Année"
         }
        },
        "xaxis57": {
         "anchor": "y57",
         "domain": [
          0,
          0.2125
         ],
         "title": {
          "text": "Année"
         }
        },
        "xaxis58": {
         "anchor": "y58",
         "domain": [
          0.2625,
          0.475
         ],
         "title": {
          "text": "Année"
         }
        },
        "xaxis59": {
         "anchor": "y59",
         "domain": [
          0.525,
          0.7375
         ],
         "title": {
          "text": "Année"
         }
        },
        "xaxis6": {
         "anchor": "y6",
         "domain": [
          0.2625,
          0.475
         ],
         "title": {
          "text": "Année"
         }
        },
        "xaxis60": {
         "anchor": "y60",
         "domain": [
          0.7875,
          1
         ],
         "title": {
          "text": "Année"
         }
        },
        "xaxis61": {
         "anchor": "y61",
         "domain": [
          0,
          0.2125
         ],
         "title": {
          "text": "Année"
         }
        },
        "xaxis62": {
         "anchor": "y62",
         "domain": [
          0.2625,
          0.475
         ],
         "title": {
          "text": "Année"
         }
        },
        "xaxis63": {
         "anchor": "y63",
         "domain": [
          0.525,
          0.7375
         ],
         "title": {
          "text": "Année"
         }
        },
        "xaxis64": {
         "anchor": "y64",
         "domain": [
          0.7875,
          1
         ],
         "title": {
          "text": "Année"
         }
        },
        "xaxis65": {
         "anchor": "y65",
         "domain": [
          0,
          0.2125
         ],
         "title": {
          "text": "Année"
         }
        },
        "xaxis66": {
         "anchor": "y66",
         "domain": [
          0.2625,
          0.475
         ],
         "title": {
          "text": "Année"
         }
        },
        "xaxis67": {
         "anchor": "y67",
         "domain": [
          0.525,
          0.7375
         ],
         "title": {
          "text": "Année"
         }
        },
        "xaxis68": {
         "anchor": "y68",
         "domain": [
          0.7875,
          1
         ],
         "title": {
          "text": "Année"
         }
        },
        "xaxis69": {
         "anchor": "y69",
         "domain": [
          0,
          0.2125
         ],
         "title": {
          "text": "Année"
         }
        },
        "xaxis7": {
         "anchor": "y7",
         "domain": [
          0.525,
          0.7375
         ],
         "title": {
          "text": "Année"
         }
        },
        "xaxis70": {
         "anchor": "y70",
         "domain": [
          0.2625,
          0.475
         ],
         "title": {
          "text": "Année"
         }
        },
        "xaxis71": {
         "anchor": "y71",
         "domain": [
          0.525,
          0.7375
         ],
         "title": {
          "text": "Année"
         }
        },
        "xaxis72": {
         "anchor": "y72",
         "domain": [
          0.7875,
          1
         ],
         "title": {
          "text": "Année"
         }
        },
        "xaxis73": {
         "anchor": "y73",
         "domain": [
          0,
          0.2125
         ],
         "title": {
          "text": "Année"
         }
        },
        "xaxis74": {
         "anchor": "y74",
         "domain": [
          0.2625,
          0.475
         ],
         "title": {
          "text": "Année"
         }
        },
        "xaxis75": {
         "anchor": "y75",
         "domain": [
          0.525,
          0.7375
         ],
         "title": {
          "text": "Année"
         }
        },
        "xaxis76": {
         "anchor": "y76",
         "domain": [
          0.7875,
          1
         ],
         "title": {
          "text": "Année"
         }
        },
        "xaxis77": {
         "anchor": "y77",
         "domain": [
          0,
          0.2125
         ],
         "title": {
          "text": "Année"
         }
        },
        "xaxis78": {
         "anchor": "y78",
         "domain": [
          0.2625,
          0.475
         ],
         "title": {
          "text": "Année"
         }
        },
        "xaxis79": {
         "anchor": "y79",
         "domain": [
          0.525,
          0.7375
         ],
         "title": {
          "text": "Année"
         }
        },
        "xaxis8": {
         "anchor": "y8",
         "domain": [
          0.7875,
          1
         ],
         "title": {
          "text": "Année"
         }
        },
        "xaxis80": {
         "anchor": "y80",
         "domain": [
          0.7875,
          1
         ],
         "title": {
          "text": "Année"
         }
        },
        "xaxis81": {
         "anchor": "y81",
         "domain": [
          0,
          0.2125
         ],
         "title": {
          "text": "Année"
         }
        },
        "xaxis82": {
         "anchor": "y82",
         "domain": [
          0.2625,
          0.475
         ],
         "title": {
          "text": "Année"
         }
        },
        "xaxis83": {
         "anchor": "y83",
         "domain": [
          0.525,
          0.7375
         ],
         "title": {
          "text": "Année"
         }
        },
        "xaxis84": {
         "anchor": "y84",
         "domain": [
          0.7875,
          1
         ],
         "title": {
          "text": "Année"
         }
        },
        "xaxis85": {
         "anchor": "y85",
         "domain": [
          0,
          0.2125
         ],
         "title": {
          "text": "Année"
         }
        },
        "xaxis86": {
         "anchor": "y86",
         "domain": [
          0.2625,
          0.475
         ],
         "title": {
          "text": "Année"
         }
        },
        "xaxis87": {
         "anchor": "y87",
         "domain": [
          0.525,
          0.7375
         ],
         "title": {
          "text": "Année"
         }
        },
        "xaxis88": {
         "anchor": "y88",
         "domain": [
          0.7875,
          1
         ],
         "title": {
          "text": "Année"
         }
        },
        "xaxis89": {
         "anchor": "y89",
         "domain": [
          0,
          0.2125
         ],
         "title": {
          "text": "Année"
         }
        },
        "xaxis9": {
         "anchor": "y9",
         "domain": [
          0,
          0.2125
         ],
         "title": {
          "text": "Année"
         }
        },
        "xaxis90": {
         "anchor": "y90",
         "domain": [
          0.2625,
          0.475
         ],
         "title": {
          "text": "Année"
         }
        },
        "xaxis91": {
         "anchor": "y91",
         "domain": [
          0.525,
          0.7375
         ],
         "title": {
          "text": "Année"
         }
        },
        "xaxis92": {
         "anchor": "y92",
         "domain": [
          0.7875,
          1
         ],
         "title": {
          "text": "Année"
         }
        },
        "xaxis93": {
         "anchor": "y93",
         "domain": [
          0,
          0.2125
         ],
         "title": {
          "text": "Année"
         }
        },
        "xaxis94": {
         "anchor": "y94",
         "domain": [
          0.2625,
          0.475
         ],
         "title": {
          "text": "Année"
         }
        },
        "xaxis95": {
         "anchor": "y95",
         "domain": [
          0.525,
          0.7375
         ],
         "title": {
          "text": "Année"
         }
        },
        "xaxis96": {
         "anchor": "y96",
         "domain": [
          0.7875,
          1
         ],
         "title": {
          "text": "Année"
         }
        },
        "xaxis97": {
         "anchor": "y97",
         "domain": [
          0,
          0.2125
         ],
         "title": {
          "text": "Année"
         }
        },
        "xaxis98": {
         "anchor": "y98",
         "domain": [
          0.2625,
          0.475
         ],
         "title": {
          "text": "Année"
         }
        },
        "xaxis99": {
         "anchor": "y99",
         "domain": [
          0.525,
          0.7375
         ],
         "title": {
          "text": "Année"
         }
        },
        "yaxis": {
         "anchor": "x",
         "domain": [
          0.9900038446751249,
          1
         ],
         "title": {
          "text": "Litres par an"
         }
        },
        "yaxis10": {
         "anchor": "x10",
         "domain": [
          0.9504036908881199,
          0.960399846212995
         ],
         "title": {
          "text": "Litres par an"
         }
        },
        "yaxis100": {
         "anchor": "x100",
         "domain": [
          0.5148019992310648,
          0.5247981545559399
         ],
         "title": {
          "text": "Litres par an"
         }
        },
        "yaxis101": {
         "anchor": "x101",
         "domain": [
          0.49500192233756246,
          0.5049980776624375
         ],
         "title": {
          "text": "Litres par an"
         }
        },
        "yaxis102": {
         "anchor": "x102",
         "domain": [
          0.49500192233756246,
          0.5049980776624375
         ],
         "title": {
          "text": "Litres par an"
         }
        },
        "yaxis103": {
         "anchor": "x103",
         "domain": [
          0.49500192233756246,
          0.5049980776624375
         ],
         "title": {
          "text": "Litres par an"
         }
        },
        "yaxis104": {
         "anchor": "x104",
         "domain": [
          0.49500192233756246,
          0.5049980776624375
         ],
         "title": {
          "text": "Litres par an"
         }
        },
        "yaxis105": {
         "anchor": "x105",
         "domain": [
          0.47520184544405997,
          0.485198000768935
         ],
         "title": {
          "text": "Litres par an"
         }
        },
        "yaxis106": {
         "anchor": "x106",
         "domain": [
          0.47520184544405997,
          0.485198000768935
         ],
         "title": {
          "text": "Litres par an"
         }
        },
        "yaxis107": {
         "anchor": "x107",
         "domain": [
          0.47520184544405997,
          0.485198000768935
         ],
         "title": {
          "text": "Litres par an"
         }
        },
        "yaxis108": {
         "anchor": "x108",
         "domain": [
          0.47520184544405997,
          0.485198000768935
         ],
         "title": {
          "text": "Litres par an"
         }
        },
        "yaxis109": {
         "anchor": "x109",
         "domain": [
          0.4554017685505575,
          0.4653979238754325
         ],
         "title": {
          "text": "Litres par an"
         }
        },
        "yaxis11": {
         "anchor": "x11",
         "domain": [
          0.9504036908881199,
          0.960399846212995
         ],
         "title": {
          "text": "Litres par an"
         }
        },
        "yaxis110": {
         "anchor": "x110",
         "domain": [
          0.4554017685505575,
          0.4653979238754325
         ],
         "title": {
          "text": "Litres par an"
         }
        },
        "yaxis111": {
         "anchor": "x111",
         "domain": [
          0.4554017685505575,
          0.4653979238754325
         ],
         "title": {
          "text": "Litres par an"
         }
        },
        "yaxis112": {
         "anchor": "x112",
         "domain": [
          0.4554017685505575,
          0.4653979238754325
         ],
         "title": {
          "text": "Litres par an"
         }
        },
        "yaxis113": {
         "anchor": "x113",
         "domain": [
          0.435601691657055,
          0.44559784698193
         ],
         "title": {
          "text": "Litres par an"
         }
        },
        "yaxis114": {
         "anchor": "x114",
         "domain": [
          0.435601691657055,
          0.44559784698193
         ],
         "title": {
          "text": "Litres par an"
         }
        },
        "yaxis115": {
         "anchor": "x115",
         "domain": [
          0.435601691657055,
          0.44559784698193
         ],
         "title": {
          "text": "Litres par an"
         }
        },
        "yaxis116": {
         "anchor": "x116",
         "domain": [
          0.435601691657055,
          0.44559784698193
         ],
         "title": {
          "text": "Litres par an"
         }
        },
        "yaxis117": {
         "anchor": "x117",
         "domain": [
          0.41580161476355243,
          0.42579777008842745
         ],
         "title": {
          "text": "Litres par an"
         }
        },
        "yaxis118": {
         "anchor": "x118",
         "domain": [
          0.41580161476355243,
          0.42579777008842745
         ],
         "title": {
          "text": "Litres par an"
         }
        },
        "yaxis119": {
         "anchor": "x119",
         "domain": [
          0.41580161476355243,
          0.42579777008842745
         ],
         "title": {
          "text": "Litres par an"
         }
        },
        "yaxis12": {
         "anchor": "x12",
         "domain": [
          0.9504036908881199,
          0.960399846212995
         ],
         "title": {
          "text": "Litres par an"
         }
        },
        "yaxis120": {
         "anchor": "x120",
         "domain": [
          0.41580161476355243,
          0.42579777008842745
         ],
         "title": {
          "text": "Litres par an"
         }
        },
        "yaxis121": {
         "anchor": "x121",
         "domain": [
          0.39600153787005,
          0.405997693194925
         ],
         "title": {
          "text": "Litres par an"
         }
        },
        "yaxis122": {
         "anchor": "x122",
         "domain": [
          0.39600153787005,
          0.405997693194925
         ],
         "title": {
          "text": "Litres par an"
         }
        },
        "yaxis123": {
         "anchor": "x123",
         "domain": [
          0.39600153787005,
          0.405997693194925
         ],
         "title": {
          "text": "Litres par an"
         }
        },
        "yaxis124": {
         "anchor": "x124",
         "domain": [
          0.39600153787005,
          0.405997693194925
         ],
         "title": {
          "text": "Litres par an"
         }
        },
        "yaxis125": {
         "anchor": "x125",
         "domain": [
          0.3762014609765475,
          0.3861976163014225
         ],
         "title": {
          "text": "Litres par an"
         }
        },
        "yaxis126": {
         "anchor": "x126",
         "domain": [
          0.3762014609765475,
          0.3861976163014225
         ],
         "title": {
          "text": "Litres par an"
         }
        },
        "yaxis127": {
         "anchor": "x127",
         "domain": [
          0.3762014609765475,
          0.3861976163014225
         ],
         "title": {
          "text": "Litres par an"
         }
        },
        "yaxis128": {
         "anchor": "x128",
         "domain": [
          0.3762014609765475,
          0.3861976163014225
         ],
         "title": {
          "text": "Litres par an"
         }
        },
        "yaxis129": {
         "anchor": "x129",
         "domain": [
          0.35640138408304495,
          0.36639753940791997
         ],
         "title": {
          "text": "Litres par an"
         }
        },
        "yaxis13": {
         "anchor": "x13",
         "domain": [
          0.9306036139946174,
          0.9405997693194925
         ],
         "title": {
          "text": "Litres par an"
         }
        },
        "yaxis130": {
         "anchor": "x130",
         "domain": [
          0.35640138408304495,
          0.36639753940791997
         ],
         "title": {
          "text": "Litres par an"
         }
        },
        "yaxis131": {
         "anchor": "x131",
         "domain": [
          0.35640138408304495,
          0.36639753940791997
         ],
         "title": {
          "text": "Litres par an"
         }
        },
        "yaxis132": {
         "anchor": "x132",
         "domain": [
          0.35640138408304495,
          0.36639753940791997
         ],
         "title": {
          "text": "Litres par an"
         }
        },
        "yaxis133": {
         "anchor": "x133",
         "domain": [
          0.33660130718954245,
          0.3465974625144175
         ],
         "title": {
          "text": "Litres par an"
         }
        },
        "yaxis134": {
         "anchor": "x134",
         "domain": [
          0.33660130718954245,
          0.3465974625144175
         ],
         "title": {
          "text": "Litres par an"
         }
        },
        "yaxis135": {
         "anchor": "x135",
         "domain": [
          0.33660130718954245,
          0.3465974625144175
         ],
         "title": {
          "text": "Litres par an"
         }
        },
        "yaxis136": {
         "anchor": "x136",
         "domain": [
          0.33660130718954245,
          0.3465974625144175
         ],
         "title": {
          "text": "Litres par an"
         }
        },
        "yaxis137": {
         "anchor": "x137",
         "domain": [
          0.31680123029603996,
          0.326797385620915
         ],
         "title": {
          "text": "Litres par an"
         }
        },
        "yaxis138": {
         "anchor": "x138",
         "domain": [
          0.31680123029603996,
          0.326797385620915
         ],
         "title": {
          "text": "Litres par an"
         }
        },
        "yaxis139": {
         "anchor": "x139",
         "domain": [
          0.31680123029603996,
          0.326797385620915
         ],
         "title": {
          "text": "Litres par an"
         }
        },
        "yaxis14": {
         "anchor": "x14",
         "domain": [
          0.9306036139946174,
          0.9405997693194925
         ],
         "title": {
          "text": "Litres par an"
         }
        },
        "yaxis140": {
         "anchor": "x140",
         "domain": [
          0.31680123029603996,
          0.326797385620915
         ],
         "title": {
          "text": "Litres par an"
         }
        },
        "yaxis141": {
         "anchor": "x141",
         "domain": [
          0.29700115340253747,
          0.3069973087274125
         ],
         "title": {
          "text": "Litres par an"
         }
        },
        "yaxis142": {
         "anchor": "x142",
         "domain": [
          0.29700115340253747,
          0.3069973087274125
         ],
         "title": {
          "text": "Litres par an"
         }
        },
        "yaxis143": {
         "anchor": "x143",
         "domain": [
          0.29700115340253747,
          0.3069973087274125
         ],
         "title": {
          "text": "Litres par an"
         }
        },
        "yaxis144": {
         "anchor": "x144",
         "domain": [
          0.29700115340253747,
          0.3069973087274125
         ],
         "title": {
          "text": "Litres par an"
         }
        },
        "yaxis145": {
         "anchor": "x145",
         "domain": [
          0.27720107650903497,
          0.28719723183391
         ],
         "title": {
          "text": "Litres par an"
         }
        },
        "yaxis146": {
         "anchor": "x146",
         "domain": [
          0.27720107650903497,
          0.28719723183391
         ],
         "title": {
          "text": "Litres par an"
         }
        },
        "yaxis147": {
         "anchor": "x147",
         "domain": [
          0.27720107650903497,
          0.28719723183391
         ],
         "title": {
          "text": "Litres par an"
         }
        },
        "yaxis148": {
         "anchor": "x148",
         "domain": [
          0.27720107650903497,
          0.28719723183391
         ],
         "title": {
          "text": "Litres par an"
         }
        },
        "yaxis149": {
         "anchor": "x149",
         "domain": [
          0.2574009996155324,
          0.26739715494040744
         ],
         "title": {
          "text": "Litres par an"
         }
        },
        "yaxis15": {
         "anchor": "x15",
         "domain": [
          0.9306036139946174,
          0.9405997693194925
         ],
         "title": {
          "text": "Litres par an"
         }
        },
        "yaxis150": {
         "anchor": "x150",
         "domain": [
          0.2574009996155324,
          0.26739715494040744
         ],
         "title": {
          "text": "Litres par an"
         }
        },
        "yaxis151": {
         "anchor": "x151",
         "domain": [
          0.2574009996155324,
          0.26739715494040744
         ],
         "title": {
          "text": "Litres par an"
         }
        },
        "yaxis152": {
         "anchor": "x152",
         "domain": [
          0.2574009996155324,
          0.26739715494040744
         ],
         "title": {
          "text": "Litres par an"
         }
        },
        "yaxis153": {
         "anchor": "x153",
         "domain": [
          0.23760092272202998,
          0.24759707804690503
         ],
         "title": {
          "text": "Litres par an"
         }
        },
        "yaxis154": {
         "anchor": "x154",
         "domain": [
          0.23760092272202998,
          0.24759707804690503
         ],
         "title": {
          "text": "Litres par an"
         }
        },
        "yaxis155": {
         "anchor": "x155",
         "domain": [
          0.23760092272202998,
          0.24759707804690503
         ],
         "title": {
          "text": "Litres par an"
         }
        },
        "yaxis156": {
         "anchor": "x156",
         "domain": [
          0.23760092272202998,
          0.24759707804690503
         ],
         "title": {
          "text": "Litres par an"
         }
        },
        "yaxis157": {
         "anchor": "x157",
         "domain": [
          0.2178008458285275,
          0.22779700115340254
         ],
         "title": {
          "text": "Litres par an"
         }
        },
        "yaxis158": {
         "anchor": "x158",
         "domain": [
          0.2178008458285275,
          0.22779700115340254
         ],
         "title": {
          "text": "Litres par an"
         }
        },
        "yaxis159": {
         "anchor": "x159",
         "domain": [
          0.2178008458285275,
          0.22779700115340254
         ],
         "title": {
          "text": "Litres par an"
         }
        },
        "yaxis16": {
         "anchor": "x16",
         "domain": [
          0.9306036139946174,
          0.9405997693194925
         ],
         "title": {
          "text": "Litres par an"
         }
        },
        "yaxis160": {
         "anchor": "x160",
         "domain": [
          0.2178008458285275,
          0.22779700115340254
         ],
         "title": {
          "text": "Litres par an"
         }
        },
        "yaxis161": {
         "anchor": "x161",
         "domain": [
          0.198000768935025,
          0.20799692425990005
         ],
         "title": {
          "text": "Litres par an"
         }
        },
        "yaxis162": {
         "anchor": "x162",
         "domain": [
          0.198000768935025,
          0.20799692425990005
         ],
         "title": {
          "text": "Litres par an"
         }
        },
        "yaxis163": {
         "anchor": "x163",
         "domain": [
          0.198000768935025,
          0.20799692425990005
         ],
         "title": {
          "text": "Litres par an"
         }
        },
        "yaxis164": {
         "anchor": "x164",
         "domain": [
          0.198000768935025,
          0.20799692425990005
         ],
         "title": {
          "text": "Litres par an"
         }
        },
        "yaxis165": {
         "anchor": "x165",
         "domain": [
          0.17820069204152247,
          0.18819684736639752
         ],
         "title": {
          "text": "Litres par an"
         }
        },
        "yaxis166": {
         "anchor": "x166",
         "domain": [
          0.17820069204152247,
          0.18819684736639752
         ],
         "title": {
          "text": "Litres par an"
         }
        },
        "yaxis167": {
         "anchor": "x167",
         "domain": [
          0.17820069204152247,
          0.18819684736639752
         ],
         "title": {
          "text": "Litres par an"
         }
        },
        "yaxis168": {
         "anchor": "x168",
         "domain": [
          0.17820069204152247,
          0.18819684736639752
         ],
         "title": {
          "text": "Litres par an"
         }
        },
        "yaxis169": {
         "anchor": "x169",
         "domain": [
          0.15840061514801998,
          0.16839677047289503
         ],
         "title": {
          "text": "Litres par an"
         }
        },
        "yaxis17": {
         "anchor": "x17",
         "domain": [
          0.910803537101115,
          0.92079969242599
         ],
         "title": {
          "text": "Litres par an"
         }
        },
        "yaxis170": {
         "anchor": "x170",
         "domain": [
          0.15840061514801998,
          0.16839677047289503
         ],
         "title": {
          "text": "Litres par an"
         }
        },
        "yaxis171": {
         "anchor": "x171",
         "domain": [
          0.15840061514801998,
          0.16839677047289503
         ],
         "title": {
          "text": "Litres par an"
         }
        },
        "yaxis172": {
         "anchor": "x172",
         "domain": [
          0.15840061514801998,
          0.16839677047289503
         ],
         "title": {
          "text": "Litres par an"
         }
        },
        "yaxis173": {
         "anchor": "x173",
         "domain": [
          0.13860053825451749,
          0.14859669357939254
         ],
         "title": {
          "text": "Litres par an"
         }
        },
        "yaxis174": {
         "anchor": "x174",
         "domain": [
          0.13860053825451749,
          0.14859669357939254
         ],
         "title": {
          "text": "Litres par an"
         }
        },
        "yaxis175": {
         "anchor": "x175",
         "domain": [
          0.13860053825451749,
          0.14859669357939254
         ],
         "title": {
          "text": "Litres par an"
         }
        },
        "yaxis176": {
         "anchor": "x176",
         "domain": [
          0.13860053825451749,
          0.14859669357939254
         ],
         "title": {
          "text": "Litres par an"
         }
        },
        "yaxis177": {
         "anchor": "x177",
         "domain": [
          0.11880046136101499,
          0.12879661668589004
         ],
         "title": {
          "text": "Litres par an"
         }
        },
        "yaxis178": {
         "anchor": "x178",
         "domain": [
          0.11880046136101499,
          0.12879661668589004
         ],
         "title": {
          "text": "Litres par an"
         }
        },
        "yaxis179": {
         "anchor": "x179",
         "domain": [
          0.11880046136101499,
          0.12879661668589004
         ],
         "title": {
          "text": "Litres par an"
         }
        },
        "yaxis18": {
         "anchor": "x18",
         "domain": [
          0.910803537101115,
          0.92079969242599
         ],
         "title": {
          "text": "Litres par an"
         }
        },
        "yaxis180": {
         "anchor": "x180",
         "domain": [
          0.11880046136101499,
          0.12879661668589004
         ],
         "title": {
          "text": "Litres par an"
         }
        },
        "yaxis181": {
         "anchor": "x181",
         "domain": [
          0.0990003844675125,
          0.10899653979238755
         ],
         "title": {
          "text": "Litres par an"
         }
        },
        "yaxis182": {
         "anchor": "x182",
         "domain": [
          0.0990003844675125,
          0.10899653979238755
         ],
         "title": {
          "text": "Litres par an"
         }
        },
        "yaxis183": {
         "anchor": "x183",
         "domain": [
          0.0990003844675125,
          0.10899653979238755
         ],
         "title": {
          "text": "Litres par an"
         }
        },
        "yaxis184": {
         "anchor": "x184",
         "domain": [
          0.0990003844675125,
          0.10899653979238755
         ],
         "title": {
          "text": "Litres par an"
         }
        },
        "yaxis185": {
         "anchor": "x185",
         "domain": [
          0.07920030757400999,
          0.08919646289888504
         ],
         "title": {
          "text": "Litres par an"
         }
        },
        "yaxis186": {
         "anchor": "x186",
         "domain": [
          0.07920030757400999,
          0.08919646289888504
         ],
         "title": {
          "text": "Litres par an"
         }
        },
        "yaxis187": {
         "anchor": "x187",
         "domain": [
          0.07920030757400999,
          0.08919646289888504
         ],
         "title": {
          "text": "Litres par an"
         }
        },
        "yaxis188": {
         "anchor": "x188",
         "domain": [
          0.07920030757400999,
          0.08919646289888504
         ],
         "title": {
          "text": "Litres par an"
         }
        },
        "yaxis189": {
         "anchor": "x189",
         "domain": [
          0.059400230680507496,
          0.06939638600538255
         ],
         "title": {
          "text": "Litres par an"
         }
        },
        "yaxis19": {
         "anchor": "x19",
         "domain": [
          0.910803537101115,
          0.92079969242599
         ],
         "title": {
          "text": "Litres par an"
         }
        },
        "yaxis190": {
         "anchor": "x190",
         "domain": [
          0.059400230680507496,
          0.06939638600538255
         ],
         "title": {
          "text": "Litres par an"
         }
        },
        "yaxis191": {
         "anchor": "x191",
         "domain": [
          0.059400230680507496,
          0.06939638600538255
         ],
         "title": {
          "text": "Litres par an"
         }
        },
        "yaxis192": {
         "anchor": "x192",
         "domain": [
          0.059400230680507496,
          0.06939638600538255
         ],
         "title": {
          "text": "Litres par an"
         }
        },
        "yaxis193": {
         "anchor": "x193",
         "domain": [
          0.039600153787004995,
          0.04959630911188004
         ],
         "title": {
          "text": "Litres par an"
         }
        },
        "yaxis194": {
         "anchor": "x194",
         "domain": [
          0.039600153787004995,
          0.04959630911188004
         ],
         "title": {
          "text": "Litres par an"
         }
        },
        "yaxis195": {
         "anchor": "x195",
         "domain": [
          0.039600153787004995,
          0.04959630911188004
         ],
         "title": {
          "text": "Litres par an"
         }
        },
        "yaxis196": {
         "anchor": "x196",
         "domain": [
          0.039600153787004995,
          0.04959630911188004
         ],
         "title": {
          "text": "Litres par an"
         }
        },
        "yaxis197": {
         "anchor": "x197",
         "domain": [
          0.019800076893502497,
          0.029796232218377544
         ],
         "title": {
          "text": "Litres par an"
         }
        },
        "yaxis198": {
         "anchor": "x198",
         "domain": [
          0.019800076893502497,
          0.029796232218377544
         ],
         "title": {
          "text": "Litres par an"
         }
        },
        "yaxis199": {
         "anchor": "x199",
         "domain": [
          0.019800076893502497,
          0.029796232218377544
         ],
         "title": {
          "text": "Litres par an"
         }
        },
        "yaxis2": {
         "anchor": "x2",
         "domain": [
          0.9900038446751249,
          1
         ],
         "title": {
          "text": "Litres par an"
         }
        },
        "yaxis20": {
         "anchor": "x20",
         "domain": [
          0.910803537101115,
          0.92079969242599
         ],
         "title": {
          "text": "Litres par an"
         }
        },
        "yaxis200": {
         "anchor": "x200",
         "domain": [
          0.019800076893502497,
          0.029796232218377544
         ],
         "title": {
          "text": "Litres par an"
         }
        },
        "yaxis201": {
         "anchor": "x201",
         "domain": [
          0,
          0.009996155324875047
         ],
         "title": {
          "text": "Litres par an"
         }
        },
        "yaxis202": {
         "anchor": "x202",
         "domain": [
          0,
          0.009996155324875047
         ],
         "title": {
          "text": "Litres par an"
         }
        },
        "yaxis203": {
         "anchor": "x203",
         "domain": [
          0,
          0.009996155324875047
         ],
         "title": {
          "text": "Litres par an"
         }
        },
        "yaxis204": {
         "anchor": "x204",
         "domain": [
          0,
          0.009996155324875047
         ],
         "title": {
          "text": "Litres par an"
         }
        },
        "yaxis21": {
         "anchor": "x21",
         "domain": [
          0.8910034602076125,
          0.9009996155324875
         ],
         "title": {
          "text": "Litres par an"
         }
        },
        "yaxis22": {
         "anchor": "x22",
         "domain": [
          0.8910034602076125,
          0.9009996155324875
         ],
         "title": {
          "text": "Litres par an"
         }
        },
        "yaxis23": {
         "anchor": "x23",
         "domain": [
          0.8910034602076125,
          0.9009996155324875
         ],
         "title": {
          "text": "Litres par an"
         }
        },
        "yaxis24": {
         "anchor": "x24",
         "domain": [
          0.8910034602076125,
          0.9009996155324875
         ],
         "title": {
          "text": "Litres par an"
         }
        },
        "yaxis25": {
         "anchor": "x25",
         "domain": [
          0.87120338331411,
          0.881199538638985
         ],
         "title": {
          "text": "Litres par an"
         }
        },
        "yaxis26": {
         "anchor": "x26",
         "domain": [
          0.87120338331411,
          0.881199538638985
         ],
         "title": {
          "text": "Litres par an"
         }
        },
        "yaxis27": {
         "anchor": "x27",
         "domain": [
          0.87120338331411,
          0.881199538638985
         ],
         "title": {
          "text": "Litres par an"
         }
        },
        "yaxis28": {
         "anchor": "x28",
         "domain": [
          0.87120338331411,
          0.881199538638985
         ],
         "title": {
          "text": "Litres par an"
         }
        },
        "yaxis29": {
         "anchor": "x29",
         "domain": [
          0.8514033064206075,
          0.8613994617454825
         ],
         "title": {
          "text": "Litres par an"
         }
        },
        "yaxis3": {
         "anchor": "x3",
         "domain": [
          0.9900038446751249,
          1
         ],
         "title": {
          "text": "Litres par an"
         }
        },
        "yaxis30": {
         "anchor": "x30",
         "domain": [
          0.8514033064206075,
          0.8613994617454825
         ],
         "title": {
          "text": "Litres par an"
         }
        },
        "yaxis31": {
         "anchor": "x31",
         "domain": [
          0.8514033064206075,
          0.8613994617454825
         ],
         "title": {
          "text": "Litres par an"
         }
        },
        "yaxis32": {
         "anchor": "x32",
         "domain": [
          0.8514033064206075,
          0.8613994617454825
         ],
         "title": {
          "text": "Litres par an"
         }
        },
        "yaxis33": {
         "anchor": "x33",
         "domain": [
          0.8316032295271049,
          0.8415993848519799
         ],
         "title": {
          "text": "Litres par an"
         }
        },
        "yaxis34": {
         "anchor": "x34",
         "domain": [
          0.8316032295271049,
          0.8415993848519799
         ],
         "title": {
          "text": "Litres par an"
         }
        },
        "yaxis35": {
         "anchor": "x35",
         "domain": [
          0.8316032295271049,
          0.8415993848519799
         ],
         "title": {
          "text": "Litres par an"
         }
        },
        "yaxis36": {
         "anchor": "x36",
         "domain": [
          0.8316032295271049,
          0.8415993848519799
         ],
         "title": {
          "text": "Litres par an"
         }
        },
        "yaxis37": {
         "anchor": "x37",
         "domain": [
          0.8118031526336025,
          0.8217993079584776
         ],
         "title": {
          "text": "Litres par an"
         }
        },
        "yaxis38": {
         "anchor": "x38",
         "domain": [
          0.8118031526336025,
          0.8217993079584776
         ],
         "title": {
          "text": "Litres par an"
         }
        },
        "yaxis39": {
         "anchor": "x39",
         "domain": [
          0.8118031526336025,
          0.8217993079584776
         ],
         "title": {
          "text": "Litres par an"
         }
        },
        "yaxis4": {
         "anchor": "x4",
         "domain": [
          0.9900038446751249,
          1
         ],
         "title": {
          "text": "Litres par an"
         }
        },
        "yaxis40": {
         "anchor": "x40",
         "domain": [
          0.8118031526336025,
          0.8217993079584776
         ],
         "title": {
          "text": "Litres par an"
         }
        },
        "yaxis41": {
         "anchor": "x41",
         "domain": [
          0.7920030757401,
          0.8019992310649751
         ],
         "title": {
          "text": "Litres par an"
         }
        },
        "yaxis42": {
         "anchor": "x42",
         "domain": [
          0.7920030757401,
          0.8019992310649751
         ],
         "title": {
          "text": "Litres par an"
         }
        },
        "yaxis43": {
         "anchor": "x43",
         "domain": [
          0.7920030757401,
          0.8019992310649751
         ],
         "title": {
          "text": "Litres par an"
         }
        },
        "yaxis44": {
         "anchor": "x44",
         "domain": [
          0.7920030757401,
          0.8019992310649751
         ],
         "title": {
          "text": "Litres par an"
         }
        },
        "yaxis45": {
         "anchor": "x45",
         "domain": [
          0.7722029988465974,
          0.7821991541714725
         ],
         "title": {
          "text": "Litres par an"
         }
        },
        "yaxis46": {
         "anchor": "x46",
         "domain": [
          0.7722029988465974,
          0.7821991541714725
         ],
         "title": {
          "text": "Litres par an"
         }
        },
        "yaxis47": {
         "anchor": "x47",
         "domain": [
          0.7722029988465974,
          0.7821991541714725
         ],
         "title": {
          "text": "Litres par an"
         }
        },
        "yaxis48": {
         "anchor": "x48",
         "domain": [
          0.7722029988465974,
          0.7821991541714725
         ],
         "title": {
          "text": "Litres par an"
         }
        },
        "yaxis49": {
         "anchor": "x49",
         "domain": [
          0.752402921953095,
          0.7623990772779701
         ],
         "title": {
          "text": "Litres par an"
         }
        },
        "yaxis5": {
         "anchor": "x5",
         "domain": [
          0.9702037677816224,
          0.9801999231064975
         ],
         "title": {
          "text": "Litres par an"
         }
        },
        "yaxis50": {
         "anchor": "x50",
         "domain": [
          0.752402921953095,
          0.7623990772779701
         ],
         "title": {
          "text": "Litres par an"
         }
        },
        "yaxis51": {
         "anchor": "x51",
         "domain": [
          0.752402921953095,
          0.7623990772779701
         ],
         "title": {
          "text": "Litres par an"
         }
        },
        "yaxis52": {
         "anchor": "x52",
         "domain": [
          0.752402921953095,
          0.7623990772779701
         ],
         "title": {
          "text": "Litres par an"
         }
        },
        "yaxis53": {
         "anchor": "x53",
         "domain": [
          0.7326028450595924,
          0.7425990003844675
         ],
         "title": {
          "text": "Litres par an"
         }
        },
        "yaxis54": {
         "anchor": "x54",
         "domain": [
          0.7326028450595924,
          0.7425990003844675
         ],
         "title": {
          "text": "Litres par an"
         }
        },
        "yaxis55": {
         "anchor": "x55",
         "domain": [
          0.7326028450595924,
          0.7425990003844675
         ],
         "title": {
          "text": "Litres par an"
         }
        },
        "yaxis56": {
         "anchor": "x56",
         "domain": [
          0.7326028450595924,
          0.7425990003844675
         ],
         "title": {
          "text": "Litres par an"
         }
        },
        "yaxis57": {
         "anchor": "x57",
         "domain": [
          0.7128027681660899,
          0.722798923490965
         ],
         "title": {
          "text": "Litres par an"
         }
        },
        "yaxis58": {
         "anchor": "x58",
         "domain": [
          0.7128027681660899,
          0.722798923490965
         ],
         "title": {
          "text": "Litres par an"
         }
        },
        "yaxis59": {
         "anchor": "x59",
         "domain": [
          0.7128027681660899,
          0.722798923490965
         ],
         "title": {
          "text": "Litres par an"
         }
        },
        "yaxis6": {
         "anchor": "x6",
         "domain": [
          0.9702037677816224,
          0.9801999231064975
         ],
         "title": {
          "text": "Litres par an"
         }
        },
        "yaxis60": {
         "anchor": "x60",
         "domain": [
          0.7128027681660899,
          0.722798923490965
         ],
         "title": {
          "text": "Litres par an"
         }
        },
        "yaxis61": {
         "anchor": "x61",
         "domain": [
          0.6930026912725874,
          0.7029988465974625
         ],
         "title": {
          "text": "Litres par an"
         }
        },
        "yaxis62": {
         "anchor": "x62",
         "domain": [
          0.6930026912725874,
          0.7029988465974625
         ],
         "title": {
          "text": "Litres par an"
         }
        },
        "yaxis63": {
         "anchor": "x63",
         "domain": [
          0.6930026912725874,
          0.7029988465974625
         ],
         "title": {
          "text": "Litres par an"
         }
        },
        "yaxis64": {
         "anchor": "x64",
         "domain": [
          0.6930026912725874,
          0.7029988465974625
         ],
         "title": {
          "text": "Litres par an"
         }
        },
        "yaxis65": {
         "anchor": "x65",
         "domain": [
          0.6732026143790849,
          0.68319876970396
         ],
         "title": {
          "text": "Litres par an"
         }
        },
        "yaxis66": {
         "anchor": "x66",
         "domain": [
          0.6732026143790849,
          0.68319876970396
         ],
         "title": {
          "text": "Litres par an"
         }
        },
        "yaxis67": {
         "anchor": "x67",
         "domain": [
          0.6732026143790849,
          0.68319876970396
         ],
         "title": {
          "text": "Litres par an"
         }
        },
        "yaxis68": {
         "anchor": "x68",
         "domain": [
          0.6732026143790849,
          0.68319876970396
         ],
         "title": {
          "text": "Litres par an"
         }
        },
        "yaxis69": {
         "anchor": "x69",
         "domain": [
          0.6534025374855824,
          0.6633986928104575
         ],
         "title": {
          "text": "Litres par an"
         }
        },
        "yaxis7": {
         "anchor": "x7",
         "domain": [
          0.9702037677816224,
          0.9801999231064975
         ],
         "title": {
          "text": "Litres par an"
         }
        },
        "yaxis70": {
         "anchor": "x70",
         "domain": [
          0.6534025374855824,
          0.6633986928104575
         ],
         "title": {
          "text": "Litres par an"
         }
        },
        "yaxis71": {
         "anchor": "x71",
         "domain": [
          0.6534025374855824,
          0.6633986928104575
         ],
         "title": {
          "text": "Litres par an"
         }
        },
        "yaxis72": {
         "anchor": "x72",
         "domain": [
          0.6534025374855824,
          0.6633986928104575
         ],
         "title": {
          "text": "Litres par an"
         }
        },
        "yaxis73": {
         "anchor": "x73",
         "domain": [
          0.6336024605920799,
          0.643598615916955
         ],
         "title": {
          "text": "Litres par an"
         }
        },
        "yaxis74": {
         "anchor": "x74",
         "domain": [
          0.6336024605920799,
          0.643598615916955
         ],
         "title": {
          "text": "Litres par an"
         }
        },
        "yaxis75": {
         "anchor": "x75",
         "domain": [
          0.6336024605920799,
          0.643598615916955
         ],
         "title": {
          "text": "Litres par an"
         }
        },
        "yaxis76": {
         "anchor": "x76",
         "domain": [
          0.6336024605920799,
          0.643598615916955
         ],
         "title": {
          "text": "Litres par an"
         }
        },
        "yaxis77": {
         "anchor": "x77",
         "domain": [
          0.6138023836985774,
          0.6237985390234525
         ],
         "title": {
          "text": "Litres par an"
         }
        },
        "yaxis78": {
         "anchor": "x78",
         "domain": [
          0.6138023836985774,
          0.6237985390234525
         ],
         "title": {
          "text": "Litres par an"
         }
        },
        "yaxis79": {
         "anchor": "x79",
         "domain": [
          0.6138023836985774,
          0.6237985390234525
         ],
         "title": {
          "text": "Litres par an"
         }
        },
        "yaxis8": {
         "anchor": "x8",
         "domain": [
          0.9702037677816224,
          0.9801999231064975
         ],
         "title": {
          "text": "Litres par an"
         }
        },
        "yaxis80": {
         "anchor": "x80",
         "domain": [
          0.6138023836985774,
          0.6237985390234525
         ],
         "title": {
          "text": "Litres par an"
         }
        },
        "yaxis81": {
         "anchor": "x81",
         "domain": [
          0.5940023068050749,
          0.60399846212995
         ],
         "title": {
          "text": "Litres par an"
         }
        },
        "yaxis82": {
         "anchor": "x82",
         "domain": [
          0.5940023068050749,
          0.60399846212995
         ],
         "title": {
          "text": "Litres par an"
         }
        },
        "yaxis83": {
         "anchor": "x83",
         "domain": [
          0.5940023068050749,
          0.60399846212995
         ],
         "title": {
          "text": "Litres par an"
         }
        },
        "yaxis84": {
         "anchor": "x84",
         "domain": [
          0.5940023068050749,
          0.60399846212995
         ],
         "title": {
          "text": "Litres par an"
         }
        },
        "yaxis85": {
         "anchor": "x85",
         "domain": [
          0.5742022299115724,
          0.5841983852364475
         ],
         "title": {
          "text": "Litres par an"
         }
        },
        "yaxis86": {
         "anchor": "x86",
         "domain": [
          0.5742022299115724,
          0.5841983852364475
         ],
         "title": {
          "text": "Litres par an"
         }
        },
        "yaxis87": {
         "anchor": "x87",
         "domain": [
          0.5742022299115724,
          0.5841983852364475
         ],
         "title": {
          "text": "Litres par an"
         }
        },
        "yaxis88": {
         "anchor": "x88",
         "domain": [
          0.5742022299115724,
          0.5841983852364475
         ],
         "title": {
          "text": "Litres par an"
         }
        },
        "yaxis89": {
         "anchor": "x89",
         "domain": [
          0.5544021530180699,
          0.564398308342945
         ],
         "title": {
          "text": "Litres par an"
         }
        },
        "yaxis9": {
         "anchor": "x9",
         "domain": [
          0.9504036908881199,
          0.960399846212995
         ],
         "title": {
          "text": "Litres par an"
         }
        },
        "yaxis90": {
         "anchor": "x90",
         "domain": [
          0.5544021530180699,
          0.564398308342945
         ],
         "title": {
          "text": "Litres par an"
         }
        },
        "yaxis91": {
         "anchor": "x91",
         "domain": [
          0.5544021530180699,
          0.564398308342945
         ],
         "title": {
          "text": "Litres par an"
         }
        },
        "yaxis92": {
         "anchor": "x92",
         "domain": [
          0.5544021530180699,
          0.564398308342945
         ],
         "title": {
          "text": "Litres par an"
         }
        },
        "yaxis93": {
         "anchor": "x93",
         "domain": [
          0.5346020761245674,
          0.5445982314494425
         ],
         "title": {
          "text": "Litres par an"
         }
        },
        "yaxis94": {
         "anchor": "x94",
         "domain": [
          0.5346020761245674,
          0.5445982314494425
         ],
         "title": {
          "text": "Litres par an"
         }
        },
        "yaxis95": {
         "anchor": "x95",
         "domain": [
          0.5346020761245674,
          0.5445982314494425
         ],
         "title": {
          "text": "Litres par an"
         }
        },
        "yaxis96": {
         "anchor": "x96",
         "domain": [
          0.5346020761245674,
          0.5445982314494425
         ],
         "title": {
          "text": "Litres par an"
         }
        },
        "yaxis97": {
         "anchor": "x97",
         "domain": [
          0.5148019992310648,
          0.5247981545559399
         ],
         "title": {
          "text": "Litres par an"
         }
        },
        "yaxis98": {
         "anchor": "x98",
         "domain": [
          0.5148019992310648,
          0.5247981545559399
         ],
         "title": {
          "text": "Litres par an"
         }
        },
        "yaxis99": {
         "anchor": "x99",
         "domain": [
          0.5148019992310648,
          0.5247981545559399
         ],
         "title": {
          "text": "Litres par an"
         }
        }
       }
      }
     },
     "metadata": {},
     "output_type": "display_data"
    }
   ],
   "source": [
    "# Ce script crée un tableau de mini-graphiques montrant l'évolution pour chaque pays\n",
    "from plotly.subplots import make_subplots\n",
    "import plotly.graph_objects as go\n",
    "\n",
    "pays_uniques = donnees_complete['Pays'].unique()\n",
    "n_pays = len(pays_uniques)\n",
    "n_colonnes = 4\n",
    "n_lignes = (n_pays - 1) // n_colonnes + 1\n",
    "\n",
    "fig = make_subplots(rows=n_lignes, cols=n_colonnes, subplot_titles=pays_uniques)\n",
    "\n",
    "for i, pays in enumerate(pays_uniques):\n",
    "    ligne = i // n_colonnes + 1\n",
    "    colonne = i % n_colonnes + 1\n",
    "    \n",
    "    donnees_pays = donnees_complete[donnees_complete['Pays'] == pays]\n",
    "    \n",
    "    fig.add_trace(\n",
    "        go.Scatter(\n",
    "            x=donnees_pays['Année'], \n",
    "            y=donnees_pays['Consommation totale d\\'alcool par habitant (litres d\\'alcool pur, estimations projetées, 15 ans et plus)'],\n",
    "            name=pays,\n",
    "            showlegend=False\n",
    "        ),\n",
    "        row=ligne, col=colonne\n",
    "    )\n",
    "\n",
    "fig.update_layout(\n",
    "    height=300 * n_lignes,\n",
    "    title_text=\"Évolution de la consommation d'alcool par pays (2000-2020)\",\n",
    "    showlegend=False\n",
    ")\n",
    "\n",
    "fig.update_xaxes(title_text=\"Année\")\n",
    "fig.update_yaxes(title_text=\"Litres par an\")\n",
    "\n",
    "fig.show()\n"
   ]
  }
 ],
 "metadata": {
  "kernelspec": {
   "display_name": "Python 3",
   "language": "python",
   "name": "python3"
  },
  "language_info": {
   "codemirror_mode": {
    "name": "ipython",
    "version": 3
   },
   "file_extension": ".py",
   "mimetype": "text/x-python",
   "name": "python",
   "nbconvert_exporter": "python",
   "pygments_lexer": "ipython3",
   "version": "3.12.2"
  }
 },
 "nbformat": 4,
 "nbformat_minor": 5
}
